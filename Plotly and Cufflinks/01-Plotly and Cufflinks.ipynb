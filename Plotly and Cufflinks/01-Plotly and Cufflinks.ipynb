{
 "cells": [
  {
   "cell_type": "markdown",
   "metadata": {},
   "source": [
    "\n",
    "# Plotly and Cufflinks"
   ]
  },
  {
   "cell_type": "markdown",
   "metadata": {},
   "source": [
    "Plotly is a library that allows you to create interactive plots that you can use in dashboards or websites (you can save them as html files or static images).\n",
    "\n",
    "## Installation\n",
    "\n",
    "In order for this all to work, you'll need to install plotly and cufflinks to call plots directly off of a pandas dataframe. These libraries are not currently available through **conda** but are available through **pip**. Install the libraries at your command line/terminal using:\n",
    "\n",
    "    pip install plotly\n",
    "    pip install cufflinks\n",
    "\n",
    "** NOTE: Make sure you only have one installation of Python on your computer when you do this, otherwise the installation may not work. **\n",
    "\n",
    "## Imports and Set-up"
   ]
  },
  {
   "cell_type": "code",
   "execution_count": 10,
   "metadata": {},
   "outputs": [],
   "source": [
    "import pandas as pd\n",
    "import numpy as np\n",
    "import chart_studio.plotly as py\n",
    "%matplotlib inline"
   ]
  },
  {
   "cell_type": "code",
   "execution_count": 11,
   "metadata": {},
   "outputs": [
    {
     "name": "stdout",
     "output_type": "stream",
     "text": [
      "5.9.0\n"
     ]
    }
   ],
   "source": [
    "from plotly import __version__\n",
    "from plotly.offline import download_plotlyjs, init_notebook_mode, plot, iplot\n",
    "\n",
    "print(__version__) # requires version >= 1.9.0"
   ]
  },
  {
   "cell_type": "code",
   "execution_count": 12,
   "metadata": {},
   "outputs": [],
   "source": [
    "import cufflinks as cf"
   ]
  },
  {
   "cell_type": "code",
   "execution_count": 13,
   "metadata": {},
   "outputs": [
    {
     "data": {
      "text/html": [
       "        <script type=\"text/javascript\">\n",
       "        window.PlotlyConfig = {MathJaxConfig: 'local'};\n",
       "        if (window.MathJax && window.MathJax.Hub && window.MathJax.Hub.Config) {window.MathJax.Hub.Config({SVG: {font: \"STIX-Web\"}});}\n",
       "        if (typeof require !== 'undefined') {\n",
       "        require.undef(\"plotly\");\n",
       "        requirejs.config({\n",
       "            paths: {\n",
       "                'plotly': ['https://cdn.plot.ly/plotly-2.12.1.min']\n",
       "            }\n",
       "        });\n",
       "        require(['plotly'], function(Plotly) {\n",
       "            window._Plotly = Plotly;\n",
       "        });\n",
       "        }\n",
       "        </script>\n",
       "        "
      ]
     },
     "metadata": {},
     "output_type": "display_data"
    }
   ],
   "source": [
    "# For Notebooks\n",
    "init_notebook_mode(connected=True)"
   ]
  },
  {
   "cell_type": "code",
   "execution_count": 14,
   "metadata": {},
   "outputs": [
    {
     "data": {
      "text/html": [
       "        <script type=\"text/javascript\">\n",
       "        window.PlotlyConfig = {MathJaxConfig: 'local'};\n",
       "        if (window.MathJax && window.MathJax.Hub && window.MathJax.Hub.Config) {window.MathJax.Hub.Config({SVG: {font: \"STIX-Web\"}});}\n",
       "        if (typeof require !== 'undefined') {\n",
       "        require.undef(\"plotly\");\n",
       "        requirejs.config({\n",
       "            paths: {\n",
       "                'plotly': ['https://cdn.plot.ly/plotly-2.12.1.min']\n",
       "            }\n",
       "        });\n",
       "        require(['plotly'], function(Plotly) {\n",
       "            window._Plotly = Plotly;\n",
       "        });\n",
       "        }\n",
       "        </script>\n",
       "        "
      ]
     },
     "metadata": {},
     "output_type": "display_data"
    }
   ],
   "source": [
    "# For offline use\n",
    "cf.go_offline()"
   ]
  },
  {
   "cell_type": "markdown",
   "metadata": {},
   "source": [
    "### Fake Data"
   ]
  },
  {
   "cell_type": "code",
   "execution_count": 15,
   "metadata": {},
   "outputs": [],
   "source": [
    "df = pd.DataFrame(np.random.randn(100,4),columns='A B C D'.split())"
   ]
  },
  {
   "cell_type": "code",
   "execution_count": 16,
   "metadata": {},
   "outputs": [
    {
     "data": {
      "text/html": [
       "<div>\n",
       "<style scoped>\n",
       "    .dataframe tbody tr th:only-of-type {\n",
       "        vertical-align: middle;\n",
       "    }\n",
       "\n",
       "    .dataframe tbody tr th {\n",
       "        vertical-align: top;\n",
       "    }\n",
       "\n",
       "    .dataframe thead th {\n",
       "        text-align: right;\n",
       "    }\n",
       "</style>\n",
       "<table border=\"1\" class=\"dataframe\">\n",
       "  <thead>\n",
       "    <tr style=\"text-align: right;\">\n",
       "      <th></th>\n",
       "      <th>A</th>\n",
       "      <th>B</th>\n",
       "      <th>C</th>\n",
       "      <th>D</th>\n",
       "    </tr>\n",
       "  </thead>\n",
       "  <tbody>\n",
       "    <tr>\n",
       "      <th>0</th>\n",
       "      <td>0.006313</td>\n",
       "      <td>-0.841283</td>\n",
       "      <td>1.707038</td>\n",
       "      <td>-1.156604</td>\n",
       "    </tr>\n",
       "    <tr>\n",
       "      <th>1</th>\n",
       "      <td>0.001215</td>\n",
       "      <td>-0.141964</td>\n",
       "      <td>-1.194458</td>\n",
       "      <td>-0.177197</td>\n",
       "    </tr>\n",
       "    <tr>\n",
       "      <th>2</th>\n",
       "      <td>-0.615147</td>\n",
       "      <td>0.271898</td>\n",
       "      <td>-0.313645</td>\n",
       "      <td>-0.220016</td>\n",
       "    </tr>\n",
       "    <tr>\n",
       "      <th>3</th>\n",
       "      <td>1.019184</td>\n",
       "      <td>-0.228652</td>\n",
       "      <td>0.214599</td>\n",
       "      <td>0.114111</td>\n",
       "    </tr>\n",
       "    <tr>\n",
       "      <th>4</th>\n",
       "      <td>-0.749508</td>\n",
       "      <td>-0.397404</td>\n",
       "      <td>-0.913644</td>\n",
       "      <td>0.755399</td>\n",
       "    </tr>\n",
       "  </tbody>\n",
       "</table>\n",
       "</div>"
      ],
      "text/plain": [
       "          A         B         C         D\n",
       "0  0.006313 -0.841283  1.707038 -1.156604\n",
       "1  0.001215 -0.141964 -1.194458 -0.177197\n",
       "2 -0.615147  0.271898 -0.313645 -0.220016\n",
       "3  1.019184 -0.228652  0.214599  0.114111\n",
       "4 -0.749508 -0.397404 -0.913644  0.755399"
      ]
     },
     "execution_count": 16,
     "metadata": {},
     "output_type": "execute_result"
    }
   ],
   "source": [
    "df.head()"
   ]
  },
  {
   "cell_type": "code",
   "execution_count": 17,
   "metadata": {},
   "outputs": [],
   "source": [
    "df2 = pd.DataFrame({'Category':['A','B','C'],'Values':[32,43,50]})"
   ]
  },
  {
   "cell_type": "code",
   "execution_count": 18,
   "metadata": {},
   "outputs": [
    {
     "data": {
      "text/html": [
       "<div>\n",
       "<style scoped>\n",
       "    .dataframe tbody tr th:only-of-type {\n",
       "        vertical-align: middle;\n",
       "    }\n",
       "\n",
       "    .dataframe tbody tr th {\n",
       "        vertical-align: top;\n",
       "    }\n",
       "\n",
       "    .dataframe thead th {\n",
       "        text-align: right;\n",
       "    }\n",
       "</style>\n",
       "<table border=\"1\" class=\"dataframe\">\n",
       "  <thead>\n",
       "    <tr style=\"text-align: right;\">\n",
       "      <th></th>\n",
       "      <th>Category</th>\n",
       "      <th>Values</th>\n",
       "    </tr>\n",
       "  </thead>\n",
       "  <tbody>\n",
       "    <tr>\n",
       "      <th>0</th>\n",
       "      <td>A</td>\n",
       "      <td>32</td>\n",
       "    </tr>\n",
       "    <tr>\n",
       "      <th>1</th>\n",
       "      <td>B</td>\n",
       "      <td>43</td>\n",
       "    </tr>\n",
       "    <tr>\n",
       "      <th>2</th>\n",
       "      <td>C</td>\n",
       "      <td>50</td>\n",
       "    </tr>\n",
       "  </tbody>\n",
       "</table>\n",
       "</div>"
      ],
      "text/plain": [
       "  Category  Values\n",
       "0        A      32\n",
       "1        B      43\n",
       "2        C      50"
      ]
     },
     "execution_count": 18,
     "metadata": {},
     "output_type": "execute_result"
    }
   ],
   "source": [
    "df2.head()"
   ]
  },
  {
   "cell_type": "markdown",
   "metadata": {},
   "source": [
    "## Using Cufflinks and iplot()\n",
    "\n",
    "* scatter\n",
    "* bar\n",
    "* box\n",
    "* spread\n",
    "* ratio\n",
    "* heatmap\n",
    "* surface\n",
    "* histogram\n",
    "* bubble"
   ]
  },
  {
   "cell_type": "markdown",
   "metadata": {},
   "source": [
    "## Scatter"
   ]
  },
  {
   "cell_type": "code",
   "execution_count": 19,
   "metadata": {},
   "outputs": [
    {
     "data": {
      "application/vnd.plotly.v1+json": {
       "config": {
        "linkText": "Export to plot.ly",
        "plotlyServerURL": "https://plot.ly",
        "showLink": true
       },
       "data": [
        {
         "line": {
          "color": "rgba(255, 153, 51, 1.0)",
          "dash": "solid",
          "shape": "linear",
          "width": 1.3
         },
         "marker": {
          "size": 10,
          "symbol": "circle"
         },
         "mode": "markers",
         "name": "B",
         "text": "",
         "type": "scatter",
         "x": [
          0.006313458985566085,
          0.0012147700438570593,
          -0.6151467796336,
          1.0191844884189065,
          -0.7495075739982601,
          -1.7985950729458002,
          0.15382533456183314,
          -0.5576872225427343,
          1.5593605186079846,
          1.700355672186201,
          -0.15236553270416087,
          0.39044094019462977,
          -0.5614557622261617,
          -1.2696193560262417,
          -0.024520044223959203,
          -0.7171428227047335,
          0.11381698115296884,
          -2.3261206919345363,
          0.37015277327553536,
          0.15583532903095587,
          -1.2289328448668377,
          -1.083066067855664,
          0.43971959185345716,
          -0.7927303406405242,
          -0.1343156933997293,
          -0.8773137644384209,
          1.1451110216332794,
          0.5148688588470663,
          0.2927029823951949,
          -0.5276160993217199,
          -1.9680202396163418,
          1.423501113042431,
          -0.6849596430392447,
          -0.8202548551107004,
          -0.6735148911527414,
          -0.48979918801619104,
          -0.8624553398219791,
          1.8265135614284778,
          -0.2573459544937043,
          0.742995129008227,
          1.9526700344421826,
          0.6072118968741738,
          -0.7096512406808968,
          -0.6679025965317548,
          0.1279081223835325,
          -0.2968413355288964,
          -0.24486047797910396,
          0.5028527245782749,
          0.500912850020907,
          0.35325225579994163,
          0.2425350082798535,
          -1.305708258896684,
          0.9755905559759886,
          -1.9066415540089885,
          0.9768170167359869,
          -0.4580723212715815,
          0.3188514544784727,
          -1.6537571945436216,
          -0.43125541197684153,
          0.6899089422409604,
          -1.4602949425078555,
          0.4624248034322284,
          0.17136443767218074,
          -0.012314317526127971,
          -2.075444122527348,
          0.42373853888266483,
          -0.06270018226508774,
          1.2801916313906705,
          -1.0247063360598394,
          -1.4952047036511662,
          1.073206362530888,
          0.4028356975025304,
          -2.142756034751585,
          0.6002350853929834,
          -0.39252221922456687,
          -1.234405269404836,
          -0.2789229501294982,
          -0.8258086758280934,
          1.3921878833189631,
          1.0334748315732492,
          -0.8694162529243042,
          1.5477307549981343,
          -0.7613614508447585,
          -1.725484243216102,
          -1.1268035087945925,
          -0.9821095582676026,
          -0.32546867991121364,
          -1.3547609163644982,
          0.39714940804709403,
          0.6050115429246586,
          1.708350505079218,
          0.17490611370248854,
          -1.5460620152456577,
          0.14372336528774488,
          -1.688811399942993,
          1.1805370742648729,
          -0.9961943586712984,
          -0.5222634876340545,
          -0.07165412061967047,
          0.9033111362618372
         ],
         "y": [
          -0.8412830663608024,
          -0.14196404629860912,
          0.27189831213699345,
          -0.2286524915931357,
          -0.39740436970062476,
          0.8644404600468678,
          -2.425802709190879,
          -1.7570122474421928,
          -2.756010446751949,
          -0.8764100419623471,
          -0.5927093442184735,
          1.4131976516655804,
          0.9245287480106964,
          2.0385499547616743,
          0.18604640376218076,
          0.8795053970341459,
          1.452057912626229,
          -1.188265586802459,
          2.008125648195428,
          -1.89579976034055,
          -1.2142197546565268,
          0.585650048759407,
          0.1901297815215674,
          -0.28036571517991926,
          0.7435936627241457,
          -0.761465548738385,
          0.17272991435645543,
          0.6126370351770036,
          -0.6409745361014046,
          -1.2054505656390866,
          -0.5648212045818725,
          0.7586668028849586,
          -0.18694328490507595,
          -0.5246822943419557,
          0.1716824260239397,
          0.17281947072116297,
          0.9631735363229377,
          0.8573319073279776,
          2.7391337276103735,
          -0.8660589753505328,
          0.40759489166899276,
          -1.5249603091551445,
          -0.28412393855610363,
          1.3388176264294898,
          -0.7778806023887083,
          -1.002215354287591,
          -0.1309132593210741,
          1.0292025215239082,
          1.576109421092655,
          -2.7680691813938103,
          -1.1696015241546815,
          1.992857739976901,
          -0.3985444234746542,
          -0.7287240263019391,
          0.3778165333549547,
          -0.0028173576769728198,
          1.8365856724591496,
          -1.5811511724464855,
          0.14112966733498775,
          1.5226834789704895,
          -0.052630123298235944,
          0.5750266371763989,
          -0.3542992607317481,
          -1.2620214165498946,
          0.41219245488560224,
          1.5354942624235504,
          -0.4274499333810216,
          1.2622373437633672,
          -1.8754492230043058,
          -0.927983492576622,
          0.19482460729553538,
          -0.8839697047504629,
          0.16761091698702862,
          0.5480793234412067,
          -1.2069205358509782,
          1.8565012697440908,
          0.6414081528241,
          -1.8010467818833373,
          0.3081920656655891,
          0.46299664031639937,
          -0.861793356479736,
          1.9503678079314708,
          1.4349893470965174,
          2.7521414181104786,
          0.27344301616024774,
          0.3291002461450558,
          0.09630194977242912,
          0.8097744936659635,
          1.6929246110017406,
          -0.7259746620175114,
          1.0629019525856112,
          0.9751581738927138,
          -0.5179265464739529,
          0.040939684187299555,
          -0.8685496090915273,
          -1.0209998546636763,
          0.11565711451344551,
          -1.2954962527022302,
          -0.4122724614406656,
          1.4156544391757833
         ]
        }
       ],
       "layout": {
        "legend": {
         "bgcolor": "#F5F6F9",
         "font": {
          "color": "#4D5663"
         }
        },
        "paper_bgcolor": "#F5F6F9",
        "plot_bgcolor": "#F5F6F9",
        "template": {
         "data": {
          "bar": [
           {
            "error_x": {
             "color": "#2a3f5f"
            },
            "error_y": {
             "color": "#2a3f5f"
            },
            "marker": {
             "line": {
              "color": "#E5ECF6",
              "width": 0.5
             },
             "pattern": {
              "fillmode": "overlay",
              "size": 10,
              "solidity": 0.2
             }
            },
            "type": "bar"
           }
          ],
          "barpolar": [
           {
            "marker": {
             "line": {
              "color": "#E5ECF6",
              "width": 0.5
             },
             "pattern": {
              "fillmode": "overlay",
              "size": 10,
              "solidity": 0.2
             }
            },
            "type": "barpolar"
           }
          ],
          "carpet": [
           {
            "aaxis": {
             "endlinecolor": "#2a3f5f",
             "gridcolor": "white",
             "linecolor": "white",
             "minorgridcolor": "white",
             "startlinecolor": "#2a3f5f"
            },
            "baxis": {
             "endlinecolor": "#2a3f5f",
             "gridcolor": "white",
             "linecolor": "white",
             "minorgridcolor": "white",
             "startlinecolor": "#2a3f5f"
            },
            "type": "carpet"
           }
          ],
          "choropleth": [
           {
            "colorbar": {
             "outlinewidth": 0,
             "ticks": ""
            },
            "type": "choropleth"
           }
          ],
          "contour": [
           {
            "colorbar": {
             "outlinewidth": 0,
             "ticks": ""
            },
            "colorscale": [
             [
              0,
              "#0d0887"
             ],
             [
              0.1111111111111111,
              "#46039f"
             ],
             [
              0.2222222222222222,
              "#7201a8"
             ],
             [
              0.3333333333333333,
              "#9c179e"
             ],
             [
              0.4444444444444444,
              "#bd3786"
             ],
             [
              0.5555555555555556,
              "#d8576b"
             ],
             [
              0.6666666666666666,
              "#ed7953"
             ],
             [
              0.7777777777777778,
              "#fb9f3a"
             ],
             [
              0.8888888888888888,
              "#fdca26"
             ],
             [
              1,
              "#f0f921"
             ]
            ],
            "type": "contour"
           }
          ],
          "contourcarpet": [
           {
            "colorbar": {
             "outlinewidth": 0,
             "ticks": ""
            },
            "type": "contourcarpet"
           }
          ],
          "heatmap": [
           {
            "colorbar": {
             "outlinewidth": 0,
             "ticks": ""
            },
            "colorscale": [
             [
              0,
              "#0d0887"
             ],
             [
              0.1111111111111111,
              "#46039f"
             ],
             [
              0.2222222222222222,
              "#7201a8"
             ],
             [
              0.3333333333333333,
              "#9c179e"
             ],
             [
              0.4444444444444444,
              "#bd3786"
             ],
             [
              0.5555555555555556,
              "#d8576b"
             ],
             [
              0.6666666666666666,
              "#ed7953"
             ],
             [
              0.7777777777777778,
              "#fb9f3a"
             ],
             [
              0.8888888888888888,
              "#fdca26"
             ],
             [
              1,
              "#f0f921"
             ]
            ],
            "type": "heatmap"
           }
          ],
          "heatmapgl": [
           {
            "colorbar": {
             "outlinewidth": 0,
             "ticks": ""
            },
            "colorscale": [
             [
              0,
              "#0d0887"
             ],
             [
              0.1111111111111111,
              "#46039f"
             ],
             [
              0.2222222222222222,
              "#7201a8"
             ],
             [
              0.3333333333333333,
              "#9c179e"
             ],
             [
              0.4444444444444444,
              "#bd3786"
             ],
             [
              0.5555555555555556,
              "#d8576b"
             ],
             [
              0.6666666666666666,
              "#ed7953"
             ],
             [
              0.7777777777777778,
              "#fb9f3a"
             ],
             [
              0.8888888888888888,
              "#fdca26"
             ],
             [
              1,
              "#f0f921"
             ]
            ],
            "type": "heatmapgl"
           }
          ],
          "histogram": [
           {
            "marker": {
             "pattern": {
              "fillmode": "overlay",
              "size": 10,
              "solidity": 0.2
             }
            },
            "type": "histogram"
           }
          ],
          "histogram2d": [
           {
            "colorbar": {
             "outlinewidth": 0,
             "ticks": ""
            },
            "colorscale": [
             [
              0,
              "#0d0887"
             ],
             [
              0.1111111111111111,
              "#46039f"
             ],
             [
              0.2222222222222222,
              "#7201a8"
             ],
             [
              0.3333333333333333,
              "#9c179e"
             ],
             [
              0.4444444444444444,
              "#bd3786"
             ],
             [
              0.5555555555555556,
              "#d8576b"
             ],
             [
              0.6666666666666666,
              "#ed7953"
             ],
             [
              0.7777777777777778,
              "#fb9f3a"
             ],
             [
              0.8888888888888888,
              "#fdca26"
             ],
             [
              1,
              "#f0f921"
             ]
            ],
            "type": "histogram2d"
           }
          ],
          "histogram2dcontour": [
           {
            "colorbar": {
             "outlinewidth": 0,
             "ticks": ""
            },
            "colorscale": [
             [
              0,
              "#0d0887"
             ],
             [
              0.1111111111111111,
              "#46039f"
             ],
             [
              0.2222222222222222,
              "#7201a8"
             ],
             [
              0.3333333333333333,
              "#9c179e"
             ],
             [
              0.4444444444444444,
              "#bd3786"
             ],
             [
              0.5555555555555556,
              "#d8576b"
             ],
             [
              0.6666666666666666,
              "#ed7953"
             ],
             [
              0.7777777777777778,
              "#fb9f3a"
             ],
             [
              0.8888888888888888,
              "#fdca26"
             ],
             [
              1,
              "#f0f921"
             ]
            ],
            "type": "histogram2dcontour"
           }
          ],
          "mesh3d": [
           {
            "colorbar": {
             "outlinewidth": 0,
             "ticks": ""
            },
            "type": "mesh3d"
           }
          ],
          "parcoords": [
           {
            "line": {
             "colorbar": {
              "outlinewidth": 0,
              "ticks": ""
             }
            },
            "type": "parcoords"
           }
          ],
          "pie": [
           {
            "automargin": true,
            "type": "pie"
           }
          ],
          "scatter": [
           {
            "fillpattern": {
             "fillmode": "overlay",
             "size": 10,
             "solidity": 0.2
            },
            "type": "scatter"
           }
          ],
          "scatter3d": [
           {
            "line": {
             "colorbar": {
              "outlinewidth": 0,
              "ticks": ""
             }
            },
            "marker": {
             "colorbar": {
              "outlinewidth": 0,
              "ticks": ""
             }
            },
            "type": "scatter3d"
           }
          ],
          "scattercarpet": [
           {
            "marker": {
             "colorbar": {
              "outlinewidth": 0,
              "ticks": ""
             }
            },
            "type": "scattercarpet"
           }
          ],
          "scattergeo": [
           {
            "marker": {
             "colorbar": {
              "outlinewidth": 0,
              "ticks": ""
             }
            },
            "type": "scattergeo"
           }
          ],
          "scattergl": [
           {
            "marker": {
             "colorbar": {
              "outlinewidth": 0,
              "ticks": ""
             }
            },
            "type": "scattergl"
           }
          ],
          "scattermapbox": [
           {
            "marker": {
             "colorbar": {
              "outlinewidth": 0,
              "ticks": ""
             }
            },
            "type": "scattermapbox"
           }
          ],
          "scatterpolar": [
           {
            "marker": {
             "colorbar": {
              "outlinewidth": 0,
              "ticks": ""
             }
            },
            "type": "scatterpolar"
           }
          ],
          "scatterpolargl": [
           {
            "marker": {
             "colorbar": {
              "outlinewidth": 0,
              "ticks": ""
             }
            },
            "type": "scatterpolargl"
           }
          ],
          "scatterternary": [
           {
            "marker": {
             "colorbar": {
              "outlinewidth": 0,
              "ticks": ""
             }
            },
            "type": "scatterternary"
           }
          ],
          "surface": [
           {
            "colorbar": {
             "outlinewidth": 0,
             "ticks": ""
            },
            "colorscale": [
             [
              0,
              "#0d0887"
             ],
             [
              0.1111111111111111,
              "#46039f"
             ],
             [
              0.2222222222222222,
              "#7201a8"
             ],
             [
              0.3333333333333333,
              "#9c179e"
             ],
             [
              0.4444444444444444,
              "#bd3786"
             ],
             [
              0.5555555555555556,
              "#d8576b"
             ],
             [
              0.6666666666666666,
              "#ed7953"
             ],
             [
              0.7777777777777778,
              "#fb9f3a"
             ],
             [
              0.8888888888888888,
              "#fdca26"
             ],
             [
              1,
              "#f0f921"
             ]
            ],
            "type": "surface"
           }
          ],
          "table": [
           {
            "cells": {
             "fill": {
              "color": "#EBF0F8"
             },
             "line": {
              "color": "white"
             }
            },
            "header": {
             "fill": {
              "color": "#C8D4E3"
             },
             "line": {
              "color": "white"
             }
            },
            "type": "table"
           }
          ]
         },
         "layout": {
          "annotationdefaults": {
           "arrowcolor": "#2a3f5f",
           "arrowhead": 0,
           "arrowwidth": 1
          },
          "autotypenumbers": "strict",
          "coloraxis": {
           "colorbar": {
            "outlinewidth": 0,
            "ticks": ""
           }
          },
          "colorscale": {
           "diverging": [
            [
             0,
             "#8e0152"
            ],
            [
             0.1,
             "#c51b7d"
            ],
            [
             0.2,
             "#de77ae"
            ],
            [
             0.3,
             "#f1b6da"
            ],
            [
             0.4,
             "#fde0ef"
            ],
            [
             0.5,
             "#f7f7f7"
            ],
            [
             0.6,
             "#e6f5d0"
            ],
            [
             0.7,
             "#b8e186"
            ],
            [
             0.8,
             "#7fbc41"
            ],
            [
             0.9,
             "#4d9221"
            ],
            [
             1,
             "#276419"
            ]
           ],
           "sequential": [
            [
             0,
             "#0d0887"
            ],
            [
             0.1111111111111111,
             "#46039f"
            ],
            [
             0.2222222222222222,
             "#7201a8"
            ],
            [
             0.3333333333333333,
             "#9c179e"
            ],
            [
             0.4444444444444444,
             "#bd3786"
            ],
            [
             0.5555555555555556,
             "#d8576b"
            ],
            [
             0.6666666666666666,
             "#ed7953"
            ],
            [
             0.7777777777777778,
             "#fb9f3a"
            ],
            [
             0.8888888888888888,
             "#fdca26"
            ],
            [
             1,
             "#f0f921"
            ]
           ],
           "sequentialminus": [
            [
             0,
             "#0d0887"
            ],
            [
             0.1111111111111111,
             "#46039f"
            ],
            [
             0.2222222222222222,
             "#7201a8"
            ],
            [
             0.3333333333333333,
             "#9c179e"
            ],
            [
             0.4444444444444444,
             "#bd3786"
            ],
            [
             0.5555555555555556,
             "#d8576b"
            ],
            [
             0.6666666666666666,
             "#ed7953"
            ],
            [
             0.7777777777777778,
             "#fb9f3a"
            ],
            [
             0.8888888888888888,
             "#fdca26"
            ],
            [
             1,
             "#f0f921"
            ]
           ]
          },
          "colorway": [
           "#636efa",
           "#EF553B",
           "#00cc96",
           "#ab63fa",
           "#FFA15A",
           "#19d3f3",
           "#FF6692",
           "#B6E880",
           "#FF97FF",
           "#FECB52"
          ],
          "font": {
           "color": "#2a3f5f"
          },
          "geo": {
           "bgcolor": "white",
           "lakecolor": "white",
           "landcolor": "#E5ECF6",
           "showlakes": true,
           "showland": true,
           "subunitcolor": "white"
          },
          "hoverlabel": {
           "align": "left"
          },
          "hovermode": "closest",
          "mapbox": {
           "style": "light"
          },
          "paper_bgcolor": "white",
          "plot_bgcolor": "#E5ECF6",
          "polar": {
           "angularaxis": {
            "gridcolor": "white",
            "linecolor": "white",
            "ticks": ""
           },
           "bgcolor": "#E5ECF6",
           "radialaxis": {
            "gridcolor": "white",
            "linecolor": "white",
            "ticks": ""
           }
          },
          "scene": {
           "xaxis": {
            "backgroundcolor": "#E5ECF6",
            "gridcolor": "white",
            "gridwidth": 2,
            "linecolor": "white",
            "showbackground": true,
            "ticks": "",
            "zerolinecolor": "white"
           },
           "yaxis": {
            "backgroundcolor": "#E5ECF6",
            "gridcolor": "white",
            "gridwidth": 2,
            "linecolor": "white",
            "showbackground": true,
            "ticks": "",
            "zerolinecolor": "white"
           },
           "zaxis": {
            "backgroundcolor": "#E5ECF6",
            "gridcolor": "white",
            "gridwidth": 2,
            "linecolor": "white",
            "showbackground": true,
            "ticks": "",
            "zerolinecolor": "white"
           }
          },
          "shapedefaults": {
           "line": {
            "color": "#2a3f5f"
           }
          },
          "ternary": {
           "aaxis": {
            "gridcolor": "white",
            "linecolor": "white",
            "ticks": ""
           },
           "baxis": {
            "gridcolor": "white",
            "linecolor": "white",
            "ticks": ""
           },
           "bgcolor": "#E5ECF6",
           "caxis": {
            "gridcolor": "white",
            "linecolor": "white",
            "ticks": ""
           }
          },
          "title": {
           "x": 0.05
          },
          "xaxis": {
           "automargin": true,
           "gridcolor": "white",
           "linecolor": "white",
           "ticks": "",
           "title": {
            "standoff": 15
           },
           "zerolinecolor": "white",
           "zerolinewidth": 2
          },
          "yaxis": {
           "automargin": true,
           "gridcolor": "white",
           "linecolor": "white",
           "ticks": "",
           "title": {
            "standoff": 15
           },
           "zerolinecolor": "white",
           "zerolinewidth": 2
          }
         }
        },
        "title": {
         "font": {
          "color": "#4D5663"
         }
        },
        "xaxis": {
         "gridcolor": "#E1E5ED",
         "showgrid": true,
         "tickfont": {
          "color": "#4D5663"
         },
         "title": {
          "font": {
           "color": "#4D5663"
          },
          "text": ""
         },
         "zerolinecolor": "#E1E5ED"
        },
        "yaxis": {
         "gridcolor": "#E1E5ED",
         "showgrid": true,
         "tickfont": {
          "color": "#4D5663"
         },
         "title": {
          "font": {
           "color": "#4D5663"
          },
          "text": ""
         },
         "zerolinecolor": "#E1E5ED"
        }
       }
      },
      "text/html": [
       "<div>                            <div id=\"c8a9a061-167b-4ed4-8fa3-1d3088968c03\" class=\"plotly-graph-div\" style=\"height:525px; width:100%;\"></div>            <script type=\"text/javascript\">                require([\"plotly\"], function(Plotly) {                    window.PLOTLYENV=window.PLOTLYENV || {};\n",
       "                    window.PLOTLYENV.BASE_URL='https://plot.ly';                                    if (document.getElementById(\"c8a9a061-167b-4ed4-8fa3-1d3088968c03\")) {                    Plotly.newPlot(                        \"c8a9a061-167b-4ed4-8fa3-1d3088968c03\",                        [{\"line\":{\"color\":\"rgba(255, 153, 51, 1.0)\",\"dash\":\"solid\",\"shape\":\"linear\",\"width\":1.3},\"marker\":{\"size\":10,\"symbol\":\"circle\"},\"mode\":\"markers\",\"name\":\"B\",\"text\":\"\",\"x\":[0.006313458985566085,0.0012147700438570593,-0.6151467796336,1.0191844884189065,-0.7495075739982601,-1.7985950729458002,0.15382533456183314,-0.5576872225427343,1.5593605186079846,1.700355672186201,-0.15236553270416087,0.39044094019462977,-0.5614557622261617,-1.2696193560262417,-0.024520044223959203,-0.7171428227047335,0.11381698115296884,-2.3261206919345363,0.37015277327553536,0.15583532903095587,-1.2289328448668377,-1.083066067855664,0.43971959185345716,-0.7927303406405242,-0.1343156933997293,-0.8773137644384209,1.1451110216332794,0.5148688588470663,0.2927029823951949,-0.5276160993217199,-1.9680202396163418,1.423501113042431,-0.6849596430392447,-0.8202548551107004,-0.6735148911527414,-0.48979918801619104,-0.8624553398219791,1.8265135614284778,-0.2573459544937043,0.742995129008227,1.9526700344421826,0.6072118968741738,-0.7096512406808968,-0.6679025965317548,0.1279081223835325,-0.2968413355288964,-0.24486047797910396,0.5028527245782749,0.500912850020907,0.35325225579994163,0.2425350082798535,-1.305708258896684,0.9755905559759886,-1.9066415540089885,0.9768170167359869,-0.4580723212715815,0.3188514544784727,-1.6537571945436216,-0.43125541197684153,0.6899089422409604,-1.4602949425078555,0.4624248034322284,0.17136443767218074,-0.012314317526127971,-2.075444122527348,0.42373853888266483,-0.06270018226508774,1.2801916313906705,-1.0247063360598394,-1.4952047036511662,1.073206362530888,0.4028356975025304,-2.142756034751585,0.6002350853929834,-0.39252221922456687,-1.234405269404836,-0.2789229501294982,-0.8258086758280934,1.3921878833189631,1.0334748315732492,-0.8694162529243042,1.5477307549981343,-0.7613614508447585,-1.725484243216102,-1.1268035087945925,-0.9821095582676026,-0.32546867991121364,-1.3547609163644982,0.39714940804709403,0.6050115429246586,1.708350505079218,0.17490611370248854,-1.5460620152456577,0.14372336528774488,-1.688811399942993,1.1805370742648729,-0.9961943586712984,-0.5222634876340545,-0.07165412061967047,0.9033111362618372],\"y\":[-0.8412830663608024,-0.14196404629860912,0.27189831213699345,-0.2286524915931357,-0.39740436970062476,0.8644404600468678,-2.425802709190879,-1.7570122474421928,-2.756010446751949,-0.8764100419623471,-0.5927093442184735,1.4131976516655804,0.9245287480106964,2.0385499547616743,0.18604640376218076,0.8795053970341459,1.452057912626229,-1.188265586802459,2.008125648195428,-1.89579976034055,-1.2142197546565268,0.585650048759407,0.1901297815215674,-0.28036571517991926,0.7435936627241457,-0.761465548738385,0.17272991435645543,0.6126370351770036,-0.6409745361014046,-1.2054505656390866,-0.5648212045818725,0.7586668028849586,-0.18694328490507595,-0.5246822943419557,0.1716824260239397,0.17281947072116297,0.9631735363229377,0.8573319073279776,2.7391337276103735,-0.8660589753505328,0.40759489166899276,-1.5249603091551445,-0.28412393855610363,1.3388176264294898,-0.7778806023887083,-1.002215354287591,-0.1309132593210741,1.0292025215239082,1.576109421092655,-2.7680691813938103,-1.1696015241546815,1.992857739976901,-0.3985444234746542,-0.7287240263019391,0.3778165333549547,-0.0028173576769728198,1.8365856724591496,-1.5811511724464855,0.14112966733498775,1.5226834789704895,-0.052630123298235944,0.5750266371763989,-0.3542992607317481,-1.2620214165498946,0.41219245488560224,1.5354942624235504,-0.4274499333810216,1.2622373437633672,-1.8754492230043058,-0.927983492576622,0.19482460729553538,-0.8839697047504629,0.16761091698702862,0.5480793234412067,-1.2069205358509782,1.8565012697440908,0.6414081528241,-1.8010467818833373,0.3081920656655891,0.46299664031639937,-0.861793356479736,1.9503678079314708,1.4349893470965174,2.7521414181104786,0.27344301616024774,0.3291002461450558,0.09630194977242912,0.8097744936659635,1.6929246110017406,-0.7259746620175114,1.0629019525856112,0.9751581738927138,-0.5179265464739529,0.040939684187299555,-0.8685496090915273,-1.0209998546636763,0.11565711451344551,-1.2954962527022302,-0.4122724614406656,1.4156544391757833],\"type\":\"scatter\"}],                        {\"legend\":{\"bgcolor\":\"#F5F6F9\",\"font\":{\"color\":\"#4D5663\"}},\"paper_bgcolor\":\"#F5F6F9\",\"plot_bgcolor\":\"#F5F6F9\",\"template\":{\"data\":{\"barpolar\":[{\"marker\":{\"line\":{\"color\":\"#E5ECF6\",\"width\":0.5},\"pattern\":{\"fillmode\":\"overlay\",\"size\":10,\"solidity\":0.2}},\"type\":\"barpolar\"}],\"bar\":[{\"error_x\":{\"color\":\"#2a3f5f\"},\"error_y\":{\"color\":\"#2a3f5f\"},\"marker\":{\"line\":{\"color\":\"#E5ECF6\",\"width\":0.5},\"pattern\":{\"fillmode\":\"overlay\",\"size\":10,\"solidity\":0.2}},\"type\":\"bar\"}],\"carpet\":[{\"aaxis\":{\"endlinecolor\":\"#2a3f5f\",\"gridcolor\":\"white\",\"linecolor\":\"white\",\"minorgridcolor\":\"white\",\"startlinecolor\":\"#2a3f5f\"},\"baxis\":{\"endlinecolor\":\"#2a3f5f\",\"gridcolor\":\"white\",\"linecolor\":\"white\",\"minorgridcolor\":\"white\",\"startlinecolor\":\"#2a3f5f\"},\"type\":\"carpet\"}],\"choropleth\":[{\"colorbar\":{\"outlinewidth\":0,\"ticks\":\"\"},\"type\":\"choropleth\"}],\"contourcarpet\":[{\"colorbar\":{\"outlinewidth\":0,\"ticks\":\"\"},\"type\":\"contourcarpet\"}],\"contour\":[{\"colorbar\":{\"outlinewidth\":0,\"ticks\":\"\"},\"colorscale\":[[0.0,\"#0d0887\"],[0.1111111111111111,\"#46039f\"],[0.2222222222222222,\"#7201a8\"],[0.3333333333333333,\"#9c179e\"],[0.4444444444444444,\"#bd3786\"],[0.5555555555555556,\"#d8576b\"],[0.6666666666666666,\"#ed7953\"],[0.7777777777777778,\"#fb9f3a\"],[0.8888888888888888,\"#fdca26\"],[1.0,\"#f0f921\"]],\"type\":\"contour\"}],\"heatmapgl\":[{\"colorbar\":{\"outlinewidth\":0,\"ticks\":\"\"},\"colorscale\":[[0.0,\"#0d0887\"],[0.1111111111111111,\"#46039f\"],[0.2222222222222222,\"#7201a8\"],[0.3333333333333333,\"#9c179e\"],[0.4444444444444444,\"#bd3786\"],[0.5555555555555556,\"#d8576b\"],[0.6666666666666666,\"#ed7953\"],[0.7777777777777778,\"#fb9f3a\"],[0.8888888888888888,\"#fdca26\"],[1.0,\"#f0f921\"]],\"type\":\"heatmapgl\"}],\"heatmap\":[{\"colorbar\":{\"outlinewidth\":0,\"ticks\":\"\"},\"colorscale\":[[0.0,\"#0d0887\"],[0.1111111111111111,\"#46039f\"],[0.2222222222222222,\"#7201a8\"],[0.3333333333333333,\"#9c179e\"],[0.4444444444444444,\"#bd3786\"],[0.5555555555555556,\"#d8576b\"],[0.6666666666666666,\"#ed7953\"],[0.7777777777777778,\"#fb9f3a\"],[0.8888888888888888,\"#fdca26\"],[1.0,\"#f0f921\"]],\"type\":\"heatmap\"}],\"histogram2dcontour\":[{\"colorbar\":{\"outlinewidth\":0,\"ticks\":\"\"},\"colorscale\":[[0.0,\"#0d0887\"],[0.1111111111111111,\"#46039f\"],[0.2222222222222222,\"#7201a8\"],[0.3333333333333333,\"#9c179e\"],[0.4444444444444444,\"#bd3786\"],[0.5555555555555556,\"#d8576b\"],[0.6666666666666666,\"#ed7953\"],[0.7777777777777778,\"#fb9f3a\"],[0.8888888888888888,\"#fdca26\"],[1.0,\"#f0f921\"]],\"type\":\"histogram2dcontour\"}],\"histogram2d\":[{\"colorbar\":{\"outlinewidth\":0,\"ticks\":\"\"},\"colorscale\":[[0.0,\"#0d0887\"],[0.1111111111111111,\"#46039f\"],[0.2222222222222222,\"#7201a8\"],[0.3333333333333333,\"#9c179e\"],[0.4444444444444444,\"#bd3786\"],[0.5555555555555556,\"#d8576b\"],[0.6666666666666666,\"#ed7953\"],[0.7777777777777778,\"#fb9f3a\"],[0.8888888888888888,\"#fdca26\"],[1.0,\"#f0f921\"]],\"type\":\"histogram2d\"}],\"histogram\":[{\"marker\":{\"pattern\":{\"fillmode\":\"overlay\",\"size\":10,\"solidity\":0.2}},\"type\":\"histogram\"}],\"mesh3d\":[{\"colorbar\":{\"outlinewidth\":0,\"ticks\":\"\"},\"type\":\"mesh3d\"}],\"parcoords\":[{\"line\":{\"colorbar\":{\"outlinewidth\":0,\"ticks\":\"\"}},\"type\":\"parcoords\"}],\"pie\":[{\"automargin\":true,\"type\":\"pie\"}],\"scatter3d\":[{\"line\":{\"colorbar\":{\"outlinewidth\":0,\"ticks\":\"\"}},\"marker\":{\"colorbar\":{\"outlinewidth\":0,\"ticks\":\"\"}},\"type\":\"scatter3d\"}],\"scattercarpet\":[{\"marker\":{\"colorbar\":{\"outlinewidth\":0,\"ticks\":\"\"}},\"type\":\"scattercarpet\"}],\"scattergeo\":[{\"marker\":{\"colorbar\":{\"outlinewidth\":0,\"ticks\":\"\"}},\"type\":\"scattergeo\"}],\"scattergl\":[{\"marker\":{\"colorbar\":{\"outlinewidth\":0,\"ticks\":\"\"}},\"type\":\"scattergl\"}],\"scattermapbox\":[{\"marker\":{\"colorbar\":{\"outlinewidth\":0,\"ticks\":\"\"}},\"type\":\"scattermapbox\"}],\"scatterpolargl\":[{\"marker\":{\"colorbar\":{\"outlinewidth\":0,\"ticks\":\"\"}},\"type\":\"scatterpolargl\"}],\"scatterpolar\":[{\"marker\":{\"colorbar\":{\"outlinewidth\":0,\"ticks\":\"\"}},\"type\":\"scatterpolar\"}],\"scatter\":[{\"fillpattern\":{\"fillmode\":\"overlay\",\"size\":10,\"solidity\":0.2},\"type\":\"scatter\"}],\"scatterternary\":[{\"marker\":{\"colorbar\":{\"outlinewidth\":0,\"ticks\":\"\"}},\"type\":\"scatterternary\"}],\"surface\":[{\"colorbar\":{\"outlinewidth\":0,\"ticks\":\"\"},\"colorscale\":[[0.0,\"#0d0887\"],[0.1111111111111111,\"#46039f\"],[0.2222222222222222,\"#7201a8\"],[0.3333333333333333,\"#9c179e\"],[0.4444444444444444,\"#bd3786\"],[0.5555555555555556,\"#d8576b\"],[0.6666666666666666,\"#ed7953\"],[0.7777777777777778,\"#fb9f3a\"],[0.8888888888888888,\"#fdca26\"],[1.0,\"#f0f921\"]],\"type\":\"surface\"}],\"table\":[{\"cells\":{\"fill\":{\"color\":\"#EBF0F8\"},\"line\":{\"color\":\"white\"}},\"header\":{\"fill\":{\"color\":\"#C8D4E3\"},\"line\":{\"color\":\"white\"}},\"type\":\"table\"}]},\"layout\":{\"annotationdefaults\":{\"arrowcolor\":\"#2a3f5f\",\"arrowhead\":0,\"arrowwidth\":1},\"autotypenumbers\":\"strict\",\"coloraxis\":{\"colorbar\":{\"outlinewidth\":0,\"ticks\":\"\"}},\"colorscale\":{\"diverging\":[[0,\"#8e0152\"],[0.1,\"#c51b7d\"],[0.2,\"#de77ae\"],[0.3,\"#f1b6da\"],[0.4,\"#fde0ef\"],[0.5,\"#f7f7f7\"],[0.6,\"#e6f5d0\"],[0.7,\"#b8e186\"],[0.8,\"#7fbc41\"],[0.9,\"#4d9221\"],[1,\"#276419\"]],\"sequential\":[[0.0,\"#0d0887\"],[0.1111111111111111,\"#46039f\"],[0.2222222222222222,\"#7201a8\"],[0.3333333333333333,\"#9c179e\"],[0.4444444444444444,\"#bd3786\"],[0.5555555555555556,\"#d8576b\"],[0.6666666666666666,\"#ed7953\"],[0.7777777777777778,\"#fb9f3a\"],[0.8888888888888888,\"#fdca26\"],[1.0,\"#f0f921\"]],\"sequentialminus\":[[0.0,\"#0d0887\"],[0.1111111111111111,\"#46039f\"],[0.2222222222222222,\"#7201a8\"],[0.3333333333333333,\"#9c179e\"],[0.4444444444444444,\"#bd3786\"],[0.5555555555555556,\"#d8576b\"],[0.6666666666666666,\"#ed7953\"],[0.7777777777777778,\"#fb9f3a\"],[0.8888888888888888,\"#fdca26\"],[1.0,\"#f0f921\"]]},\"colorway\":[\"#636efa\",\"#EF553B\",\"#00cc96\",\"#ab63fa\",\"#FFA15A\",\"#19d3f3\",\"#FF6692\",\"#B6E880\",\"#FF97FF\",\"#FECB52\"],\"font\":{\"color\":\"#2a3f5f\"},\"geo\":{\"bgcolor\":\"white\",\"lakecolor\":\"white\",\"landcolor\":\"#E5ECF6\",\"showlakes\":true,\"showland\":true,\"subunitcolor\":\"white\"},\"hoverlabel\":{\"align\":\"left\"},\"hovermode\":\"closest\",\"mapbox\":{\"style\":\"light\"},\"paper_bgcolor\":\"white\",\"plot_bgcolor\":\"#E5ECF6\",\"polar\":{\"angularaxis\":{\"gridcolor\":\"white\",\"linecolor\":\"white\",\"ticks\":\"\"},\"bgcolor\":\"#E5ECF6\",\"radialaxis\":{\"gridcolor\":\"white\",\"linecolor\":\"white\",\"ticks\":\"\"}},\"scene\":{\"xaxis\":{\"backgroundcolor\":\"#E5ECF6\",\"gridcolor\":\"white\",\"gridwidth\":2,\"linecolor\":\"white\",\"showbackground\":true,\"ticks\":\"\",\"zerolinecolor\":\"white\"},\"yaxis\":{\"backgroundcolor\":\"#E5ECF6\",\"gridcolor\":\"white\",\"gridwidth\":2,\"linecolor\":\"white\",\"showbackground\":true,\"ticks\":\"\",\"zerolinecolor\":\"white\"},\"zaxis\":{\"backgroundcolor\":\"#E5ECF6\",\"gridcolor\":\"white\",\"gridwidth\":2,\"linecolor\":\"white\",\"showbackground\":true,\"ticks\":\"\",\"zerolinecolor\":\"white\"}},\"shapedefaults\":{\"line\":{\"color\":\"#2a3f5f\"}},\"ternary\":{\"aaxis\":{\"gridcolor\":\"white\",\"linecolor\":\"white\",\"ticks\":\"\"},\"baxis\":{\"gridcolor\":\"white\",\"linecolor\":\"white\",\"ticks\":\"\"},\"bgcolor\":\"#E5ECF6\",\"caxis\":{\"gridcolor\":\"white\",\"linecolor\":\"white\",\"ticks\":\"\"}},\"title\":{\"x\":0.05},\"xaxis\":{\"automargin\":true,\"gridcolor\":\"white\",\"linecolor\":\"white\",\"ticks\":\"\",\"title\":{\"standoff\":15},\"zerolinecolor\":\"white\",\"zerolinewidth\":2},\"yaxis\":{\"automargin\":true,\"gridcolor\":\"white\",\"linecolor\":\"white\",\"ticks\":\"\",\"title\":{\"standoff\":15},\"zerolinecolor\":\"white\",\"zerolinewidth\":2}}},\"title\":{\"font\":{\"color\":\"#4D5663\"}},\"xaxis\":{\"gridcolor\":\"#E1E5ED\",\"showgrid\":true,\"tickfont\":{\"color\":\"#4D5663\"},\"title\":{\"font\":{\"color\":\"#4D5663\"},\"text\":\"\"},\"zerolinecolor\":\"#E1E5ED\"},\"yaxis\":{\"gridcolor\":\"#E1E5ED\",\"showgrid\":true,\"tickfont\":{\"color\":\"#4D5663\"},\"title\":{\"font\":{\"color\":\"#4D5663\"},\"text\":\"\"},\"zerolinecolor\":\"#E1E5ED\"}},                        {\"showLink\": true, \"linkText\": \"Export to plot.ly\", \"plotlyServerURL\": \"https://plot.ly\", \"responsive\": true}                    ).then(function(){\n",
       "                            \n",
       "var gd = document.getElementById('c8a9a061-167b-4ed4-8fa3-1d3088968c03');\n",
       "var x = new MutationObserver(function (mutations, observer) {{\n",
       "        var display = window.getComputedStyle(gd).display;\n",
       "        if (!display || display === 'none') {{\n",
       "            console.log([gd, 'removed!']);\n",
       "            Plotly.purge(gd);\n",
       "            observer.disconnect();\n",
       "        }}\n",
       "}});\n",
       "\n",
       "// Listen for the removal of the full notebook cells\n",
       "var notebookContainer = gd.closest('#notebook-container');\n",
       "if (notebookContainer) {{\n",
       "    x.observe(notebookContainer, {childList: true});\n",
       "}}\n",
       "\n",
       "// Listen for the clearing of the current output cell\n",
       "var outputEl = gd.closest('.output');\n",
       "if (outputEl) {{\n",
       "    x.observe(outputEl, {childList: true});\n",
       "}}\n",
       "\n",
       "                        })                };                });            </script>        </div>"
      ]
     },
     "metadata": {},
     "output_type": "display_data"
    }
   ],
   "source": [
    "df.iplot(kind='scatter',x='A',y='B',mode='markers',size=10)"
   ]
  },
  {
   "cell_type": "markdown",
   "metadata": {},
   "source": [
    "## Bar Plots"
   ]
  },
  {
   "cell_type": "code",
   "execution_count": 20,
   "metadata": {},
   "outputs": [
    {
     "data": {
      "application/vnd.plotly.v1+json": {
       "config": {
        "linkText": "Export to plot.ly",
        "plotlyServerURL": "https://plot.ly",
        "showLink": true
       },
       "data": [
        {
         "marker": {
          "color": "rgba(255, 153, 51, 0.6)",
          "line": {
           "color": "rgba(255, 153, 51, 1.0)",
           "width": 1
          }
         },
         "name": "Values",
         "orientation": "v",
         "text": "",
         "type": "bar",
         "x": [
          "A",
          "B",
          "C"
         ],
         "y": [
          32,
          43,
          50
         ]
        }
       ],
       "layout": {
        "legend": {
         "bgcolor": "#F5F6F9",
         "font": {
          "color": "#4D5663"
         }
        },
        "paper_bgcolor": "#F5F6F9",
        "plot_bgcolor": "#F5F6F9",
        "template": {
         "data": {
          "bar": [
           {
            "error_x": {
             "color": "#2a3f5f"
            },
            "error_y": {
             "color": "#2a3f5f"
            },
            "marker": {
             "line": {
              "color": "#E5ECF6",
              "width": 0.5
             },
             "pattern": {
              "fillmode": "overlay",
              "size": 10,
              "solidity": 0.2
             }
            },
            "type": "bar"
           }
          ],
          "barpolar": [
           {
            "marker": {
             "line": {
              "color": "#E5ECF6",
              "width": 0.5
             },
             "pattern": {
              "fillmode": "overlay",
              "size": 10,
              "solidity": 0.2
             }
            },
            "type": "barpolar"
           }
          ],
          "carpet": [
           {
            "aaxis": {
             "endlinecolor": "#2a3f5f",
             "gridcolor": "white",
             "linecolor": "white",
             "minorgridcolor": "white",
             "startlinecolor": "#2a3f5f"
            },
            "baxis": {
             "endlinecolor": "#2a3f5f",
             "gridcolor": "white",
             "linecolor": "white",
             "minorgridcolor": "white",
             "startlinecolor": "#2a3f5f"
            },
            "type": "carpet"
           }
          ],
          "choropleth": [
           {
            "colorbar": {
             "outlinewidth": 0,
             "ticks": ""
            },
            "type": "choropleth"
           }
          ],
          "contour": [
           {
            "colorbar": {
             "outlinewidth": 0,
             "ticks": ""
            },
            "colorscale": [
             [
              0,
              "#0d0887"
             ],
             [
              0.1111111111111111,
              "#46039f"
             ],
             [
              0.2222222222222222,
              "#7201a8"
             ],
             [
              0.3333333333333333,
              "#9c179e"
             ],
             [
              0.4444444444444444,
              "#bd3786"
             ],
             [
              0.5555555555555556,
              "#d8576b"
             ],
             [
              0.6666666666666666,
              "#ed7953"
             ],
             [
              0.7777777777777778,
              "#fb9f3a"
             ],
             [
              0.8888888888888888,
              "#fdca26"
             ],
             [
              1,
              "#f0f921"
             ]
            ],
            "type": "contour"
           }
          ],
          "contourcarpet": [
           {
            "colorbar": {
             "outlinewidth": 0,
             "ticks": ""
            },
            "type": "contourcarpet"
           }
          ],
          "heatmap": [
           {
            "colorbar": {
             "outlinewidth": 0,
             "ticks": ""
            },
            "colorscale": [
             [
              0,
              "#0d0887"
             ],
             [
              0.1111111111111111,
              "#46039f"
             ],
             [
              0.2222222222222222,
              "#7201a8"
             ],
             [
              0.3333333333333333,
              "#9c179e"
             ],
             [
              0.4444444444444444,
              "#bd3786"
             ],
             [
              0.5555555555555556,
              "#d8576b"
             ],
             [
              0.6666666666666666,
              "#ed7953"
             ],
             [
              0.7777777777777778,
              "#fb9f3a"
             ],
             [
              0.8888888888888888,
              "#fdca26"
             ],
             [
              1,
              "#f0f921"
             ]
            ],
            "type": "heatmap"
           }
          ],
          "heatmapgl": [
           {
            "colorbar": {
             "outlinewidth": 0,
             "ticks": ""
            },
            "colorscale": [
             [
              0,
              "#0d0887"
             ],
             [
              0.1111111111111111,
              "#46039f"
             ],
             [
              0.2222222222222222,
              "#7201a8"
             ],
             [
              0.3333333333333333,
              "#9c179e"
             ],
             [
              0.4444444444444444,
              "#bd3786"
             ],
             [
              0.5555555555555556,
              "#d8576b"
             ],
             [
              0.6666666666666666,
              "#ed7953"
             ],
             [
              0.7777777777777778,
              "#fb9f3a"
             ],
             [
              0.8888888888888888,
              "#fdca26"
             ],
             [
              1,
              "#f0f921"
             ]
            ],
            "type": "heatmapgl"
           }
          ],
          "histogram": [
           {
            "marker": {
             "pattern": {
              "fillmode": "overlay",
              "size": 10,
              "solidity": 0.2
             }
            },
            "type": "histogram"
           }
          ],
          "histogram2d": [
           {
            "colorbar": {
             "outlinewidth": 0,
             "ticks": ""
            },
            "colorscale": [
             [
              0,
              "#0d0887"
             ],
             [
              0.1111111111111111,
              "#46039f"
             ],
             [
              0.2222222222222222,
              "#7201a8"
             ],
             [
              0.3333333333333333,
              "#9c179e"
             ],
             [
              0.4444444444444444,
              "#bd3786"
             ],
             [
              0.5555555555555556,
              "#d8576b"
             ],
             [
              0.6666666666666666,
              "#ed7953"
             ],
             [
              0.7777777777777778,
              "#fb9f3a"
             ],
             [
              0.8888888888888888,
              "#fdca26"
             ],
             [
              1,
              "#f0f921"
             ]
            ],
            "type": "histogram2d"
           }
          ],
          "histogram2dcontour": [
           {
            "colorbar": {
             "outlinewidth": 0,
             "ticks": ""
            },
            "colorscale": [
             [
              0,
              "#0d0887"
             ],
             [
              0.1111111111111111,
              "#46039f"
             ],
             [
              0.2222222222222222,
              "#7201a8"
             ],
             [
              0.3333333333333333,
              "#9c179e"
             ],
             [
              0.4444444444444444,
              "#bd3786"
             ],
             [
              0.5555555555555556,
              "#d8576b"
             ],
             [
              0.6666666666666666,
              "#ed7953"
             ],
             [
              0.7777777777777778,
              "#fb9f3a"
             ],
             [
              0.8888888888888888,
              "#fdca26"
             ],
             [
              1,
              "#f0f921"
             ]
            ],
            "type": "histogram2dcontour"
           }
          ],
          "mesh3d": [
           {
            "colorbar": {
             "outlinewidth": 0,
             "ticks": ""
            },
            "type": "mesh3d"
           }
          ],
          "parcoords": [
           {
            "line": {
             "colorbar": {
              "outlinewidth": 0,
              "ticks": ""
             }
            },
            "type": "parcoords"
           }
          ],
          "pie": [
           {
            "automargin": true,
            "type": "pie"
           }
          ],
          "scatter": [
           {
            "fillpattern": {
             "fillmode": "overlay",
             "size": 10,
             "solidity": 0.2
            },
            "type": "scatter"
           }
          ],
          "scatter3d": [
           {
            "line": {
             "colorbar": {
              "outlinewidth": 0,
              "ticks": ""
             }
            },
            "marker": {
             "colorbar": {
              "outlinewidth": 0,
              "ticks": ""
             }
            },
            "type": "scatter3d"
           }
          ],
          "scattercarpet": [
           {
            "marker": {
             "colorbar": {
              "outlinewidth": 0,
              "ticks": ""
             }
            },
            "type": "scattercarpet"
           }
          ],
          "scattergeo": [
           {
            "marker": {
             "colorbar": {
              "outlinewidth": 0,
              "ticks": ""
             }
            },
            "type": "scattergeo"
           }
          ],
          "scattergl": [
           {
            "marker": {
             "colorbar": {
              "outlinewidth": 0,
              "ticks": ""
             }
            },
            "type": "scattergl"
           }
          ],
          "scattermapbox": [
           {
            "marker": {
             "colorbar": {
              "outlinewidth": 0,
              "ticks": ""
             }
            },
            "type": "scattermapbox"
           }
          ],
          "scatterpolar": [
           {
            "marker": {
             "colorbar": {
              "outlinewidth": 0,
              "ticks": ""
             }
            },
            "type": "scatterpolar"
           }
          ],
          "scatterpolargl": [
           {
            "marker": {
             "colorbar": {
              "outlinewidth": 0,
              "ticks": ""
             }
            },
            "type": "scatterpolargl"
           }
          ],
          "scatterternary": [
           {
            "marker": {
             "colorbar": {
              "outlinewidth": 0,
              "ticks": ""
             }
            },
            "type": "scatterternary"
           }
          ],
          "surface": [
           {
            "colorbar": {
             "outlinewidth": 0,
             "ticks": ""
            },
            "colorscale": [
             [
              0,
              "#0d0887"
             ],
             [
              0.1111111111111111,
              "#46039f"
             ],
             [
              0.2222222222222222,
              "#7201a8"
             ],
             [
              0.3333333333333333,
              "#9c179e"
             ],
             [
              0.4444444444444444,
              "#bd3786"
             ],
             [
              0.5555555555555556,
              "#d8576b"
             ],
             [
              0.6666666666666666,
              "#ed7953"
             ],
             [
              0.7777777777777778,
              "#fb9f3a"
             ],
             [
              0.8888888888888888,
              "#fdca26"
             ],
             [
              1,
              "#f0f921"
             ]
            ],
            "type": "surface"
           }
          ],
          "table": [
           {
            "cells": {
             "fill": {
              "color": "#EBF0F8"
             },
             "line": {
              "color": "white"
             }
            },
            "header": {
             "fill": {
              "color": "#C8D4E3"
             },
             "line": {
              "color": "white"
             }
            },
            "type": "table"
           }
          ]
         },
         "layout": {
          "annotationdefaults": {
           "arrowcolor": "#2a3f5f",
           "arrowhead": 0,
           "arrowwidth": 1
          },
          "autotypenumbers": "strict",
          "coloraxis": {
           "colorbar": {
            "outlinewidth": 0,
            "ticks": ""
           }
          },
          "colorscale": {
           "diverging": [
            [
             0,
             "#8e0152"
            ],
            [
             0.1,
             "#c51b7d"
            ],
            [
             0.2,
             "#de77ae"
            ],
            [
             0.3,
             "#f1b6da"
            ],
            [
             0.4,
             "#fde0ef"
            ],
            [
             0.5,
             "#f7f7f7"
            ],
            [
             0.6,
             "#e6f5d0"
            ],
            [
             0.7,
             "#b8e186"
            ],
            [
             0.8,
             "#7fbc41"
            ],
            [
             0.9,
             "#4d9221"
            ],
            [
             1,
             "#276419"
            ]
           ],
           "sequential": [
            [
             0,
             "#0d0887"
            ],
            [
             0.1111111111111111,
             "#46039f"
            ],
            [
             0.2222222222222222,
             "#7201a8"
            ],
            [
             0.3333333333333333,
             "#9c179e"
            ],
            [
             0.4444444444444444,
             "#bd3786"
            ],
            [
             0.5555555555555556,
             "#d8576b"
            ],
            [
             0.6666666666666666,
             "#ed7953"
            ],
            [
             0.7777777777777778,
             "#fb9f3a"
            ],
            [
             0.8888888888888888,
             "#fdca26"
            ],
            [
             1,
             "#f0f921"
            ]
           ],
           "sequentialminus": [
            [
             0,
             "#0d0887"
            ],
            [
             0.1111111111111111,
             "#46039f"
            ],
            [
             0.2222222222222222,
             "#7201a8"
            ],
            [
             0.3333333333333333,
             "#9c179e"
            ],
            [
             0.4444444444444444,
             "#bd3786"
            ],
            [
             0.5555555555555556,
             "#d8576b"
            ],
            [
             0.6666666666666666,
             "#ed7953"
            ],
            [
             0.7777777777777778,
             "#fb9f3a"
            ],
            [
             0.8888888888888888,
             "#fdca26"
            ],
            [
             1,
             "#f0f921"
            ]
           ]
          },
          "colorway": [
           "#636efa",
           "#EF553B",
           "#00cc96",
           "#ab63fa",
           "#FFA15A",
           "#19d3f3",
           "#FF6692",
           "#B6E880",
           "#FF97FF",
           "#FECB52"
          ],
          "font": {
           "color": "#2a3f5f"
          },
          "geo": {
           "bgcolor": "white",
           "lakecolor": "white",
           "landcolor": "#E5ECF6",
           "showlakes": true,
           "showland": true,
           "subunitcolor": "white"
          },
          "hoverlabel": {
           "align": "left"
          },
          "hovermode": "closest",
          "mapbox": {
           "style": "light"
          },
          "paper_bgcolor": "white",
          "plot_bgcolor": "#E5ECF6",
          "polar": {
           "angularaxis": {
            "gridcolor": "white",
            "linecolor": "white",
            "ticks": ""
           },
           "bgcolor": "#E5ECF6",
           "radialaxis": {
            "gridcolor": "white",
            "linecolor": "white",
            "ticks": ""
           }
          },
          "scene": {
           "xaxis": {
            "backgroundcolor": "#E5ECF6",
            "gridcolor": "white",
            "gridwidth": 2,
            "linecolor": "white",
            "showbackground": true,
            "ticks": "",
            "zerolinecolor": "white"
           },
           "yaxis": {
            "backgroundcolor": "#E5ECF6",
            "gridcolor": "white",
            "gridwidth": 2,
            "linecolor": "white",
            "showbackground": true,
            "ticks": "",
            "zerolinecolor": "white"
           },
           "zaxis": {
            "backgroundcolor": "#E5ECF6",
            "gridcolor": "white",
            "gridwidth": 2,
            "linecolor": "white",
            "showbackground": true,
            "ticks": "",
            "zerolinecolor": "white"
           }
          },
          "shapedefaults": {
           "line": {
            "color": "#2a3f5f"
           }
          },
          "ternary": {
           "aaxis": {
            "gridcolor": "white",
            "linecolor": "white",
            "ticks": ""
           },
           "baxis": {
            "gridcolor": "white",
            "linecolor": "white",
            "ticks": ""
           },
           "bgcolor": "#E5ECF6",
           "caxis": {
            "gridcolor": "white",
            "linecolor": "white",
            "ticks": ""
           }
          },
          "title": {
           "x": 0.05
          },
          "xaxis": {
           "automargin": true,
           "gridcolor": "white",
           "linecolor": "white",
           "ticks": "",
           "title": {
            "standoff": 15
           },
           "zerolinecolor": "white",
           "zerolinewidth": 2
          },
          "yaxis": {
           "automargin": true,
           "gridcolor": "white",
           "linecolor": "white",
           "ticks": "",
           "title": {
            "standoff": 15
           },
           "zerolinecolor": "white",
           "zerolinewidth": 2
          }
         }
        },
        "title": {
         "font": {
          "color": "#4D5663"
         }
        },
        "xaxis": {
         "gridcolor": "#E1E5ED",
         "showgrid": true,
         "tickfont": {
          "color": "#4D5663"
         },
         "title": {
          "font": {
           "color": "#4D5663"
          },
          "text": ""
         },
         "zerolinecolor": "#E1E5ED"
        },
        "yaxis": {
         "gridcolor": "#E1E5ED",
         "showgrid": true,
         "tickfont": {
          "color": "#4D5663"
         },
         "title": {
          "font": {
           "color": "#4D5663"
          },
          "text": ""
         },
         "zerolinecolor": "#E1E5ED"
        }
       }
      },
      "text/html": [
       "<div>                            <div id=\"ad04c2e5-d236-4ec2-9a80-d77a7c4fe740\" class=\"plotly-graph-div\" style=\"height:525px; width:100%;\"></div>            <script type=\"text/javascript\">                require([\"plotly\"], function(Plotly) {                    window.PLOTLYENV=window.PLOTLYENV || {};\n",
       "                    window.PLOTLYENV.BASE_URL='https://plot.ly';                                    if (document.getElementById(\"ad04c2e5-d236-4ec2-9a80-d77a7c4fe740\")) {                    Plotly.newPlot(                        \"ad04c2e5-d236-4ec2-9a80-d77a7c4fe740\",                        [{\"marker\":{\"color\":\"rgba(255, 153, 51, 0.6)\",\"line\":{\"color\":\"rgba(255, 153, 51, 1.0)\",\"width\":1}},\"name\":\"Values\",\"orientation\":\"v\",\"text\":\"\",\"x\":[\"A\",\"B\",\"C\"],\"y\":[32,43,50],\"type\":\"bar\"}],                        {\"legend\":{\"bgcolor\":\"#F5F6F9\",\"font\":{\"color\":\"#4D5663\"}},\"paper_bgcolor\":\"#F5F6F9\",\"plot_bgcolor\":\"#F5F6F9\",\"template\":{\"data\":{\"barpolar\":[{\"marker\":{\"line\":{\"color\":\"#E5ECF6\",\"width\":0.5},\"pattern\":{\"fillmode\":\"overlay\",\"size\":10,\"solidity\":0.2}},\"type\":\"barpolar\"}],\"bar\":[{\"error_x\":{\"color\":\"#2a3f5f\"},\"error_y\":{\"color\":\"#2a3f5f\"},\"marker\":{\"line\":{\"color\":\"#E5ECF6\",\"width\":0.5},\"pattern\":{\"fillmode\":\"overlay\",\"size\":10,\"solidity\":0.2}},\"type\":\"bar\"}],\"carpet\":[{\"aaxis\":{\"endlinecolor\":\"#2a3f5f\",\"gridcolor\":\"white\",\"linecolor\":\"white\",\"minorgridcolor\":\"white\",\"startlinecolor\":\"#2a3f5f\"},\"baxis\":{\"endlinecolor\":\"#2a3f5f\",\"gridcolor\":\"white\",\"linecolor\":\"white\",\"minorgridcolor\":\"white\",\"startlinecolor\":\"#2a3f5f\"},\"type\":\"carpet\"}],\"choropleth\":[{\"colorbar\":{\"outlinewidth\":0,\"ticks\":\"\"},\"type\":\"choropleth\"}],\"contourcarpet\":[{\"colorbar\":{\"outlinewidth\":0,\"ticks\":\"\"},\"type\":\"contourcarpet\"}],\"contour\":[{\"colorbar\":{\"outlinewidth\":0,\"ticks\":\"\"},\"colorscale\":[[0.0,\"#0d0887\"],[0.1111111111111111,\"#46039f\"],[0.2222222222222222,\"#7201a8\"],[0.3333333333333333,\"#9c179e\"],[0.4444444444444444,\"#bd3786\"],[0.5555555555555556,\"#d8576b\"],[0.6666666666666666,\"#ed7953\"],[0.7777777777777778,\"#fb9f3a\"],[0.8888888888888888,\"#fdca26\"],[1.0,\"#f0f921\"]],\"type\":\"contour\"}],\"heatmapgl\":[{\"colorbar\":{\"outlinewidth\":0,\"ticks\":\"\"},\"colorscale\":[[0.0,\"#0d0887\"],[0.1111111111111111,\"#46039f\"],[0.2222222222222222,\"#7201a8\"],[0.3333333333333333,\"#9c179e\"],[0.4444444444444444,\"#bd3786\"],[0.5555555555555556,\"#d8576b\"],[0.6666666666666666,\"#ed7953\"],[0.7777777777777778,\"#fb9f3a\"],[0.8888888888888888,\"#fdca26\"],[1.0,\"#f0f921\"]],\"type\":\"heatmapgl\"}],\"heatmap\":[{\"colorbar\":{\"outlinewidth\":0,\"ticks\":\"\"},\"colorscale\":[[0.0,\"#0d0887\"],[0.1111111111111111,\"#46039f\"],[0.2222222222222222,\"#7201a8\"],[0.3333333333333333,\"#9c179e\"],[0.4444444444444444,\"#bd3786\"],[0.5555555555555556,\"#d8576b\"],[0.6666666666666666,\"#ed7953\"],[0.7777777777777778,\"#fb9f3a\"],[0.8888888888888888,\"#fdca26\"],[1.0,\"#f0f921\"]],\"type\":\"heatmap\"}],\"histogram2dcontour\":[{\"colorbar\":{\"outlinewidth\":0,\"ticks\":\"\"},\"colorscale\":[[0.0,\"#0d0887\"],[0.1111111111111111,\"#46039f\"],[0.2222222222222222,\"#7201a8\"],[0.3333333333333333,\"#9c179e\"],[0.4444444444444444,\"#bd3786\"],[0.5555555555555556,\"#d8576b\"],[0.6666666666666666,\"#ed7953\"],[0.7777777777777778,\"#fb9f3a\"],[0.8888888888888888,\"#fdca26\"],[1.0,\"#f0f921\"]],\"type\":\"histogram2dcontour\"}],\"histogram2d\":[{\"colorbar\":{\"outlinewidth\":0,\"ticks\":\"\"},\"colorscale\":[[0.0,\"#0d0887\"],[0.1111111111111111,\"#46039f\"],[0.2222222222222222,\"#7201a8\"],[0.3333333333333333,\"#9c179e\"],[0.4444444444444444,\"#bd3786\"],[0.5555555555555556,\"#d8576b\"],[0.6666666666666666,\"#ed7953\"],[0.7777777777777778,\"#fb9f3a\"],[0.8888888888888888,\"#fdca26\"],[1.0,\"#f0f921\"]],\"type\":\"histogram2d\"}],\"histogram\":[{\"marker\":{\"pattern\":{\"fillmode\":\"overlay\",\"size\":10,\"solidity\":0.2}},\"type\":\"histogram\"}],\"mesh3d\":[{\"colorbar\":{\"outlinewidth\":0,\"ticks\":\"\"},\"type\":\"mesh3d\"}],\"parcoords\":[{\"line\":{\"colorbar\":{\"outlinewidth\":0,\"ticks\":\"\"}},\"type\":\"parcoords\"}],\"pie\":[{\"automargin\":true,\"type\":\"pie\"}],\"scatter3d\":[{\"line\":{\"colorbar\":{\"outlinewidth\":0,\"ticks\":\"\"}},\"marker\":{\"colorbar\":{\"outlinewidth\":0,\"ticks\":\"\"}},\"type\":\"scatter3d\"}],\"scattercarpet\":[{\"marker\":{\"colorbar\":{\"outlinewidth\":0,\"ticks\":\"\"}},\"type\":\"scattercarpet\"}],\"scattergeo\":[{\"marker\":{\"colorbar\":{\"outlinewidth\":0,\"ticks\":\"\"}},\"type\":\"scattergeo\"}],\"scattergl\":[{\"marker\":{\"colorbar\":{\"outlinewidth\":0,\"ticks\":\"\"}},\"type\":\"scattergl\"}],\"scattermapbox\":[{\"marker\":{\"colorbar\":{\"outlinewidth\":0,\"ticks\":\"\"}},\"type\":\"scattermapbox\"}],\"scatterpolargl\":[{\"marker\":{\"colorbar\":{\"outlinewidth\":0,\"ticks\":\"\"}},\"type\":\"scatterpolargl\"}],\"scatterpolar\":[{\"marker\":{\"colorbar\":{\"outlinewidth\":0,\"ticks\":\"\"}},\"type\":\"scatterpolar\"}],\"scatter\":[{\"fillpattern\":{\"fillmode\":\"overlay\",\"size\":10,\"solidity\":0.2},\"type\":\"scatter\"}],\"scatterternary\":[{\"marker\":{\"colorbar\":{\"outlinewidth\":0,\"ticks\":\"\"}},\"type\":\"scatterternary\"}],\"surface\":[{\"colorbar\":{\"outlinewidth\":0,\"ticks\":\"\"},\"colorscale\":[[0.0,\"#0d0887\"],[0.1111111111111111,\"#46039f\"],[0.2222222222222222,\"#7201a8\"],[0.3333333333333333,\"#9c179e\"],[0.4444444444444444,\"#bd3786\"],[0.5555555555555556,\"#d8576b\"],[0.6666666666666666,\"#ed7953\"],[0.7777777777777778,\"#fb9f3a\"],[0.8888888888888888,\"#fdca26\"],[1.0,\"#f0f921\"]],\"type\":\"surface\"}],\"table\":[{\"cells\":{\"fill\":{\"color\":\"#EBF0F8\"},\"line\":{\"color\":\"white\"}},\"header\":{\"fill\":{\"color\":\"#C8D4E3\"},\"line\":{\"color\":\"white\"}},\"type\":\"table\"}]},\"layout\":{\"annotationdefaults\":{\"arrowcolor\":\"#2a3f5f\",\"arrowhead\":0,\"arrowwidth\":1},\"autotypenumbers\":\"strict\",\"coloraxis\":{\"colorbar\":{\"outlinewidth\":0,\"ticks\":\"\"}},\"colorscale\":{\"diverging\":[[0,\"#8e0152\"],[0.1,\"#c51b7d\"],[0.2,\"#de77ae\"],[0.3,\"#f1b6da\"],[0.4,\"#fde0ef\"],[0.5,\"#f7f7f7\"],[0.6,\"#e6f5d0\"],[0.7,\"#b8e186\"],[0.8,\"#7fbc41\"],[0.9,\"#4d9221\"],[1,\"#276419\"]],\"sequential\":[[0.0,\"#0d0887\"],[0.1111111111111111,\"#46039f\"],[0.2222222222222222,\"#7201a8\"],[0.3333333333333333,\"#9c179e\"],[0.4444444444444444,\"#bd3786\"],[0.5555555555555556,\"#d8576b\"],[0.6666666666666666,\"#ed7953\"],[0.7777777777777778,\"#fb9f3a\"],[0.8888888888888888,\"#fdca26\"],[1.0,\"#f0f921\"]],\"sequentialminus\":[[0.0,\"#0d0887\"],[0.1111111111111111,\"#46039f\"],[0.2222222222222222,\"#7201a8\"],[0.3333333333333333,\"#9c179e\"],[0.4444444444444444,\"#bd3786\"],[0.5555555555555556,\"#d8576b\"],[0.6666666666666666,\"#ed7953\"],[0.7777777777777778,\"#fb9f3a\"],[0.8888888888888888,\"#fdca26\"],[1.0,\"#f0f921\"]]},\"colorway\":[\"#636efa\",\"#EF553B\",\"#00cc96\",\"#ab63fa\",\"#FFA15A\",\"#19d3f3\",\"#FF6692\",\"#B6E880\",\"#FF97FF\",\"#FECB52\"],\"font\":{\"color\":\"#2a3f5f\"},\"geo\":{\"bgcolor\":\"white\",\"lakecolor\":\"white\",\"landcolor\":\"#E5ECF6\",\"showlakes\":true,\"showland\":true,\"subunitcolor\":\"white\"},\"hoverlabel\":{\"align\":\"left\"},\"hovermode\":\"closest\",\"mapbox\":{\"style\":\"light\"},\"paper_bgcolor\":\"white\",\"plot_bgcolor\":\"#E5ECF6\",\"polar\":{\"angularaxis\":{\"gridcolor\":\"white\",\"linecolor\":\"white\",\"ticks\":\"\"},\"bgcolor\":\"#E5ECF6\",\"radialaxis\":{\"gridcolor\":\"white\",\"linecolor\":\"white\",\"ticks\":\"\"}},\"scene\":{\"xaxis\":{\"backgroundcolor\":\"#E5ECF6\",\"gridcolor\":\"white\",\"gridwidth\":2,\"linecolor\":\"white\",\"showbackground\":true,\"ticks\":\"\",\"zerolinecolor\":\"white\"},\"yaxis\":{\"backgroundcolor\":\"#E5ECF6\",\"gridcolor\":\"white\",\"gridwidth\":2,\"linecolor\":\"white\",\"showbackground\":true,\"ticks\":\"\",\"zerolinecolor\":\"white\"},\"zaxis\":{\"backgroundcolor\":\"#E5ECF6\",\"gridcolor\":\"white\",\"gridwidth\":2,\"linecolor\":\"white\",\"showbackground\":true,\"ticks\":\"\",\"zerolinecolor\":\"white\"}},\"shapedefaults\":{\"line\":{\"color\":\"#2a3f5f\"}},\"ternary\":{\"aaxis\":{\"gridcolor\":\"white\",\"linecolor\":\"white\",\"ticks\":\"\"},\"baxis\":{\"gridcolor\":\"white\",\"linecolor\":\"white\",\"ticks\":\"\"},\"bgcolor\":\"#E5ECF6\",\"caxis\":{\"gridcolor\":\"white\",\"linecolor\":\"white\",\"ticks\":\"\"}},\"title\":{\"x\":0.05},\"xaxis\":{\"automargin\":true,\"gridcolor\":\"white\",\"linecolor\":\"white\",\"ticks\":\"\",\"title\":{\"standoff\":15},\"zerolinecolor\":\"white\",\"zerolinewidth\":2},\"yaxis\":{\"automargin\":true,\"gridcolor\":\"white\",\"linecolor\":\"white\",\"ticks\":\"\",\"title\":{\"standoff\":15},\"zerolinecolor\":\"white\",\"zerolinewidth\":2}}},\"title\":{\"font\":{\"color\":\"#4D5663\"}},\"xaxis\":{\"gridcolor\":\"#E1E5ED\",\"showgrid\":true,\"tickfont\":{\"color\":\"#4D5663\"},\"title\":{\"font\":{\"color\":\"#4D5663\"},\"text\":\"\"},\"zerolinecolor\":\"#E1E5ED\"},\"yaxis\":{\"gridcolor\":\"#E1E5ED\",\"showgrid\":true,\"tickfont\":{\"color\":\"#4D5663\"},\"title\":{\"font\":{\"color\":\"#4D5663\"},\"text\":\"\"},\"zerolinecolor\":\"#E1E5ED\"}},                        {\"showLink\": true, \"linkText\": \"Export to plot.ly\", \"plotlyServerURL\": \"https://plot.ly\", \"responsive\": true}                    ).then(function(){\n",
       "                            \n",
       "var gd = document.getElementById('ad04c2e5-d236-4ec2-9a80-d77a7c4fe740');\n",
       "var x = new MutationObserver(function (mutations, observer) {{\n",
       "        var display = window.getComputedStyle(gd).display;\n",
       "        if (!display || display === 'none') {{\n",
       "            console.log([gd, 'removed!']);\n",
       "            Plotly.purge(gd);\n",
       "            observer.disconnect();\n",
       "        }}\n",
       "}});\n",
       "\n",
       "// Listen for the removal of the full notebook cells\n",
       "var notebookContainer = gd.closest('#notebook-container');\n",
       "if (notebookContainer) {{\n",
       "    x.observe(notebookContainer, {childList: true});\n",
       "}}\n",
       "\n",
       "// Listen for the clearing of the current output cell\n",
       "var outputEl = gd.closest('.output');\n",
       "if (outputEl) {{\n",
       "    x.observe(outputEl, {childList: true});\n",
       "}}\n",
       "\n",
       "                        })                };                });            </script>        </div>"
      ]
     },
     "metadata": {},
     "output_type": "display_data"
    }
   ],
   "source": [
    "df2.iplot(kind='bar',x='Category',y='Values')"
   ]
  },
  {
   "cell_type": "code",
   "execution_count": 21,
   "metadata": {},
   "outputs": [
    {
     "data": {
      "application/vnd.plotly.v1+json": {
       "config": {
        "linkText": "Export to plot.ly",
        "plotlyServerURL": "https://plot.ly",
        "showLink": true
       },
       "data": [
        {
         "marker": {
          "color": "rgba(255, 153, 51, 0.6)",
          "line": {
           "color": "rgba(255, 153, 51, 1.0)",
           "width": 1
          }
         },
         "name": "None",
         "orientation": "v",
         "text": "",
         "type": "bar",
         "x": [
          "A",
          "B",
          "C",
          "D"
         ],
         "y": [
          100,
          100,
          100,
          100
         ]
        }
       ],
       "layout": {
        "legend": {
         "bgcolor": "#F5F6F9",
         "font": {
          "color": "#4D5663"
         }
        },
        "paper_bgcolor": "#F5F6F9",
        "plot_bgcolor": "#F5F6F9",
        "template": {
         "data": {
          "bar": [
           {
            "error_x": {
             "color": "#2a3f5f"
            },
            "error_y": {
             "color": "#2a3f5f"
            },
            "marker": {
             "line": {
              "color": "#E5ECF6",
              "width": 0.5
             },
             "pattern": {
              "fillmode": "overlay",
              "size": 10,
              "solidity": 0.2
             }
            },
            "type": "bar"
           }
          ],
          "barpolar": [
           {
            "marker": {
             "line": {
              "color": "#E5ECF6",
              "width": 0.5
             },
             "pattern": {
              "fillmode": "overlay",
              "size": 10,
              "solidity": 0.2
             }
            },
            "type": "barpolar"
           }
          ],
          "carpet": [
           {
            "aaxis": {
             "endlinecolor": "#2a3f5f",
             "gridcolor": "white",
             "linecolor": "white",
             "minorgridcolor": "white",
             "startlinecolor": "#2a3f5f"
            },
            "baxis": {
             "endlinecolor": "#2a3f5f",
             "gridcolor": "white",
             "linecolor": "white",
             "minorgridcolor": "white",
             "startlinecolor": "#2a3f5f"
            },
            "type": "carpet"
           }
          ],
          "choropleth": [
           {
            "colorbar": {
             "outlinewidth": 0,
             "ticks": ""
            },
            "type": "choropleth"
           }
          ],
          "contour": [
           {
            "colorbar": {
             "outlinewidth": 0,
             "ticks": ""
            },
            "colorscale": [
             [
              0,
              "#0d0887"
             ],
             [
              0.1111111111111111,
              "#46039f"
             ],
             [
              0.2222222222222222,
              "#7201a8"
             ],
             [
              0.3333333333333333,
              "#9c179e"
             ],
             [
              0.4444444444444444,
              "#bd3786"
             ],
             [
              0.5555555555555556,
              "#d8576b"
             ],
             [
              0.6666666666666666,
              "#ed7953"
             ],
             [
              0.7777777777777778,
              "#fb9f3a"
             ],
             [
              0.8888888888888888,
              "#fdca26"
             ],
             [
              1,
              "#f0f921"
             ]
            ],
            "type": "contour"
           }
          ],
          "contourcarpet": [
           {
            "colorbar": {
             "outlinewidth": 0,
             "ticks": ""
            },
            "type": "contourcarpet"
           }
          ],
          "heatmap": [
           {
            "colorbar": {
             "outlinewidth": 0,
             "ticks": ""
            },
            "colorscale": [
             [
              0,
              "#0d0887"
             ],
             [
              0.1111111111111111,
              "#46039f"
             ],
             [
              0.2222222222222222,
              "#7201a8"
             ],
             [
              0.3333333333333333,
              "#9c179e"
             ],
             [
              0.4444444444444444,
              "#bd3786"
             ],
             [
              0.5555555555555556,
              "#d8576b"
             ],
             [
              0.6666666666666666,
              "#ed7953"
             ],
             [
              0.7777777777777778,
              "#fb9f3a"
             ],
             [
              0.8888888888888888,
              "#fdca26"
             ],
             [
              1,
              "#f0f921"
             ]
            ],
            "type": "heatmap"
           }
          ],
          "heatmapgl": [
           {
            "colorbar": {
             "outlinewidth": 0,
             "ticks": ""
            },
            "colorscale": [
             [
              0,
              "#0d0887"
             ],
             [
              0.1111111111111111,
              "#46039f"
             ],
             [
              0.2222222222222222,
              "#7201a8"
             ],
             [
              0.3333333333333333,
              "#9c179e"
             ],
             [
              0.4444444444444444,
              "#bd3786"
             ],
             [
              0.5555555555555556,
              "#d8576b"
             ],
             [
              0.6666666666666666,
              "#ed7953"
             ],
             [
              0.7777777777777778,
              "#fb9f3a"
             ],
             [
              0.8888888888888888,
              "#fdca26"
             ],
             [
              1,
              "#f0f921"
             ]
            ],
            "type": "heatmapgl"
           }
          ],
          "histogram": [
           {
            "marker": {
             "pattern": {
              "fillmode": "overlay",
              "size": 10,
              "solidity": 0.2
             }
            },
            "type": "histogram"
           }
          ],
          "histogram2d": [
           {
            "colorbar": {
             "outlinewidth": 0,
             "ticks": ""
            },
            "colorscale": [
             [
              0,
              "#0d0887"
             ],
             [
              0.1111111111111111,
              "#46039f"
             ],
             [
              0.2222222222222222,
              "#7201a8"
             ],
             [
              0.3333333333333333,
              "#9c179e"
             ],
             [
              0.4444444444444444,
              "#bd3786"
             ],
             [
              0.5555555555555556,
              "#d8576b"
             ],
             [
              0.6666666666666666,
              "#ed7953"
             ],
             [
              0.7777777777777778,
              "#fb9f3a"
             ],
             [
              0.8888888888888888,
              "#fdca26"
             ],
             [
              1,
              "#f0f921"
             ]
            ],
            "type": "histogram2d"
           }
          ],
          "histogram2dcontour": [
           {
            "colorbar": {
             "outlinewidth": 0,
             "ticks": ""
            },
            "colorscale": [
             [
              0,
              "#0d0887"
             ],
             [
              0.1111111111111111,
              "#46039f"
             ],
             [
              0.2222222222222222,
              "#7201a8"
             ],
             [
              0.3333333333333333,
              "#9c179e"
             ],
             [
              0.4444444444444444,
              "#bd3786"
             ],
             [
              0.5555555555555556,
              "#d8576b"
             ],
             [
              0.6666666666666666,
              "#ed7953"
             ],
             [
              0.7777777777777778,
              "#fb9f3a"
             ],
             [
              0.8888888888888888,
              "#fdca26"
             ],
             [
              1,
              "#f0f921"
             ]
            ],
            "type": "histogram2dcontour"
           }
          ],
          "mesh3d": [
           {
            "colorbar": {
             "outlinewidth": 0,
             "ticks": ""
            },
            "type": "mesh3d"
           }
          ],
          "parcoords": [
           {
            "line": {
             "colorbar": {
              "outlinewidth": 0,
              "ticks": ""
             }
            },
            "type": "parcoords"
           }
          ],
          "pie": [
           {
            "automargin": true,
            "type": "pie"
           }
          ],
          "scatter": [
           {
            "fillpattern": {
             "fillmode": "overlay",
             "size": 10,
             "solidity": 0.2
            },
            "type": "scatter"
           }
          ],
          "scatter3d": [
           {
            "line": {
             "colorbar": {
              "outlinewidth": 0,
              "ticks": ""
             }
            },
            "marker": {
             "colorbar": {
              "outlinewidth": 0,
              "ticks": ""
             }
            },
            "type": "scatter3d"
           }
          ],
          "scattercarpet": [
           {
            "marker": {
             "colorbar": {
              "outlinewidth": 0,
              "ticks": ""
             }
            },
            "type": "scattercarpet"
           }
          ],
          "scattergeo": [
           {
            "marker": {
             "colorbar": {
              "outlinewidth": 0,
              "ticks": ""
             }
            },
            "type": "scattergeo"
           }
          ],
          "scattergl": [
           {
            "marker": {
             "colorbar": {
              "outlinewidth": 0,
              "ticks": ""
             }
            },
            "type": "scattergl"
           }
          ],
          "scattermapbox": [
           {
            "marker": {
             "colorbar": {
              "outlinewidth": 0,
              "ticks": ""
             }
            },
            "type": "scattermapbox"
           }
          ],
          "scatterpolar": [
           {
            "marker": {
             "colorbar": {
              "outlinewidth": 0,
              "ticks": ""
             }
            },
            "type": "scatterpolar"
           }
          ],
          "scatterpolargl": [
           {
            "marker": {
             "colorbar": {
              "outlinewidth": 0,
              "ticks": ""
             }
            },
            "type": "scatterpolargl"
           }
          ],
          "scatterternary": [
           {
            "marker": {
             "colorbar": {
              "outlinewidth": 0,
              "ticks": ""
             }
            },
            "type": "scatterternary"
           }
          ],
          "surface": [
           {
            "colorbar": {
             "outlinewidth": 0,
             "ticks": ""
            },
            "colorscale": [
             [
              0,
              "#0d0887"
             ],
             [
              0.1111111111111111,
              "#46039f"
             ],
             [
              0.2222222222222222,
              "#7201a8"
             ],
             [
              0.3333333333333333,
              "#9c179e"
             ],
             [
              0.4444444444444444,
              "#bd3786"
             ],
             [
              0.5555555555555556,
              "#d8576b"
             ],
             [
              0.6666666666666666,
              "#ed7953"
             ],
             [
              0.7777777777777778,
              "#fb9f3a"
             ],
             [
              0.8888888888888888,
              "#fdca26"
             ],
             [
              1,
              "#f0f921"
             ]
            ],
            "type": "surface"
           }
          ],
          "table": [
           {
            "cells": {
             "fill": {
              "color": "#EBF0F8"
             },
             "line": {
              "color": "white"
             }
            },
            "header": {
             "fill": {
              "color": "#C8D4E3"
             },
             "line": {
              "color": "white"
             }
            },
            "type": "table"
           }
          ]
         },
         "layout": {
          "annotationdefaults": {
           "arrowcolor": "#2a3f5f",
           "arrowhead": 0,
           "arrowwidth": 1
          },
          "autotypenumbers": "strict",
          "coloraxis": {
           "colorbar": {
            "outlinewidth": 0,
            "ticks": ""
           }
          },
          "colorscale": {
           "diverging": [
            [
             0,
             "#8e0152"
            ],
            [
             0.1,
             "#c51b7d"
            ],
            [
             0.2,
             "#de77ae"
            ],
            [
             0.3,
             "#f1b6da"
            ],
            [
             0.4,
             "#fde0ef"
            ],
            [
             0.5,
             "#f7f7f7"
            ],
            [
             0.6,
             "#e6f5d0"
            ],
            [
             0.7,
             "#b8e186"
            ],
            [
             0.8,
             "#7fbc41"
            ],
            [
             0.9,
             "#4d9221"
            ],
            [
             1,
             "#276419"
            ]
           ],
           "sequential": [
            [
             0,
             "#0d0887"
            ],
            [
             0.1111111111111111,
             "#46039f"
            ],
            [
             0.2222222222222222,
             "#7201a8"
            ],
            [
             0.3333333333333333,
             "#9c179e"
            ],
            [
             0.4444444444444444,
             "#bd3786"
            ],
            [
             0.5555555555555556,
             "#d8576b"
            ],
            [
             0.6666666666666666,
             "#ed7953"
            ],
            [
             0.7777777777777778,
             "#fb9f3a"
            ],
            [
             0.8888888888888888,
             "#fdca26"
            ],
            [
             1,
             "#f0f921"
            ]
           ],
           "sequentialminus": [
            [
             0,
             "#0d0887"
            ],
            [
             0.1111111111111111,
             "#46039f"
            ],
            [
             0.2222222222222222,
             "#7201a8"
            ],
            [
             0.3333333333333333,
             "#9c179e"
            ],
            [
             0.4444444444444444,
             "#bd3786"
            ],
            [
             0.5555555555555556,
             "#d8576b"
            ],
            [
             0.6666666666666666,
             "#ed7953"
            ],
            [
             0.7777777777777778,
             "#fb9f3a"
            ],
            [
             0.8888888888888888,
             "#fdca26"
            ],
            [
             1,
             "#f0f921"
            ]
           ]
          },
          "colorway": [
           "#636efa",
           "#EF553B",
           "#00cc96",
           "#ab63fa",
           "#FFA15A",
           "#19d3f3",
           "#FF6692",
           "#B6E880",
           "#FF97FF",
           "#FECB52"
          ],
          "font": {
           "color": "#2a3f5f"
          },
          "geo": {
           "bgcolor": "white",
           "lakecolor": "white",
           "landcolor": "#E5ECF6",
           "showlakes": true,
           "showland": true,
           "subunitcolor": "white"
          },
          "hoverlabel": {
           "align": "left"
          },
          "hovermode": "closest",
          "mapbox": {
           "style": "light"
          },
          "paper_bgcolor": "white",
          "plot_bgcolor": "#E5ECF6",
          "polar": {
           "angularaxis": {
            "gridcolor": "white",
            "linecolor": "white",
            "ticks": ""
           },
           "bgcolor": "#E5ECF6",
           "radialaxis": {
            "gridcolor": "white",
            "linecolor": "white",
            "ticks": ""
           }
          },
          "scene": {
           "xaxis": {
            "backgroundcolor": "#E5ECF6",
            "gridcolor": "white",
            "gridwidth": 2,
            "linecolor": "white",
            "showbackground": true,
            "ticks": "",
            "zerolinecolor": "white"
           },
           "yaxis": {
            "backgroundcolor": "#E5ECF6",
            "gridcolor": "white",
            "gridwidth": 2,
            "linecolor": "white",
            "showbackground": true,
            "ticks": "",
            "zerolinecolor": "white"
           },
           "zaxis": {
            "backgroundcolor": "#E5ECF6",
            "gridcolor": "white",
            "gridwidth": 2,
            "linecolor": "white",
            "showbackground": true,
            "ticks": "",
            "zerolinecolor": "white"
           }
          },
          "shapedefaults": {
           "line": {
            "color": "#2a3f5f"
           }
          },
          "ternary": {
           "aaxis": {
            "gridcolor": "white",
            "linecolor": "white",
            "ticks": ""
           },
           "baxis": {
            "gridcolor": "white",
            "linecolor": "white",
            "ticks": ""
           },
           "bgcolor": "#E5ECF6",
           "caxis": {
            "gridcolor": "white",
            "linecolor": "white",
            "ticks": ""
           }
          },
          "title": {
           "x": 0.05
          },
          "xaxis": {
           "automargin": true,
           "gridcolor": "white",
           "linecolor": "white",
           "ticks": "",
           "title": {
            "standoff": 15
           },
           "zerolinecolor": "white",
           "zerolinewidth": 2
          },
          "yaxis": {
           "automargin": true,
           "gridcolor": "white",
           "linecolor": "white",
           "ticks": "",
           "title": {
            "standoff": 15
           },
           "zerolinecolor": "white",
           "zerolinewidth": 2
          }
         }
        },
        "title": {
         "font": {
          "color": "#4D5663"
         }
        },
        "xaxis": {
         "gridcolor": "#E1E5ED",
         "showgrid": true,
         "tickfont": {
          "color": "#4D5663"
         },
         "title": {
          "font": {
           "color": "#4D5663"
          },
          "text": ""
         },
         "zerolinecolor": "#E1E5ED"
        },
        "yaxis": {
         "gridcolor": "#E1E5ED",
         "showgrid": true,
         "tickfont": {
          "color": "#4D5663"
         },
         "title": {
          "font": {
           "color": "#4D5663"
          },
          "text": ""
         },
         "zerolinecolor": "#E1E5ED"
        }
       }
      },
      "text/html": [
       "<div>                            <div id=\"4e080006-58cb-4320-a529-ce132c049a49\" class=\"plotly-graph-div\" style=\"height:525px; width:100%;\"></div>            <script type=\"text/javascript\">                require([\"plotly\"], function(Plotly) {                    window.PLOTLYENV=window.PLOTLYENV || {};\n",
       "                    window.PLOTLYENV.BASE_URL='https://plot.ly';                                    if (document.getElementById(\"4e080006-58cb-4320-a529-ce132c049a49\")) {                    Plotly.newPlot(                        \"4e080006-58cb-4320-a529-ce132c049a49\",                        [{\"marker\":{\"color\":\"rgba(255, 153, 51, 0.6)\",\"line\":{\"color\":\"rgba(255, 153, 51, 1.0)\",\"width\":1}},\"name\":\"None\",\"orientation\":\"v\",\"text\":\"\",\"x\":[\"A\",\"B\",\"C\",\"D\"],\"y\":[100,100,100,100],\"type\":\"bar\"}],                        {\"legend\":{\"bgcolor\":\"#F5F6F9\",\"font\":{\"color\":\"#4D5663\"}},\"paper_bgcolor\":\"#F5F6F9\",\"plot_bgcolor\":\"#F5F6F9\",\"template\":{\"data\":{\"barpolar\":[{\"marker\":{\"line\":{\"color\":\"#E5ECF6\",\"width\":0.5},\"pattern\":{\"fillmode\":\"overlay\",\"size\":10,\"solidity\":0.2}},\"type\":\"barpolar\"}],\"bar\":[{\"error_x\":{\"color\":\"#2a3f5f\"},\"error_y\":{\"color\":\"#2a3f5f\"},\"marker\":{\"line\":{\"color\":\"#E5ECF6\",\"width\":0.5},\"pattern\":{\"fillmode\":\"overlay\",\"size\":10,\"solidity\":0.2}},\"type\":\"bar\"}],\"carpet\":[{\"aaxis\":{\"endlinecolor\":\"#2a3f5f\",\"gridcolor\":\"white\",\"linecolor\":\"white\",\"minorgridcolor\":\"white\",\"startlinecolor\":\"#2a3f5f\"},\"baxis\":{\"endlinecolor\":\"#2a3f5f\",\"gridcolor\":\"white\",\"linecolor\":\"white\",\"minorgridcolor\":\"white\",\"startlinecolor\":\"#2a3f5f\"},\"type\":\"carpet\"}],\"choropleth\":[{\"colorbar\":{\"outlinewidth\":0,\"ticks\":\"\"},\"type\":\"choropleth\"}],\"contourcarpet\":[{\"colorbar\":{\"outlinewidth\":0,\"ticks\":\"\"},\"type\":\"contourcarpet\"}],\"contour\":[{\"colorbar\":{\"outlinewidth\":0,\"ticks\":\"\"},\"colorscale\":[[0.0,\"#0d0887\"],[0.1111111111111111,\"#46039f\"],[0.2222222222222222,\"#7201a8\"],[0.3333333333333333,\"#9c179e\"],[0.4444444444444444,\"#bd3786\"],[0.5555555555555556,\"#d8576b\"],[0.6666666666666666,\"#ed7953\"],[0.7777777777777778,\"#fb9f3a\"],[0.8888888888888888,\"#fdca26\"],[1.0,\"#f0f921\"]],\"type\":\"contour\"}],\"heatmapgl\":[{\"colorbar\":{\"outlinewidth\":0,\"ticks\":\"\"},\"colorscale\":[[0.0,\"#0d0887\"],[0.1111111111111111,\"#46039f\"],[0.2222222222222222,\"#7201a8\"],[0.3333333333333333,\"#9c179e\"],[0.4444444444444444,\"#bd3786\"],[0.5555555555555556,\"#d8576b\"],[0.6666666666666666,\"#ed7953\"],[0.7777777777777778,\"#fb9f3a\"],[0.8888888888888888,\"#fdca26\"],[1.0,\"#f0f921\"]],\"type\":\"heatmapgl\"}],\"heatmap\":[{\"colorbar\":{\"outlinewidth\":0,\"ticks\":\"\"},\"colorscale\":[[0.0,\"#0d0887\"],[0.1111111111111111,\"#46039f\"],[0.2222222222222222,\"#7201a8\"],[0.3333333333333333,\"#9c179e\"],[0.4444444444444444,\"#bd3786\"],[0.5555555555555556,\"#d8576b\"],[0.6666666666666666,\"#ed7953\"],[0.7777777777777778,\"#fb9f3a\"],[0.8888888888888888,\"#fdca26\"],[1.0,\"#f0f921\"]],\"type\":\"heatmap\"}],\"histogram2dcontour\":[{\"colorbar\":{\"outlinewidth\":0,\"ticks\":\"\"},\"colorscale\":[[0.0,\"#0d0887\"],[0.1111111111111111,\"#46039f\"],[0.2222222222222222,\"#7201a8\"],[0.3333333333333333,\"#9c179e\"],[0.4444444444444444,\"#bd3786\"],[0.5555555555555556,\"#d8576b\"],[0.6666666666666666,\"#ed7953\"],[0.7777777777777778,\"#fb9f3a\"],[0.8888888888888888,\"#fdca26\"],[1.0,\"#f0f921\"]],\"type\":\"histogram2dcontour\"}],\"histogram2d\":[{\"colorbar\":{\"outlinewidth\":0,\"ticks\":\"\"},\"colorscale\":[[0.0,\"#0d0887\"],[0.1111111111111111,\"#46039f\"],[0.2222222222222222,\"#7201a8\"],[0.3333333333333333,\"#9c179e\"],[0.4444444444444444,\"#bd3786\"],[0.5555555555555556,\"#d8576b\"],[0.6666666666666666,\"#ed7953\"],[0.7777777777777778,\"#fb9f3a\"],[0.8888888888888888,\"#fdca26\"],[1.0,\"#f0f921\"]],\"type\":\"histogram2d\"}],\"histogram\":[{\"marker\":{\"pattern\":{\"fillmode\":\"overlay\",\"size\":10,\"solidity\":0.2}},\"type\":\"histogram\"}],\"mesh3d\":[{\"colorbar\":{\"outlinewidth\":0,\"ticks\":\"\"},\"type\":\"mesh3d\"}],\"parcoords\":[{\"line\":{\"colorbar\":{\"outlinewidth\":0,\"ticks\":\"\"}},\"type\":\"parcoords\"}],\"pie\":[{\"automargin\":true,\"type\":\"pie\"}],\"scatter3d\":[{\"line\":{\"colorbar\":{\"outlinewidth\":0,\"ticks\":\"\"}},\"marker\":{\"colorbar\":{\"outlinewidth\":0,\"ticks\":\"\"}},\"type\":\"scatter3d\"}],\"scattercarpet\":[{\"marker\":{\"colorbar\":{\"outlinewidth\":0,\"ticks\":\"\"}},\"type\":\"scattercarpet\"}],\"scattergeo\":[{\"marker\":{\"colorbar\":{\"outlinewidth\":0,\"ticks\":\"\"}},\"type\":\"scattergeo\"}],\"scattergl\":[{\"marker\":{\"colorbar\":{\"outlinewidth\":0,\"ticks\":\"\"}},\"type\":\"scattergl\"}],\"scattermapbox\":[{\"marker\":{\"colorbar\":{\"outlinewidth\":0,\"ticks\":\"\"}},\"type\":\"scattermapbox\"}],\"scatterpolargl\":[{\"marker\":{\"colorbar\":{\"outlinewidth\":0,\"ticks\":\"\"}},\"type\":\"scatterpolargl\"}],\"scatterpolar\":[{\"marker\":{\"colorbar\":{\"outlinewidth\":0,\"ticks\":\"\"}},\"type\":\"scatterpolar\"}],\"scatter\":[{\"fillpattern\":{\"fillmode\":\"overlay\",\"size\":10,\"solidity\":0.2},\"type\":\"scatter\"}],\"scatterternary\":[{\"marker\":{\"colorbar\":{\"outlinewidth\":0,\"ticks\":\"\"}},\"type\":\"scatterternary\"}],\"surface\":[{\"colorbar\":{\"outlinewidth\":0,\"ticks\":\"\"},\"colorscale\":[[0.0,\"#0d0887\"],[0.1111111111111111,\"#46039f\"],[0.2222222222222222,\"#7201a8\"],[0.3333333333333333,\"#9c179e\"],[0.4444444444444444,\"#bd3786\"],[0.5555555555555556,\"#d8576b\"],[0.6666666666666666,\"#ed7953\"],[0.7777777777777778,\"#fb9f3a\"],[0.8888888888888888,\"#fdca26\"],[1.0,\"#f0f921\"]],\"type\":\"surface\"}],\"table\":[{\"cells\":{\"fill\":{\"color\":\"#EBF0F8\"},\"line\":{\"color\":\"white\"}},\"header\":{\"fill\":{\"color\":\"#C8D4E3\"},\"line\":{\"color\":\"white\"}},\"type\":\"table\"}]},\"layout\":{\"annotationdefaults\":{\"arrowcolor\":\"#2a3f5f\",\"arrowhead\":0,\"arrowwidth\":1},\"autotypenumbers\":\"strict\",\"coloraxis\":{\"colorbar\":{\"outlinewidth\":0,\"ticks\":\"\"}},\"colorscale\":{\"diverging\":[[0,\"#8e0152\"],[0.1,\"#c51b7d\"],[0.2,\"#de77ae\"],[0.3,\"#f1b6da\"],[0.4,\"#fde0ef\"],[0.5,\"#f7f7f7\"],[0.6,\"#e6f5d0\"],[0.7,\"#b8e186\"],[0.8,\"#7fbc41\"],[0.9,\"#4d9221\"],[1,\"#276419\"]],\"sequential\":[[0.0,\"#0d0887\"],[0.1111111111111111,\"#46039f\"],[0.2222222222222222,\"#7201a8\"],[0.3333333333333333,\"#9c179e\"],[0.4444444444444444,\"#bd3786\"],[0.5555555555555556,\"#d8576b\"],[0.6666666666666666,\"#ed7953\"],[0.7777777777777778,\"#fb9f3a\"],[0.8888888888888888,\"#fdca26\"],[1.0,\"#f0f921\"]],\"sequentialminus\":[[0.0,\"#0d0887\"],[0.1111111111111111,\"#46039f\"],[0.2222222222222222,\"#7201a8\"],[0.3333333333333333,\"#9c179e\"],[0.4444444444444444,\"#bd3786\"],[0.5555555555555556,\"#d8576b\"],[0.6666666666666666,\"#ed7953\"],[0.7777777777777778,\"#fb9f3a\"],[0.8888888888888888,\"#fdca26\"],[1.0,\"#f0f921\"]]},\"colorway\":[\"#636efa\",\"#EF553B\",\"#00cc96\",\"#ab63fa\",\"#FFA15A\",\"#19d3f3\",\"#FF6692\",\"#B6E880\",\"#FF97FF\",\"#FECB52\"],\"font\":{\"color\":\"#2a3f5f\"},\"geo\":{\"bgcolor\":\"white\",\"lakecolor\":\"white\",\"landcolor\":\"#E5ECF6\",\"showlakes\":true,\"showland\":true,\"subunitcolor\":\"white\"},\"hoverlabel\":{\"align\":\"left\"},\"hovermode\":\"closest\",\"mapbox\":{\"style\":\"light\"},\"paper_bgcolor\":\"white\",\"plot_bgcolor\":\"#E5ECF6\",\"polar\":{\"angularaxis\":{\"gridcolor\":\"white\",\"linecolor\":\"white\",\"ticks\":\"\"},\"bgcolor\":\"#E5ECF6\",\"radialaxis\":{\"gridcolor\":\"white\",\"linecolor\":\"white\",\"ticks\":\"\"}},\"scene\":{\"xaxis\":{\"backgroundcolor\":\"#E5ECF6\",\"gridcolor\":\"white\",\"gridwidth\":2,\"linecolor\":\"white\",\"showbackground\":true,\"ticks\":\"\",\"zerolinecolor\":\"white\"},\"yaxis\":{\"backgroundcolor\":\"#E5ECF6\",\"gridcolor\":\"white\",\"gridwidth\":2,\"linecolor\":\"white\",\"showbackground\":true,\"ticks\":\"\",\"zerolinecolor\":\"white\"},\"zaxis\":{\"backgroundcolor\":\"#E5ECF6\",\"gridcolor\":\"white\",\"gridwidth\":2,\"linecolor\":\"white\",\"showbackground\":true,\"ticks\":\"\",\"zerolinecolor\":\"white\"}},\"shapedefaults\":{\"line\":{\"color\":\"#2a3f5f\"}},\"ternary\":{\"aaxis\":{\"gridcolor\":\"white\",\"linecolor\":\"white\",\"ticks\":\"\"},\"baxis\":{\"gridcolor\":\"white\",\"linecolor\":\"white\",\"ticks\":\"\"},\"bgcolor\":\"#E5ECF6\",\"caxis\":{\"gridcolor\":\"white\",\"linecolor\":\"white\",\"ticks\":\"\"}},\"title\":{\"x\":0.05},\"xaxis\":{\"automargin\":true,\"gridcolor\":\"white\",\"linecolor\":\"white\",\"ticks\":\"\",\"title\":{\"standoff\":15},\"zerolinecolor\":\"white\",\"zerolinewidth\":2},\"yaxis\":{\"automargin\":true,\"gridcolor\":\"white\",\"linecolor\":\"white\",\"ticks\":\"\",\"title\":{\"standoff\":15},\"zerolinecolor\":\"white\",\"zerolinewidth\":2}}},\"title\":{\"font\":{\"color\":\"#4D5663\"}},\"xaxis\":{\"gridcolor\":\"#E1E5ED\",\"showgrid\":true,\"tickfont\":{\"color\":\"#4D5663\"},\"title\":{\"font\":{\"color\":\"#4D5663\"},\"text\":\"\"},\"zerolinecolor\":\"#E1E5ED\"},\"yaxis\":{\"gridcolor\":\"#E1E5ED\",\"showgrid\":true,\"tickfont\":{\"color\":\"#4D5663\"},\"title\":{\"font\":{\"color\":\"#4D5663\"},\"text\":\"\"},\"zerolinecolor\":\"#E1E5ED\"}},                        {\"showLink\": true, \"linkText\": \"Export to plot.ly\", \"plotlyServerURL\": \"https://plot.ly\", \"responsive\": true}                    ).then(function(){\n",
       "                            \n",
       "var gd = document.getElementById('4e080006-58cb-4320-a529-ce132c049a49');\n",
       "var x = new MutationObserver(function (mutations, observer) {{\n",
       "        var display = window.getComputedStyle(gd).display;\n",
       "        if (!display || display === 'none') {{\n",
       "            console.log([gd, 'removed!']);\n",
       "            Plotly.purge(gd);\n",
       "            observer.disconnect();\n",
       "        }}\n",
       "}});\n",
       "\n",
       "// Listen for the removal of the full notebook cells\n",
       "var notebookContainer = gd.closest('#notebook-container');\n",
       "if (notebookContainer) {{\n",
       "    x.observe(notebookContainer, {childList: true});\n",
       "}}\n",
       "\n",
       "// Listen for the clearing of the current output cell\n",
       "var outputEl = gd.closest('.output');\n",
       "if (outputEl) {{\n",
       "    x.observe(outputEl, {childList: true});\n",
       "}}\n",
       "\n",
       "                        })                };                });            </script>        </div>"
      ]
     },
     "metadata": {},
     "output_type": "display_data"
    }
   ],
   "source": [
    "df.count().iplot(kind='bar')"
   ]
  },
  {
   "cell_type": "markdown",
   "metadata": {},
   "source": [
    "## Boxplots"
   ]
  },
  {
   "cell_type": "code",
   "execution_count": 23,
   "metadata": {},
   "outputs": [
    {
     "data": {
      "application/vnd.plotly.v1+json": {
       "config": {
        "linkText": "Export to plot.ly",
        "plotlyServerURL": "https://plot.ly",
        "showLink": true
       },
       "data": [
        {
         "boxpoints": false,
         "line": {
          "width": 1.3
         },
         "marker": {
          "color": "rgba(255, 153, 51, 1.0)"
         },
         "name": "A",
         "orientation": "v",
         "type": "box",
         "y": [
          0.006313458985566085,
          0.0012147700438570593,
          -0.6151467796336,
          1.0191844884189065,
          -0.7495075739982601,
          -1.7985950729458002,
          0.15382533456183314,
          -0.5576872225427343,
          1.5593605186079846,
          1.700355672186201,
          -0.15236553270416087,
          0.39044094019462977,
          -0.5614557622261617,
          -1.2696193560262417,
          -0.024520044223959203,
          -0.7171428227047335,
          0.11381698115296884,
          -2.3261206919345363,
          0.37015277327553536,
          0.15583532903095587,
          -1.2289328448668377,
          -1.083066067855664,
          0.43971959185345716,
          -0.7927303406405242,
          -0.1343156933997293,
          -0.8773137644384209,
          1.1451110216332794,
          0.5148688588470663,
          0.2927029823951949,
          -0.5276160993217199,
          -1.9680202396163418,
          1.423501113042431,
          -0.6849596430392447,
          -0.8202548551107004,
          -0.6735148911527414,
          -0.48979918801619104,
          -0.8624553398219791,
          1.8265135614284778,
          -0.2573459544937043,
          0.742995129008227,
          1.9526700344421826,
          0.6072118968741738,
          -0.7096512406808968,
          -0.6679025965317548,
          0.1279081223835325,
          -0.2968413355288964,
          -0.24486047797910396,
          0.5028527245782749,
          0.500912850020907,
          0.35325225579994163,
          0.2425350082798535,
          -1.305708258896684,
          0.9755905559759886,
          -1.9066415540089885,
          0.9768170167359869,
          -0.4580723212715815,
          0.3188514544784727,
          -1.6537571945436216,
          -0.43125541197684153,
          0.6899089422409604,
          -1.4602949425078555,
          0.4624248034322284,
          0.17136443767218074,
          -0.012314317526127971,
          -2.075444122527348,
          0.42373853888266483,
          -0.06270018226508774,
          1.2801916313906705,
          -1.0247063360598394,
          -1.4952047036511662,
          1.073206362530888,
          0.4028356975025304,
          -2.142756034751585,
          0.6002350853929834,
          -0.39252221922456687,
          -1.234405269404836,
          -0.2789229501294982,
          -0.8258086758280934,
          1.3921878833189631,
          1.0334748315732492,
          -0.8694162529243042,
          1.5477307549981343,
          -0.7613614508447585,
          -1.725484243216102,
          -1.1268035087945925,
          -0.9821095582676026,
          -0.32546867991121364,
          -1.3547609163644982,
          0.39714940804709403,
          0.6050115429246586,
          1.708350505079218,
          0.17490611370248854,
          -1.5460620152456577,
          0.14372336528774488,
          -1.688811399942993,
          1.1805370742648729,
          -0.9961943586712984,
          -0.5222634876340545,
          -0.07165412061967047,
          0.9033111362618372
         ]
        },
        {
         "boxpoints": false,
         "line": {
          "width": 1.3
         },
         "marker": {
          "color": "rgba(55, 128, 191, 1.0)"
         },
         "name": "B",
         "orientation": "v",
         "type": "box",
         "y": [
          -0.8412830663608024,
          -0.14196404629860912,
          0.27189831213699345,
          -0.2286524915931357,
          -0.39740436970062476,
          0.8644404600468678,
          -2.425802709190879,
          -1.7570122474421928,
          -2.756010446751949,
          -0.8764100419623471,
          -0.5927093442184735,
          1.4131976516655804,
          0.9245287480106964,
          2.0385499547616743,
          0.18604640376218076,
          0.8795053970341459,
          1.452057912626229,
          -1.188265586802459,
          2.008125648195428,
          -1.89579976034055,
          -1.2142197546565268,
          0.585650048759407,
          0.1901297815215674,
          -0.28036571517991926,
          0.7435936627241457,
          -0.761465548738385,
          0.17272991435645543,
          0.6126370351770036,
          -0.6409745361014046,
          -1.2054505656390866,
          -0.5648212045818725,
          0.7586668028849586,
          -0.18694328490507595,
          -0.5246822943419557,
          0.1716824260239397,
          0.17281947072116297,
          0.9631735363229377,
          0.8573319073279776,
          2.7391337276103735,
          -0.8660589753505328,
          0.40759489166899276,
          -1.5249603091551445,
          -0.28412393855610363,
          1.3388176264294898,
          -0.7778806023887083,
          -1.002215354287591,
          -0.1309132593210741,
          1.0292025215239082,
          1.576109421092655,
          -2.7680691813938103,
          -1.1696015241546815,
          1.992857739976901,
          -0.3985444234746542,
          -0.7287240263019391,
          0.3778165333549547,
          -0.0028173576769728198,
          1.8365856724591496,
          -1.5811511724464855,
          0.14112966733498775,
          1.5226834789704895,
          -0.052630123298235944,
          0.5750266371763989,
          -0.3542992607317481,
          -1.2620214165498946,
          0.41219245488560224,
          1.5354942624235504,
          -0.4274499333810216,
          1.2622373437633672,
          -1.8754492230043058,
          -0.927983492576622,
          0.19482460729553538,
          -0.8839697047504629,
          0.16761091698702862,
          0.5480793234412067,
          -1.2069205358509782,
          1.8565012697440908,
          0.6414081528241,
          -1.8010467818833373,
          0.3081920656655891,
          0.46299664031639937,
          -0.861793356479736,
          1.9503678079314708,
          1.4349893470965174,
          2.7521414181104786,
          0.27344301616024774,
          0.3291002461450558,
          0.09630194977242912,
          0.8097744936659635,
          1.6929246110017406,
          -0.7259746620175114,
          1.0629019525856112,
          0.9751581738927138,
          -0.5179265464739529,
          0.040939684187299555,
          -0.8685496090915273,
          -1.0209998546636763,
          0.11565711451344551,
          -1.2954962527022302,
          -0.4122724614406656,
          1.4156544391757833
         ]
        },
        {
         "boxpoints": false,
         "line": {
          "width": 1.3
         },
         "marker": {
          "color": "rgba(50, 171, 96, 1.0)"
         },
         "name": "C",
         "orientation": "v",
         "type": "box",
         "y": [
          1.707038369955218,
          -1.1944580737362835,
          -0.3136450740008115,
          0.2145991268093264,
          -0.9136438753341855,
          0.10369918491718025,
          -0.34797346452177425,
          0.2931993700438992,
          -1.3168978180347461,
          0.8525859596815066,
          0.04664310493548644,
          -1.447247889353405,
          0.1636020305458358,
          -1.591836239247566,
          1.0045744941911439,
          0.06028804643827226,
          0.9136021142320738,
          0.643803690773452,
          -1.706701318582883,
          0.16788001195365332,
          -1.2102351369194388,
          0.68544736419801,
          -0.9902964461625677,
          0.13646269319220988,
          -1.1181091811635246,
          0.009424042068484103,
          0.0663008152019507,
          0.44480053985991724,
          -0.4102929349209481,
          -0.7521844409870982,
          0.8859100605181857,
          -0.44230668477616253,
          0.07143087988818725,
          -0.11818324764768713,
          -0.008887481604480675,
          0.5037677777458722,
          0.643393957017346,
          -2.4920271022035507,
          0.5027870806058774,
          -0.5226700936142273,
          0.8991088107393138,
          -0.5865382063643537,
          -1.2100225882296463,
          -2.0599730683130426,
          1.1407855337171038,
          -1.8278335859696653,
          -1.1315893334163514,
          1.7300379832856623,
          0.040205230582391255,
          -2.0034074915790203,
          -0.10145949669672309,
          0.848608688651032,
          -0.8691583066905473,
          2.0033985279967883,
          0.0851170254886317,
          -0.2904207414606158,
          0.17208553749715433,
          2.44471233610033,
          -0.23992922785879967,
          -1.7729546900537438,
          -0.12794431347066698,
          -1.901225632404973,
          0.6150412483712875,
          -0.37647678752738106,
          -1.2549690324935654,
          0.14600133680676602,
          2.045111179712386,
          -0.3206270988118269,
          -1.9645429528400156,
          0.4218885182419636,
          -0.9058415705220113,
          -0.7146327495082909,
          1.6732647430053853,
          -0.25376094932641113,
          1.1077210607854393,
          -2.2348018707267387,
          -1.5284287741776723,
          0.6857390240565828,
          -0.6159464127175284,
          0.42395104469825345,
          -0.9813622772392521,
          -0.5879224292738445,
          -1.1089986852534996,
          -1.8528229213545215,
          -2.0094081846917806,
          -0.5050947765715991,
          0.10201531701510447,
          -0.7494957103998997,
          -0.7703489007647258,
          2.2320325236689778,
          -0.718181159562157,
          -1.2212834198258062,
          1.011635218848077,
          -0.0915258676566311,
          0.2816285201940886,
          -0.24823373505413232,
          -0.5573516672305696,
          -0.9670935284612214,
          1.8541025385189311,
          0.5533686207986326
         ]
        },
        {
         "boxpoints": false,
         "line": {
          "width": 1.3
         },
         "marker": {
          "color": "rgba(128, 0, 128, 1.0)"
         },
         "name": "D",
         "orientation": "v",
         "type": "box",
         "y": [
          -1.1566040113793468,
          -0.17719658245203096,
          -0.22001559015856784,
          0.11411098999208485,
          0.7553989288850536,
          0.12941845110221267,
          -0.36924365470844217,
          -0.14042689305053832,
          -0.012184061722167346,
          0.7042196554924196,
          -0.5662661963116242,
          0.15106440103188395,
          0.641305254040354,
          -0.23778419338816745,
          1.0500064121808312,
          0.09771224700308351,
          -0.12007618116411842,
          1.4548453265406098,
          0.44671979914733273,
          0.5614144324972279,
          -0.269772452550473,
          -0.3710736420653342,
          -0.6193737860923557,
          -1.065182270268602,
          -0.6847264633276577,
          -1.6546652369080077,
          0.6797487563279534,
          0.6254806440170384,
          -0.09838986976948408,
          1.2817762669256858,
          -0.9034144902333571,
          -0.5006004902721884,
          0.36017763237260625,
          0.5143844849170333,
          -0.6706699097670474,
          -0.6412929559548977,
          0.09063385538101404,
          -0.5236930476306975,
          1.8373709002421237,
          -0.9164347799040972,
          0.9078149208194355,
          0.8933490494414992,
          -0.24386080214957928,
          -0.6341855149084185,
          -0.17792444181528683,
          -0.7213043851450351,
          -1.272780709979072,
          -2.2368011142749094,
          1.03495335124129,
          1.1324603953374288,
          1.5464457098508517,
          -0.63316370440996,
          -0.721822579211477,
          0.8053022998144862,
          -1.2039717822788483,
          -0.7820784400482695,
          0.4917718016946589,
          0.1969561797343989,
          0.13076606941164398,
          0.6563196359301695,
          0.58745657446414,
          -0.7596066092973845,
          -0.7548933304243536,
          -0.11788818861872609,
          -1.2146363857500575,
          2.747670713159326,
          0.752562068564129,
          -0.4804806714288889,
          0.21126788468690336,
          0.997253668738476,
          -0.7631958603755667,
          -0.5359127902590382,
          0.20824787033686898,
          -0.717246832675506,
          -0.2704811941324191,
          1.5409848149890162,
          -0.08860051777682035,
          -1.5701951110734906,
          0.38492688012542037,
          0.250437571864057,
          -0.1924178082239149,
          -0.909397026361852,
          2.1080919404464193,
          -0.1969263787544274,
          0.3005110032183098,
          -2.1388546730874096,
          0.4999877202623662,
          -0.6704850315393515,
          0.4453707423338972,
          1.0209096583741655,
          -0.7143087467589033,
          -0.02044574552658848,
          0.943818778938937,
          -1.161447593273323,
          -0.2205237370152114,
          0.963946907469839,
          0.9154216136153533,
          -0.3955067497927909,
          -0.32918157709622836,
          0.7696258434241922
         ]
        }
       ],
       "layout": {
        "legend": {
         "bgcolor": "#F5F6F9",
         "font": {
          "color": "#4D5663"
         }
        },
        "paper_bgcolor": "#F5F6F9",
        "plot_bgcolor": "#F5F6F9",
        "template": {
         "data": {
          "bar": [
           {
            "error_x": {
             "color": "#2a3f5f"
            },
            "error_y": {
             "color": "#2a3f5f"
            },
            "marker": {
             "line": {
              "color": "#E5ECF6",
              "width": 0.5
             },
             "pattern": {
              "fillmode": "overlay",
              "size": 10,
              "solidity": 0.2
             }
            },
            "type": "bar"
           }
          ],
          "barpolar": [
           {
            "marker": {
             "line": {
              "color": "#E5ECF6",
              "width": 0.5
             },
             "pattern": {
              "fillmode": "overlay",
              "size": 10,
              "solidity": 0.2
             }
            },
            "type": "barpolar"
           }
          ],
          "carpet": [
           {
            "aaxis": {
             "endlinecolor": "#2a3f5f",
             "gridcolor": "white",
             "linecolor": "white",
             "minorgridcolor": "white",
             "startlinecolor": "#2a3f5f"
            },
            "baxis": {
             "endlinecolor": "#2a3f5f",
             "gridcolor": "white",
             "linecolor": "white",
             "minorgridcolor": "white",
             "startlinecolor": "#2a3f5f"
            },
            "type": "carpet"
           }
          ],
          "choropleth": [
           {
            "colorbar": {
             "outlinewidth": 0,
             "ticks": ""
            },
            "type": "choropleth"
           }
          ],
          "contour": [
           {
            "colorbar": {
             "outlinewidth": 0,
             "ticks": ""
            },
            "colorscale": [
             [
              0,
              "#0d0887"
             ],
             [
              0.1111111111111111,
              "#46039f"
             ],
             [
              0.2222222222222222,
              "#7201a8"
             ],
             [
              0.3333333333333333,
              "#9c179e"
             ],
             [
              0.4444444444444444,
              "#bd3786"
             ],
             [
              0.5555555555555556,
              "#d8576b"
             ],
             [
              0.6666666666666666,
              "#ed7953"
             ],
             [
              0.7777777777777778,
              "#fb9f3a"
             ],
             [
              0.8888888888888888,
              "#fdca26"
             ],
             [
              1,
              "#f0f921"
             ]
            ],
            "type": "contour"
           }
          ],
          "contourcarpet": [
           {
            "colorbar": {
             "outlinewidth": 0,
             "ticks": ""
            },
            "type": "contourcarpet"
           }
          ],
          "heatmap": [
           {
            "colorbar": {
             "outlinewidth": 0,
             "ticks": ""
            },
            "colorscale": [
             [
              0,
              "#0d0887"
             ],
             [
              0.1111111111111111,
              "#46039f"
             ],
             [
              0.2222222222222222,
              "#7201a8"
             ],
             [
              0.3333333333333333,
              "#9c179e"
             ],
             [
              0.4444444444444444,
              "#bd3786"
             ],
             [
              0.5555555555555556,
              "#d8576b"
             ],
             [
              0.6666666666666666,
              "#ed7953"
             ],
             [
              0.7777777777777778,
              "#fb9f3a"
             ],
             [
              0.8888888888888888,
              "#fdca26"
             ],
             [
              1,
              "#f0f921"
             ]
            ],
            "type": "heatmap"
           }
          ],
          "heatmapgl": [
           {
            "colorbar": {
             "outlinewidth": 0,
             "ticks": ""
            },
            "colorscale": [
             [
              0,
              "#0d0887"
             ],
             [
              0.1111111111111111,
              "#46039f"
             ],
             [
              0.2222222222222222,
              "#7201a8"
             ],
             [
              0.3333333333333333,
              "#9c179e"
             ],
             [
              0.4444444444444444,
              "#bd3786"
             ],
             [
              0.5555555555555556,
              "#d8576b"
             ],
             [
              0.6666666666666666,
              "#ed7953"
             ],
             [
              0.7777777777777778,
              "#fb9f3a"
             ],
             [
              0.8888888888888888,
              "#fdca26"
             ],
             [
              1,
              "#f0f921"
             ]
            ],
            "type": "heatmapgl"
           }
          ],
          "histogram": [
           {
            "marker": {
             "pattern": {
              "fillmode": "overlay",
              "size": 10,
              "solidity": 0.2
             }
            },
            "type": "histogram"
           }
          ],
          "histogram2d": [
           {
            "colorbar": {
             "outlinewidth": 0,
             "ticks": ""
            },
            "colorscale": [
             [
              0,
              "#0d0887"
             ],
             [
              0.1111111111111111,
              "#46039f"
             ],
             [
              0.2222222222222222,
              "#7201a8"
             ],
             [
              0.3333333333333333,
              "#9c179e"
             ],
             [
              0.4444444444444444,
              "#bd3786"
             ],
             [
              0.5555555555555556,
              "#d8576b"
             ],
             [
              0.6666666666666666,
              "#ed7953"
             ],
             [
              0.7777777777777778,
              "#fb9f3a"
             ],
             [
              0.8888888888888888,
              "#fdca26"
             ],
             [
              1,
              "#f0f921"
             ]
            ],
            "type": "histogram2d"
           }
          ],
          "histogram2dcontour": [
           {
            "colorbar": {
             "outlinewidth": 0,
             "ticks": ""
            },
            "colorscale": [
             [
              0,
              "#0d0887"
             ],
             [
              0.1111111111111111,
              "#46039f"
             ],
             [
              0.2222222222222222,
              "#7201a8"
             ],
             [
              0.3333333333333333,
              "#9c179e"
             ],
             [
              0.4444444444444444,
              "#bd3786"
             ],
             [
              0.5555555555555556,
              "#d8576b"
             ],
             [
              0.6666666666666666,
              "#ed7953"
             ],
             [
              0.7777777777777778,
              "#fb9f3a"
             ],
             [
              0.8888888888888888,
              "#fdca26"
             ],
             [
              1,
              "#f0f921"
             ]
            ],
            "type": "histogram2dcontour"
           }
          ],
          "mesh3d": [
           {
            "colorbar": {
             "outlinewidth": 0,
             "ticks": ""
            },
            "type": "mesh3d"
           }
          ],
          "parcoords": [
           {
            "line": {
             "colorbar": {
              "outlinewidth": 0,
              "ticks": ""
             }
            },
            "type": "parcoords"
           }
          ],
          "pie": [
           {
            "automargin": true,
            "type": "pie"
           }
          ],
          "scatter": [
           {
            "fillpattern": {
             "fillmode": "overlay",
             "size": 10,
             "solidity": 0.2
            },
            "type": "scatter"
           }
          ],
          "scatter3d": [
           {
            "line": {
             "colorbar": {
              "outlinewidth": 0,
              "ticks": ""
             }
            },
            "marker": {
             "colorbar": {
              "outlinewidth": 0,
              "ticks": ""
             }
            },
            "type": "scatter3d"
           }
          ],
          "scattercarpet": [
           {
            "marker": {
             "colorbar": {
              "outlinewidth": 0,
              "ticks": ""
             }
            },
            "type": "scattercarpet"
           }
          ],
          "scattergeo": [
           {
            "marker": {
             "colorbar": {
              "outlinewidth": 0,
              "ticks": ""
             }
            },
            "type": "scattergeo"
           }
          ],
          "scattergl": [
           {
            "marker": {
             "colorbar": {
              "outlinewidth": 0,
              "ticks": ""
             }
            },
            "type": "scattergl"
           }
          ],
          "scattermapbox": [
           {
            "marker": {
             "colorbar": {
              "outlinewidth": 0,
              "ticks": ""
             }
            },
            "type": "scattermapbox"
           }
          ],
          "scatterpolar": [
           {
            "marker": {
             "colorbar": {
              "outlinewidth": 0,
              "ticks": ""
             }
            },
            "type": "scatterpolar"
           }
          ],
          "scatterpolargl": [
           {
            "marker": {
             "colorbar": {
              "outlinewidth": 0,
              "ticks": ""
             }
            },
            "type": "scatterpolargl"
           }
          ],
          "scatterternary": [
           {
            "marker": {
             "colorbar": {
              "outlinewidth": 0,
              "ticks": ""
             }
            },
            "type": "scatterternary"
           }
          ],
          "surface": [
           {
            "colorbar": {
             "outlinewidth": 0,
             "ticks": ""
            },
            "colorscale": [
             [
              0,
              "#0d0887"
             ],
             [
              0.1111111111111111,
              "#46039f"
             ],
             [
              0.2222222222222222,
              "#7201a8"
             ],
             [
              0.3333333333333333,
              "#9c179e"
             ],
             [
              0.4444444444444444,
              "#bd3786"
             ],
             [
              0.5555555555555556,
              "#d8576b"
             ],
             [
              0.6666666666666666,
              "#ed7953"
             ],
             [
              0.7777777777777778,
              "#fb9f3a"
             ],
             [
              0.8888888888888888,
              "#fdca26"
             ],
             [
              1,
              "#f0f921"
             ]
            ],
            "type": "surface"
           }
          ],
          "table": [
           {
            "cells": {
             "fill": {
              "color": "#EBF0F8"
             },
             "line": {
              "color": "white"
             }
            },
            "header": {
             "fill": {
              "color": "#C8D4E3"
             },
             "line": {
              "color": "white"
             }
            },
            "type": "table"
           }
          ]
         },
         "layout": {
          "annotationdefaults": {
           "arrowcolor": "#2a3f5f",
           "arrowhead": 0,
           "arrowwidth": 1
          },
          "autotypenumbers": "strict",
          "coloraxis": {
           "colorbar": {
            "outlinewidth": 0,
            "ticks": ""
           }
          },
          "colorscale": {
           "diverging": [
            [
             0,
             "#8e0152"
            ],
            [
             0.1,
             "#c51b7d"
            ],
            [
             0.2,
             "#de77ae"
            ],
            [
             0.3,
             "#f1b6da"
            ],
            [
             0.4,
             "#fde0ef"
            ],
            [
             0.5,
             "#f7f7f7"
            ],
            [
             0.6,
             "#e6f5d0"
            ],
            [
             0.7,
             "#b8e186"
            ],
            [
             0.8,
             "#7fbc41"
            ],
            [
             0.9,
             "#4d9221"
            ],
            [
             1,
             "#276419"
            ]
           ],
           "sequential": [
            [
             0,
             "#0d0887"
            ],
            [
             0.1111111111111111,
             "#46039f"
            ],
            [
             0.2222222222222222,
             "#7201a8"
            ],
            [
             0.3333333333333333,
             "#9c179e"
            ],
            [
             0.4444444444444444,
             "#bd3786"
            ],
            [
             0.5555555555555556,
             "#d8576b"
            ],
            [
             0.6666666666666666,
             "#ed7953"
            ],
            [
             0.7777777777777778,
             "#fb9f3a"
            ],
            [
             0.8888888888888888,
             "#fdca26"
            ],
            [
             1,
             "#f0f921"
            ]
           ],
           "sequentialminus": [
            [
             0,
             "#0d0887"
            ],
            [
             0.1111111111111111,
             "#46039f"
            ],
            [
             0.2222222222222222,
             "#7201a8"
            ],
            [
             0.3333333333333333,
             "#9c179e"
            ],
            [
             0.4444444444444444,
             "#bd3786"
            ],
            [
             0.5555555555555556,
             "#d8576b"
            ],
            [
             0.6666666666666666,
             "#ed7953"
            ],
            [
             0.7777777777777778,
             "#fb9f3a"
            ],
            [
             0.8888888888888888,
             "#fdca26"
            ],
            [
             1,
             "#f0f921"
            ]
           ]
          },
          "colorway": [
           "#636efa",
           "#EF553B",
           "#00cc96",
           "#ab63fa",
           "#FFA15A",
           "#19d3f3",
           "#FF6692",
           "#B6E880",
           "#FF97FF",
           "#FECB52"
          ],
          "font": {
           "color": "#2a3f5f"
          },
          "geo": {
           "bgcolor": "white",
           "lakecolor": "white",
           "landcolor": "#E5ECF6",
           "showlakes": true,
           "showland": true,
           "subunitcolor": "white"
          },
          "hoverlabel": {
           "align": "left"
          },
          "hovermode": "closest",
          "mapbox": {
           "style": "light"
          },
          "paper_bgcolor": "white",
          "plot_bgcolor": "#E5ECF6",
          "polar": {
           "angularaxis": {
            "gridcolor": "white",
            "linecolor": "white",
            "ticks": ""
           },
           "bgcolor": "#E5ECF6",
           "radialaxis": {
            "gridcolor": "white",
            "linecolor": "white",
            "ticks": ""
           }
          },
          "scene": {
           "xaxis": {
            "backgroundcolor": "#E5ECF6",
            "gridcolor": "white",
            "gridwidth": 2,
            "linecolor": "white",
            "showbackground": true,
            "ticks": "",
            "zerolinecolor": "white"
           },
           "yaxis": {
            "backgroundcolor": "#E5ECF6",
            "gridcolor": "white",
            "gridwidth": 2,
            "linecolor": "white",
            "showbackground": true,
            "ticks": "",
            "zerolinecolor": "white"
           },
           "zaxis": {
            "backgroundcolor": "#E5ECF6",
            "gridcolor": "white",
            "gridwidth": 2,
            "linecolor": "white",
            "showbackground": true,
            "ticks": "",
            "zerolinecolor": "white"
           }
          },
          "shapedefaults": {
           "line": {
            "color": "#2a3f5f"
           }
          },
          "ternary": {
           "aaxis": {
            "gridcolor": "white",
            "linecolor": "white",
            "ticks": ""
           },
           "baxis": {
            "gridcolor": "white",
            "linecolor": "white",
            "ticks": ""
           },
           "bgcolor": "#E5ECF6",
           "caxis": {
            "gridcolor": "white",
            "linecolor": "white",
            "ticks": ""
           }
          },
          "title": {
           "x": 0.05
          },
          "xaxis": {
           "automargin": true,
           "gridcolor": "white",
           "linecolor": "white",
           "ticks": "",
           "title": {
            "standoff": 15
           },
           "zerolinecolor": "white",
           "zerolinewidth": 2
          },
          "yaxis": {
           "automargin": true,
           "gridcolor": "white",
           "linecolor": "white",
           "ticks": "",
           "title": {
            "standoff": 15
           },
           "zerolinecolor": "white",
           "zerolinewidth": 2
          }
         }
        },
        "title": {
         "font": {
          "color": "#4D5663"
         }
        },
        "xaxis": {
         "gridcolor": "#E1E5ED",
         "showgrid": true,
         "tickfont": {
          "color": "#4D5663"
         },
         "title": {
          "font": {
           "color": "#4D5663"
          },
          "text": ""
         },
         "zerolinecolor": "#E1E5ED"
        },
        "yaxis": {
         "gridcolor": "#E1E5ED",
         "showgrid": true,
         "tickfont": {
          "color": "#4D5663"
         },
         "title": {
          "font": {
           "color": "#4D5663"
          },
          "text": ""
         },
         "zerolinecolor": "#E1E5ED"
        }
       }
      },
      "text/html": [
       "<div>                            <div id=\"3a309a71-961d-4070-94ef-b908268536d0\" class=\"plotly-graph-div\" style=\"height:525px; width:100%;\"></div>            <script type=\"text/javascript\">                require([\"plotly\"], function(Plotly) {                    window.PLOTLYENV=window.PLOTLYENV || {};\n",
       "                    window.PLOTLYENV.BASE_URL='https://plot.ly';                                    if (document.getElementById(\"3a309a71-961d-4070-94ef-b908268536d0\")) {                    Plotly.newPlot(                        \"3a309a71-961d-4070-94ef-b908268536d0\",                        [{\"boxpoints\":false,\"line\":{\"width\":1.3},\"marker\":{\"color\":\"rgba(255, 153, 51, 1.0)\"},\"name\":\"A\",\"orientation\":\"v\",\"y\":[0.006313458985566085,0.0012147700438570593,-0.6151467796336,1.0191844884189065,-0.7495075739982601,-1.7985950729458002,0.15382533456183314,-0.5576872225427343,1.5593605186079846,1.700355672186201,-0.15236553270416087,0.39044094019462977,-0.5614557622261617,-1.2696193560262417,-0.024520044223959203,-0.7171428227047335,0.11381698115296884,-2.3261206919345363,0.37015277327553536,0.15583532903095587,-1.2289328448668377,-1.083066067855664,0.43971959185345716,-0.7927303406405242,-0.1343156933997293,-0.8773137644384209,1.1451110216332794,0.5148688588470663,0.2927029823951949,-0.5276160993217199,-1.9680202396163418,1.423501113042431,-0.6849596430392447,-0.8202548551107004,-0.6735148911527414,-0.48979918801619104,-0.8624553398219791,1.8265135614284778,-0.2573459544937043,0.742995129008227,1.9526700344421826,0.6072118968741738,-0.7096512406808968,-0.6679025965317548,0.1279081223835325,-0.2968413355288964,-0.24486047797910396,0.5028527245782749,0.500912850020907,0.35325225579994163,0.2425350082798535,-1.305708258896684,0.9755905559759886,-1.9066415540089885,0.9768170167359869,-0.4580723212715815,0.3188514544784727,-1.6537571945436216,-0.43125541197684153,0.6899089422409604,-1.4602949425078555,0.4624248034322284,0.17136443767218074,-0.012314317526127971,-2.075444122527348,0.42373853888266483,-0.06270018226508774,1.2801916313906705,-1.0247063360598394,-1.4952047036511662,1.073206362530888,0.4028356975025304,-2.142756034751585,0.6002350853929834,-0.39252221922456687,-1.234405269404836,-0.2789229501294982,-0.8258086758280934,1.3921878833189631,1.0334748315732492,-0.8694162529243042,1.5477307549981343,-0.7613614508447585,-1.725484243216102,-1.1268035087945925,-0.9821095582676026,-0.32546867991121364,-1.3547609163644982,0.39714940804709403,0.6050115429246586,1.708350505079218,0.17490611370248854,-1.5460620152456577,0.14372336528774488,-1.688811399942993,1.1805370742648729,-0.9961943586712984,-0.5222634876340545,-0.07165412061967047,0.9033111362618372],\"type\":\"box\"},{\"boxpoints\":false,\"line\":{\"width\":1.3},\"marker\":{\"color\":\"rgba(55, 128, 191, 1.0)\"},\"name\":\"B\",\"orientation\":\"v\",\"y\":[-0.8412830663608024,-0.14196404629860912,0.27189831213699345,-0.2286524915931357,-0.39740436970062476,0.8644404600468678,-2.425802709190879,-1.7570122474421928,-2.756010446751949,-0.8764100419623471,-0.5927093442184735,1.4131976516655804,0.9245287480106964,2.0385499547616743,0.18604640376218076,0.8795053970341459,1.452057912626229,-1.188265586802459,2.008125648195428,-1.89579976034055,-1.2142197546565268,0.585650048759407,0.1901297815215674,-0.28036571517991926,0.7435936627241457,-0.761465548738385,0.17272991435645543,0.6126370351770036,-0.6409745361014046,-1.2054505656390866,-0.5648212045818725,0.7586668028849586,-0.18694328490507595,-0.5246822943419557,0.1716824260239397,0.17281947072116297,0.9631735363229377,0.8573319073279776,2.7391337276103735,-0.8660589753505328,0.40759489166899276,-1.5249603091551445,-0.28412393855610363,1.3388176264294898,-0.7778806023887083,-1.002215354287591,-0.1309132593210741,1.0292025215239082,1.576109421092655,-2.7680691813938103,-1.1696015241546815,1.992857739976901,-0.3985444234746542,-0.7287240263019391,0.3778165333549547,-0.0028173576769728198,1.8365856724591496,-1.5811511724464855,0.14112966733498775,1.5226834789704895,-0.052630123298235944,0.5750266371763989,-0.3542992607317481,-1.2620214165498946,0.41219245488560224,1.5354942624235504,-0.4274499333810216,1.2622373437633672,-1.8754492230043058,-0.927983492576622,0.19482460729553538,-0.8839697047504629,0.16761091698702862,0.5480793234412067,-1.2069205358509782,1.8565012697440908,0.6414081528241,-1.8010467818833373,0.3081920656655891,0.46299664031639937,-0.861793356479736,1.9503678079314708,1.4349893470965174,2.7521414181104786,0.27344301616024774,0.3291002461450558,0.09630194977242912,0.8097744936659635,1.6929246110017406,-0.7259746620175114,1.0629019525856112,0.9751581738927138,-0.5179265464739529,0.040939684187299555,-0.8685496090915273,-1.0209998546636763,0.11565711451344551,-1.2954962527022302,-0.4122724614406656,1.4156544391757833],\"type\":\"box\"},{\"boxpoints\":false,\"line\":{\"width\":1.3},\"marker\":{\"color\":\"rgba(50, 171, 96, 1.0)\"},\"name\":\"C\",\"orientation\":\"v\",\"y\":[1.707038369955218,-1.1944580737362835,-0.3136450740008115,0.2145991268093264,-0.9136438753341855,0.10369918491718025,-0.34797346452177425,0.2931993700438992,-1.3168978180347461,0.8525859596815066,0.04664310493548644,-1.447247889353405,0.1636020305458358,-1.591836239247566,1.0045744941911439,0.06028804643827226,0.9136021142320738,0.643803690773452,-1.706701318582883,0.16788001195365332,-1.2102351369194388,0.68544736419801,-0.9902964461625677,0.13646269319220988,-1.1181091811635246,0.009424042068484103,0.0663008152019507,0.44480053985991724,-0.4102929349209481,-0.7521844409870982,0.8859100605181857,-0.44230668477616253,0.07143087988818725,-0.11818324764768713,-0.008887481604480675,0.5037677777458722,0.643393957017346,-2.4920271022035507,0.5027870806058774,-0.5226700936142273,0.8991088107393138,-0.5865382063643537,-1.2100225882296463,-2.0599730683130426,1.1407855337171038,-1.8278335859696653,-1.1315893334163514,1.7300379832856623,0.040205230582391255,-2.0034074915790203,-0.10145949669672309,0.848608688651032,-0.8691583066905473,2.0033985279967883,0.0851170254886317,-0.2904207414606158,0.17208553749715433,2.44471233610033,-0.23992922785879967,-1.7729546900537438,-0.12794431347066698,-1.901225632404973,0.6150412483712875,-0.37647678752738106,-1.2549690324935654,0.14600133680676602,2.045111179712386,-0.3206270988118269,-1.9645429528400156,0.4218885182419636,-0.9058415705220113,-0.7146327495082909,1.6732647430053853,-0.25376094932641113,1.1077210607854393,-2.2348018707267387,-1.5284287741776723,0.6857390240565828,-0.6159464127175284,0.42395104469825345,-0.9813622772392521,-0.5879224292738445,-1.1089986852534996,-1.8528229213545215,-2.0094081846917806,-0.5050947765715991,0.10201531701510447,-0.7494957103998997,-0.7703489007647258,2.2320325236689778,-0.718181159562157,-1.2212834198258062,1.011635218848077,-0.0915258676566311,0.2816285201940886,-0.24823373505413232,-0.5573516672305696,-0.9670935284612214,1.8541025385189311,0.5533686207986326],\"type\":\"box\"},{\"boxpoints\":false,\"line\":{\"width\":1.3},\"marker\":{\"color\":\"rgba(128, 0, 128, 1.0)\"},\"name\":\"D\",\"orientation\":\"v\",\"y\":[-1.1566040113793468,-0.17719658245203096,-0.22001559015856784,0.11411098999208485,0.7553989288850536,0.12941845110221267,-0.36924365470844217,-0.14042689305053832,-0.012184061722167346,0.7042196554924196,-0.5662661963116242,0.15106440103188395,0.641305254040354,-0.23778419338816745,1.0500064121808312,0.09771224700308351,-0.12007618116411842,1.4548453265406098,0.44671979914733273,0.5614144324972279,-0.269772452550473,-0.3710736420653342,-0.6193737860923557,-1.065182270268602,-0.6847264633276577,-1.6546652369080077,0.6797487563279534,0.6254806440170384,-0.09838986976948408,1.2817762669256858,-0.9034144902333571,-0.5006004902721884,0.36017763237260625,0.5143844849170333,-0.6706699097670474,-0.6412929559548977,0.09063385538101404,-0.5236930476306975,1.8373709002421237,-0.9164347799040972,0.9078149208194355,0.8933490494414992,-0.24386080214957928,-0.6341855149084185,-0.17792444181528683,-0.7213043851450351,-1.272780709979072,-2.2368011142749094,1.03495335124129,1.1324603953374288,1.5464457098508517,-0.63316370440996,-0.721822579211477,0.8053022998144862,-1.2039717822788483,-0.7820784400482695,0.4917718016946589,0.1969561797343989,0.13076606941164398,0.6563196359301695,0.58745657446414,-0.7596066092973845,-0.7548933304243536,-0.11788818861872609,-1.2146363857500575,2.747670713159326,0.752562068564129,-0.4804806714288889,0.21126788468690336,0.997253668738476,-0.7631958603755667,-0.5359127902590382,0.20824787033686898,-0.717246832675506,-0.2704811941324191,1.5409848149890162,-0.08860051777682035,-1.5701951110734906,0.38492688012542037,0.250437571864057,-0.1924178082239149,-0.909397026361852,2.1080919404464193,-0.1969263787544274,0.3005110032183098,-2.1388546730874096,0.4999877202623662,-0.6704850315393515,0.4453707423338972,1.0209096583741655,-0.7143087467589033,-0.02044574552658848,0.943818778938937,-1.161447593273323,-0.2205237370152114,0.963946907469839,0.9154216136153533,-0.3955067497927909,-0.32918157709622836,0.7696258434241922],\"type\":\"box\"}],                        {\"legend\":{\"bgcolor\":\"#F5F6F9\",\"font\":{\"color\":\"#4D5663\"}},\"paper_bgcolor\":\"#F5F6F9\",\"plot_bgcolor\":\"#F5F6F9\",\"template\":{\"data\":{\"barpolar\":[{\"marker\":{\"line\":{\"color\":\"#E5ECF6\",\"width\":0.5},\"pattern\":{\"fillmode\":\"overlay\",\"size\":10,\"solidity\":0.2}},\"type\":\"barpolar\"}],\"bar\":[{\"error_x\":{\"color\":\"#2a3f5f\"},\"error_y\":{\"color\":\"#2a3f5f\"},\"marker\":{\"line\":{\"color\":\"#E5ECF6\",\"width\":0.5},\"pattern\":{\"fillmode\":\"overlay\",\"size\":10,\"solidity\":0.2}},\"type\":\"bar\"}],\"carpet\":[{\"aaxis\":{\"endlinecolor\":\"#2a3f5f\",\"gridcolor\":\"white\",\"linecolor\":\"white\",\"minorgridcolor\":\"white\",\"startlinecolor\":\"#2a3f5f\"},\"baxis\":{\"endlinecolor\":\"#2a3f5f\",\"gridcolor\":\"white\",\"linecolor\":\"white\",\"minorgridcolor\":\"white\",\"startlinecolor\":\"#2a3f5f\"},\"type\":\"carpet\"}],\"choropleth\":[{\"colorbar\":{\"outlinewidth\":0,\"ticks\":\"\"},\"type\":\"choropleth\"}],\"contourcarpet\":[{\"colorbar\":{\"outlinewidth\":0,\"ticks\":\"\"},\"type\":\"contourcarpet\"}],\"contour\":[{\"colorbar\":{\"outlinewidth\":0,\"ticks\":\"\"},\"colorscale\":[[0.0,\"#0d0887\"],[0.1111111111111111,\"#46039f\"],[0.2222222222222222,\"#7201a8\"],[0.3333333333333333,\"#9c179e\"],[0.4444444444444444,\"#bd3786\"],[0.5555555555555556,\"#d8576b\"],[0.6666666666666666,\"#ed7953\"],[0.7777777777777778,\"#fb9f3a\"],[0.8888888888888888,\"#fdca26\"],[1.0,\"#f0f921\"]],\"type\":\"contour\"}],\"heatmapgl\":[{\"colorbar\":{\"outlinewidth\":0,\"ticks\":\"\"},\"colorscale\":[[0.0,\"#0d0887\"],[0.1111111111111111,\"#46039f\"],[0.2222222222222222,\"#7201a8\"],[0.3333333333333333,\"#9c179e\"],[0.4444444444444444,\"#bd3786\"],[0.5555555555555556,\"#d8576b\"],[0.6666666666666666,\"#ed7953\"],[0.7777777777777778,\"#fb9f3a\"],[0.8888888888888888,\"#fdca26\"],[1.0,\"#f0f921\"]],\"type\":\"heatmapgl\"}],\"heatmap\":[{\"colorbar\":{\"outlinewidth\":0,\"ticks\":\"\"},\"colorscale\":[[0.0,\"#0d0887\"],[0.1111111111111111,\"#46039f\"],[0.2222222222222222,\"#7201a8\"],[0.3333333333333333,\"#9c179e\"],[0.4444444444444444,\"#bd3786\"],[0.5555555555555556,\"#d8576b\"],[0.6666666666666666,\"#ed7953\"],[0.7777777777777778,\"#fb9f3a\"],[0.8888888888888888,\"#fdca26\"],[1.0,\"#f0f921\"]],\"type\":\"heatmap\"}],\"histogram2dcontour\":[{\"colorbar\":{\"outlinewidth\":0,\"ticks\":\"\"},\"colorscale\":[[0.0,\"#0d0887\"],[0.1111111111111111,\"#46039f\"],[0.2222222222222222,\"#7201a8\"],[0.3333333333333333,\"#9c179e\"],[0.4444444444444444,\"#bd3786\"],[0.5555555555555556,\"#d8576b\"],[0.6666666666666666,\"#ed7953\"],[0.7777777777777778,\"#fb9f3a\"],[0.8888888888888888,\"#fdca26\"],[1.0,\"#f0f921\"]],\"type\":\"histogram2dcontour\"}],\"histogram2d\":[{\"colorbar\":{\"outlinewidth\":0,\"ticks\":\"\"},\"colorscale\":[[0.0,\"#0d0887\"],[0.1111111111111111,\"#46039f\"],[0.2222222222222222,\"#7201a8\"],[0.3333333333333333,\"#9c179e\"],[0.4444444444444444,\"#bd3786\"],[0.5555555555555556,\"#d8576b\"],[0.6666666666666666,\"#ed7953\"],[0.7777777777777778,\"#fb9f3a\"],[0.8888888888888888,\"#fdca26\"],[1.0,\"#f0f921\"]],\"type\":\"histogram2d\"}],\"histogram\":[{\"marker\":{\"pattern\":{\"fillmode\":\"overlay\",\"size\":10,\"solidity\":0.2}},\"type\":\"histogram\"}],\"mesh3d\":[{\"colorbar\":{\"outlinewidth\":0,\"ticks\":\"\"},\"type\":\"mesh3d\"}],\"parcoords\":[{\"line\":{\"colorbar\":{\"outlinewidth\":0,\"ticks\":\"\"}},\"type\":\"parcoords\"}],\"pie\":[{\"automargin\":true,\"type\":\"pie\"}],\"scatter3d\":[{\"line\":{\"colorbar\":{\"outlinewidth\":0,\"ticks\":\"\"}},\"marker\":{\"colorbar\":{\"outlinewidth\":0,\"ticks\":\"\"}},\"type\":\"scatter3d\"}],\"scattercarpet\":[{\"marker\":{\"colorbar\":{\"outlinewidth\":0,\"ticks\":\"\"}},\"type\":\"scattercarpet\"}],\"scattergeo\":[{\"marker\":{\"colorbar\":{\"outlinewidth\":0,\"ticks\":\"\"}},\"type\":\"scattergeo\"}],\"scattergl\":[{\"marker\":{\"colorbar\":{\"outlinewidth\":0,\"ticks\":\"\"}},\"type\":\"scattergl\"}],\"scattermapbox\":[{\"marker\":{\"colorbar\":{\"outlinewidth\":0,\"ticks\":\"\"}},\"type\":\"scattermapbox\"}],\"scatterpolargl\":[{\"marker\":{\"colorbar\":{\"outlinewidth\":0,\"ticks\":\"\"}},\"type\":\"scatterpolargl\"}],\"scatterpolar\":[{\"marker\":{\"colorbar\":{\"outlinewidth\":0,\"ticks\":\"\"}},\"type\":\"scatterpolar\"}],\"scatter\":[{\"fillpattern\":{\"fillmode\":\"overlay\",\"size\":10,\"solidity\":0.2},\"type\":\"scatter\"}],\"scatterternary\":[{\"marker\":{\"colorbar\":{\"outlinewidth\":0,\"ticks\":\"\"}},\"type\":\"scatterternary\"}],\"surface\":[{\"colorbar\":{\"outlinewidth\":0,\"ticks\":\"\"},\"colorscale\":[[0.0,\"#0d0887\"],[0.1111111111111111,\"#46039f\"],[0.2222222222222222,\"#7201a8\"],[0.3333333333333333,\"#9c179e\"],[0.4444444444444444,\"#bd3786\"],[0.5555555555555556,\"#d8576b\"],[0.6666666666666666,\"#ed7953\"],[0.7777777777777778,\"#fb9f3a\"],[0.8888888888888888,\"#fdca26\"],[1.0,\"#f0f921\"]],\"type\":\"surface\"}],\"table\":[{\"cells\":{\"fill\":{\"color\":\"#EBF0F8\"},\"line\":{\"color\":\"white\"}},\"header\":{\"fill\":{\"color\":\"#C8D4E3\"},\"line\":{\"color\":\"white\"}},\"type\":\"table\"}]},\"layout\":{\"annotationdefaults\":{\"arrowcolor\":\"#2a3f5f\",\"arrowhead\":0,\"arrowwidth\":1},\"autotypenumbers\":\"strict\",\"coloraxis\":{\"colorbar\":{\"outlinewidth\":0,\"ticks\":\"\"}},\"colorscale\":{\"diverging\":[[0,\"#8e0152\"],[0.1,\"#c51b7d\"],[0.2,\"#de77ae\"],[0.3,\"#f1b6da\"],[0.4,\"#fde0ef\"],[0.5,\"#f7f7f7\"],[0.6,\"#e6f5d0\"],[0.7,\"#b8e186\"],[0.8,\"#7fbc41\"],[0.9,\"#4d9221\"],[1,\"#276419\"]],\"sequential\":[[0.0,\"#0d0887\"],[0.1111111111111111,\"#46039f\"],[0.2222222222222222,\"#7201a8\"],[0.3333333333333333,\"#9c179e\"],[0.4444444444444444,\"#bd3786\"],[0.5555555555555556,\"#d8576b\"],[0.6666666666666666,\"#ed7953\"],[0.7777777777777778,\"#fb9f3a\"],[0.8888888888888888,\"#fdca26\"],[1.0,\"#f0f921\"]],\"sequentialminus\":[[0.0,\"#0d0887\"],[0.1111111111111111,\"#46039f\"],[0.2222222222222222,\"#7201a8\"],[0.3333333333333333,\"#9c179e\"],[0.4444444444444444,\"#bd3786\"],[0.5555555555555556,\"#d8576b\"],[0.6666666666666666,\"#ed7953\"],[0.7777777777777778,\"#fb9f3a\"],[0.8888888888888888,\"#fdca26\"],[1.0,\"#f0f921\"]]},\"colorway\":[\"#636efa\",\"#EF553B\",\"#00cc96\",\"#ab63fa\",\"#FFA15A\",\"#19d3f3\",\"#FF6692\",\"#B6E880\",\"#FF97FF\",\"#FECB52\"],\"font\":{\"color\":\"#2a3f5f\"},\"geo\":{\"bgcolor\":\"white\",\"lakecolor\":\"white\",\"landcolor\":\"#E5ECF6\",\"showlakes\":true,\"showland\":true,\"subunitcolor\":\"white\"},\"hoverlabel\":{\"align\":\"left\"},\"hovermode\":\"closest\",\"mapbox\":{\"style\":\"light\"},\"paper_bgcolor\":\"white\",\"plot_bgcolor\":\"#E5ECF6\",\"polar\":{\"angularaxis\":{\"gridcolor\":\"white\",\"linecolor\":\"white\",\"ticks\":\"\"},\"bgcolor\":\"#E5ECF6\",\"radialaxis\":{\"gridcolor\":\"white\",\"linecolor\":\"white\",\"ticks\":\"\"}},\"scene\":{\"xaxis\":{\"backgroundcolor\":\"#E5ECF6\",\"gridcolor\":\"white\",\"gridwidth\":2,\"linecolor\":\"white\",\"showbackground\":true,\"ticks\":\"\",\"zerolinecolor\":\"white\"},\"yaxis\":{\"backgroundcolor\":\"#E5ECF6\",\"gridcolor\":\"white\",\"gridwidth\":2,\"linecolor\":\"white\",\"showbackground\":true,\"ticks\":\"\",\"zerolinecolor\":\"white\"},\"zaxis\":{\"backgroundcolor\":\"#E5ECF6\",\"gridcolor\":\"white\",\"gridwidth\":2,\"linecolor\":\"white\",\"showbackground\":true,\"ticks\":\"\",\"zerolinecolor\":\"white\"}},\"shapedefaults\":{\"line\":{\"color\":\"#2a3f5f\"}},\"ternary\":{\"aaxis\":{\"gridcolor\":\"white\",\"linecolor\":\"white\",\"ticks\":\"\"},\"baxis\":{\"gridcolor\":\"white\",\"linecolor\":\"white\",\"ticks\":\"\"},\"bgcolor\":\"#E5ECF6\",\"caxis\":{\"gridcolor\":\"white\",\"linecolor\":\"white\",\"ticks\":\"\"}},\"title\":{\"x\":0.05},\"xaxis\":{\"automargin\":true,\"gridcolor\":\"white\",\"linecolor\":\"white\",\"ticks\":\"\",\"title\":{\"standoff\":15},\"zerolinecolor\":\"white\",\"zerolinewidth\":2},\"yaxis\":{\"automargin\":true,\"gridcolor\":\"white\",\"linecolor\":\"white\",\"ticks\":\"\",\"title\":{\"standoff\":15},\"zerolinecolor\":\"white\",\"zerolinewidth\":2}}},\"title\":{\"font\":{\"color\":\"#4D5663\"}},\"xaxis\":{\"gridcolor\":\"#E1E5ED\",\"showgrid\":true,\"tickfont\":{\"color\":\"#4D5663\"},\"title\":{\"font\":{\"color\":\"#4D5663\"},\"text\":\"\"},\"zerolinecolor\":\"#E1E5ED\"},\"yaxis\":{\"gridcolor\":\"#E1E5ED\",\"showgrid\":true,\"tickfont\":{\"color\":\"#4D5663\"},\"title\":{\"font\":{\"color\":\"#4D5663\"},\"text\":\"\"},\"zerolinecolor\":\"#E1E5ED\"}},                        {\"showLink\": true, \"linkText\": \"Export to plot.ly\", \"plotlyServerURL\": \"https://plot.ly\", \"responsive\": true}                    ).then(function(){\n",
       "                            \n",
       "var gd = document.getElementById('3a309a71-961d-4070-94ef-b908268536d0');\n",
       "var x = new MutationObserver(function (mutations, observer) {{\n",
       "        var display = window.getComputedStyle(gd).display;\n",
       "        if (!display || display === 'none') {{\n",
       "            console.log([gd, 'removed!']);\n",
       "            Plotly.purge(gd);\n",
       "            observer.disconnect();\n",
       "        }}\n",
       "}});\n",
       "\n",
       "// Listen for the removal of the full notebook cells\n",
       "var notebookContainer = gd.closest('#notebook-container');\n",
       "if (notebookContainer) {{\n",
       "    x.observe(notebookContainer, {childList: true});\n",
       "}}\n",
       "\n",
       "// Listen for the clearing of the current output cell\n",
       "var outputEl = gd.closest('.output');\n",
       "if (outputEl) {{\n",
       "    x.observe(outputEl, {childList: true});\n",
       "}}\n",
       "\n",
       "                        })                };                });            </script>        </div>"
      ]
     },
     "metadata": {},
     "output_type": "display_data"
    }
   ],
   "source": [
    "df.iplot(kind='box')"
   ]
  },
  {
   "cell_type": "markdown",
   "metadata": {},
   "source": [
    "## 3d Surface"
   ]
  },
  {
   "cell_type": "code",
   "execution_count": 25,
   "metadata": {},
   "outputs": [
    {
     "data": {
      "application/vnd.plotly.v1+json": {
       "config": {
        "linkText": "Export to plot.ly",
        "plotlyServerURL": "https://plot.ly",
        "showLink": true
       },
       "data": [
        {
         "colorscale": [
          [
           0,
           "rgb(165,0,38)"
          ],
          [
           0.1,
           "rgb(215,48,39)"
          ],
          [
           0.2,
           "rgb(244,109,67)"
          ],
          [
           0.3,
           "rgb(253,174,97)"
          ],
          [
           0.4,
           "rgb(254,224,144)"
          ],
          [
           0.5,
           "rgb(255,255,191)"
          ],
          [
           0.6,
           "rgb(224,243,248)"
          ],
          [
           0.7,
           "rgb(171,217,233)"
          ],
          [
           0.8,
           "rgb(116,173,209)"
          ],
          [
           0.9,
           "rgb(69,117,180)"
          ],
          [
           1,
           "rgb(49,54,149)"
          ]
         ],
         "type": "surface",
         "x": [
          0,
          1,
          2,
          3,
          4
         ],
         "y": [
          "x",
          "y",
          "z"
         ],
         "z": [
          [
           1,
           2,
           3,
           4,
           5
          ],
          [
           10,
           20,
           30,
           20,
           10
          ],
          [
           5,
           4,
           3,
           2,
           1
          ]
         ]
        }
       ],
       "layout": {
        "legend": {
         "bgcolor": "#F5F6F9",
         "font": {
          "color": "#4D5663"
         }
        },
        "paper_bgcolor": "#F5F6F9",
        "plot_bgcolor": "#F5F6F9",
        "template": {
         "data": {
          "bar": [
           {
            "error_x": {
             "color": "#2a3f5f"
            },
            "error_y": {
             "color": "#2a3f5f"
            },
            "marker": {
             "line": {
              "color": "#E5ECF6",
              "width": 0.5
             },
             "pattern": {
              "fillmode": "overlay",
              "size": 10,
              "solidity": 0.2
             }
            },
            "type": "bar"
           }
          ],
          "barpolar": [
           {
            "marker": {
             "line": {
              "color": "#E5ECF6",
              "width": 0.5
             },
             "pattern": {
              "fillmode": "overlay",
              "size": 10,
              "solidity": 0.2
             }
            },
            "type": "barpolar"
           }
          ],
          "carpet": [
           {
            "aaxis": {
             "endlinecolor": "#2a3f5f",
             "gridcolor": "white",
             "linecolor": "white",
             "minorgridcolor": "white",
             "startlinecolor": "#2a3f5f"
            },
            "baxis": {
             "endlinecolor": "#2a3f5f",
             "gridcolor": "white",
             "linecolor": "white",
             "minorgridcolor": "white",
             "startlinecolor": "#2a3f5f"
            },
            "type": "carpet"
           }
          ],
          "choropleth": [
           {
            "colorbar": {
             "outlinewidth": 0,
             "ticks": ""
            },
            "type": "choropleth"
           }
          ],
          "contour": [
           {
            "colorbar": {
             "outlinewidth": 0,
             "ticks": ""
            },
            "colorscale": [
             [
              0,
              "#0d0887"
             ],
             [
              0.1111111111111111,
              "#46039f"
             ],
             [
              0.2222222222222222,
              "#7201a8"
             ],
             [
              0.3333333333333333,
              "#9c179e"
             ],
             [
              0.4444444444444444,
              "#bd3786"
             ],
             [
              0.5555555555555556,
              "#d8576b"
             ],
             [
              0.6666666666666666,
              "#ed7953"
             ],
             [
              0.7777777777777778,
              "#fb9f3a"
             ],
             [
              0.8888888888888888,
              "#fdca26"
             ],
             [
              1,
              "#f0f921"
             ]
            ],
            "type": "contour"
           }
          ],
          "contourcarpet": [
           {
            "colorbar": {
             "outlinewidth": 0,
             "ticks": ""
            },
            "type": "contourcarpet"
           }
          ],
          "heatmap": [
           {
            "colorbar": {
             "outlinewidth": 0,
             "ticks": ""
            },
            "colorscale": [
             [
              0,
              "#0d0887"
             ],
             [
              0.1111111111111111,
              "#46039f"
             ],
             [
              0.2222222222222222,
              "#7201a8"
             ],
             [
              0.3333333333333333,
              "#9c179e"
             ],
             [
              0.4444444444444444,
              "#bd3786"
             ],
             [
              0.5555555555555556,
              "#d8576b"
             ],
             [
              0.6666666666666666,
              "#ed7953"
             ],
             [
              0.7777777777777778,
              "#fb9f3a"
             ],
             [
              0.8888888888888888,
              "#fdca26"
             ],
             [
              1,
              "#f0f921"
             ]
            ],
            "type": "heatmap"
           }
          ],
          "heatmapgl": [
           {
            "colorbar": {
             "outlinewidth": 0,
             "ticks": ""
            },
            "colorscale": [
             [
              0,
              "#0d0887"
             ],
             [
              0.1111111111111111,
              "#46039f"
             ],
             [
              0.2222222222222222,
              "#7201a8"
             ],
             [
              0.3333333333333333,
              "#9c179e"
             ],
             [
              0.4444444444444444,
              "#bd3786"
             ],
             [
              0.5555555555555556,
              "#d8576b"
             ],
             [
              0.6666666666666666,
              "#ed7953"
             ],
             [
              0.7777777777777778,
              "#fb9f3a"
             ],
             [
              0.8888888888888888,
              "#fdca26"
             ],
             [
              1,
              "#f0f921"
             ]
            ],
            "type": "heatmapgl"
           }
          ],
          "histogram": [
           {
            "marker": {
             "pattern": {
              "fillmode": "overlay",
              "size": 10,
              "solidity": 0.2
             }
            },
            "type": "histogram"
           }
          ],
          "histogram2d": [
           {
            "colorbar": {
             "outlinewidth": 0,
             "ticks": ""
            },
            "colorscale": [
             [
              0,
              "#0d0887"
             ],
             [
              0.1111111111111111,
              "#46039f"
             ],
             [
              0.2222222222222222,
              "#7201a8"
             ],
             [
              0.3333333333333333,
              "#9c179e"
             ],
             [
              0.4444444444444444,
              "#bd3786"
             ],
             [
              0.5555555555555556,
              "#d8576b"
             ],
             [
              0.6666666666666666,
              "#ed7953"
             ],
             [
              0.7777777777777778,
              "#fb9f3a"
             ],
             [
              0.8888888888888888,
              "#fdca26"
             ],
             [
              1,
              "#f0f921"
             ]
            ],
            "type": "histogram2d"
           }
          ],
          "histogram2dcontour": [
           {
            "colorbar": {
             "outlinewidth": 0,
             "ticks": ""
            },
            "colorscale": [
             [
              0,
              "#0d0887"
             ],
             [
              0.1111111111111111,
              "#46039f"
             ],
             [
              0.2222222222222222,
              "#7201a8"
             ],
             [
              0.3333333333333333,
              "#9c179e"
             ],
             [
              0.4444444444444444,
              "#bd3786"
             ],
             [
              0.5555555555555556,
              "#d8576b"
             ],
             [
              0.6666666666666666,
              "#ed7953"
             ],
             [
              0.7777777777777778,
              "#fb9f3a"
             ],
             [
              0.8888888888888888,
              "#fdca26"
             ],
             [
              1,
              "#f0f921"
             ]
            ],
            "type": "histogram2dcontour"
           }
          ],
          "mesh3d": [
           {
            "colorbar": {
             "outlinewidth": 0,
             "ticks": ""
            },
            "type": "mesh3d"
           }
          ],
          "parcoords": [
           {
            "line": {
             "colorbar": {
              "outlinewidth": 0,
              "ticks": ""
             }
            },
            "type": "parcoords"
           }
          ],
          "pie": [
           {
            "automargin": true,
            "type": "pie"
           }
          ],
          "scatter": [
           {
            "fillpattern": {
             "fillmode": "overlay",
             "size": 10,
             "solidity": 0.2
            },
            "type": "scatter"
           }
          ],
          "scatter3d": [
           {
            "line": {
             "colorbar": {
              "outlinewidth": 0,
              "ticks": ""
             }
            },
            "marker": {
             "colorbar": {
              "outlinewidth": 0,
              "ticks": ""
             }
            },
            "type": "scatter3d"
           }
          ],
          "scattercarpet": [
           {
            "marker": {
             "colorbar": {
              "outlinewidth": 0,
              "ticks": ""
             }
            },
            "type": "scattercarpet"
           }
          ],
          "scattergeo": [
           {
            "marker": {
             "colorbar": {
              "outlinewidth": 0,
              "ticks": ""
             }
            },
            "type": "scattergeo"
           }
          ],
          "scattergl": [
           {
            "marker": {
             "colorbar": {
              "outlinewidth": 0,
              "ticks": ""
             }
            },
            "type": "scattergl"
           }
          ],
          "scattermapbox": [
           {
            "marker": {
             "colorbar": {
              "outlinewidth": 0,
              "ticks": ""
             }
            },
            "type": "scattermapbox"
           }
          ],
          "scatterpolar": [
           {
            "marker": {
             "colorbar": {
              "outlinewidth": 0,
              "ticks": ""
             }
            },
            "type": "scatterpolar"
           }
          ],
          "scatterpolargl": [
           {
            "marker": {
             "colorbar": {
              "outlinewidth": 0,
              "ticks": ""
             }
            },
            "type": "scatterpolargl"
           }
          ],
          "scatterternary": [
           {
            "marker": {
             "colorbar": {
              "outlinewidth": 0,
              "ticks": ""
             }
            },
            "type": "scatterternary"
           }
          ],
          "surface": [
           {
            "colorbar": {
             "outlinewidth": 0,
             "ticks": ""
            },
            "colorscale": [
             [
              0,
              "#0d0887"
             ],
             [
              0.1111111111111111,
              "#46039f"
             ],
             [
              0.2222222222222222,
              "#7201a8"
             ],
             [
              0.3333333333333333,
              "#9c179e"
             ],
             [
              0.4444444444444444,
              "#bd3786"
             ],
             [
              0.5555555555555556,
              "#d8576b"
             ],
             [
              0.6666666666666666,
              "#ed7953"
             ],
             [
              0.7777777777777778,
              "#fb9f3a"
             ],
             [
              0.8888888888888888,
              "#fdca26"
             ],
             [
              1,
              "#f0f921"
             ]
            ],
            "type": "surface"
           }
          ],
          "table": [
           {
            "cells": {
             "fill": {
              "color": "#EBF0F8"
             },
             "line": {
              "color": "white"
             }
            },
            "header": {
             "fill": {
              "color": "#C8D4E3"
             },
             "line": {
              "color": "white"
             }
            },
            "type": "table"
           }
          ]
         },
         "layout": {
          "annotationdefaults": {
           "arrowcolor": "#2a3f5f",
           "arrowhead": 0,
           "arrowwidth": 1
          },
          "autotypenumbers": "strict",
          "coloraxis": {
           "colorbar": {
            "outlinewidth": 0,
            "ticks": ""
           }
          },
          "colorscale": {
           "diverging": [
            [
             0,
             "#8e0152"
            ],
            [
             0.1,
             "#c51b7d"
            ],
            [
             0.2,
             "#de77ae"
            ],
            [
             0.3,
             "#f1b6da"
            ],
            [
             0.4,
             "#fde0ef"
            ],
            [
             0.5,
             "#f7f7f7"
            ],
            [
             0.6,
             "#e6f5d0"
            ],
            [
             0.7,
             "#b8e186"
            ],
            [
             0.8,
             "#7fbc41"
            ],
            [
             0.9,
             "#4d9221"
            ],
            [
             1,
             "#276419"
            ]
           ],
           "sequential": [
            [
             0,
             "#0d0887"
            ],
            [
             0.1111111111111111,
             "#46039f"
            ],
            [
             0.2222222222222222,
             "#7201a8"
            ],
            [
             0.3333333333333333,
             "#9c179e"
            ],
            [
             0.4444444444444444,
             "#bd3786"
            ],
            [
             0.5555555555555556,
             "#d8576b"
            ],
            [
             0.6666666666666666,
             "#ed7953"
            ],
            [
             0.7777777777777778,
             "#fb9f3a"
            ],
            [
             0.8888888888888888,
             "#fdca26"
            ],
            [
             1,
             "#f0f921"
            ]
           ],
           "sequentialminus": [
            [
             0,
             "#0d0887"
            ],
            [
             0.1111111111111111,
             "#46039f"
            ],
            [
             0.2222222222222222,
             "#7201a8"
            ],
            [
             0.3333333333333333,
             "#9c179e"
            ],
            [
             0.4444444444444444,
             "#bd3786"
            ],
            [
             0.5555555555555556,
             "#d8576b"
            ],
            [
             0.6666666666666666,
             "#ed7953"
            ],
            [
             0.7777777777777778,
             "#fb9f3a"
            ],
            [
             0.8888888888888888,
             "#fdca26"
            ],
            [
             1,
             "#f0f921"
            ]
           ]
          },
          "colorway": [
           "#636efa",
           "#EF553B",
           "#00cc96",
           "#ab63fa",
           "#FFA15A",
           "#19d3f3",
           "#FF6692",
           "#B6E880",
           "#FF97FF",
           "#FECB52"
          ],
          "font": {
           "color": "#2a3f5f"
          },
          "geo": {
           "bgcolor": "white",
           "lakecolor": "white",
           "landcolor": "#E5ECF6",
           "showlakes": true,
           "showland": true,
           "subunitcolor": "white"
          },
          "hoverlabel": {
           "align": "left"
          },
          "hovermode": "closest",
          "mapbox": {
           "style": "light"
          },
          "paper_bgcolor": "white",
          "plot_bgcolor": "#E5ECF6",
          "polar": {
           "angularaxis": {
            "gridcolor": "white",
            "linecolor": "white",
            "ticks": ""
           },
           "bgcolor": "#E5ECF6",
           "radialaxis": {
            "gridcolor": "white",
            "linecolor": "white",
            "ticks": ""
           }
          },
          "scene": {
           "xaxis": {
            "backgroundcolor": "#E5ECF6",
            "gridcolor": "white",
            "gridwidth": 2,
            "linecolor": "white",
            "showbackground": true,
            "ticks": "",
            "zerolinecolor": "white"
           },
           "yaxis": {
            "backgroundcolor": "#E5ECF6",
            "gridcolor": "white",
            "gridwidth": 2,
            "linecolor": "white",
            "showbackground": true,
            "ticks": "",
            "zerolinecolor": "white"
           },
           "zaxis": {
            "backgroundcolor": "#E5ECF6",
            "gridcolor": "white",
            "gridwidth": 2,
            "linecolor": "white",
            "showbackground": true,
            "ticks": "",
            "zerolinecolor": "white"
           }
          },
          "shapedefaults": {
           "line": {
            "color": "#2a3f5f"
           }
          },
          "ternary": {
           "aaxis": {
            "gridcolor": "white",
            "linecolor": "white",
            "ticks": ""
           },
           "baxis": {
            "gridcolor": "white",
            "linecolor": "white",
            "ticks": ""
           },
           "bgcolor": "#E5ECF6",
           "caxis": {
            "gridcolor": "white",
            "linecolor": "white",
            "ticks": ""
           }
          },
          "title": {
           "x": 0.05
          },
          "xaxis": {
           "automargin": true,
           "gridcolor": "white",
           "linecolor": "white",
           "ticks": "",
           "title": {
            "standoff": 15
           },
           "zerolinecolor": "white",
           "zerolinewidth": 2
          },
          "yaxis": {
           "automargin": true,
           "gridcolor": "white",
           "linecolor": "white",
           "ticks": "",
           "title": {
            "standoff": 15
           },
           "zerolinecolor": "white",
           "zerolinewidth": 2
          }
         }
        },
        "title": {
         "font": {
          "color": "#4D5663"
         }
        },
        "xaxis": {
         "gridcolor": "#E1E5ED",
         "showgrid": true,
         "tickfont": {
          "color": "#4D5663"
         },
         "title": {
          "font": {
           "color": "#4D5663"
          },
          "text": ""
         },
         "zerolinecolor": "#E1E5ED"
        },
        "yaxis": {
         "gridcolor": "#E1E5ED",
         "showgrid": true,
         "tickfont": {
          "color": "#4D5663"
         },
         "title": {
          "font": {
           "color": "#4D5663"
          },
          "text": ""
         },
         "zerolinecolor": "#E1E5ED"
        }
       }
      },
      "text/html": [
       "<div>                            <div id=\"b224a6ba-3ba8-4bfe-9e77-e1f5682c2fa7\" class=\"plotly-graph-div\" style=\"height:525px; width:100%;\"></div>            <script type=\"text/javascript\">                require([\"plotly\"], function(Plotly) {                    window.PLOTLYENV=window.PLOTLYENV || {};\n",
       "                    window.PLOTLYENV.BASE_URL='https://plot.ly';                                    if (document.getElementById(\"b224a6ba-3ba8-4bfe-9e77-e1f5682c2fa7\")) {                    Plotly.newPlot(                        \"b224a6ba-3ba8-4bfe-9e77-e1f5682c2fa7\",                        [{\"colorscale\":[[0.0,\"rgb(165,0,38)\"],[0.1,\"rgb(215,48,39)\"],[0.2,\"rgb(244,109,67)\"],[0.3,\"rgb(253,174,97)\"],[0.4,\"rgb(254,224,144)\"],[0.5,\"rgb(255,255,191)\"],[0.6,\"rgb(224,243,248)\"],[0.7,\"rgb(171,217,233)\"],[0.8,\"rgb(116,173,209)\"],[0.9,\"rgb(69,117,180)\"],[1.0,\"rgb(49,54,149)\"]],\"x\":[0,1,2,3,4],\"y\":[\"x\",\"y\",\"z\"],\"z\":[[1,2,3,4,5],[10,20,30,20,10],[5,4,3,2,1]],\"type\":\"surface\"}],                        {\"legend\":{\"bgcolor\":\"#F5F6F9\",\"font\":{\"color\":\"#4D5663\"}},\"paper_bgcolor\":\"#F5F6F9\",\"plot_bgcolor\":\"#F5F6F9\",\"template\":{\"data\":{\"barpolar\":[{\"marker\":{\"line\":{\"color\":\"#E5ECF6\",\"width\":0.5},\"pattern\":{\"fillmode\":\"overlay\",\"size\":10,\"solidity\":0.2}},\"type\":\"barpolar\"}],\"bar\":[{\"error_x\":{\"color\":\"#2a3f5f\"},\"error_y\":{\"color\":\"#2a3f5f\"},\"marker\":{\"line\":{\"color\":\"#E5ECF6\",\"width\":0.5},\"pattern\":{\"fillmode\":\"overlay\",\"size\":10,\"solidity\":0.2}},\"type\":\"bar\"}],\"carpet\":[{\"aaxis\":{\"endlinecolor\":\"#2a3f5f\",\"gridcolor\":\"white\",\"linecolor\":\"white\",\"minorgridcolor\":\"white\",\"startlinecolor\":\"#2a3f5f\"},\"baxis\":{\"endlinecolor\":\"#2a3f5f\",\"gridcolor\":\"white\",\"linecolor\":\"white\",\"minorgridcolor\":\"white\",\"startlinecolor\":\"#2a3f5f\"},\"type\":\"carpet\"}],\"choropleth\":[{\"colorbar\":{\"outlinewidth\":0,\"ticks\":\"\"},\"type\":\"choropleth\"}],\"contourcarpet\":[{\"colorbar\":{\"outlinewidth\":0,\"ticks\":\"\"},\"type\":\"contourcarpet\"}],\"contour\":[{\"colorbar\":{\"outlinewidth\":0,\"ticks\":\"\"},\"colorscale\":[[0.0,\"#0d0887\"],[0.1111111111111111,\"#46039f\"],[0.2222222222222222,\"#7201a8\"],[0.3333333333333333,\"#9c179e\"],[0.4444444444444444,\"#bd3786\"],[0.5555555555555556,\"#d8576b\"],[0.6666666666666666,\"#ed7953\"],[0.7777777777777778,\"#fb9f3a\"],[0.8888888888888888,\"#fdca26\"],[1.0,\"#f0f921\"]],\"type\":\"contour\"}],\"heatmapgl\":[{\"colorbar\":{\"outlinewidth\":0,\"ticks\":\"\"},\"colorscale\":[[0.0,\"#0d0887\"],[0.1111111111111111,\"#46039f\"],[0.2222222222222222,\"#7201a8\"],[0.3333333333333333,\"#9c179e\"],[0.4444444444444444,\"#bd3786\"],[0.5555555555555556,\"#d8576b\"],[0.6666666666666666,\"#ed7953\"],[0.7777777777777778,\"#fb9f3a\"],[0.8888888888888888,\"#fdca26\"],[1.0,\"#f0f921\"]],\"type\":\"heatmapgl\"}],\"heatmap\":[{\"colorbar\":{\"outlinewidth\":0,\"ticks\":\"\"},\"colorscale\":[[0.0,\"#0d0887\"],[0.1111111111111111,\"#46039f\"],[0.2222222222222222,\"#7201a8\"],[0.3333333333333333,\"#9c179e\"],[0.4444444444444444,\"#bd3786\"],[0.5555555555555556,\"#d8576b\"],[0.6666666666666666,\"#ed7953\"],[0.7777777777777778,\"#fb9f3a\"],[0.8888888888888888,\"#fdca26\"],[1.0,\"#f0f921\"]],\"type\":\"heatmap\"}],\"histogram2dcontour\":[{\"colorbar\":{\"outlinewidth\":0,\"ticks\":\"\"},\"colorscale\":[[0.0,\"#0d0887\"],[0.1111111111111111,\"#46039f\"],[0.2222222222222222,\"#7201a8\"],[0.3333333333333333,\"#9c179e\"],[0.4444444444444444,\"#bd3786\"],[0.5555555555555556,\"#d8576b\"],[0.6666666666666666,\"#ed7953\"],[0.7777777777777778,\"#fb9f3a\"],[0.8888888888888888,\"#fdca26\"],[1.0,\"#f0f921\"]],\"type\":\"histogram2dcontour\"}],\"histogram2d\":[{\"colorbar\":{\"outlinewidth\":0,\"ticks\":\"\"},\"colorscale\":[[0.0,\"#0d0887\"],[0.1111111111111111,\"#46039f\"],[0.2222222222222222,\"#7201a8\"],[0.3333333333333333,\"#9c179e\"],[0.4444444444444444,\"#bd3786\"],[0.5555555555555556,\"#d8576b\"],[0.6666666666666666,\"#ed7953\"],[0.7777777777777778,\"#fb9f3a\"],[0.8888888888888888,\"#fdca26\"],[1.0,\"#f0f921\"]],\"type\":\"histogram2d\"}],\"histogram\":[{\"marker\":{\"pattern\":{\"fillmode\":\"overlay\",\"size\":10,\"solidity\":0.2}},\"type\":\"histogram\"}],\"mesh3d\":[{\"colorbar\":{\"outlinewidth\":0,\"ticks\":\"\"},\"type\":\"mesh3d\"}],\"parcoords\":[{\"line\":{\"colorbar\":{\"outlinewidth\":0,\"ticks\":\"\"}},\"type\":\"parcoords\"}],\"pie\":[{\"automargin\":true,\"type\":\"pie\"}],\"scatter3d\":[{\"line\":{\"colorbar\":{\"outlinewidth\":0,\"ticks\":\"\"}},\"marker\":{\"colorbar\":{\"outlinewidth\":0,\"ticks\":\"\"}},\"type\":\"scatter3d\"}],\"scattercarpet\":[{\"marker\":{\"colorbar\":{\"outlinewidth\":0,\"ticks\":\"\"}},\"type\":\"scattercarpet\"}],\"scattergeo\":[{\"marker\":{\"colorbar\":{\"outlinewidth\":0,\"ticks\":\"\"}},\"type\":\"scattergeo\"}],\"scattergl\":[{\"marker\":{\"colorbar\":{\"outlinewidth\":0,\"ticks\":\"\"}},\"type\":\"scattergl\"}],\"scattermapbox\":[{\"marker\":{\"colorbar\":{\"outlinewidth\":0,\"ticks\":\"\"}},\"type\":\"scattermapbox\"}],\"scatterpolargl\":[{\"marker\":{\"colorbar\":{\"outlinewidth\":0,\"ticks\":\"\"}},\"type\":\"scatterpolargl\"}],\"scatterpolar\":[{\"marker\":{\"colorbar\":{\"outlinewidth\":0,\"ticks\":\"\"}},\"type\":\"scatterpolar\"}],\"scatter\":[{\"fillpattern\":{\"fillmode\":\"overlay\",\"size\":10,\"solidity\":0.2},\"type\":\"scatter\"}],\"scatterternary\":[{\"marker\":{\"colorbar\":{\"outlinewidth\":0,\"ticks\":\"\"}},\"type\":\"scatterternary\"}],\"surface\":[{\"colorbar\":{\"outlinewidth\":0,\"ticks\":\"\"},\"colorscale\":[[0.0,\"#0d0887\"],[0.1111111111111111,\"#46039f\"],[0.2222222222222222,\"#7201a8\"],[0.3333333333333333,\"#9c179e\"],[0.4444444444444444,\"#bd3786\"],[0.5555555555555556,\"#d8576b\"],[0.6666666666666666,\"#ed7953\"],[0.7777777777777778,\"#fb9f3a\"],[0.8888888888888888,\"#fdca26\"],[1.0,\"#f0f921\"]],\"type\":\"surface\"}],\"table\":[{\"cells\":{\"fill\":{\"color\":\"#EBF0F8\"},\"line\":{\"color\":\"white\"}},\"header\":{\"fill\":{\"color\":\"#C8D4E3\"},\"line\":{\"color\":\"white\"}},\"type\":\"table\"}]},\"layout\":{\"annotationdefaults\":{\"arrowcolor\":\"#2a3f5f\",\"arrowhead\":0,\"arrowwidth\":1},\"autotypenumbers\":\"strict\",\"coloraxis\":{\"colorbar\":{\"outlinewidth\":0,\"ticks\":\"\"}},\"colorscale\":{\"diverging\":[[0,\"#8e0152\"],[0.1,\"#c51b7d\"],[0.2,\"#de77ae\"],[0.3,\"#f1b6da\"],[0.4,\"#fde0ef\"],[0.5,\"#f7f7f7\"],[0.6,\"#e6f5d0\"],[0.7,\"#b8e186\"],[0.8,\"#7fbc41\"],[0.9,\"#4d9221\"],[1,\"#276419\"]],\"sequential\":[[0.0,\"#0d0887\"],[0.1111111111111111,\"#46039f\"],[0.2222222222222222,\"#7201a8\"],[0.3333333333333333,\"#9c179e\"],[0.4444444444444444,\"#bd3786\"],[0.5555555555555556,\"#d8576b\"],[0.6666666666666666,\"#ed7953\"],[0.7777777777777778,\"#fb9f3a\"],[0.8888888888888888,\"#fdca26\"],[1.0,\"#f0f921\"]],\"sequentialminus\":[[0.0,\"#0d0887\"],[0.1111111111111111,\"#46039f\"],[0.2222222222222222,\"#7201a8\"],[0.3333333333333333,\"#9c179e\"],[0.4444444444444444,\"#bd3786\"],[0.5555555555555556,\"#d8576b\"],[0.6666666666666666,\"#ed7953\"],[0.7777777777777778,\"#fb9f3a\"],[0.8888888888888888,\"#fdca26\"],[1.0,\"#f0f921\"]]},\"colorway\":[\"#636efa\",\"#EF553B\",\"#00cc96\",\"#ab63fa\",\"#FFA15A\",\"#19d3f3\",\"#FF6692\",\"#B6E880\",\"#FF97FF\",\"#FECB52\"],\"font\":{\"color\":\"#2a3f5f\"},\"geo\":{\"bgcolor\":\"white\",\"lakecolor\":\"white\",\"landcolor\":\"#E5ECF6\",\"showlakes\":true,\"showland\":true,\"subunitcolor\":\"white\"},\"hoverlabel\":{\"align\":\"left\"},\"hovermode\":\"closest\",\"mapbox\":{\"style\":\"light\"},\"paper_bgcolor\":\"white\",\"plot_bgcolor\":\"#E5ECF6\",\"polar\":{\"angularaxis\":{\"gridcolor\":\"white\",\"linecolor\":\"white\",\"ticks\":\"\"},\"bgcolor\":\"#E5ECF6\",\"radialaxis\":{\"gridcolor\":\"white\",\"linecolor\":\"white\",\"ticks\":\"\"}},\"scene\":{\"xaxis\":{\"backgroundcolor\":\"#E5ECF6\",\"gridcolor\":\"white\",\"gridwidth\":2,\"linecolor\":\"white\",\"showbackground\":true,\"ticks\":\"\",\"zerolinecolor\":\"white\"},\"yaxis\":{\"backgroundcolor\":\"#E5ECF6\",\"gridcolor\":\"white\",\"gridwidth\":2,\"linecolor\":\"white\",\"showbackground\":true,\"ticks\":\"\",\"zerolinecolor\":\"white\"},\"zaxis\":{\"backgroundcolor\":\"#E5ECF6\",\"gridcolor\":\"white\",\"gridwidth\":2,\"linecolor\":\"white\",\"showbackground\":true,\"ticks\":\"\",\"zerolinecolor\":\"white\"}},\"shapedefaults\":{\"line\":{\"color\":\"#2a3f5f\"}},\"ternary\":{\"aaxis\":{\"gridcolor\":\"white\",\"linecolor\":\"white\",\"ticks\":\"\"},\"baxis\":{\"gridcolor\":\"white\",\"linecolor\":\"white\",\"ticks\":\"\"},\"bgcolor\":\"#E5ECF6\",\"caxis\":{\"gridcolor\":\"white\",\"linecolor\":\"white\",\"ticks\":\"\"}},\"title\":{\"x\":0.05},\"xaxis\":{\"automargin\":true,\"gridcolor\":\"white\",\"linecolor\":\"white\",\"ticks\":\"\",\"title\":{\"standoff\":15},\"zerolinecolor\":\"white\",\"zerolinewidth\":2},\"yaxis\":{\"automargin\":true,\"gridcolor\":\"white\",\"linecolor\":\"white\",\"ticks\":\"\",\"title\":{\"standoff\":15},\"zerolinecolor\":\"white\",\"zerolinewidth\":2}}},\"title\":{\"font\":{\"color\":\"#4D5663\"}},\"xaxis\":{\"gridcolor\":\"#E1E5ED\",\"showgrid\":true,\"tickfont\":{\"color\":\"#4D5663\"},\"title\":{\"font\":{\"color\":\"#4D5663\"},\"text\":\"\"},\"zerolinecolor\":\"#E1E5ED\"},\"yaxis\":{\"gridcolor\":\"#E1E5ED\",\"showgrid\":true,\"tickfont\":{\"color\":\"#4D5663\"},\"title\":{\"font\":{\"color\":\"#4D5663\"},\"text\":\"\"},\"zerolinecolor\":\"#E1E5ED\"}},                        {\"showLink\": true, \"linkText\": \"Export to plot.ly\", \"plotlyServerURL\": \"https://plot.ly\", \"responsive\": true}                    ).then(function(){\n",
       "                            \n",
       "var gd = document.getElementById('b224a6ba-3ba8-4bfe-9e77-e1f5682c2fa7');\n",
       "var x = new MutationObserver(function (mutations, observer) {{\n",
       "        var display = window.getComputedStyle(gd).display;\n",
       "        if (!display || display === 'none') {{\n",
       "            console.log([gd, 'removed!']);\n",
       "            Plotly.purge(gd);\n",
       "            observer.disconnect();\n",
       "        }}\n",
       "}});\n",
       "\n",
       "// Listen for the removal of the full notebook cells\n",
       "var notebookContainer = gd.closest('#notebook-container');\n",
       "if (notebookContainer) {{\n",
       "    x.observe(notebookContainer, {childList: true});\n",
       "}}\n",
       "\n",
       "// Listen for the clearing of the current output cell\n",
       "var outputEl = gd.closest('.output');\n",
       "if (outputEl) {{\n",
       "    x.observe(outputEl, {childList: true});\n",
       "}}\n",
       "\n",
       "                        })                };                });            </script>        </div>"
      ]
     },
     "metadata": {},
     "output_type": "display_data"
    }
   ],
   "source": [
    "df3 = pd.DataFrame({'x':[1,2,3,4,5],'y':[10,20,30,20,10],'z':[5,4,3,2,1]})\n",
    "df3.iplot(kind='surface',colorscale='rdylbu')"
   ]
  },
  {
   "cell_type": "markdown",
   "metadata": {},
   "source": [
    "## Spread"
   ]
  },
  {
   "cell_type": "code",
   "execution_count": 27,
   "metadata": {},
   "outputs": [
    {
     "name": "stderr",
     "output_type": "stream",
     "text": [
      "C:\\Users\\ADMIN\\anaconda3\\lib\\site-packages\\cufflinks\\plotlytools.py:849: FutureWarning:\n",
      "\n",
      "The pandas.np module is deprecated and will be removed from pandas in a future version. Import numpy directly instead.\n",
      "\n",
      "C:\\Users\\ADMIN\\anaconda3\\lib\\site-packages\\cufflinks\\plotlytools.py:850: FutureWarning:\n",
      "\n",
      "The pandas.np module is deprecated and will be removed from pandas in a future version. Import numpy directly instead.\n",
      "\n"
     ]
    },
    {
     "data": {
      "application/vnd.plotly.v1+json": {
       "config": {
        "linkText": "Export to plot.ly",
        "plotlyServerURL": "https://plot.ly",
        "showLink": true
       },
       "data": [
        {
         "line": {
          "color": "rgba(255, 153, 51, 1.0)",
          "dash": "solid",
          "shape": "linear",
          "width": 1.3
         },
         "mode": "lines",
         "name": "A",
         "text": "",
         "type": "scatter",
         "x": [
          0,
          1,
          2,
          3,
          4,
          5,
          6,
          7,
          8,
          9,
          10,
          11,
          12,
          13,
          14,
          15,
          16,
          17,
          18,
          19,
          20,
          21,
          22,
          23,
          24,
          25,
          26,
          27,
          28,
          29,
          30,
          31,
          32,
          33,
          34,
          35,
          36,
          37,
          38,
          39,
          40,
          41,
          42,
          43,
          44,
          45,
          46,
          47,
          48,
          49,
          50,
          51,
          52,
          53,
          54,
          55,
          56,
          57,
          58,
          59,
          60,
          61,
          62,
          63,
          64,
          65,
          66,
          67,
          68,
          69,
          70,
          71,
          72,
          73,
          74,
          75,
          76,
          77,
          78,
          79,
          80,
          81,
          82,
          83,
          84,
          85,
          86,
          87,
          88,
          89,
          90,
          91,
          92,
          93,
          94,
          95,
          96,
          97,
          98,
          99
         ],
         "y": [
          0.006313458985566085,
          0.0012147700438570593,
          -0.6151467796336,
          1.0191844884189065,
          -0.7495075739982601,
          -1.7985950729458002,
          0.15382533456183314,
          -0.5576872225427343,
          1.5593605186079846,
          1.700355672186201,
          -0.15236553270416087,
          0.39044094019462977,
          -0.5614557622261617,
          -1.2696193560262417,
          -0.024520044223959203,
          -0.7171428227047335,
          0.11381698115296884,
          -2.3261206919345363,
          0.37015277327553536,
          0.15583532903095587,
          -1.2289328448668377,
          -1.083066067855664,
          0.43971959185345716,
          -0.7927303406405242,
          -0.1343156933997293,
          -0.8773137644384209,
          1.1451110216332794,
          0.5148688588470663,
          0.2927029823951949,
          -0.5276160993217199,
          -1.9680202396163418,
          1.423501113042431,
          -0.6849596430392447,
          -0.8202548551107004,
          -0.6735148911527414,
          -0.48979918801619104,
          -0.8624553398219791,
          1.8265135614284778,
          -0.2573459544937043,
          0.742995129008227,
          1.9526700344421826,
          0.6072118968741738,
          -0.7096512406808968,
          -0.6679025965317548,
          0.1279081223835325,
          -0.2968413355288964,
          -0.24486047797910396,
          0.5028527245782749,
          0.500912850020907,
          0.35325225579994163,
          0.2425350082798535,
          -1.305708258896684,
          0.9755905559759886,
          -1.9066415540089885,
          0.9768170167359869,
          -0.4580723212715815,
          0.3188514544784727,
          -1.6537571945436216,
          -0.43125541197684153,
          0.6899089422409604,
          -1.4602949425078555,
          0.4624248034322284,
          0.17136443767218074,
          -0.012314317526127971,
          -2.075444122527348,
          0.42373853888266483,
          -0.06270018226508774,
          1.2801916313906705,
          -1.0247063360598394,
          -1.4952047036511662,
          1.073206362530888,
          0.4028356975025304,
          -2.142756034751585,
          0.6002350853929834,
          -0.39252221922456687,
          -1.234405269404836,
          -0.2789229501294982,
          -0.8258086758280934,
          1.3921878833189631,
          1.0334748315732492,
          -0.8694162529243042,
          1.5477307549981343,
          -0.7613614508447585,
          -1.725484243216102,
          -1.1268035087945925,
          -0.9821095582676026,
          -0.32546867991121364,
          -1.3547609163644982,
          0.39714940804709403,
          0.6050115429246586,
          1.708350505079218,
          0.17490611370248854,
          -1.5460620152456577,
          0.14372336528774488,
          -1.688811399942993,
          1.1805370742648729,
          -0.9961943586712984,
          -0.5222634876340545,
          -0.07165412061967047,
          0.9033111362618372
         ]
        },
        {
         "line": {
          "color": "rgba(55, 128, 191, 1.0)",
          "dash": "solid",
          "shape": "linear",
          "width": 1.3
         },
         "mode": "lines",
         "name": "B",
         "text": "",
         "type": "scatter",
         "x": [
          0,
          1,
          2,
          3,
          4,
          5,
          6,
          7,
          8,
          9,
          10,
          11,
          12,
          13,
          14,
          15,
          16,
          17,
          18,
          19,
          20,
          21,
          22,
          23,
          24,
          25,
          26,
          27,
          28,
          29,
          30,
          31,
          32,
          33,
          34,
          35,
          36,
          37,
          38,
          39,
          40,
          41,
          42,
          43,
          44,
          45,
          46,
          47,
          48,
          49,
          50,
          51,
          52,
          53,
          54,
          55,
          56,
          57,
          58,
          59,
          60,
          61,
          62,
          63,
          64,
          65,
          66,
          67,
          68,
          69,
          70,
          71,
          72,
          73,
          74,
          75,
          76,
          77,
          78,
          79,
          80,
          81,
          82,
          83,
          84,
          85,
          86,
          87,
          88,
          89,
          90,
          91,
          92,
          93,
          94,
          95,
          96,
          97,
          98,
          99
         ],
         "y": [
          -0.8412830663608024,
          -0.14196404629860912,
          0.27189831213699345,
          -0.2286524915931357,
          -0.39740436970062476,
          0.8644404600468678,
          -2.425802709190879,
          -1.7570122474421928,
          -2.756010446751949,
          -0.8764100419623471,
          -0.5927093442184735,
          1.4131976516655804,
          0.9245287480106964,
          2.0385499547616743,
          0.18604640376218076,
          0.8795053970341459,
          1.452057912626229,
          -1.188265586802459,
          2.008125648195428,
          -1.89579976034055,
          -1.2142197546565268,
          0.585650048759407,
          0.1901297815215674,
          -0.28036571517991926,
          0.7435936627241457,
          -0.761465548738385,
          0.17272991435645543,
          0.6126370351770036,
          -0.6409745361014046,
          -1.2054505656390866,
          -0.5648212045818725,
          0.7586668028849586,
          -0.18694328490507595,
          -0.5246822943419557,
          0.1716824260239397,
          0.17281947072116297,
          0.9631735363229377,
          0.8573319073279776,
          2.7391337276103735,
          -0.8660589753505328,
          0.40759489166899276,
          -1.5249603091551445,
          -0.28412393855610363,
          1.3388176264294898,
          -0.7778806023887083,
          -1.002215354287591,
          -0.1309132593210741,
          1.0292025215239082,
          1.576109421092655,
          -2.7680691813938103,
          -1.1696015241546815,
          1.992857739976901,
          -0.3985444234746542,
          -0.7287240263019391,
          0.3778165333549547,
          -0.0028173576769728198,
          1.8365856724591496,
          -1.5811511724464855,
          0.14112966733498775,
          1.5226834789704895,
          -0.052630123298235944,
          0.5750266371763989,
          -0.3542992607317481,
          -1.2620214165498946,
          0.41219245488560224,
          1.5354942624235504,
          -0.4274499333810216,
          1.2622373437633672,
          -1.8754492230043058,
          -0.927983492576622,
          0.19482460729553538,
          -0.8839697047504629,
          0.16761091698702862,
          0.5480793234412067,
          -1.2069205358509782,
          1.8565012697440908,
          0.6414081528241,
          -1.8010467818833373,
          0.3081920656655891,
          0.46299664031639937,
          -0.861793356479736,
          1.9503678079314708,
          1.4349893470965174,
          2.7521414181104786,
          0.27344301616024774,
          0.3291002461450558,
          0.09630194977242912,
          0.8097744936659635,
          1.6929246110017406,
          -0.7259746620175114,
          1.0629019525856112,
          0.9751581738927138,
          -0.5179265464739529,
          0.040939684187299555,
          -0.8685496090915273,
          -1.0209998546636763,
          0.11565711451344551,
          -1.2954962527022302,
          -0.4122724614406656,
          1.4156544391757833
         ]
        },
        {
         "connectgaps": false,
         "fill": "tozeroy",
         "line": {
          "color": "green",
          "dash": "solid",
          "shape": "linear",
          "width": 0.5
         },
         "mode": "lines",
         "name": "Spread",
         "showlegend": false,
         "type": "scatter",
         "x": [
          0,
          1,
          2,
          3,
          4,
          5,
          6,
          7,
          8,
          9,
          10,
          11,
          12,
          13,
          14,
          15,
          16,
          17,
          18,
          19,
          20,
          21,
          22,
          23,
          24,
          25,
          26,
          27,
          28,
          29,
          30,
          31,
          32,
          33,
          34,
          35,
          36,
          37,
          38,
          39,
          40,
          41,
          42,
          43,
          44,
          45,
          46,
          47,
          48,
          49,
          50,
          51,
          52,
          53,
          54,
          55,
          56,
          57,
          58,
          59,
          60,
          61,
          62,
          63,
          64,
          65,
          66,
          67,
          68,
          69,
          70,
          71,
          72,
          73,
          74,
          75,
          76,
          77,
          78,
          79,
          80,
          81,
          82,
          83,
          84,
          85,
          86,
          87,
          88,
          89,
          90,
          91,
          92,
          93,
          94,
          95,
          96,
          97,
          98,
          99
         ],
         "xaxis": "x2",
         "y": [
          0.8475965253463685,
          0.14317881634246618,
          "",
          1.2478369800120421,
          "",
          "",
          2.579628043752712,
          1.1993250248994585,
          4.315370965359934,
          2.5767657141485483,
          0.4403438115143127,
          "",
          "",
          "",
          "",
          "",
          "",
          "",
          "",
          2.051635089371506,
          "",
          "",
          0.24958981033188976,
          "",
          "",
          "",
          0.9723811072768239,
          "",
          0.9336775184965995,
          0.6778344663173667,
          "",
          0.6648343101574725,
          "",
          "",
          "",
          "",
          "",
          0.9691816541005002,
          "",
          1.6090541043587598,
          1.54507514277319,
          2.1321722060293182,
          "",
          "",
          0.9057887247722407,
          0.7053740187586945,
          "",
          "",
          "",
          3.121321437193752,
          1.412136532434535,
          "",
          1.3741349794506428,
          "",
          0.5990004833810322,
          "",
          "",
          "",
          "",
          "",
          "",
          "",
          0.5256636984039289,
          1.2497070990237666,
          "",
          "",
          0.3647497511159339,
          0.017954287627303334,
          0.8507428869444664,
          "",
          0.8783817552353527,
          1.2868054022529933,
          "",
          0.052155761951776736,
          0.8143983166264114,
          "",
          "",
          0.975238106055244,
          1.0839958176533742,
          0.5704781912568497,
          "",
          "",
          "",
          "",
          "",
          "",
          "",
          "",
          "",
          1.3309862049421701,
          0.6454485524936069,
          "",
          "",
          0.10278368110044532,
          "",
          2.201536928928549,
          "",
          0.7732327650681757,
          0.3406183408209951,
          ""
         ],
         "yaxis": "y2"
        },
        {
         "connectgaps": false,
         "fill": "tozeroy",
         "line": {
          "color": "red",
          "dash": "solid",
          "shape": "linear",
          "width": 0.5
         },
         "mode": "lines",
         "name": "Spread",
         "showlegend": false,
         "type": "scatter",
         "x": [
          0,
          1,
          2,
          3,
          4,
          5,
          6,
          7,
          8,
          9,
          10,
          11,
          12,
          13,
          14,
          15,
          16,
          17,
          18,
          19,
          20,
          21,
          22,
          23,
          24,
          25,
          26,
          27,
          28,
          29,
          30,
          31,
          32,
          33,
          34,
          35,
          36,
          37,
          38,
          39,
          40,
          41,
          42,
          43,
          44,
          45,
          46,
          47,
          48,
          49,
          50,
          51,
          52,
          53,
          54,
          55,
          56,
          57,
          58,
          59,
          60,
          61,
          62,
          63,
          64,
          65,
          66,
          67,
          68,
          69,
          70,
          71,
          72,
          73,
          74,
          75,
          76,
          77,
          78,
          79,
          80,
          81,
          82,
          83,
          84,
          85,
          86,
          87,
          88,
          89,
          90,
          91,
          92,
          93,
          94,
          95,
          96,
          97,
          98,
          99
         ],
         "xaxis": "x2",
         "y": [
          "",
          "",
          -0.8870450917705934,
          "",
          -0.3521032042976353,
          -2.663035532992668,
          "",
          "",
          "",
          "",
          "",
          -1.0227567114709506,
          -1.485984510236858,
          -3.3081693107879158,
          -0.21056644798613997,
          -1.5966482197388794,
          -1.3382409314732602,
          -1.1378551051320773,
          -1.6379728749198927,
          "",
          -0.014713090210310975,
          -1.668716116615071,
          "",
          -0.5123646254606049,
          -0.877909356123875,
          -0.1158482157000359,
          "",
          -0.09776817632993728,
          "",
          "",
          -1.4031990350344694,
          "",
          -0.4980163581341688,
          -0.2955725607687447,
          -0.8451973171766811,
          -0.662618658737354,
          -1.8256288761449166,
          "",
          -2.996479682104078,
          "",
          "",
          "",
          -0.42552730212479317,
          -2.0067202229612446,
          "",
          "",
          -0.11394721865802987,
          -0.5263497969456333,
          -1.075196571071748,
          "",
          "",
          -3.2985659988735847,
          "",
          -1.1779175277070495,
          "",
          -0.45525496359460865,
          -1.517734217980677,
          -0.07260602209713607,
          -0.5723850793118292,
          -0.8327745367295291,
          -1.4076648192096195,
          -0.11260183374417049,
          "",
          "",
          -2.48763657741295,
          -1.1117557235408855,
          "",
          "",
          "",
          -0.5672212110745442,
          "",
          "",
          -2.310366951738614,
          "",
          "",
          -3.0909065391489268,
          -0.9203311029535982,
          "",
          "",
          "",
          -0.007622896444568261,
          -0.4026370529333365,
          -2.196350797941276,
          -4.477625661326581,
          -1.4002465249548401,
          -1.3112098044126583,
          -0.42177062968364276,
          -2.164535410030462,
          -1.2957752029546465,
          "",
          "",
          -0.8002520601902252,
          -1.0281354687717048,
          "",
          -0.8202617908514657,
          "",
          -1.111851473184744,
          "",
          "",
          -0.512343302913946
         ],
         "yaxis": "y2"
        }
       ],
       "layout": {
        "hovermode": "x",
        "legend": {
         "bgcolor": "#F5F6F9",
         "font": {
          "color": "#4D5663"
         }
        },
        "paper_bgcolor": "#F5F6F9",
        "plot_bgcolor": "#F5F6F9",
        "template": {
         "data": {
          "bar": [
           {
            "error_x": {
             "color": "#2a3f5f"
            },
            "error_y": {
             "color": "#2a3f5f"
            },
            "marker": {
             "line": {
              "color": "#E5ECF6",
              "width": 0.5
             },
             "pattern": {
              "fillmode": "overlay",
              "size": 10,
              "solidity": 0.2
             }
            },
            "type": "bar"
           }
          ],
          "barpolar": [
           {
            "marker": {
             "line": {
              "color": "#E5ECF6",
              "width": 0.5
             },
             "pattern": {
              "fillmode": "overlay",
              "size": 10,
              "solidity": 0.2
             }
            },
            "type": "barpolar"
           }
          ],
          "carpet": [
           {
            "aaxis": {
             "endlinecolor": "#2a3f5f",
             "gridcolor": "white",
             "linecolor": "white",
             "minorgridcolor": "white",
             "startlinecolor": "#2a3f5f"
            },
            "baxis": {
             "endlinecolor": "#2a3f5f",
             "gridcolor": "white",
             "linecolor": "white",
             "minorgridcolor": "white",
             "startlinecolor": "#2a3f5f"
            },
            "type": "carpet"
           }
          ],
          "choropleth": [
           {
            "colorbar": {
             "outlinewidth": 0,
             "ticks": ""
            },
            "type": "choropleth"
           }
          ],
          "contour": [
           {
            "colorbar": {
             "outlinewidth": 0,
             "ticks": ""
            },
            "colorscale": [
             [
              0,
              "#0d0887"
             ],
             [
              0.1111111111111111,
              "#46039f"
             ],
             [
              0.2222222222222222,
              "#7201a8"
             ],
             [
              0.3333333333333333,
              "#9c179e"
             ],
             [
              0.4444444444444444,
              "#bd3786"
             ],
             [
              0.5555555555555556,
              "#d8576b"
             ],
             [
              0.6666666666666666,
              "#ed7953"
             ],
             [
              0.7777777777777778,
              "#fb9f3a"
             ],
             [
              0.8888888888888888,
              "#fdca26"
             ],
             [
              1,
              "#f0f921"
             ]
            ],
            "type": "contour"
           }
          ],
          "contourcarpet": [
           {
            "colorbar": {
             "outlinewidth": 0,
             "ticks": ""
            },
            "type": "contourcarpet"
           }
          ],
          "heatmap": [
           {
            "colorbar": {
             "outlinewidth": 0,
             "ticks": ""
            },
            "colorscale": [
             [
              0,
              "#0d0887"
             ],
             [
              0.1111111111111111,
              "#46039f"
             ],
             [
              0.2222222222222222,
              "#7201a8"
             ],
             [
              0.3333333333333333,
              "#9c179e"
             ],
             [
              0.4444444444444444,
              "#bd3786"
             ],
             [
              0.5555555555555556,
              "#d8576b"
             ],
             [
              0.6666666666666666,
              "#ed7953"
             ],
             [
              0.7777777777777778,
              "#fb9f3a"
             ],
             [
              0.8888888888888888,
              "#fdca26"
             ],
             [
              1,
              "#f0f921"
             ]
            ],
            "type": "heatmap"
           }
          ],
          "heatmapgl": [
           {
            "colorbar": {
             "outlinewidth": 0,
             "ticks": ""
            },
            "colorscale": [
             [
              0,
              "#0d0887"
             ],
             [
              0.1111111111111111,
              "#46039f"
             ],
             [
              0.2222222222222222,
              "#7201a8"
             ],
             [
              0.3333333333333333,
              "#9c179e"
             ],
             [
              0.4444444444444444,
              "#bd3786"
             ],
             [
              0.5555555555555556,
              "#d8576b"
             ],
             [
              0.6666666666666666,
              "#ed7953"
             ],
             [
              0.7777777777777778,
              "#fb9f3a"
             ],
             [
              0.8888888888888888,
              "#fdca26"
             ],
             [
              1,
              "#f0f921"
             ]
            ],
            "type": "heatmapgl"
           }
          ],
          "histogram": [
           {
            "marker": {
             "pattern": {
              "fillmode": "overlay",
              "size": 10,
              "solidity": 0.2
             }
            },
            "type": "histogram"
           }
          ],
          "histogram2d": [
           {
            "colorbar": {
             "outlinewidth": 0,
             "ticks": ""
            },
            "colorscale": [
             [
              0,
              "#0d0887"
             ],
             [
              0.1111111111111111,
              "#46039f"
             ],
             [
              0.2222222222222222,
              "#7201a8"
             ],
             [
              0.3333333333333333,
              "#9c179e"
             ],
             [
              0.4444444444444444,
              "#bd3786"
             ],
             [
              0.5555555555555556,
              "#d8576b"
             ],
             [
              0.6666666666666666,
              "#ed7953"
             ],
             [
              0.7777777777777778,
              "#fb9f3a"
             ],
             [
              0.8888888888888888,
              "#fdca26"
             ],
             [
              1,
              "#f0f921"
             ]
            ],
            "type": "histogram2d"
           }
          ],
          "histogram2dcontour": [
           {
            "colorbar": {
             "outlinewidth": 0,
             "ticks": ""
            },
            "colorscale": [
             [
              0,
              "#0d0887"
             ],
             [
              0.1111111111111111,
              "#46039f"
             ],
             [
              0.2222222222222222,
              "#7201a8"
             ],
             [
              0.3333333333333333,
              "#9c179e"
             ],
             [
              0.4444444444444444,
              "#bd3786"
             ],
             [
              0.5555555555555556,
              "#d8576b"
             ],
             [
              0.6666666666666666,
              "#ed7953"
             ],
             [
              0.7777777777777778,
              "#fb9f3a"
             ],
             [
              0.8888888888888888,
              "#fdca26"
             ],
             [
              1,
              "#f0f921"
             ]
            ],
            "type": "histogram2dcontour"
           }
          ],
          "mesh3d": [
           {
            "colorbar": {
             "outlinewidth": 0,
             "ticks": ""
            },
            "type": "mesh3d"
           }
          ],
          "parcoords": [
           {
            "line": {
             "colorbar": {
              "outlinewidth": 0,
              "ticks": ""
             }
            },
            "type": "parcoords"
           }
          ],
          "pie": [
           {
            "automargin": true,
            "type": "pie"
           }
          ],
          "scatter": [
           {
            "fillpattern": {
             "fillmode": "overlay",
             "size": 10,
             "solidity": 0.2
            },
            "type": "scatter"
           }
          ],
          "scatter3d": [
           {
            "line": {
             "colorbar": {
              "outlinewidth": 0,
              "ticks": ""
             }
            },
            "marker": {
             "colorbar": {
              "outlinewidth": 0,
              "ticks": ""
             }
            },
            "type": "scatter3d"
           }
          ],
          "scattercarpet": [
           {
            "marker": {
             "colorbar": {
              "outlinewidth": 0,
              "ticks": ""
             }
            },
            "type": "scattercarpet"
           }
          ],
          "scattergeo": [
           {
            "marker": {
             "colorbar": {
              "outlinewidth": 0,
              "ticks": ""
             }
            },
            "type": "scattergeo"
           }
          ],
          "scattergl": [
           {
            "marker": {
             "colorbar": {
              "outlinewidth": 0,
              "ticks": ""
             }
            },
            "type": "scattergl"
           }
          ],
          "scattermapbox": [
           {
            "marker": {
             "colorbar": {
              "outlinewidth": 0,
              "ticks": ""
             }
            },
            "type": "scattermapbox"
           }
          ],
          "scatterpolar": [
           {
            "marker": {
             "colorbar": {
              "outlinewidth": 0,
              "ticks": ""
             }
            },
            "type": "scatterpolar"
           }
          ],
          "scatterpolargl": [
           {
            "marker": {
             "colorbar": {
              "outlinewidth": 0,
              "ticks": ""
             }
            },
            "type": "scatterpolargl"
           }
          ],
          "scatterternary": [
           {
            "marker": {
             "colorbar": {
              "outlinewidth": 0,
              "ticks": ""
             }
            },
            "type": "scatterternary"
           }
          ],
          "surface": [
           {
            "colorbar": {
             "outlinewidth": 0,
             "ticks": ""
            },
            "colorscale": [
             [
              0,
              "#0d0887"
             ],
             [
              0.1111111111111111,
              "#46039f"
             ],
             [
              0.2222222222222222,
              "#7201a8"
             ],
             [
              0.3333333333333333,
              "#9c179e"
             ],
             [
              0.4444444444444444,
              "#bd3786"
             ],
             [
              0.5555555555555556,
              "#d8576b"
             ],
             [
              0.6666666666666666,
              "#ed7953"
             ],
             [
              0.7777777777777778,
              "#fb9f3a"
             ],
             [
              0.8888888888888888,
              "#fdca26"
             ],
             [
              1,
              "#f0f921"
             ]
            ],
            "type": "surface"
           }
          ],
          "table": [
           {
            "cells": {
             "fill": {
              "color": "#EBF0F8"
             },
             "line": {
              "color": "white"
             }
            },
            "header": {
             "fill": {
              "color": "#C8D4E3"
             },
             "line": {
              "color": "white"
             }
            },
            "type": "table"
           }
          ]
         },
         "layout": {
          "annotationdefaults": {
           "arrowcolor": "#2a3f5f",
           "arrowhead": 0,
           "arrowwidth": 1
          },
          "autotypenumbers": "strict",
          "coloraxis": {
           "colorbar": {
            "outlinewidth": 0,
            "ticks": ""
           }
          },
          "colorscale": {
           "diverging": [
            [
             0,
             "#8e0152"
            ],
            [
             0.1,
             "#c51b7d"
            ],
            [
             0.2,
             "#de77ae"
            ],
            [
             0.3,
             "#f1b6da"
            ],
            [
             0.4,
             "#fde0ef"
            ],
            [
             0.5,
             "#f7f7f7"
            ],
            [
             0.6,
             "#e6f5d0"
            ],
            [
             0.7,
             "#b8e186"
            ],
            [
             0.8,
             "#7fbc41"
            ],
            [
             0.9,
             "#4d9221"
            ],
            [
             1,
             "#276419"
            ]
           ],
           "sequential": [
            [
             0,
             "#0d0887"
            ],
            [
             0.1111111111111111,
             "#46039f"
            ],
            [
             0.2222222222222222,
             "#7201a8"
            ],
            [
             0.3333333333333333,
             "#9c179e"
            ],
            [
             0.4444444444444444,
             "#bd3786"
            ],
            [
             0.5555555555555556,
             "#d8576b"
            ],
            [
             0.6666666666666666,
             "#ed7953"
            ],
            [
             0.7777777777777778,
             "#fb9f3a"
            ],
            [
             0.8888888888888888,
             "#fdca26"
            ],
            [
             1,
             "#f0f921"
            ]
           ],
           "sequentialminus": [
            [
             0,
             "#0d0887"
            ],
            [
             0.1111111111111111,
             "#46039f"
            ],
            [
             0.2222222222222222,
             "#7201a8"
            ],
            [
             0.3333333333333333,
             "#9c179e"
            ],
            [
             0.4444444444444444,
             "#bd3786"
            ],
            [
             0.5555555555555556,
             "#d8576b"
            ],
            [
             0.6666666666666666,
             "#ed7953"
            ],
            [
             0.7777777777777778,
             "#fb9f3a"
            ],
            [
             0.8888888888888888,
             "#fdca26"
            ],
            [
             1,
             "#f0f921"
            ]
           ]
          },
          "colorway": [
           "#636efa",
           "#EF553B",
           "#00cc96",
           "#ab63fa",
           "#FFA15A",
           "#19d3f3",
           "#FF6692",
           "#B6E880",
           "#FF97FF",
           "#FECB52"
          ],
          "font": {
           "color": "#2a3f5f"
          },
          "geo": {
           "bgcolor": "white",
           "lakecolor": "white",
           "landcolor": "#E5ECF6",
           "showlakes": true,
           "showland": true,
           "subunitcolor": "white"
          },
          "hoverlabel": {
           "align": "left"
          },
          "hovermode": "closest",
          "mapbox": {
           "style": "light"
          },
          "paper_bgcolor": "white",
          "plot_bgcolor": "#E5ECF6",
          "polar": {
           "angularaxis": {
            "gridcolor": "white",
            "linecolor": "white",
            "ticks": ""
           },
           "bgcolor": "#E5ECF6",
           "radialaxis": {
            "gridcolor": "white",
            "linecolor": "white",
            "ticks": ""
           }
          },
          "scene": {
           "xaxis": {
            "backgroundcolor": "#E5ECF6",
            "gridcolor": "white",
            "gridwidth": 2,
            "linecolor": "white",
            "showbackground": true,
            "ticks": "",
            "zerolinecolor": "white"
           },
           "yaxis": {
            "backgroundcolor": "#E5ECF6",
            "gridcolor": "white",
            "gridwidth": 2,
            "linecolor": "white",
            "showbackground": true,
            "ticks": "",
            "zerolinecolor": "white"
           },
           "zaxis": {
            "backgroundcolor": "#E5ECF6",
            "gridcolor": "white",
            "gridwidth": 2,
            "linecolor": "white",
            "showbackground": true,
            "ticks": "",
            "zerolinecolor": "white"
           }
          },
          "shapedefaults": {
           "line": {
            "color": "#2a3f5f"
           }
          },
          "ternary": {
           "aaxis": {
            "gridcolor": "white",
            "linecolor": "white",
            "ticks": ""
           },
           "baxis": {
            "gridcolor": "white",
            "linecolor": "white",
            "ticks": ""
           },
           "bgcolor": "#E5ECF6",
           "caxis": {
            "gridcolor": "white",
            "linecolor": "white",
            "ticks": ""
           }
          },
          "title": {
           "x": 0.05
          },
          "xaxis": {
           "automargin": true,
           "gridcolor": "white",
           "linecolor": "white",
           "ticks": "",
           "title": {
            "standoff": 15
           },
           "zerolinecolor": "white",
           "zerolinewidth": 2
          },
          "yaxis": {
           "automargin": true,
           "gridcolor": "white",
           "linecolor": "white",
           "ticks": "",
           "title": {
            "standoff": 15
           },
           "zerolinecolor": "white",
           "zerolinewidth": 2
          }
         }
        },
        "title": {
         "font": {
          "color": "#4D5663"
         }
        },
        "xaxis": {
         "gridcolor": "#E1E5ED",
         "showgrid": true,
         "tickfont": {
          "color": "#4D5663"
         },
         "title": {
          "font": {
           "color": "#4D5663"
          },
          "text": ""
         },
         "zerolinecolor": "#E1E5ED"
        },
        "xaxis2": {
         "anchor": "y2",
         "gridcolor": "#E1E5ED",
         "showgrid": true,
         "showticklabels": false,
         "tickfont": {
          "color": "#4D5663"
         },
         "title": {
          "font": {
           "color": "#4D5663"
          },
          "text": ""
         },
         "zerolinecolor": "#E1E5ED"
        },
        "yaxis": {
         "domain": [
          0.3,
          1
         ],
         "gridcolor": "#E1E5ED",
         "showgrid": true,
         "tickfont": {
          "color": "#4D5663"
         },
         "title": {
          "font": {
           "color": "#4D5663"
          },
          "text": ""
         },
         "zerolinecolor": "#E1E5ED"
        },
        "yaxis2": {
         "domain": [
          0,
          0.25
         ],
         "gridcolor": "#E1E5ED",
         "showgrid": true,
         "tickfont": {
          "color": "#4D5663"
         },
         "title": {
          "font": {
           "color": "#4D5663"
          },
          "text": "Spread"
         },
         "zerolinecolor": "#E1E5ED"
        }
       }
      },
      "text/html": [
       "<div>                            <div id=\"2700a467-6daa-4f10-b96d-a0ff7a2654a1\" class=\"plotly-graph-div\" style=\"height:525px; width:100%;\"></div>            <script type=\"text/javascript\">                require([\"plotly\"], function(Plotly) {                    window.PLOTLYENV=window.PLOTLYENV || {};\n",
       "                    window.PLOTLYENV.BASE_URL='https://plot.ly';                                    if (document.getElementById(\"2700a467-6daa-4f10-b96d-a0ff7a2654a1\")) {                    Plotly.newPlot(                        \"2700a467-6daa-4f10-b96d-a0ff7a2654a1\",                        [{\"line\":{\"color\":\"rgba(255, 153, 51, 1.0)\",\"dash\":\"solid\",\"shape\":\"linear\",\"width\":1.3},\"mode\":\"lines\",\"name\":\"A\",\"text\":\"\",\"x\":[0,1,2,3,4,5,6,7,8,9,10,11,12,13,14,15,16,17,18,19,20,21,22,23,24,25,26,27,28,29,30,31,32,33,34,35,36,37,38,39,40,41,42,43,44,45,46,47,48,49,50,51,52,53,54,55,56,57,58,59,60,61,62,63,64,65,66,67,68,69,70,71,72,73,74,75,76,77,78,79,80,81,82,83,84,85,86,87,88,89,90,91,92,93,94,95,96,97,98,99],\"y\":[0.006313458985566085,0.0012147700438570593,-0.6151467796336,1.0191844884189065,-0.7495075739982601,-1.7985950729458002,0.15382533456183314,-0.5576872225427343,1.5593605186079846,1.700355672186201,-0.15236553270416087,0.39044094019462977,-0.5614557622261617,-1.2696193560262417,-0.024520044223959203,-0.7171428227047335,0.11381698115296884,-2.3261206919345363,0.37015277327553536,0.15583532903095587,-1.2289328448668377,-1.083066067855664,0.43971959185345716,-0.7927303406405242,-0.1343156933997293,-0.8773137644384209,1.1451110216332794,0.5148688588470663,0.2927029823951949,-0.5276160993217199,-1.9680202396163418,1.423501113042431,-0.6849596430392447,-0.8202548551107004,-0.6735148911527414,-0.48979918801619104,-0.8624553398219791,1.8265135614284778,-0.2573459544937043,0.742995129008227,1.9526700344421826,0.6072118968741738,-0.7096512406808968,-0.6679025965317548,0.1279081223835325,-0.2968413355288964,-0.24486047797910396,0.5028527245782749,0.500912850020907,0.35325225579994163,0.2425350082798535,-1.305708258896684,0.9755905559759886,-1.9066415540089885,0.9768170167359869,-0.4580723212715815,0.3188514544784727,-1.6537571945436216,-0.43125541197684153,0.6899089422409604,-1.4602949425078555,0.4624248034322284,0.17136443767218074,-0.012314317526127971,-2.075444122527348,0.42373853888266483,-0.06270018226508774,1.2801916313906705,-1.0247063360598394,-1.4952047036511662,1.073206362530888,0.4028356975025304,-2.142756034751585,0.6002350853929834,-0.39252221922456687,-1.234405269404836,-0.2789229501294982,-0.8258086758280934,1.3921878833189631,1.0334748315732492,-0.8694162529243042,1.5477307549981343,-0.7613614508447585,-1.725484243216102,-1.1268035087945925,-0.9821095582676026,-0.32546867991121364,-1.3547609163644982,0.39714940804709403,0.6050115429246586,1.708350505079218,0.17490611370248854,-1.5460620152456577,0.14372336528774488,-1.688811399942993,1.1805370742648729,-0.9961943586712984,-0.5222634876340545,-0.07165412061967047,0.9033111362618372],\"type\":\"scatter\"},{\"line\":{\"color\":\"rgba(55, 128, 191, 1.0)\",\"dash\":\"solid\",\"shape\":\"linear\",\"width\":1.3},\"mode\":\"lines\",\"name\":\"B\",\"text\":\"\",\"x\":[0,1,2,3,4,5,6,7,8,9,10,11,12,13,14,15,16,17,18,19,20,21,22,23,24,25,26,27,28,29,30,31,32,33,34,35,36,37,38,39,40,41,42,43,44,45,46,47,48,49,50,51,52,53,54,55,56,57,58,59,60,61,62,63,64,65,66,67,68,69,70,71,72,73,74,75,76,77,78,79,80,81,82,83,84,85,86,87,88,89,90,91,92,93,94,95,96,97,98,99],\"y\":[-0.8412830663608024,-0.14196404629860912,0.27189831213699345,-0.2286524915931357,-0.39740436970062476,0.8644404600468678,-2.425802709190879,-1.7570122474421928,-2.756010446751949,-0.8764100419623471,-0.5927093442184735,1.4131976516655804,0.9245287480106964,2.0385499547616743,0.18604640376218076,0.8795053970341459,1.452057912626229,-1.188265586802459,2.008125648195428,-1.89579976034055,-1.2142197546565268,0.585650048759407,0.1901297815215674,-0.28036571517991926,0.7435936627241457,-0.761465548738385,0.17272991435645543,0.6126370351770036,-0.6409745361014046,-1.2054505656390866,-0.5648212045818725,0.7586668028849586,-0.18694328490507595,-0.5246822943419557,0.1716824260239397,0.17281947072116297,0.9631735363229377,0.8573319073279776,2.7391337276103735,-0.8660589753505328,0.40759489166899276,-1.5249603091551445,-0.28412393855610363,1.3388176264294898,-0.7778806023887083,-1.002215354287591,-0.1309132593210741,1.0292025215239082,1.576109421092655,-2.7680691813938103,-1.1696015241546815,1.992857739976901,-0.3985444234746542,-0.7287240263019391,0.3778165333549547,-0.0028173576769728198,1.8365856724591496,-1.5811511724464855,0.14112966733498775,1.5226834789704895,-0.052630123298235944,0.5750266371763989,-0.3542992607317481,-1.2620214165498946,0.41219245488560224,1.5354942624235504,-0.4274499333810216,1.2622373437633672,-1.8754492230043058,-0.927983492576622,0.19482460729553538,-0.8839697047504629,0.16761091698702862,0.5480793234412067,-1.2069205358509782,1.8565012697440908,0.6414081528241,-1.8010467818833373,0.3081920656655891,0.46299664031639937,-0.861793356479736,1.9503678079314708,1.4349893470965174,2.7521414181104786,0.27344301616024774,0.3291002461450558,0.09630194977242912,0.8097744936659635,1.6929246110017406,-0.7259746620175114,1.0629019525856112,0.9751581738927138,-0.5179265464739529,0.040939684187299555,-0.8685496090915273,-1.0209998546636763,0.11565711451344551,-1.2954962527022302,-0.4122724614406656,1.4156544391757833],\"type\":\"scatter\"},{\"connectgaps\":false,\"fill\":\"tozeroy\",\"line\":{\"color\":\"green\",\"dash\":\"solid\",\"shape\":\"linear\",\"width\":0.5},\"mode\":\"lines\",\"name\":\"Spread\",\"showlegend\":false,\"x\":[0,1,2,3,4,5,6,7,8,9,10,11,12,13,14,15,16,17,18,19,20,21,22,23,24,25,26,27,28,29,30,31,32,33,34,35,36,37,38,39,40,41,42,43,44,45,46,47,48,49,50,51,52,53,54,55,56,57,58,59,60,61,62,63,64,65,66,67,68,69,70,71,72,73,74,75,76,77,78,79,80,81,82,83,84,85,86,87,88,89,90,91,92,93,94,95,96,97,98,99],\"xaxis\":\"x2\",\"y\":[0.8475965253463685,0.14317881634246618,\"\",1.2478369800120421,\"\",\"\",2.579628043752712,1.1993250248994585,4.315370965359934,2.5767657141485483,0.4403438115143127,\"\",\"\",\"\",\"\",\"\",\"\",\"\",\"\",2.051635089371506,\"\",\"\",0.24958981033188976,\"\",\"\",\"\",0.9723811072768239,\"\",0.9336775184965995,0.6778344663173667,\"\",0.6648343101574725,\"\",\"\",\"\",\"\",\"\",0.9691816541005002,\"\",1.6090541043587598,1.54507514277319,2.1321722060293182,\"\",\"\",0.9057887247722407,0.7053740187586945,\"\",\"\",\"\",3.121321437193752,1.412136532434535,\"\",1.3741349794506428,\"\",0.5990004833810322,\"\",\"\",\"\",\"\",\"\",\"\",\"\",0.5256636984039289,1.2497070990237666,\"\",\"\",0.3647497511159339,0.017954287627303334,0.8507428869444664,\"\",0.8783817552353527,1.2868054022529933,\"\",0.052155761951776736,0.8143983166264114,\"\",\"\",0.975238106055244,1.0839958176533742,0.5704781912568497,\"\",\"\",\"\",\"\",\"\",\"\",\"\",\"\",\"\",1.3309862049421701,0.6454485524936069,\"\",\"\",0.10278368110044532,\"\",2.201536928928549,\"\",0.7732327650681757,0.3406183408209951,\"\"],\"yaxis\":\"y2\",\"type\":\"scatter\"},{\"connectgaps\":false,\"fill\":\"tozeroy\",\"line\":{\"color\":\"red\",\"dash\":\"solid\",\"shape\":\"linear\",\"width\":0.5},\"mode\":\"lines\",\"name\":\"Spread\",\"showlegend\":false,\"x\":[0,1,2,3,4,5,6,7,8,9,10,11,12,13,14,15,16,17,18,19,20,21,22,23,24,25,26,27,28,29,30,31,32,33,34,35,36,37,38,39,40,41,42,43,44,45,46,47,48,49,50,51,52,53,54,55,56,57,58,59,60,61,62,63,64,65,66,67,68,69,70,71,72,73,74,75,76,77,78,79,80,81,82,83,84,85,86,87,88,89,90,91,92,93,94,95,96,97,98,99],\"xaxis\":\"x2\",\"y\":[\"\",\"\",-0.8870450917705934,\"\",-0.3521032042976353,-2.663035532992668,\"\",\"\",\"\",\"\",\"\",-1.0227567114709506,-1.485984510236858,-3.3081693107879158,-0.21056644798613997,-1.5966482197388794,-1.3382409314732602,-1.1378551051320773,-1.6379728749198927,\"\",-0.014713090210310975,-1.668716116615071,\"\",-0.5123646254606049,-0.877909356123875,-0.1158482157000359,\"\",-0.09776817632993728,\"\",\"\",-1.4031990350344694,\"\",-0.4980163581341688,-0.2955725607687447,-0.8451973171766811,-0.662618658737354,-1.8256288761449166,\"\",-2.996479682104078,\"\",\"\",\"\",-0.42552730212479317,-2.0067202229612446,\"\",\"\",-0.11394721865802987,-0.5263497969456333,-1.075196571071748,\"\",\"\",-3.2985659988735847,\"\",-1.1779175277070495,\"\",-0.45525496359460865,-1.517734217980677,-0.07260602209713607,-0.5723850793118292,-0.8327745367295291,-1.4076648192096195,-0.11260183374417049,\"\",\"\",-2.48763657741295,-1.1117557235408855,\"\",\"\",\"\",-0.5672212110745442,\"\",\"\",-2.310366951738614,\"\",\"\",-3.0909065391489268,-0.9203311029535982,\"\",\"\",\"\",-0.007622896444568261,-0.4026370529333365,-2.196350797941276,-4.477625661326581,-1.4002465249548401,-1.3112098044126583,-0.42177062968364276,-2.164535410030462,-1.2957752029546465,\"\",\"\",-0.8002520601902252,-1.0281354687717048,\"\",-0.8202617908514657,\"\",-1.111851473184744,\"\",\"\",-0.512343302913946],\"yaxis\":\"y2\",\"type\":\"scatter\"}],                        {\"hovermode\":\"x\",\"legend\":{\"bgcolor\":\"#F5F6F9\",\"font\":{\"color\":\"#4D5663\"}},\"paper_bgcolor\":\"#F5F6F9\",\"plot_bgcolor\":\"#F5F6F9\",\"template\":{\"data\":{\"barpolar\":[{\"marker\":{\"line\":{\"color\":\"#E5ECF6\",\"width\":0.5},\"pattern\":{\"fillmode\":\"overlay\",\"size\":10,\"solidity\":0.2}},\"type\":\"barpolar\"}],\"bar\":[{\"error_x\":{\"color\":\"#2a3f5f\"},\"error_y\":{\"color\":\"#2a3f5f\"},\"marker\":{\"line\":{\"color\":\"#E5ECF6\",\"width\":0.5},\"pattern\":{\"fillmode\":\"overlay\",\"size\":10,\"solidity\":0.2}},\"type\":\"bar\"}],\"carpet\":[{\"aaxis\":{\"endlinecolor\":\"#2a3f5f\",\"gridcolor\":\"white\",\"linecolor\":\"white\",\"minorgridcolor\":\"white\",\"startlinecolor\":\"#2a3f5f\"},\"baxis\":{\"endlinecolor\":\"#2a3f5f\",\"gridcolor\":\"white\",\"linecolor\":\"white\",\"minorgridcolor\":\"white\",\"startlinecolor\":\"#2a3f5f\"},\"type\":\"carpet\"}],\"choropleth\":[{\"colorbar\":{\"outlinewidth\":0,\"ticks\":\"\"},\"type\":\"choropleth\"}],\"contourcarpet\":[{\"colorbar\":{\"outlinewidth\":0,\"ticks\":\"\"},\"type\":\"contourcarpet\"}],\"contour\":[{\"colorbar\":{\"outlinewidth\":0,\"ticks\":\"\"},\"colorscale\":[[0.0,\"#0d0887\"],[0.1111111111111111,\"#46039f\"],[0.2222222222222222,\"#7201a8\"],[0.3333333333333333,\"#9c179e\"],[0.4444444444444444,\"#bd3786\"],[0.5555555555555556,\"#d8576b\"],[0.6666666666666666,\"#ed7953\"],[0.7777777777777778,\"#fb9f3a\"],[0.8888888888888888,\"#fdca26\"],[1.0,\"#f0f921\"]],\"type\":\"contour\"}],\"heatmapgl\":[{\"colorbar\":{\"outlinewidth\":0,\"ticks\":\"\"},\"colorscale\":[[0.0,\"#0d0887\"],[0.1111111111111111,\"#46039f\"],[0.2222222222222222,\"#7201a8\"],[0.3333333333333333,\"#9c179e\"],[0.4444444444444444,\"#bd3786\"],[0.5555555555555556,\"#d8576b\"],[0.6666666666666666,\"#ed7953\"],[0.7777777777777778,\"#fb9f3a\"],[0.8888888888888888,\"#fdca26\"],[1.0,\"#f0f921\"]],\"type\":\"heatmapgl\"}],\"heatmap\":[{\"colorbar\":{\"outlinewidth\":0,\"ticks\":\"\"},\"colorscale\":[[0.0,\"#0d0887\"],[0.1111111111111111,\"#46039f\"],[0.2222222222222222,\"#7201a8\"],[0.3333333333333333,\"#9c179e\"],[0.4444444444444444,\"#bd3786\"],[0.5555555555555556,\"#d8576b\"],[0.6666666666666666,\"#ed7953\"],[0.7777777777777778,\"#fb9f3a\"],[0.8888888888888888,\"#fdca26\"],[1.0,\"#f0f921\"]],\"type\":\"heatmap\"}],\"histogram2dcontour\":[{\"colorbar\":{\"outlinewidth\":0,\"ticks\":\"\"},\"colorscale\":[[0.0,\"#0d0887\"],[0.1111111111111111,\"#46039f\"],[0.2222222222222222,\"#7201a8\"],[0.3333333333333333,\"#9c179e\"],[0.4444444444444444,\"#bd3786\"],[0.5555555555555556,\"#d8576b\"],[0.6666666666666666,\"#ed7953\"],[0.7777777777777778,\"#fb9f3a\"],[0.8888888888888888,\"#fdca26\"],[1.0,\"#f0f921\"]],\"type\":\"histogram2dcontour\"}],\"histogram2d\":[{\"colorbar\":{\"outlinewidth\":0,\"ticks\":\"\"},\"colorscale\":[[0.0,\"#0d0887\"],[0.1111111111111111,\"#46039f\"],[0.2222222222222222,\"#7201a8\"],[0.3333333333333333,\"#9c179e\"],[0.4444444444444444,\"#bd3786\"],[0.5555555555555556,\"#d8576b\"],[0.6666666666666666,\"#ed7953\"],[0.7777777777777778,\"#fb9f3a\"],[0.8888888888888888,\"#fdca26\"],[1.0,\"#f0f921\"]],\"type\":\"histogram2d\"}],\"histogram\":[{\"marker\":{\"pattern\":{\"fillmode\":\"overlay\",\"size\":10,\"solidity\":0.2}},\"type\":\"histogram\"}],\"mesh3d\":[{\"colorbar\":{\"outlinewidth\":0,\"ticks\":\"\"},\"type\":\"mesh3d\"}],\"parcoords\":[{\"line\":{\"colorbar\":{\"outlinewidth\":0,\"ticks\":\"\"}},\"type\":\"parcoords\"}],\"pie\":[{\"automargin\":true,\"type\":\"pie\"}],\"scatter3d\":[{\"line\":{\"colorbar\":{\"outlinewidth\":0,\"ticks\":\"\"}},\"marker\":{\"colorbar\":{\"outlinewidth\":0,\"ticks\":\"\"}},\"type\":\"scatter3d\"}],\"scattercarpet\":[{\"marker\":{\"colorbar\":{\"outlinewidth\":0,\"ticks\":\"\"}},\"type\":\"scattercarpet\"}],\"scattergeo\":[{\"marker\":{\"colorbar\":{\"outlinewidth\":0,\"ticks\":\"\"}},\"type\":\"scattergeo\"}],\"scattergl\":[{\"marker\":{\"colorbar\":{\"outlinewidth\":0,\"ticks\":\"\"}},\"type\":\"scattergl\"}],\"scattermapbox\":[{\"marker\":{\"colorbar\":{\"outlinewidth\":0,\"ticks\":\"\"}},\"type\":\"scattermapbox\"}],\"scatterpolargl\":[{\"marker\":{\"colorbar\":{\"outlinewidth\":0,\"ticks\":\"\"}},\"type\":\"scatterpolargl\"}],\"scatterpolar\":[{\"marker\":{\"colorbar\":{\"outlinewidth\":0,\"ticks\":\"\"}},\"type\":\"scatterpolar\"}],\"scatter\":[{\"fillpattern\":{\"fillmode\":\"overlay\",\"size\":10,\"solidity\":0.2},\"type\":\"scatter\"}],\"scatterternary\":[{\"marker\":{\"colorbar\":{\"outlinewidth\":0,\"ticks\":\"\"}},\"type\":\"scatterternary\"}],\"surface\":[{\"colorbar\":{\"outlinewidth\":0,\"ticks\":\"\"},\"colorscale\":[[0.0,\"#0d0887\"],[0.1111111111111111,\"#46039f\"],[0.2222222222222222,\"#7201a8\"],[0.3333333333333333,\"#9c179e\"],[0.4444444444444444,\"#bd3786\"],[0.5555555555555556,\"#d8576b\"],[0.6666666666666666,\"#ed7953\"],[0.7777777777777778,\"#fb9f3a\"],[0.8888888888888888,\"#fdca26\"],[1.0,\"#f0f921\"]],\"type\":\"surface\"}],\"table\":[{\"cells\":{\"fill\":{\"color\":\"#EBF0F8\"},\"line\":{\"color\":\"white\"}},\"header\":{\"fill\":{\"color\":\"#C8D4E3\"},\"line\":{\"color\":\"white\"}},\"type\":\"table\"}]},\"layout\":{\"annotationdefaults\":{\"arrowcolor\":\"#2a3f5f\",\"arrowhead\":0,\"arrowwidth\":1},\"autotypenumbers\":\"strict\",\"coloraxis\":{\"colorbar\":{\"outlinewidth\":0,\"ticks\":\"\"}},\"colorscale\":{\"diverging\":[[0,\"#8e0152\"],[0.1,\"#c51b7d\"],[0.2,\"#de77ae\"],[0.3,\"#f1b6da\"],[0.4,\"#fde0ef\"],[0.5,\"#f7f7f7\"],[0.6,\"#e6f5d0\"],[0.7,\"#b8e186\"],[0.8,\"#7fbc41\"],[0.9,\"#4d9221\"],[1,\"#276419\"]],\"sequential\":[[0.0,\"#0d0887\"],[0.1111111111111111,\"#46039f\"],[0.2222222222222222,\"#7201a8\"],[0.3333333333333333,\"#9c179e\"],[0.4444444444444444,\"#bd3786\"],[0.5555555555555556,\"#d8576b\"],[0.6666666666666666,\"#ed7953\"],[0.7777777777777778,\"#fb9f3a\"],[0.8888888888888888,\"#fdca26\"],[1.0,\"#f0f921\"]],\"sequentialminus\":[[0.0,\"#0d0887\"],[0.1111111111111111,\"#46039f\"],[0.2222222222222222,\"#7201a8\"],[0.3333333333333333,\"#9c179e\"],[0.4444444444444444,\"#bd3786\"],[0.5555555555555556,\"#d8576b\"],[0.6666666666666666,\"#ed7953\"],[0.7777777777777778,\"#fb9f3a\"],[0.8888888888888888,\"#fdca26\"],[1.0,\"#f0f921\"]]},\"colorway\":[\"#636efa\",\"#EF553B\",\"#00cc96\",\"#ab63fa\",\"#FFA15A\",\"#19d3f3\",\"#FF6692\",\"#B6E880\",\"#FF97FF\",\"#FECB52\"],\"font\":{\"color\":\"#2a3f5f\"},\"geo\":{\"bgcolor\":\"white\",\"lakecolor\":\"white\",\"landcolor\":\"#E5ECF6\",\"showlakes\":true,\"showland\":true,\"subunitcolor\":\"white\"},\"hoverlabel\":{\"align\":\"left\"},\"hovermode\":\"closest\",\"mapbox\":{\"style\":\"light\"},\"paper_bgcolor\":\"white\",\"plot_bgcolor\":\"#E5ECF6\",\"polar\":{\"angularaxis\":{\"gridcolor\":\"white\",\"linecolor\":\"white\",\"ticks\":\"\"},\"bgcolor\":\"#E5ECF6\",\"radialaxis\":{\"gridcolor\":\"white\",\"linecolor\":\"white\",\"ticks\":\"\"}},\"scene\":{\"xaxis\":{\"backgroundcolor\":\"#E5ECF6\",\"gridcolor\":\"white\",\"gridwidth\":2,\"linecolor\":\"white\",\"showbackground\":true,\"ticks\":\"\",\"zerolinecolor\":\"white\"},\"yaxis\":{\"backgroundcolor\":\"#E5ECF6\",\"gridcolor\":\"white\",\"gridwidth\":2,\"linecolor\":\"white\",\"showbackground\":true,\"ticks\":\"\",\"zerolinecolor\":\"white\"},\"zaxis\":{\"backgroundcolor\":\"#E5ECF6\",\"gridcolor\":\"white\",\"gridwidth\":2,\"linecolor\":\"white\",\"showbackground\":true,\"ticks\":\"\",\"zerolinecolor\":\"white\"}},\"shapedefaults\":{\"line\":{\"color\":\"#2a3f5f\"}},\"ternary\":{\"aaxis\":{\"gridcolor\":\"white\",\"linecolor\":\"white\",\"ticks\":\"\"},\"baxis\":{\"gridcolor\":\"white\",\"linecolor\":\"white\",\"ticks\":\"\"},\"bgcolor\":\"#E5ECF6\",\"caxis\":{\"gridcolor\":\"white\",\"linecolor\":\"white\",\"ticks\":\"\"}},\"title\":{\"x\":0.05},\"xaxis\":{\"automargin\":true,\"gridcolor\":\"white\",\"linecolor\":\"white\",\"ticks\":\"\",\"title\":{\"standoff\":15},\"zerolinecolor\":\"white\",\"zerolinewidth\":2},\"yaxis\":{\"automargin\":true,\"gridcolor\":\"white\",\"linecolor\":\"white\",\"ticks\":\"\",\"title\":{\"standoff\":15},\"zerolinecolor\":\"white\",\"zerolinewidth\":2}}},\"title\":{\"font\":{\"color\":\"#4D5663\"}},\"xaxis\":{\"gridcolor\":\"#E1E5ED\",\"showgrid\":true,\"tickfont\":{\"color\":\"#4D5663\"},\"title\":{\"font\":{\"color\":\"#4D5663\"},\"text\":\"\"},\"zerolinecolor\":\"#E1E5ED\"},\"yaxis\":{\"domain\":[0.3,1],\"gridcolor\":\"#E1E5ED\",\"showgrid\":true,\"tickfont\":{\"color\":\"#4D5663\"},\"title\":{\"font\":{\"color\":\"#4D5663\"},\"text\":\"\"},\"zerolinecolor\":\"#E1E5ED\"},\"yaxis2\":{\"domain\":[0,0.25],\"gridcolor\":\"#E1E5ED\",\"showgrid\":true,\"tickfont\":{\"color\":\"#4D5663\"},\"title\":{\"font\":{\"color\":\"#4D5663\"},\"text\":\"Spread\"},\"zerolinecolor\":\"#E1E5ED\"},\"xaxis2\":{\"anchor\":\"y2\",\"gridcolor\":\"#E1E5ED\",\"showgrid\":true,\"showticklabels\":false,\"tickfont\":{\"color\":\"#4D5663\"},\"title\":{\"font\":{\"color\":\"#4D5663\"},\"text\":\"\"},\"zerolinecolor\":\"#E1E5ED\"}},                        {\"showLink\": true, \"linkText\": \"Export to plot.ly\", \"plotlyServerURL\": \"https://plot.ly\", \"responsive\": true}                    ).then(function(){\n",
       "                            \n",
       "var gd = document.getElementById('2700a467-6daa-4f10-b96d-a0ff7a2654a1');\n",
       "var x = new MutationObserver(function (mutations, observer) {{\n",
       "        var display = window.getComputedStyle(gd).display;\n",
       "        if (!display || display === 'none') {{\n",
       "            console.log([gd, 'removed!']);\n",
       "            Plotly.purge(gd);\n",
       "            observer.disconnect();\n",
       "        }}\n",
       "}});\n",
       "\n",
       "// Listen for the removal of the full notebook cells\n",
       "var notebookContainer = gd.closest('#notebook-container');\n",
       "if (notebookContainer) {{\n",
       "    x.observe(notebookContainer, {childList: true});\n",
       "}}\n",
       "\n",
       "// Listen for the clearing of the current output cell\n",
       "var outputEl = gd.closest('.output');\n",
       "if (outputEl) {{\n",
       "    x.observe(outputEl, {childList: true});\n",
       "}}\n",
       "\n",
       "                        })                };                });            </script>        </div>"
      ]
     },
     "metadata": {},
     "output_type": "display_data"
    }
   ],
   "source": [
    "df[['A','B']].iplot(kind='spread')"
   ]
  },
  {
   "cell_type": "markdown",
   "metadata": {},
   "source": [
    "## histogram"
   ]
  },
  {
   "cell_type": "code",
   "execution_count": 28,
   "metadata": {},
   "outputs": [
    {
     "data": {
      "application/vnd.plotly.v1+json": {
       "config": {
        "linkText": "Export to plot.ly",
        "plotlyServerURL": "https://plot.ly",
        "showLink": true
       },
       "data": [
        {
         "histfunc": "count",
         "histnorm": "",
         "marker": {
          "color": "rgba(255, 153, 51, 1.0)",
          "line": {
           "color": "#4D5663",
           "width": 1.3
          }
         },
         "name": "A",
         "nbinsx": 25,
         "opacity": 0.8,
         "orientation": "v",
         "type": "histogram",
         "x": [
          0.006313458985566085,
          0.0012147700438570593,
          -0.6151467796336,
          1.0191844884189065,
          -0.7495075739982601,
          -1.7985950729458002,
          0.15382533456183314,
          -0.5576872225427343,
          1.5593605186079846,
          1.700355672186201,
          -0.15236553270416087,
          0.39044094019462977,
          -0.5614557622261617,
          -1.2696193560262417,
          -0.024520044223959203,
          -0.7171428227047335,
          0.11381698115296884,
          -2.3261206919345363,
          0.37015277327553536,
          0.15583532903095587,
          -1.2289328448668377,
          -1.083066067855664,
          0.43971959185345716,
          -0.7927303406405242,
          -0.1343156933997293,
          -0.8773137644384209,
          1.1451110216332794,
          0.5148688588470663,
          0.2927029823951949,
          -0.5276160993217199,
          -1.9680202396163418,
          1.423501113042431,
          -0.6849596430392447,
          -0.8202548551107004,
          -0.6735148911527414,
          -0.48979918801619104,
          -0.8624553398219791,
          1.8265135614284778,
          -0.2573459544937043,
          0.742995129008227,
          1.9526700344421826,
          0.6072118968741738,
          -0.7096512406808968,
          -0.6679025965317548,
          0.1279081223835325,
          -0.2968413355288964,
          -0.24486047797910396,
          0.5028527245782749,
          0.500912850020907,
          0.35325225579994163,
          0.2425350082798535,
          -1.305708258896684,
          0.9755905559759886,
          -1.9066415540089885,
          0.9768170167359869,
          -0.4580723212715815,
          0.3188514544784727,
          -1.6537571945436216,
          -0.43125541197684153,
          0.6899089422409604,
          -1.4602949425078555,
          0.4624248034322284,
          0.17136443767218074,
          -0.012314317526127971,
          -2.075444122527348,
          0.42373853888266483,
          -0.06270018226508774,
          1.2801916313906705,
          -1.0247063360598394,
          -1.4952047036511662,
          1.073206362530888,
          0.4028356975025304,
          -2.142756034751585,
          0.6002350853929834,
          -0.39252221922456687,
          -1.234405269404836,
          -0.2789229501294982,
          -0.8258086758280934,
          1.3921878833189631,
          1.0334748315732492,
          -0.8694162529243042,
          1.5477307549981343,
          -0.7613614508447585,
          -1.725484243216102,
          -1.1268035087945925,
          -0.9821095582676026,
          -0.32546867991121364,
          -1.3547609163644982,
          0.39714940804709403,
          0.6050115429246586,
          1.708350505079218,
          0.17490611370248854,
          -1.5460620152456577,
          0.14372336528774488,
          -1.688811399942993,
          1.1805370742648729,
          -0.9961943586712984,
          -0.5222634876340545,
          -0.07165412061967047,
          0.9033111362618372
         ]
        }
       ],
       "layout": {
        "barmode": "overlay",
        "legend": {
         "bgcolor": "#F5F6F9",
         "font": {
          "color": "#4D5663"
         }
        },
        "paper_bgcolor": "#F5F6F9",
        "plot_bgcolor": "#F5F6F9",
        "template": {
         "data": {
          "bar": [
           {
            "error_x": {
             "color": "#2a3f5f"
            },
            "error_y": {
             "color": "#2a3f5f"
            },
            "marker": {
             "line": {
              "color": "#E5ECF6",
              "width": 0.5
             },
             "pattern": {
              "fillmode": "overlay",
              "size": 10,
              "solidity": 0.2
             }
            },
            "type": "bar"
           }
          ],
          "barpolar": [
           {
            "marker": {
             "line": {
              "color": "#E5ECF6",
              "width": 0.5
             },
             "pattern": {
              "fillmode": "overlay",
              "size": 10,
              "solidity": 0.2
             }
            },
            "type": "barpolar"
           }
          ],
          "carpet": [
           {
            "aaxis": {
             "endlinecolor": "#2a3f5f",
             "gridcolor": "white",
             "linecolor": "white",
             "minorgridcolor": "white",
             "startlinecolor": "#2a3f5f"
            },
            "baxis": {
             "endlinecolor": "#2a3f5f",
             "gridcolor": "white",
             "linecolor": "white",
             "minorgridcolor": "white",
             "startlinecolor": "#2a3f5f"
            },
            "type": "carpet"
           }
          ],
          "choropleth": [
           {
            "colorbar": {
             "outlinewidth": 0,
             "ticks": ""
            },
            "type": "choropleth"
           }
          ],
          "contour": [
           {
            "colorbar": {
             "outlinewidth": 0,
             "ticks": ""
            },
            "colorscale": [
             [
              0,
              "#0d0887"
             ],
             [
              0.1111111111111111,
              "#46039f"
             ],
             [
              0.2222222222222222,
              "#7201a8"
             ],
             [
              0.3333333333333333,
              "#9c179e"
             ],
             [
              0.4444444444444444,
              "#bd3786"
             ],
             [
              0.5555555555555556,
              "#d8576b"
             ],
             [
              0.6666666666666666,
              "#ed7953"
             ],
             [
              0.7777777777777778,
              "#fb9f3a"
             ],
             [
              0.8888888888888888,
              "#fdca26"
             ],
             [
              1,
              "#f0f921"
             ]
            ],
            "type": "contour"
           }
          ],
          "contourcarpet": [
           {
            "colorbar": {
             "outlinewidth": 0,
             "ticks": ""
            },
            "type": "contourcarpet"
           }
          ],
          "heatmap": [
           {
            "colorbar": {
             "outlinewidth": 0,
             "ticks": ""
            },
            "colorscale": [
             [
              0,
              "#0d0887"
             ],
             [
              0.1111111111111111,
              "#46039f"
             ],
             [
              0.2222222222222222,
              "#7201a8"
             ],
             [
              0.3333333333333333,
              "#9c179e"
             ],
             [
              0.4444444444444444,
              "#bd3786"
             ],
             [
              0.5555555555555556,
              "#d8576b"
             ],
             [
              0.6666666666666666,
              "#ed7953"
             ],
             [
              0.7777777777777778,
              "#fb9f3a"
             ],
             [
              0.8888888888888888,
              "#fdca26"
             ],
             [
              1,
              "#f0f921"
             ]
            ],
            "type": "heatmap"
           }
          ],
          "heatmapgl": [
           {
            "colorbar": {
             "outlinewidth": 0,
             "ticks": ""
            },
            "colorscale": [
             [
              0,
              "#0d0887"
             ],
             [
              0.1111111111111111,
              "#46039f"
             ],
             [
              0.2222222222222222,
              "#7201a8"
             ],
             [
              0.3333333333333333,
              "#9c179e"
             ],
             [
              0.4444444444444444,
              "#bd3786"
             ],
             [
              0.5555555555555556,
              "#d8576b"
             ],
             [
              0.6666666666666666,
              "#ed7953"
             ],
             [
              0.7777777777777778,
              "#fb9f3a"
             ],
             [
              0.8888888888888888,
              "#fdca26"
             ],
             [
              1,
              "#f0f921"
             ]
            ],
            "type": "heatmapgl"
           }
          ],
          "histogram": [
           {
            "marker": {
             "pattern": {
              "fillmode": "overlay",
              "size": 10,
              "solidity": 0.2
             }
            },
            "type": "histogram"
           }
          ],
          "histogram2d": [
           {
            "colorbar": {
             "outlinewidth": 0,
             "ticks": ""
            },
            "colorscale": [
             [
              0,
              "#0d0887"
             ],
             [
              0.1111111111111111,
              "#46039f"
             ],
             [
              0.2222222222222222,
              "#7201a8"
             ],
             [
              0.3333333333333333,
              "#9c179e"
             ],
             [
              0.4444444444444444,
              "#bd3786"
             ],
             [
              0.5555555555555556,
              "#d8576b"
             ],
             [
              0.6666666666666666,
              "#ed7953"
             ],
             [
              0.7777777777777778,
              "#fb9f3a"
             ],
             [
              0.8888888888888888,
              "#fdca26"
             ],
             [
              1,
              "#f0f921"
             ]
            ],
            "type": "histogram2d"
           }
          ],
          "histogram2dcontour": [
           {
            "colorbar": {
             "outlinewidth": 0,
             "ticks": ""
            },
            "colorscale": [
             [
              0,
              "#0d0887"
             ],
             [
              0.1111111111111111,
              "#46039f"
             ],
             [
              0.2222222222222222,
              "#7201a8"
             ],
             [
              0.3333333333333333,
              "#9c179e"
             ],
             [
              0.4444444444444444,
              "#bd3786"
             ],
             [
              0.5555555555555556,
              "#d8576b"
             ],
             [
              0.6666666666666666,
              "#ed7953"
             ],
             [
              0.7777777777777778,
              "#fb9f3a"
             ],
             [
              0.8888888888888888,
              "#fdca26"
             ],
             [
              1,
              "#f0f921"
             ]
            ],
            "type": "histogram2dcontour"
           }
          ],
          "mesh3d": [
           {
            "colorbar": {
             "outlinewidth": 0,
             "ticks": ""
            },
            "type": "mesh3d"
           }
          ],
          "parcoords": [
           {
            "line": {
             "colorbar": {
              "outlinewidth": 0,
              "ticks": ""
             }
            },
            "type": "parcoords"
           }
          ],
          "pie": [
           {
            "automargin": true,
            "type": "pie"
           }
          ],
          "scatter": [
           {
            "fillpattern": {
             "fillmode": "overlay",
             "size": 10,
             "solidity": 0.2
            },
            "type": "scatter"
           }
          ],
          "scatter3d": [
           {
            "line": {
             "colorbar": {
              "outlinewidth": 0,
              "ticks": ""
             }
            },
            "marker": {
             "colorbar": {
              "outlinewidth": 0,
              "ticks": ""
             }
            },
            "type": "scatter3d"
           }
          ],
          "scattercarpet": [
           {
            "marker": {
             "colorbar": {
              "outlinewidth": 0,
              "ticks": ""
             }
            },
            "type": "scattercarpet"
           }
          ],
          "scattergeo": [
           {
            "marker": {
             "colorbar": {
              "outlinewidth": 0,
              "ticks": ""
             }
            },
            "type": "scattergeo"
           }
          ],
          "scattergl": [
           {
            "marker": {
             "colorbar": {
              "outlinewidth": 0,
              "ticks": ""
             }
            },
            "type": "scattergl"
           }
          ],
          "scattermapbox": [
           {
            "marker": {
             "colorbar": {
              "outlinewidth": 0,
              "ticks": ""
             }
            },
            "type": "scattermapbox"
           }
          ],
          "scatterpolar": [
           {
            "marker": {
             "colorbar": {
              "outlinewidth": 0,
              "ticks": ""
             }
            },
            "type": "scatterpolar"
           }
          ],
          "scatterpolargl": [
           {
            "marker": {
             "colorbar": {
              "outlinewidth": 0,
              "ticks": ""
             }
            },
            "type": "scatterpolargl"
           }
          ],
          "scatterternary": [
           {
            "marker": {
             "colorbar": {
              "outlinewidth": 0,
              "ticks": ""
             }
            },
            "type": "scatterternary"
           }
          ],
          "surface": [
           {
            "colorbar": {
             "outlinewidth": 0,
             "ticks": ""
            },
            "colorscale": [
             [
              0,
              "#0d0887"
             ],
             [
              0.1111111111111111,
              "#46039f"
             ],
             [
              0.2222222222222222,
              "#7201a8"
             ],
             [
              0.3333333333333333,
              "#9c179e"
             ],
             [
              0.4444444444444444,
              "#bd3786"
             ],
             [
              0.5555555555555556,
              "#d8576b"
             ],
             [
              0.6666666666666666,
              "#ed7953"
             ],
             [
              0.7777777777777778,
              "#fb9f3a"
             ],
             [
              0.8888888888888888,
              "#fdca26"
             ],
             [
              1,
              "#f0f921"
             ]
            ],
            "type": "surface"
           }
          ],
          "table": [
           {
            "cells": {
             "fill": {
              "color": "#EBF0F8"
             },
             "line": {
              "color": "white"
             }
            },
            "header": {
             "fill": {
              "color": "#C8D4E3"
             },
             "line": {
              "color": "white"
             }
            },
            "type": "table"
           }
          ]
         },
         "layout": {
          "annotationdefaults": {
           "arrowcolor": "#2a3f5f",
           "arrowhead": 0,
           "arrowwidth": 1
          },
          "autotypenumbers": "strict",
          "coloraxis": {
           "colorbar": {
            "outlinewidth": 0,
            "ticks": ""
           }
          },
          "colorscale": {
           "diverging": [
            [
             0,
             "#8e0152"
            ],
            [
             0.1,
             "#c51b7d"
            ],
            [
             0.2,
             "#de77ae"
            ],
            [
             0.3,
             "#f1b6da"
            ],
            [
             0.4,
             "#fde0ef"
            ],
            [
             0.5,
             "#f7f7f7"
            ],
            [
             0.6,
             "#e6f5d0"
            ],
            [
             0.7,
             "#b8e186"
            ],
            [
             0.8,
             "#7fbc41"
            ],
            [
             0.9,
             "#4d9221"
            ],
            [
             1,
             "#276419"
            ]
           ],
           "sequential": [
            [
             0,
             "#0d0887"
            ],
            [
             0.1111111111111111,
             "#46039f"
            ],
            [
             0.2222222222222222,
             "#7201a8"
            ],
            [
             0.3333333333333333,
             "#9c179e"
            ],
            [
             0.4444444444444444,
             "#bd3786"
            ],
            [
             0.5555555555555556,
             "#d8576b"
            ],
            [
             0.6666666666666666,
             "#ed7953"
            ],
            [
             0.7777777777777778,
             "#fb9f3a"
            ],
            [
             0.8888888888888888,
             "#fdca26"
            ],
            [
             1,
             "#f0f921"
            ]
           ],
           "sequentialminus": [
            [
             0,
             "#0d0887"
            ],
            [
             0.1111111111111111,
             "#46039f"
            ],
            [
             0.2222222222222222,
             "#7201a8"
            ],
            [
             0.3333333333333333,
             "#9c179e"
            ],
            [
             0.4444444444444444,
             "#bd3786"
            ],
            [
             0.5555555555555556,
             "#d8576b"
            ],
            [
             0.6666666666666666,
             "#ed7953"
            ],
            [
             0.7777777777777778,
             "#fb9f3a"
            ],
            [
             0.8888888888888888,
             "#fdca26"
            ],
            [
             1,
             "#f0f921"
            ]
           ]
          },
          "colorway": [
           "#636efa",
           "#EF553B",
           "#00cc96",
           "#ab63fa",
           "#FFA15A",
           "#19d3f3",
           "#FF6692",
           "#B6E880",
           "#FF97FF",
           "#FECB52"
          ],
          "font": {
           "color": "#2a3f5f"
          },
          "geo": {
           "bgcolor": "white",
           "lakecolor": "white",
           "landcolor": "#E5ECF6",
           "showlakes": true,
           "showland": true,
           "subunitcolor": "white"
          },
          "hoverlabel": {
           "align": "left"
          },
          "hovermode": "closest",
          "mapbox": {
           "style": "light"
          },
          "paper_bgcolor": "white",
          "plot_bgcolor": "#E5ECF6",
          "polar": {
           "angularaxis": {
            "gridcolor": "white",
            "linecolor": "white",
            "ticks": ""
           },
           "bgcolor": "#E5ECF6",
           "radialaxis": {
            "gridcolor": "white",
            "linecolor": "white",
            "ticks": ""
           }
          },
          "scene": {
           "xaxis": {
            "backgroundcolor": "#E5ECF6",
            "gridcolor": "white",
            "gridwidth": 2,
            "linecolor": "white",
            "showbackground": true,
            "ticks": "",
            "zerolinecolor": "white"
           },
           "yaxis": {
            "backgroundcolor": "#E5ECF6",
            "gridcolor": "white",
            "gridwidth": 2,
            "linecolor": "white",
            "showbackground": true,
            "ticks": "",
            "zerolinecolor": "white"
           },
           "zaxis": {
            "backgroundcolor": "#E5ECF6",
            "gridcolor": "white",
            "gridwidth": 2,
            "linecolor": "white",
            "showbackground": true,
            "ticks": "",
            "zerolinecolor": "white"
           }
          },
          "shapedefaults": {
           "line": {
            "color": "#2a3f5f"
           }
          },
          "ternary": {
           "aaxis": {
            "gridcolor": "white",
            "linecolor": "white",
            "ticks": ""
           },
           "baxis": {
            "gridcolor": "white",
            "linecolor": "white",
            "ticks": ""
           },
           "bgcolor": "#E5ECF6",
           "caxis": {
            "gridcolor": "white",
            "linecolor": "white",
            "ticks": ""
           }
          },
          "title": {
           "x": 0.05
          },
          "xaxis": {
           "automargin": true,
           "gridcolor": "white",
           "linecolor": "white",
           "ticks": "",
           "title": {
            "standoff": 15
           },
           "zerolinecolor": "white",
           "zerolinewidth": 2
          },
          "yaxis": {
           "automargin": true,
           "gridcolor": "white",
           "linecolor": "white",
           "ticks": "",
           "title": {
            "standoff": 15
           },
           "zerolinecolor": "white",
           "zerolinewidth": 2
          }
         }
        },
        "title": {
         "font": {
          "color": "#4D5663"
         }
        },
        "xaxis": {
         "gridcolor": "#E1E5ED",
         "showgrid": true,
         "tickfont": {
          "color": "#4D5663"
         },
         "title": {
          "font": {
           "color": "#4D5663"
          },
          "text": ""
         },
         "zerolinecolor": "#E1E5ED"
        },
        "yaxis": {
         "gridcolor": "#E1E5ED",
         "showgrid": true,
         "tickfont": {
          "color": "#4D5663"
         },
         "title": {
          "font": {
           "color": "#4D5663"
          },
          "text": ""
         },
         "zerolinecolor": "#E1E5ED"
        }
       }
      },
      "text/html": [
       "<div>                            <div id=\"632d40d5-a913-46b8-b3f8-372582392a51\" class=\"plotly-graph-div\" style=\"height:525px; width:100%;\"></div>            <script type=\"text/javascript\">                require([\"plotly\"], function(Plotly) {                    window.PLOTLYENV=window.PLOTLYENV || {};\n",
       "                    window.PLOTLYENV.BASE_URL='https://plot.ly';                                    if (document.getElementById(\"632d40d5-a913-46b8-b3f8-372582392a51\")) {                    Plotly.newPlot(                        \"632d40d5-a913-46b8-b3f8-372582392a51\",                        [{\"histfunc\":\"count\",\"histnorm\":\"\",\"marker\":{\"color\":\"rgba(255, 153, 51, 1.0)\",\"line\":{\"color\":\"#4D5663\",\"width\":1.3}},\"name\":\"A\",\"nbinsx\":25,\"opacity\":0.8,\"orientation\":\"v\",\"x\":[0.006313458985566085,0.0012147700438570593,-0.6151467796336,1.0191844884189065,-0.7495075739982601,-1.7985950729458002,0.15382533456183314,-0.5576872225427343,1.5593605186079846,1.700355672186201,-0.15236553270416087,0.39044094019462977,-0.5614557622261617,-1.2696193560262417,-0.024520044223959203,-0.7171428227047335,0.11381698115296884,-2.3261206919345363,0.37015277327553536,0.15583532903095587,-1.2289328448668377,-1.083066067855664,0.43971959185345716,-0.7927303406405242,-0.1343156933997293,-0.8773137644384209,1.1451110216332794,0.5148688588470663,0.2927029823951949,-0.5276160993217199,-1.9680202396163418,1.423501113042431,-0.6849596430392447,-0.8202548551107004,-0.6735148911527414,-0.48979918801619104,-0.8624553398219791,1.8265135614284778,-0.2573459544937043,0.742995129008227,1.9526700344421826,0.6072118968741738,-0.7096512406808968,-0.6679025965317548,0.1279081223835325,-0.2968413355288964,-0.24486047797910396,0.5028527245782749,0.500912850020907,0.35325225579994163,0.2425350082798535,-1.305708258896684,0.9755905559759886,-1.9066415540089885,0.9768170167359869,-0.4580723212715815,0.3188514544784727,-1.6537571945436216,-0.43125541197684153,0.6899089422409604,-1.4602949425078555,0.4624248034322284,0.17136443767218074,-0.012314317526127971,-2.075444122527348,0.42373853888266483,-0.06270018226508774,1.2801916313906705,-1.0247063360598394,-1.4952047036511662,1.073206362530888,0.4028356975025304,-2.142756034751585,0.6002350853929834,-0.39252221922456687,-1.234405269404836,-0.2789229501294982,-0.8258086758280934,1.3921878833189631,1.0334748315732492,-0.8694162529243042,1.5477307549981343,-0.7613614508447585,-1.725484243216102,-1.1268035087945925,-0.9821095582676026,-0.32546867991121364,-1.3547609163644982,0.39714940804709403,0.6050115429246586,1.708350505079218,0.17490611370248854,-1.5460620152456577,0.14372336528774488,-1.688811399942993,1.1805370742648729,-0.9961943586712984,-0.5222634876340545,-0.07165412061967047,0.9033111362618372],\"type\":\"histogram\"}],                        {\"barmode\":\"overlay\",\"legend\":{\"bgcolor\":\"#F5F6F9\",\"font\":{\"color\":\"#4D5663\"}},\"paper_bgcolor\":\"#F5F6F9\",\"plot_bgcolor\":\"#F5F6F9\",\"template\":{\"data\":{\"barpolar\":[{\"marker\":{\"line\":{\"color\":\"#E5ECF6\",\"width\":0.5},\"pattern\":{\"fillmode\":\"overlay\",\"size\":10,\"solidity\":0.2}},\"type\":\"barpolar\"}],\"bar\":[{\"error_x\":{\"color\":\"#2a3f5f\"},\"error_y\":{\"color\":\"#2a3f5f\"},\"marker\":{\"line\":{\"color\":\"#E5ECF6\",\"width\":0.5},\"pattern\":{\"fillmode\":\"overlay\",\"size\":10,\"solidity\":0.2}},\"type\":\"bar\"}],\"carpet\":[{\"aaxis\":{\"endlinecolor\":\"#2a3f5f\",\"gridcolor\":\"white\",\"linecolor\":\"white\",\"minorgridcolor\":\"white\",\"startlinecolor\":\"#2a3f5f\"},\"baxis\":{\"endlinecolor\":\"#2a3f5f\",\"gridcolor\":\"white\",\"linecolor\":\"white\",\"minorgridcolor\":\"white\",\"startlinecolor\":\"#2a3f5f\"},\"type\":\"carpet\"}],\"choropleth\":[{\"colorbar\":{\"outlinewidth\":0,\"ticks\":\"\"},\"type\":\"choropleth\"}],\"contourcarpet\":[{\"colorbar\":{\"outlinewidth\":0,\"ticks\":\"\"},\"type\":\"contourcarpet\"}],\"contour\":[{\"colorbar\":{\"outlinewidth\":0,\"ticks\":\"\"},\"colorscale\":[[0.0,\"#0d0887\"],[0.1111111111111111,\"#46039f\"],[0.2222222222222222,\"#7201a8\"],[0.3333333333333333,\"#9c179e\"],[0.4444444444444444,\"#bd3786\"],[0.5555555555555556,\"#d8576b\"],[0.6666666666666666,\"#ed7953\"],[0.7777777777777778,\"#fb9f3a\"],[0.8888888888888888,\"#fdca26\"],[1.0,\"#f0f921\"]],\"type\":\"contour\"}],\"heatmapgl\":[{\"colorbar\":{\"outlinewidth\":0,\"ticks\":\"\"},\"colorscale\":[[0.0,\"#0d0887\"],[0.1111111111111111,\"#46039f\"],[0.2222222222222222,\"#7201a8\"],[0.3333333333333333,\"#9c179e\"],[0.4444444444444444,\"#bd3786\"],[0.5555555555555556,\"#d8576b\"],[0.6666666666666666,\"#ed7953\"],[0.7777777777777778,\"#fb9f3a\"],[0.8888888888888888,\"#fdca26\"],[1.0,\"#f0f921\"]],\"type\":\"heatmapgl\"}],\"heatmap\":[{\"colorbar\":{\"outlinewidth\":0,\"ticks\":\"\"},\"colorscale\":[[0.0,\"#0d0887\"],[0.1111111111111111,\"#46039f\"],[0.2222222222222222,\"#7201a8\"],[0.3333333333333333,\"#9c179e\"],[0.4444444444444444,\"#bd3786\"],[0.5555555555555556,\"#d8576b\"],[0.6666666666666666,\"#ed7953\"],[0.7777777777777778,\"#fb9f3a\"],[0.8888888888888888,\"#fdca26\"],[1.0,\"#f0f921\"]],\"type\":\"heatmap\"}],\"histogram2dcontour\":[{\"colorbar\":{\"outlinewidth\":0,\"ticks\":\"\"},\"colorscale\":[[0.0,\"#0d0887\"],[0.1111111111111111,\"#46039f\"],[0.2222222222222222,\"#7201a8\"],[0.3333333333333333,\"#9c179e\"],[0.4444444444444444,\"#bd3786\"],[0.5555555555555556,\"#d8576b\"],[0.6666666666666666,\"#ed7953\"],[0.7777777777777778,\"#fb9f3a\"],[0.8888888888888888,\"#fdca26\"],[1.0,\"#f0f921\"]],\"type\":\"histogram2dcontour\"}],\"histogram2d\":[{\"colorbar\":{\"outlinewidth\":0,\"ticks\":\"\"},\"colorscale\":[[0.0,\"#0d0887\"],[0.1111111111111111,\"#46039f\"],[0.2222222222222222,\"#7201a8\"],[0.3333333333333333,\"#9c179e\"],[0.4444444444444444,\"#bd3786\"],[0.5555555555555556,\"#d8576b\"],[0.6666666666666666,\"#ed7953\"],[0.7777777777777778,\"#fb9f3a\"],[0.8888888888888888,\"#fdca26\"],[1.0,\"#f0f921\"]],\"type\":\"histogram2d\"}],\"histogram\":[{\"marker\":{\"pattern\":{\"fillmode\":\"overlay\",\"size\":10,\"solidity\":0.2}},\"type\":\"histogram\"}],\"mesh3d\":[{\"colorbar\":{\"outlinewidth\":0,\"ticks\":\"\"},\"type\":\"mesh3d\"}],\"parcoords\":[{\"line\":{\"colorbar\":{\"outlinewidth\":0,\"ticks\":\"\"}},\"type\":\"parcoords\"}],\"pie\":[{\"automargin\":true,\"type\":\"pie\"}],\"scatter3d\":[{\"line\":{\"colorbar\":{\"outlinewidth\":0,\"ticks\":\"\"}},\"marker\":{\"colorbar\":{\"outlinewidth\":0,\"ticks\":\"\"}},\"type\":\"scatter3d\"}],\"scattercarpet\":[{\"marker\":{\"colorbar\":{\"outlinewidth\":0,\"ticks\":\"\"}},\"type\":\"scattercarpet\"}],\"scattergeo\":[{\"marker\":{\"colorbar\":{\"outlinewidth\":0,\"ticks\":\"\"}},\"type\":\"scattergeo\"}],\"scattergl\":[{\"marker\":{\"colorbar\":{\"outlinewidth\":0,\"ticks\":\"\"}},\"type\":\"scattergl\"}],\"scattermapbox\":[{\"marker\":{\"colorbar\":{\"outlinewidth\":0,\"ticks\":\"\"}},\"type\":\"scattermapbox\"}],\"scatterpolargl\":[{\"marker\":{\"colorbar\":{\"outlinewidth\":0,\"ticks\":\"\"}},\"type\":\"scatterpolargl\"}],\"scatterpolar\":[{\"marker\":{\"colorbar\":{\"outlinewidth\":0,\"ticks\":\"\"}},\"type\":\"scatterpolar\"}],\"scatter\":[{\"fillpattern\":{\"fillmode\":\"overlay\",\"size\":10,\"solidity\":0.2},\"type\":\"scatter\"}],\"scatterternary\":[{\"marker\":{\"colorbar\":{\"outlinewidth\":0,\"ticks\":\"\"}},\"type\":\"scatterternary\"}],\"surface\":[{\"colorbar\":{\"outlinewidth\":0,\"ticks\":\"\"},\"colorscale\":[[0.0,\"#0d0887\"],[0.1111111111111111,\"#46039f\"],[0.2222222222222222,\"#7201a8\"],[0.3333333333333333,\"#9c179e\"],[0.4444444444444444,\"#bd3786\"],[0.5555555555555556,\"#d8576b\"],[0.6666666666666666,\"#ed7953\"],[0.7777777777777778,\"#fb9f3a\"],[0.8888888888888888,\"#fdca26\"],[1.0,\"#f0f921\"]],\"type\":\"surface\"}],\"table\":[{\"cells\":{\"fill\":{\"color\":\"#EBF0F8\"},\"line\":{\"color\":\"white\"}},\"header\":{\"fill\":{\"color\":\"#C8D4E3\"},\"line\":{\"color\":\"white\"}},\"type\":\"table\"}]},\"layout\":{\"annotationdefaults\":{\"arrowcolor\":\"#2a3f5f\",\"arrowhead\":0,\"arrowwidth\":1},\"autotypenumbers\":\"strict\",\"coloraxis\":{\"colorbar\":{\"outlinewidth\":0,\"ticks\":\"\"}},\"colorscale\":{\"diverging\":[[0,\"#8e0152\"],[0.1,\"#c51b7d\"],[0.2,\"#de77ae\"],[0.3,\"#f1b6da\"],[0.4,\"#fde0ef\"],[0.5,\"#f7f7f7\"],[0.6,\"#e6f5d0\"],[0.7,\"#b8e186\"],[0.8,\"#7fbc41\"],[0.9,\"#4d9221\"],[1,\"#276419\"]],\"sequential\":[[0.0,\"#0d0887\"],[0.1111111111111111,\"#46039f\"],[0.2222222222222222,\"#7201a8\"],[0.3333333333333333,\"#9c179e\"],[0.4444444444444444,\"#bd3786\"],[0.5555555555555556,\"#d8576b\"],[0.6666666666666666,\"#ed7953\"],[0.7777777777777778,\"#fb9f3a\"],[0.8888888888888888,\"#fdca26\"],[1.0,\"#f0f921\"]],\"sequentialminus\":[[0.0,\"#0d0887\"],[0.1111111111111111,\"#46039f\"],[0.2222222222222222,\"#7201a8\"],[0.3333333333333333,\"#9c179e\"],[0.4444444444444444,\"#bd3786\"],[0.5555555555555556,\"#d8576b\"],[0.6666666666666666,\"#ed7953\"],[0.7777777777777778,\"#fb9f3a\"],[0.8888888888888888,\"#fdca26\"],[1.0,\"#f0f921\"]]},\"colorway\":[\"#636efa\",\"#EF553B\",\"#00cc96\",\"#ab63fa\",\"#FFA15A\",\"#19d3f3\",\"#FF6692\",\"#B6E880\",\"#FF97FF\",\"#FECB52\"],\"font\":{\"color\":\"#2a3f5f\"},\"geo\":{\"bgcolor\":\"white\",\"lakecolor\":\"white\",\"landcolor\":\"#E5ECF6\",\"showlakes\":true,\"showland\":true,\"subunitcolor\":\"white\"},\"hoverlabel\":{\"align\":\"left\"},\"hovermode\":\"closest\",\"mapbox\":{\"style\":\"light\"},\"paper_bgcolor\":\"white\",\"plot_bgcolor\":\"#E5ECF6\",\"polar\":{\"angularaxis\":{\"gridcolor\":\"white\",\"linecolor\":\"white\",\"ticks\":\"\"},\"bgcolor\":\"#E5ECF6\",\"radialaxis\":{\"gridcolor\":\"white\",\"linecolor\":\"white\",\"ticks\":\"\"}},\"scene\":{\"xaxis\":{\"backgroundcolor\":\"#E5ECF6\",\"gridcolor\":\"white\",\"gridwidth\":2,\"linecolor\":\"white\",\"showbackground\":true,\"ticks\":\"\",\"zerolinecolor\":\"white\"},\"yaxis\":{\"backgroundcolor\":\"#E5ECF6\",\"gridcolor\":\"white\",\"gridwidth\":2,\"linecolor\":\"white\",\"showbackground\":true,\"ticks\":\"\",\"zerolinecolor\":\"white\"},\"zaxis\":{\"backgroundcolor\":\"#E5ECF6\",\"gridcolor\":\"white\",\"gridwidth\":2,\"linecolor\":\"white\",\"showbackground\":true,\"ticks\":\"\",\"zerolinecolor\":\"white\"}},\"shapedefaults\":{\"line\":{\"color\":\"#2a3f5f\"}},\"ternary\":{\"aaxis\":{\"gridcolor\":\"white\",\"linecolor\":\"white\",\"ticks\":\"\"},\"baxis\":{\"gridcolor\":\"white\",\"linecolor\":\"white\",\"ticks\":\"\"},\"bgcolor\":\"#E5ECF6\",\"caxis\":{\"gridcolor\":\"white\",\"linecolor\":\"white\",\"ticks\":\"\"}},\"title\":{\"x\":0.05},\"xaxis\":{\"automargin\":true,\"gridcolor\":\"white\",\"linecolor\":\"white\",\"ticks\":\"\",\"title\":{\"standoff\":15},\"zerolinecolor\":\"white\",\"zerolinewidth\":2},\"yaxis\":{\"automargin\":true,\"gridcolor\":\"white\",\"linecolor\":\"white\",\"ticks\":\"\",\"title\":{\"standoff\":15},\"zerolinecolor\":\"white\",\"zerolinewidth\":2}}},\"title\":{\"font\":{\"color\":\"#4D5663\"}},\"xaxis\":{\"gridcolor\":\"#E1E5ED\",\"showgrid\":true,\"tickfont\":{\"color\":\"#4D5663\"},\"title\":{\"font\":{\"color\":\"#4D5663\"},\"text\":\"\"},\"zerolinecolor\":\"#E1E5ED\"},\"yaxis\":{\"gridcolor\":\"#E1E5ED\",\"showgrid\":true,\"tickfont\":{\"color\":\"#4D5663\"},\"title\":{\"font\":{\"color\":\"#4D5663\"},\"text\":\"\"},\"zerolinecolor\":\"#E1E5ED\"}},                        {\"showLink\": true, \"linkText\": \"Export to plot.ly\", \"plotlyServerURL\": \"https://plot.ly\", \"responsive\": true}                    ).then(function(){\n",
       "                            \n",
       "var gd = document.getElementById('632d40d5-a913-46b8-b3f8-372582392a51');\n",
       "var x = new MutationObserver(function (mutations, observer) {{\n",
       "        var display = window.getComputedStyle(gd).display;\n",
       "        if (!display || display === 'none') {{\n",
       "            console.log([gd, 'removed!']);\n",
       "            Plotly.purge(gd);\n",
       "            observer.disconnect();\n",
       "        }}\n",
       "}});\n",
       "\n",
       "// Listen for the removal of the full notebook cells\n",
       "var notebookContainer = gd.closest('#notebook-container');\n",
       "if (notebookContainer) {{\n",
       "    x.observe(notebookContainer, {childList: true});\n",
       "}}\n",
       "\n",
       "// Listen for the clearing of the current output cell\n",
       "var outputEl = gd.closest('.output');\n",
       "if (outputEl) {{\n",
       "    x.observe(outputEl, {childList: true});\n",
       "}}\n",
       "\n",
       "                        })                };                });            </script>        </div>"
      ]
     },
     "metadata": {},
     "output_type": "display_data"
    }
   ],
   "source": [
    "df['A'].iplot(kind='hist',bins=25)"
   ]
  },
  {
   "cell_type": "code",
   "execution_count": 29,
   "metadata": {},
   "outputs": [
    {
     "data": {
      "application/vnd.plotly.v1+json": {
       "config": {
        "linkText": "Export to plot.ly",
        "plotlyServerURL": "https://plot.ly",
        "showLink": true
       },
       "data": [
        {
         "marker": {
          "color": [
           "rgb(255, 153, 51)",
           "rgb(55, 128, 191)",
           "rgb(50, 171, 96)",
           "rgb(128, 0, 128)",
           "rgb(219, 64, 82)",
           "rgb(0, 128, 128)",
           "rgb(255, 255, 51)",
           "rgb(128, 128, 0)",
           "rgb(251, 128, 114)",
           "rgb(128, 177, 211)"
          ],
          "line": {
           "width": 1.3
          },
          "size": [
           97,
           38,
           56,
           66,
           43,
           64,
           55,
           68,
           35,
           79,
           63,
           33,
           65,
           30,
           82,
           63,
           80,
           75,
           27,
           65,
           37,
           76,
           42,
           65,
           39,
           62,
           63,
           71,
           54,
           47,
           80,
           53,
           63,
           60,
           62,
           72,
           75,
           12,
           72,
           51,
           80,
           50,
           37,
           20,
           85,
           25,
           39,
           97,
           63,
           21,
           60,
           79,
           44,
           103,
           64,
           56,
           65,
           112,
           57,
           26,
           59,
           23,
           74,
           54,
           37,
           65,
           103,
           55,
           22,
           71,
           44,
           48,
           96,
           57,
           84,
           17,
           31,
           76,
           50,
           71,
           42,
           50,
           40,
           24,
           21,
           52,
           64,
           47,
           46,
           107,
           47,
           37,
           82,
           60,
           68,
           57,
           51,
           42,
           100,
           73
          ],
          "symbol": "circle"
         },
         "mode": "markers",
         "text": "",
         "type": "scatter",
         "x": [
          0.006313458985566085,
          0.0012147700438570593,
          -0.6151467796336,
          1.0191844884189065,
          -0.7495075739982601,
          -1.7985950729458002,
          0.15382533456183314,
          -0.5576872225427343,
          1.5593605186079846,
          1.700355672186201,
          -0.15236553270416087,
          0.39044094019462977,
          -0.5614557622261617,
          -1.2696193560262417,
          -0.024520044223959203,
          -0.7171428227047335,
          0.11381698115296884,
          -2.3261206919345363,
          0.37015277327553536,
          0.15583532903095587,
          -1.2289328448668377,
          -1.083066067855664,
          0.43971959185345716,
          -0.7927303406405242,
          -0.1343156933997293,
          -0.8773137644384209,
          1.1451110216332794,
          0.5148688588470663,
          0.2927029823951949,
          -0.5276160993217199,
          -1.9680202396163418,
          1.423501113042431,
          -0.6849596430392447,
          -0.8202548551107004,
          -0.6735148911527414,
          -0.48979918801619104,
          -0.8624553398219791,
          1.8265135614284778,
          -0.2573459544937043,
          0.742995129008227,
          1.9526700344421826,
          0.6072118968741738,
          -0.7096512406808968,
          -0.6679025965317548,
          0.1279081223835325,
          -0.2968413355288964,
          -0.24486047797910396,
          0.5028527245782749,
          0.500912850020907,
          0.35325225579994163,
          0.2425350082798535,
          -1.305708258896684,
          0.9755905559759886,
          -1.9066415540089885,
          0.9768170167359869,
          -0.4580723212715815,
          0.3188514544784727,
          -1.6537571945436216,
          -0.43125541197684153,
          0.6899089422409604,
          -1.4602949425078555,
          0.4624248034322284,
          0.17136443767218074,
          -0.012314317526127971,
          -2.075444122527348,
          0.42373853888266483,
          -0.06270018226508774,
          1.2801916313906705,
          -1.0247063360598394,
          -1.4952047036511662,
          1.073206362530888,
          0.4028356975025304,
          -2.142756034751585,
          0.6002350853929834,
          -0.39252221922456687,
          -1.234405269404836,
          -0.2789229501294982,
          -0.8258086758280934,
          1.3921878833189631,
          1.0334748315732492,
          -0.8694162529243042,
          1.5477307549981343,
          -0.7613614508447585,
          -1.725484243216102,
          -1.1268035087945925,
          -0.9821095582676026,
          -0.32546867991121364,
          -1.3547609163644982,
          0.39714940804709403,
          0.6050115429246586,
          1.708350505079218,
          0.17490611370248854,
          -1.5460620152456577,
          0.14372336528774488,
          -1.688811399942993,
          1.1805370742648729,
          -0.9961943586712984,
          -0.5222634876340545,
          -0.07165412061967047,
          0.9033111362618372
         ],
         "y": [
          -0.8412830663608024,
          -0.14196404629860912,
          0.27189831213699345,
          -0.2286524915931357,
          -0.39740436970062476,
          0.8644404600468678,
          -2.425802709190879,
          -1.7570122474421928,
          -2.756010446751949,
          -0.8764100419623471,
          -0.5927093442184735,
          1.4131976516655804,
          0.9245287480106964,
          2.0385499547616743,
          0.18604640376218076,
          0.8795053970341459,
          1.452057912626229,
          -1.188265586802459,
          2.008125648195428,
          -1.89579976034055,
          -1.2142197546565268,
          0.585650048759407,
          0.1901297815215674,
          -0.28036571517991926,
          0.7435936627241457,
          -0.761465548738385,
          0.17272991435645543,
          0.6126370351770036,
          -0.6409745361014046,
          -1.2054505656390866,
          -0.5648212045818725,
          0.7586668028849586,
          -0.18694328490507595,
          -0.5246822943419557,
          0.1716824260239397,
          0.17281947072116297,
          0.9631735363229377,
          0.8573319073279776,
          2.7391337276103735,
          -0.8660589753505328,
          0.40759489166899276,
          -1.5249603091551445,
          -0.28412393855610363,
          1.3388176264294898,
          -0.7778806023887083,
          -1.002215354287591,
          -0.1309132593210741,
          1.0292025215239082,
          1.576109421092655,
          -2.7680691813938103,
          -1.1696015241546815,
          1.992857739976901,
          -0.3985444234746542,
          -0.7287240263019391,
          0.3778165333549547,
          -0.0028173576769728198,
          1.8365856724591496,
          -1.5811511724464855,
          0.14112966733498775,
          1.5226834789704895,
          -0.052630123298235944,
          0.5750266371763989,
          -0.3542992607317481,
          -1.2620214165498946,
          0.41219245488560224,
          1.5354942624235504,
          -0.4274499333810216,
          1.2622373437633672,
          -1.8754492230043058,
          -0.927983492576622,
          0.19482460729553538,
          -0.8839697047504629,
          0.16761091698702862,
          0.5480793234412067,
          -1.2069205358509782,
          1.8565012697440908,
          0.6414081528241,
          -1.8010467818833373,
          0.3081920656655891,
          0.46299664031639937,
          -0.861793356479736,
          1.9503678079314708,
          1.4349893470965174,
          2.7521414181104786,
          0.27344301616024774,
          0.3291002461450558,
          0.09630194977242912,
          0.8097744936659635,
          1.6929246110017406,
          -0.7259746620175114,
          1.0629019525856112,
          0.9751581738927138,
          -0.5179265464739529,
          0.040939684187299555,
          -0.8685496090915273,
          -1.0209998546636763,
          0.11565711451344551,
          -1.2954962527022302,
          -0.4122724614406656,
          1.4156544391757833
         ]
        }
       ],
       "layout": {
        "legend": {
         "bgcolor": "#F5F6F9",
         "font": {
          "color": "#4D5663"
         }
        },
        "paper_bgcolor": "#F5F6F9",
        "plot_bgcolor": "#F5F6F9",
        "template": {
         "data": {
          "bar": [
           {
            "error_x": {
             "color": "#2a3f5f"
            },
            "error_y": {
             "color": "#2a3f5f"
            },
            "marker": {
             "line": {
              "color": "#E5ECF6",
              "width": 0.5
             },
             "pattern": {
              "fillmode": "overlay",
              "size": 10,
              "solidity": 0.2
             }
            },
            "type": "bar"
           }
          ],
          "barpolar": [
           {
            "marker": {
             "line": {
              "color": "#E5ECF6",
              "width": 0.5
             },
             "pattern": {
              "fillmode": "overlay",
              "size": 10,
              "solidity": 0.2
             }
            },
            "type": "barpolar"
           }
          ],
          "carpet": [
           {
            "aaxis": {
             "endlinecolor": "#2a3f5f",
             "gridcolor": "white",
             "linecolor": "white",
             "minorgridcolor": "white",
             "startlinecolor": "#2a3f5f"
            },
            "baxis": {
             "endlinecolor": "#2a3f5f",
             "gridcolor": "white",
             "linecolor": "white",
             "minorgridcolor": "white",
             "startlinecolor": "#2a3f5f"
            },
            "type": "carpet"
           }
          ],
          "choropleth": [
           {
            "colorbar": {
             "outlinewidth": 0,
             "ticks": ""
            },
            "type": "choropleth"
           }
          ],
          "contour": [
           {
            "colorbar": {
             "outlinewidth": 0,
             "ticks": ""
            },
            "colorscale": [
             [
              0,
              "#0d0887"
             ],
             [
              0.1111111111111111,
              "#46039f"
             ],
             [
              0.2222222222222222,
              "#7201a8"
             ],
             [
              0.3333333333333333,
              "#9c179e"
             ],
             [
              0.4444444444444444,
              "#bd3786"
             ],
             [
              0.5555555555555556,
              "#d8576b"
             ],
             [
              0.6666666666666666,
              "#ed7953"
             ],
             [
              0.7777777777777778,
              "#fb9f3a"
             ],
             [
              0.8888888888888888,
              "#fdca26"
             ],
             [
              1,
              "#f0f921"
             ]
            ],
            "type": "contour"
           }
          ],
          "contourcarpet": [
           {
            "colorbar": {
             "outlinewidth": 0,
             "ticks": ""
            },
            "type": "contourcarpet"
           }
          ],
          "heatmap": [
           {
            "colorbar": {
             "outlinewidth": 0,
             "ticks": ""
            },
            "colorscale": [
             [
              0,
              "#0d0887"
             ],
             [
              0.1111111111111111,
              "#46039f"
             ],
             [
              0.2222222222222222,
              "#7201a8"
             ],
             [
              0.3333333333333333,
              "#9c179e"
             ],
             [
              0.4444444444444444,
              "#bd3786"
             ],
             [
              0.5555555555555556,
              "#d8576b"
             ],
             [
              0.6666666666666666,
              "#ed7953"
             ],
             [
              0.7777777777777778,
              "#fb9f3a"
             ],
             [
              0.8888888888888888,
              "#fdca26"
             ],
             [
              1,
              "#f0f921"
             ]
            ],
            "type": "heatmap"
           }
          ],
          "heatmapgl": [
           {
            "colorbar": {
             "outlinewidth": 0,
             "ticks": ""
            },
            "colorscale": [
             [
              0,
              "#0d0887"
             ],
             [
              0.1111111111111111,
              "#46039f"
             ],
             [
              0.2222222222222222,
              "#7201a8"
             ],
             [
              0.3333333333333333,
              "#9c179e"
             ],
             [
              0.4444444444444444,
              "#bd3786"
             ],
             [
              0.5555555555555556,
              "#d8576b"
             ],
             [
              0.6666666666666666,
              "#ed7953"
             ],
             [
              0.7777777777777778,
              "#fb9f3a"
             ],
             [
              0.8888888888888888,
              "#fdca26"
             ],
             [
              1,
              "#f0f921"
             ]
            ],
            "type": "heatmapgl"
           }
          ],
          "histogram": [
           {
            "marker": {
             "pattern": {
              "fillmode": "overlay",
              "size": 10,
              "solidity": 0.2
             }
            },
            "type": "histogram"
           }
          ],
          "histogram2d": [
           {
            "colorbar": {
             "outlinewidth": 0,
             "ticks": ""
            },
            "colorscale": [
             [
              0,
              "#0d0887"
             ],
             [
              0.1111111111111111,
              "#46039f"
             ],
             [
              0.2222222222222222,
              "#7201a8"
             ],
             [
              0.3333333333333333,
              "#9c179e"
             ],
             [
              0.4444444444444444,
              "#bd3786"
             ],
             [
              0.5555555555555556,
              "#d8576b"
             ],
             [
              0.6666666666666666,
              "#ed7953"
             ],
             [
              0.7777777777777778,
              "#fb9f3a"
             ],
             [
              0.8888888888888888,
              "#fdca26"
             ],
             [
              1,
              "#f0f921"
             ]
            ],
            "type": "histogram2d"
           }
          ],
          "histogram2dcontour": [
           {
            "colorbar": {
             "outlinewidth": 0,
             "ticks": ""
            },
            "colorscale": [
             [
              0,
              "#0d0887"
             ],
             [
              0.1111111111111111,
              "#46039f"
             ],
             [
              0.2222222222222222,
              "#7201a8"
             ],
             [
              0.3333333333333333,
              "#9c179e"
             ],
             [
              0.4444444444444444,
              "#bd3786"
             ],
             [
              0.5555555555555556,
              "#d8576b"
             ],
             [
              0.6666666666666666,
              "#ed7953"
             ],
             [
              0.7777777777777778,
              "#fb9f3a"
             ],
             [
              0.8888888888888888,
              "#fdca26"
             ],
             [
              1,
              "#f0f921"
             ]
            ],
            "type": "histogram2dcontour"
           }
          ],
          "mesh3d": [
           {
            "colorbar": {
             "outlinewidth": 0,
             "ticks": ""
            },
            "type": "mesh3d"
           }
          ],
          "parcoords": [
           {
            "line": {
             "colorbar": {
              "outlinewidth": 0,
              "ticks": ""
             }
            },
            "type": "parcoords"
           }
          ],
          "pie": [
           {
            "automargin": true,
            "type": "pie"
           }
          ],
          "scatter": [
           {
            "fillpattern": {
             "fillmode": "overlay",
             "size": 10,
             "solidity": 0.2
            },
            "type": "scatter"
           }
          ],
          "scatter3d": [
           {
            "line": {
             "colorbar": {
              "outlinewidth": 0,
              "ticks": ""
             }
            },
            "marker": {
             "colorbar": {
              "outlinewidth": 0,
              "ticks": ""
             }
            },
            "type": "scatter3d"
           }
          ],
          "scattercarpet": [
           {
            "marker": {
             "colorbar": {
              "outlinewidth": 0,
              "ticks": ""
             }
            },
            "type": "scattercarpet"
           }
          ],
          "scattergeo": [
           {
            "marker": {
             "colorbar": {
              "outlinewidth": 0,
              "ticks": ""
             }
            },
            "type": "scattergeo"
           }
          ],
          "scattergl": [
           {
            "marker": {
             "colorbar": {
              "outlinewidth": 0,
              "ticks": ""
             }
            },
            "type": "scattergl"
           }
          ],
          "scattermapbox": [
           {
            "marker": {
             "colorbar": {
              "outlinewidth": 0,
              "ticks": ""
             }
            },
            "type": "scattermapbox"
           }
          ],
          "scatterpolar": [
           {
            "marker": {
             "colorbar": {
              "outlinewidth": 0,
              "ticks": ""
             }
            },
            "type": "scatterpolar"
           }
          ],
          "scatterpolargl": [
           {
            "marker": {
             "colorbar": {
              "outlinewidth": 0,
              "ticks": ""
             }
            },
            "type": "scatterpolargl"
           }
          ],
          "scatterternary": [
           {
            "marker": {
             "colorbar": {
              "outlinewidth": 0,
              "ticks": ""
             }
            },
            "type": "scatterternary"
           }
          ],
          "surface": [
           {
            "colorbar": {
             "outlinewidth": 0,
             "ticks": ""
            },
            "colorscale": [
             [
              0,
              "#0d0887"
             ],
             [
              0.1111111111111111,
              "#46039f"
             ],
             [
              0.2222222222222222,
              "#7201a8"
             ],
             [
              0.3333333333333333,
              "#9c179e"
             ],
             [
              0.4444444444444444,
              "#bd3786"
             ],
             [
              0.5555555555555556,
              "#d8576b"
             ],
             [
              0.6666666666666666,
              "#ed7953"
             ],
             [
              0.7777777777777778,
              "#fb9f3a"
             ],
             [
              0.8888888888888888,
              "#fdca26"
             ],
             [
              1,
              "#f0f921"
             ]
            ],
            "type": "surface"
           }
          ],
          "table": [
           {
            "cells": {
             "fill": {
              "color": "#EBF0F8"
             },
             "line": {
              "color": "white"
             }
            },
            "header": {
             "fill": {
              "color": "#C8D4E3"
             },
             "line": {
              "color": "white"
             }
            },
            "type": "table"
           }
          ]
         },
         "layout": {
          "annotationdefaults": {
           "arrowcolor": "#2a3f5f",
           "arrowhead": 0,
           "arrowwidth": 1
          },
          "autotypenumbers": "strict",
          "coloraxis": {
           "colorbar": {
            "outlinewidth": 0,
            "ticks": ""
           }
          },
          "colorscale": {
           "diverging": [
            [
             0,
             "#8e0152"
            ],
            [
             0.1,
             "#c51b7d"
            ],
            [
             0.2,
             "#de77ae"
            ],
            [
             0.3,
             "#f1b6da"
            ],
            [
             0.4,
             "#fde0ef"
            ],
            [
             0.5,
             "#f7f7f7"
            ],
            [
             0.6,
             "#e6f5d0"
            ],
            [
             0.7,
             "#b8e186"
            ],
            [
             0.8,
             "#7fbc41"
            ],
            [
             0.9,
             "#4d9221"
            ],
            [
             1,
             "#276419"
            ]
           ],
           "sequential": [
            [
             0,
             "#0d0887"
            ],
            [
             0.1111111111111111,
             "#46039f"
            ],
            [
             0.2222222222222222,
             "#7201a8"
            ],
            [
             0.3333333333333333,
             "#9c179e"
            ],
            [
             0.4444444444444444,
             "#bd3786"
            ],
            [
             0.5555555555555556,
             "#d8576b"
            ],
            [
             0.6666666666666666,
             "#ed7953"
            ],
            [
             0.7777777777777778,
             "#fb9f3a"
            ],
            [
             0.8888888888888888,
             "#fdca26"
            ],
            [
             1,
             "#f0f921"
            ]
           ],
           "sequentialminus": [
            [
             0,
             "#0d0887"
            ],
            [
             0.1111111111111111,
             "#46039f"
            ],
            [
             0.2222222222222222,
             "#7201a8"
            ],
            [
             0.3333333333333333,
             "#9c179e"
            ],
            [
             0.4444444444444444,
             "#bd3786"
            ],
            [
             0.5555555555555556,
             "#d8576b"
            ],
            [
             0.6666666666666666,
             "#ed7953"
            ],
            [
             0.7777777777777778,
             "#fb9f3a"
            ],
            [
             0.8888888888888888,
             "#fdca26"
            ],
            [
             1,
             "#f0f921"
            ]
           ]
          },
          "colorway": [
           "#636efa",
           "#EF553B",
           "#00cc96",
           "#ab63fa",
           "#FFA15A",
           "#19d3f3",
           "#FF6692",
           "#B6E880",
           "#FF97FF",
           "#FECB52"
          ],
          "font": {
           "color": "#2a3f5f"
          },
          "geo": {
           "bgcolor": "white",
           "lakecolor": "white",
           "landcolor": "#E5ECF6",
           "showlakes": true,
           "showland": true,
           "subunitcolor": "white"
          },
          "hoverlabel": {
           "align": "left"
          },
          "hovermode": "closest",
          "mapbox": {
           "style": "light"
          },
          "paper_bgcolor": "white",
          "plot_bgcolor": "#E5ECF6",
          "polar": {
           "angularaxis": {
            "gridcolor": "white",
            "linecolor": "white",
            "ticks": ""
           },
           "bgcolor": "#E5ECF6",
           "radialaxis": {
            "gridcolor": "white",
            "linecolor": "white",
            "ticks": ""
           }
          },
          "scene": {
           "xaxis": {
            "backgroundcolor": "#E5ECF6",
            "gridcolor": "white",
            "gridwidth": 2,
            "linecolor": "white",
            "showbackground": true,
            "ticks": "",
            "zerolinecolor": "white"
           },
           "yaxis": {
            "backgroundcolor": "#E5ECF6",
            "gridcolor": "white",
            "gridwidth": 2,
            "linecolor": "white",
            "showbackground": true,
            "ticks": "",
            "zerolinecolor": "white"
           },
           "zaxis": {
            "backgroundcolor": "#E5ECF6",
            "gridcolor": "white",
            "gridwidth": 2,
            "linecolor": "white",
            "showbackground": true,
            "ticks": "",
            "zerolinecolor": "white"
           }
          },
          "shapedefaults": {
           "line": {
            "color": "#2a3f5f"
           }
          },
          "ternary": {
           "aaxis": {
            "gridcolor": "white",
            "linecolor": "white",
            "ticks": ""
           },
           "baxis": {
            "gridcolor": "white",
            "linecolor": "white",
            "ticks": ""
           },
           "bgcolor": "#E5ECF6",
           "caxis": {
            "gridcolor": "white",
            "linecolor": "white",
            "ticks": ""
           }
          },
          "title": {
           "x": 0.05
          },
          "xaxis": {
           "automargin": true,
           "gridcolor": "white",
           "linecolor": "white",
           "ticks": "",
           "title": {
            "standoff": 15
           },
           "zerolinecolor": "white",
           "zerolinewidth": 2
          },
          "yaxis": {
           "automargin": true,
           "gridcolor": "white",
           "linecolor": "white",
           "ticks": "",
           "title": {
            "standoff": 15
           },
           "zerolinecolor": "white",
           "zerolinewidth": 2
          }
         }
        },
        "title": {
         "font": {
          "color": "#4D5663"
         }
        },
        "xaxis": {
         "gridcolor": "#E1E5ED",
         "showgrid": true,
         "tickfont": {
          "color": "#4D5663"
         },
         "title": {
          "font": {
           "color": "#4D5663"
          },
          "text": ""
         },
         "zerolinecolor": "#E1E5ED"
        },
        "yaxis": {
         "gridcolor": "#E1E5ED",
         "showgrid": true,
         "tickfont": {
          "color": "#4D5663"
         },
         "title": {
          "font": {
           "color": "#4D5663"
          },
          "text": ""
         },
         "zerolinecolor": "#E1E5ED"
        }
       }
      },
      "text/html": [
       "<div>                            <div id=\"cbb3737b-bbcd-455c-8d6f-355701c54624\" class=\"plotly-graph-div\" style=\"height:525px; width:100%;\"></div>            <script type=\"text/javascript\">                require([\"plotly\"], function(Plotly) {                    window.PLOTLYENV=window.PLOTLYENV || {};\n",
       "                    window.PLOTLYENV.BASE_URL='https://plot.ly';                                    if (document.getElementById(\"cbb3737b-bbcd-455c-8d6f-355701c54624\")) {                    Plotly.newPlot(                        \"cbb3737b-bbcd-455c-8d6f-355701c54624\",                        [{\"marker\":{\"color\":[\"rgb(255, 153, 51)\",\"rgb(55, 128, 191)\",\"rgb(50, 171, 96)\",\"rgb(128, 0, 128)\",\"rgb(219, 64, 82)\",\"rgb(0, 128, 128)\",\"rgb(255, 255, 51)\",\"rgb(128, 128, 0)\",\"rgb(251, 128, 114)\",\"rgb(128, 177, 211)\"],\"line\":{\"width\":1.3},\"size\":[97,38,56,66,43,64,55,68,35,79,63,33,65,30,82,63,80,75,27,65,37,76,42,65,39,62,63,71,54,47,80,53,63,60,62,72,75,12,72,51,80,50,37,20,85,25,39,97,63,21,60,79,44,103,64,56,65,112,57,26,59,23,74,54,37,65,103,55,22,71,44,48,96,57,84,17,31,76,50,71,42,50,40,24,21,52,64,47,46,107,47,37,82,60,68,57,51,42,100,73],\"symbol\":\"circle\"},\"mode\":\"markers\",\"text\":\"\",\"x\":[0.006313458985566085,0.0012147700438570593,-0.6151467796336,1.0191844884189065,-0.7495075739982601,-1.7985950729458002,0.15382533456183314,-0.5576872225427343,1.5593605186079846,1.700355672186201,-0.15236553270416087,0.39044094019462977,-0.5614557622261617,-1.2696193560262417,-0.024520044223959203,-0.7171428227047335,0.11381698115296884,-2.3261206919345363,0.37015277327553536,0.15583532903095587,-1.2289328448668377,-1.083066067855664,0.43971959185345716,-0.7927303406405242,-0.1343156933997293,-0.8773137644384209,1.1451110216332794,0.5148688588470663,0.2927029823951949,-0.5276160993217199,-1.9680202396163418,1.423501113042431,-0.6849596430392447,-0.8202548551107004,-0.6735148911527414,-0.48979918801619104,-0.8624553398219791,1.8265135614284778,-0.2573459544937043,0.742995129008227,1.9526700344421826,0.6072118968741738,-0.7096512406808968,-0.6679025965317548,0.1279081223835325,-0.2968413355288964,-0.24486047797910396,0.5028527245782749,0.500912850020907,0.35325225579994163,0.2425350082798535,-1.305708258896684,0.9755905559759886,-1.9066415540089885,0.9768170167359869,-0.4580723212715815,0.3188514544784727,-1.6537571945436216,-0.43125541197684153,0.6899089422409604,-1.4602949425078555,0.4624248034322284,0.17136443767218074,-0.012314317526127971,-2.075444122527348,0.42373853888266483,-0.06270018226508774,1.2801916313906705,-1.0247063360598394,-1.4952047036511662,1.073206362530888,0.4028356975025304,-2.142756034751585,0.6002350853929834,-0.39252221922456687,-1.234405269404836,-0.2789229501294982,-0.8258086758280934,1.3921878833189631,1.0334748315732492,-0.8694162529243042,1.5477307549981343,-0.7613614508447585,-1.725484243216102,-1.1268035087945925,-0.9821095582676026,-0.32546867991121364,-1.3547609163644982,0.39714940804709403,0.6050115429246586,1.708350505079218,0.17490611370248854,-1.5460620152456577,0.14372336528774488,-1.688811399942993,1.1805370742648729,-0.9961943586712984,-0.5222634876340545,-0.07165412061967047,0.9033111362618372],\"y\":[-0.8412830663608024,-0.14196404629860912,0.27189831213699345,-0.2286524915931357,-0.39740436970062476,0.8644404600468678,-2.425802709190879,-1.7570122474421928,-2.756010446751949,-0.8764100419623471,-0.5927093442184735,1.4131976516655804,0.9245287480106964,2.0385499547616743,0.18604640376218076,0.8795053970341459,1.452057912626229,-1.188265586802459,2.008125648195428,-1.89579976034055,-1.2142197546565268,0.585650048759407,0.1901297815215674,-0.28036571517991926,0.7435936627241457,-0.761465548738385,0.17272991435645543,0.6126370351770036,-0.6409745361014046,-1.2054505656390866,-0.5648212045818725,0.7586668028849586,-0.18694328490507595,-0.5246822943419557,0.1716824260239397,0.17281947072116297,0.9631735363229377,0.8573319073279776,2.7391337276103735,-0.8660589753505328,0.40759489166899276,-1.5249603091551445,-0.28412393855610363,1.3388176264294898,-0.7778806023887083,-1.002215354287591,-0.1309132593210741,1.0292025215239082,1.576109421092655,-2.7680691813938103,-1.1696015241546815,1.992857739976901,-0.3985444234746542,-0.7287240263019391,0.3778165333549547,-0.0028173576769728198,1.8365856724591496,-1.5811511724464855,0.14112966733498775,1.5226834789704895,-0.052630123298235944,0.5750266371763989,-0.3542992607317481,-1.2620214165498946,0.41219245488560224,1.5354942624235504,-0.4274499333810216,1.2622373437633672,-1.8754492230043058,-0.927983492576622,0.19482460729553538,-0.8839697047504629,0.16761091698702862,0.5480793234412067,-1.2069205358509782,1.8565012697440908,0.6414081528241,-1.8010467818833373,0.3081920656655891,0.46299664031639937,-0.861793356479736,1.9503678079314708,1.4349893470965174,2.7521414181104786,0.27344301616024774,0.3291002461450558,0.09630194977242912,0.8097744936659635,1.6929246110017406,-0.7259746620175114,1.0629019525856112,0.9751581738927138,-0.5179265464739529,0.040939684187299555,-0.8685496090915273,-1.0209998546636763,0.11565711451344551,-1.2954962527022302,-0.4122724614406656,1.4156544391757833],\"type\":\"scatter\"}],                        {\"legend\":{\"bgcolor\":\"#F5F6F9\",\"font\":{\"color\":\"#4D5663\"}},\"paper_bgcolor\":\"#F5F6F9\",\"plot_bgcolor\":\"#F5F6F9\",\"template\":{\"data\":{\"barpolar\":[{\"marker\":{\"line\":{\"color\":\"#E5ECF6\",\"width\":0.5},\"pattern\":{\"fillmode\":\"overlay\",\"size\":10,\"solidity\":0.2}},\"type\":\"barpolar\"}],\"bar\":[{\"error_x\":{\"color\":\"#2a3f5f\"},\"error_y\":{\"color\":\"#2a3f5f\"},\"marker\":{\"line\":{\"color\":\"#E5ECF6\",\"width\":0.5},\"pattern\":{\"fillmode\":\"overlay\",\"size\":10,\"solidity\":0.2}},\"type\":\"bar\"}],\"carpet\":[{\"aaxis\":{\"endlinecolor\":\"#2a3f5f\",\"gridcolor\":\"white\",\"linecolor\":\"white\",\"minorgridcolor\":\"white\",\"startlinecolor\":\"#2a3f5f\"},\"baxis\":{\"endlinecolor\":\"#2a3f5f\",\"gridcolor\":\"white\",\"linecolor\":\"white\",\"minorgridcolor\":\"white\",\"startlinecolor\":\"#2a3f5f\"},\"type\":\"carpet\"}],\"choropleth\":[{\"colorbar\":{\"outlinewidth\":0,\"ticks\":\"\"},\"type\":\"choropleth\"}],\"contourcarpet\":[{\"colorbar\":{\"outlinewidth\":0,\"ticks\":\"\"},\"type\":\"contourcarpet\"}],\"contour\":[{\"colorbar\":{\"outlinewidth\":0,\"ticks\":\"\"},\"colorscale\":[[0.0,\"#0d0887\"],[0.1111111111111111,\"#46039f\"],[0.2222222222222222,\"#7201a8\"],[0.3333333333333333,\"#9c179e\"],[0.4444444444444444,\"#bd3786\"],[0.5555555555555556,\"#d8576b\"],[0.6666666666666666,\"#ed7953\"],[0.7777777777777778,\"#fb9f3a\"],[0.8888888888888888,\"#fdca26\"],[1.0,\"#f0f921\"]],\"type\":\"contour\"}],\"heatmapgl\":[{\"colorbar\":{\"outlinewidth\":0,\"ticks\":\"\"},\"colorscale\":[[0.0,\"#0d0887\"],[0.1111111111111111,\"#46039f\"],[0.2222222222222222,\"#7201a8\"],[0.3333333333333333,\"#9c179e\"],[0.4444444444444444,\"#bd3786\"],[0.5555555555555556,\"#d8576b\"],[0.6666666666666666,\"#ed7953\"],[0.7777777777777778,\"#fb9f3a\"],[0.8888888888888888,\"#fdca26\"],[1.0,\"#f0f921\"]],\"type\":\"heatmapgl\"}],\"heatmap\":[{\"colorbar\":{\"outlinewidth\":0,\"ticks\":\"\"},\"colorscale\":[[0.0,\"#0d0887\"],[0.1111111111111111,\"#46039f\"],[0.2222222222222222,\"#7201a8\"],[0.3333333333333333,\"#9c179e\"],[0.4444444444444444,\"#bd3786\"],[0.5555555555555556,\"#d8576b\"],[0.6666666666666666,\"#ed7953\"],[0.7777777777777778,\"#fb9f3a\"],[0.8888888888888888,\"#fdca26\"],[1.0,\"#f0f921\"]],\"type\":\"heatmap\"}],\"histogram2dcontour\":[{\"colorbar\":{\"outlinewidth\":0,\"ticks\":\"\"},\"colorscale\":[[0.0,\"#0d0887\"],[0.1111111111111111,\"#46039f\"],[0.2222222222222222,\"#7201a8\"],[0.3333333333333333,\"#9c179e\"],[0.4444444444444444,\"#bd3786\"],[0.5555555555555556,\"#d8576b\"],[0.6666666666666666,\"#ed7953\"],[0.7777777777777778,\"#fb9f3a\"],[0.8888888888888888,\"#fdca26\"],[1.0,\"#f0f921\"]],\"type\":\"histogram2dcontour\"}],\"histogram2d\":[{\"colorbar\":{\"outlinewidth\":0,\"ticks\":\"\"},\"colorscale\":[[0.0,\"#0d0887\"],[0.1111111111111111,\"#46039f\"],[0.2222222222222222,\"#7201a8\"],[0.3333333333333333,\"#9c179e\"],[0.4444444444444444,\"#bd3786\"],[0.5555555555555556,\"#d8576b\"],[0.6666666666666666,\"#ed7953\"],[0.7777777777777778,\"#fb9f3a\"],[0.8888888888888888,\"#fdca26\"],[1.0,\"#f0f921\"]],\"type\":\"histogram2d\"}],\"histogram\":[{\"marker\":{\"pattern\":{\"fillmode\":\"overlay\",\"size\":10,\"solidity\":0.2}},\"type\":\"histogram\"}],\"mesh3d\":[{\"colorbar\":{\"outlinewidth\":0,\"ticks\":\"\"},\"type\":\"mesh3d\"}],\"parcoords\":[{\"line\":{\"colorbar\":{\"outlinewidth\":0,\"ticks\":\"\"}},\"type\":\"parcoords\"}],\"pie\":[{\"automargin\":true,\"type\":\"pie\"}],\"scatter3d\":[{\"line\":{\"colorbar\":{\"outlinewidth\":0,\"ticks\":\"\"}},\"marker\":{\"colorbar\":{\"outlinewidth\":0,\"ticks\":\"\"}},\"type\":\"scatter3d\"}],\"scattercarpet\":[{\"marker\":{\"colorbar\":{\"outlinewidth\":0,\"ticks\":\"\"}},\"type\":\"scattercarpet\"}],\"scattergeo\":[{\"marker\":{\"colorbar\":{\"outlinewidth\":0,\"ticks\":\"\"}},\"type\":\"scattergeo\"}],\"scattergl\":[{\"marker\":{\"colorbar\":{\"outlinewidth\":0,\"ticks\":\"\"}},\"type\":\"scattergl\"}],\"scattermapbox\":[{\"marker\":{\"colorbar\":{\"outlinewidth\":0,\"ticks\":\"\"}},\"type\":\"scattermapbox\"}],\"scatterpolargl\":[{\"marker\":{\"colorbar\":{\"outlinewidth\":0,\"ticks\":\"\"}},\"type\":\"scatterpolargl\"}],\"scatterpolar\":[{\"marker\":{\"colorbar\":{\"outlinewidth\":0,\"ticks\":\"\"}},\"type\":\"scatterpolar\"}],\"scatter\":[{\"fillpattern\":{\"fillmode\":\"overlay\",\"size\":10,\"solidity\":0.2},\"type\":\"scatter\"}],\"scatterternary\":[{\"marker\":{\"colorbar\":{\"outlinewidth\":0,\"ticks\":\"\"}},\"type\":\"scatterternary\"}],\"surface\":[{\"colorbar\":{\"outlinewidth\":0,\"ticks\":\"\"},\"colorscale\":[[0.0,\"#0d0887\"],[0.1111111111111111,\"#46039f\"],[0.2222222222222222,\"#7201a8\"],[0.3333333333333333,\"#9c179e\"],[0.4444444444444444,\"#bd3786\"],[0.5555555555555556,\"#d8576b\"],[0.6666666666666666,\"#ed7953\"],[0.7777777777777778,\"#fb9f3a\"],[0.8888888888888888,\"#fdca26\"],[1.0,\"#f0f921\"]],\"type\":\"surface\"}],\"table\":[{\"cells\":{\"fill\":{\"color\":\"#EBF0F8\"},\"line\":{\"color\":\"white\"}},\"header\":{\"fill\":{\"color\":\"#C8D4E3\"},\"line\":{\"color\":\"white\"}},\"type\":\"table\"}]},\"layout\":{\"annotationdefaults\":{\"arrowcolor\":\"#2a3f5f\",\"arrowhead\":0,\"arrowwidth\":1},\"autotypenumbers\":\"strict\",\"coloraxis\":{\"colorbar\":{\"outlinewidth\":0,\"ticks\":\"\"}},\"colorscale\":{\"diverging\":[[0,\"#8e0152\"],[0.1,\"#c51b7d\"],[0.2,\"#de77ae\"],[0.3,\"#f1b6da\"],[0.4,\"#fde0ef\"],[0.5,\"#f7f7f7\"],[0.6,\"#e6f5d0\"],[0.7,\"#b8e186\"],[0.8,\"#7fbc41\"],[0.9,\"#4d9221\"],[1,\"#276419\"]],\"sequential\":[[0.0,\"#0d0887\"],[0.1111111111111111,\"#46039f\"],[0.2222222222222222,\"#7201a8\"],[0.3333333333333333,\"#9c179e\"],[0.4444444444444444,\"#bd3786\"],[0.5555555555555556,\"#d8576b\"],[0.6666666666666666,\"#ed7953\"],[0.7777777777777778,\"#fb9f3a\"],[0.8888888888888888,\"#fdca26\"],[1.0,\"#f0f921\"]],\"sequentialminus\":[[0.0,\"#0d0887\"],[0.1111111111111111,\"#46039f\"],[0.2222222222222222,\"#7201a8\"],[0.3333333333333333,\"#9c179e\"],[0.4444444444444444,\"#bd3786\"],[0.5555555555555556,\"#d8576b\"],[0.6666666666666666,\"#ed7953\"],[0.7777777777777778,\"#fb9f3a\"],[0.8888888888888888,\"#fdca26\"],[1.0,\"#f0f921\"]]},\"colorway\":[\"#636efa\",\"#EF553B\",\"#00cc96\",\"#ab63fa\",\"#FFA15A\",\"#19d3f3\",\"#FF6692\",\"#B6E880\",\"#FF97FF\",\"#FECB52\"],\"font\":{\"color\":\"#2a3f5f\"},\"geo\":{\"bgcolor\":\"white\",\"lakecolor\":\"white\",\"landcolor\":\"#E5ECF6\",\"showlakes\":true,\"showland\":true,\"subunitcolor\":\"white\"},\"hoverlabel\":{\"align\":\"left\"},\"hovermode\":\"closest\",\"mapbox\":{\"style\":\"light\"},\"paper_bgcolor\":\"white\",\"plot_bgcolor\":\"#E5ECF6\",\"polar\":{\"angularaxis\":{\"gridcolor\":\"white\",\"linecolor\":\"white\",\"ticks\":\"\"},\"bgcolor\":\"#E5ECF6\",\"radialaxis\":{\"gridcolor\":\"white\",\"linecolor\":\"white\",\"ticks\":\"\"}},\"scene\":{\"xaxis\":{\"backgroundcolor\":\"#E5ECF6\",\"gridcolor\":\"white\",\"gridwidth\":2,\"linecolor\":\"white\",\"showbackground\":true,\"ticks\":\"\",\"zerolinecolor\":\"white\"},\"yaxis\":{\"backgroundcolor\":\"#E5ECF6\",\"gridcolor\":\"white\",\"gridwidth\":2,\"linecolor\":\"white\",\"showbackground\":true,\"ticks\":\"\",\"zerolinecolor\":\"white\"},\"zaxis\":{\"backgroundcolor\":\"#E5ECF6\",\"gridcolor\":\"white\",\"gridwidth\":2,\"linecolor\":\"white\",\"showbackground\":true,\"ticks\":\"\",\"zerolinecolor\":\"white\"}},\"shapedefaults\":{\"line\":{\"color\":\"#2a3f5f\"}},\"ternary\":{\"aaxis\":{\"gridcolor\":\"white\",\"linecolor\":\"white\",\"ticks\":\"\"},\"baxis\":{\"gridcolor\":\"white\",\"linecolor\":\"white\",\"ticks\":\"\"},\"bgcolor\":\"#E5ECF6\",\"caxis\":{\"gridcolor\":\"white\",\"linecolor\":\"white\",\"ticks\":\"\"}},\"title\":{\"x\":0.05},\"xaxis\":{\"automargin\":true,\"gridcolor\":\"white\",\"linecolor\":\"white\",\"ticks\":\"\",\"title\":{\"standoff\":15},\"zerolinecolor\":\"white\",\"zerolinewidth\":2},\"yaxis\":{\"automargin\":true,\"gridcolor\":\"white\",\"linecolor\":\"white\",\"ticks\":\"\",\"title\":{\"standoff\":15},\"zerolinecolor\":\"white\",\"zerolinewidth\":2}}},\"title\":{\"font\":{\"color\":\"#4D5663\"}},\"xaxis\":{\"gridcolor\":\"#E1E5ED\",\"showgrid\":true,\"tickfont\":{\"color\":\"#4D5663\"},\"title\":{\"font\":{\"color\":\"#4D5663\"},\"text\":\"\"},\"zerolinecolor\":\"#E1E5ED\"},\"yaxis\":{\"gridcolor\":\"#E1E5ED\",\"showgrid\":true,\"tickfont\":{\"color\":\"#4D5663\"},\"title\":{\"font\":{\"color\":\"#4D5663\"},\"text\":\"\"},\"zerolinecolor\":\"#E1E5ED\"}},                        {\"showLink\": true, \"linkText\": \"Export to plot.ly\", \"plotlyServerURL\": \"https://plot.ly\", \"responsive\": true}                    ).then(function(){\n",
       "                            \n",
       "var gd = document.getElementById('cbb3737b-bbcd-455c-8d6f-355701c54624');\n",
       "var x = new MutationObserver(function (mutations, observer) {{\n",
       "        var display = window.getComputedStyle(gd).display;\n",
       "        if (!display || display === 'none') {{\n",
       "            console.log([gd, 'removed!']);\n",
       "            Plotly.purge(gd);\n",
       "            observer.disconnect();\n",
       "        }}\n",
       "}});\n",
       "\n",
       "// Listen for the removal of the full notebook cells\n",
       "var notebookContainer = gd.closest('#notebook-container');\n",
       "if (notebookContainer) {{\n",
       "    x.observe(notebookContainer, {childList: true});\n",
       "}}\n",
       "\n",
       "// Listen for the clearing of the current output cell\n",
       "var outputEl = gd.closest('.output');\n",
       "if (outputEl) {{\n",
       "    x.observe(outputEl, {childList: true});\n",
       "}}\n",
       "\n",
       "                        })                };                });            </script>        </div>"
      ]
     },
     "metadata": {},
     "output_type": "display_data"
    }
   ],
   "source": [
    "df.iplot(kind='bubble',x='A',y='B',size='C')"
   ]
  },
  {
   "cell_type": "markdown",
   "metadata": {},
   "source": [
    "## scatter_matrix()\n",
    "\n",
    "Similar to sns.pairplot()"
   ]
  },
  {
   "cell_type": "code",
   "execution_count": 30,
   "metadata": {},
   "outputs": [
    {
     "data": {
      "application/vnd.plotly.v1+json": {
       "config": {
        "linkText": "Export to plot.ly",
        "plotlyServerURL": "https://plot.ly",
        "showLink": true
       },
       "data": [
        {
         "histfunc": "count",
         "histnorm": "",
         "marker": {
          "color": "rgba(255, 153, 51, 1.0)",
          "line": {
           "color": "#4D5663",
           "width": 1.3
          }
         },
         "name": "A",
         "nbinsx": 10,
         "opacity": 0.8,
         "orientation": "v",
         "type": "histogram",
         "x": [
          0.006313458985566085,
          0.0012147700438570593,
          -0.6151467796336,
          1.0191844884189065,
          -0.7495075739982601,
          -1.7985950729458002,
          0.15382533456183314,
          -0.5576872225427343,
          1.5593605186079846,
          1.700355672186201,
          -0.15236553270416087,
          0.39044094019462977,
          -0.5614557622261617,
          -1.2696193560262417,
          -0.024520044223959203,
          -0.7171428227047335,
          0.11381698115296884,
          -2.3261206919345363,
          0.37015277327553536,
          0.15583532903095587,
          -1.2289328448668377,
          -1.083066067855664,
          0.43971959185345716,
          -0.7927303406405242,
          -0.1343156933997293,
          -0.8773137644384209,
          1.1451110216332794,
          0.5148688588470663,
          0.2927029823951949,
          -0.5276160993217199,
          -1.9680202396163418,
          1.423501113042431,
          -0.6849596430392447,
          -0.8202548551107004,
          -0.6735148911527414,
          -0.48979918801619104,
          -0.8624553398219791,
          1.8265135614284778,
          -0.2573459544937043,
          0.742995129008227,
          1.9526700344421826,
          0.6072118968741738,
          -0.7096512406808968,
          -0.6679025965317548,
          0.1279081223835325,
          -0.2968413355288964,
          -0.24486047797910396,
          0.5028527245782749,
          0.500912850020907,
          0.35325225579994163,
          0.2425350082798535,
          -1.305708258896684,
          0.9755905559759886,
          -1.9066415540089885,
          0.9768170167359869,
          -0.4580723212715815,
          0.3188514544784727,
          -1.6537571945436216,
          -0.43125541197684153,
          0.6899089422409604,
          -1.4602949425078555,
          0.4624248034322284,
          0.17136443767218074,
          -0.012314317526127971,
          -2.075444122527348,
          0.42373853888266483,
          -0.06270018226508774,
          1.2801916313906705,
          -1.0247063360598394,
          -1.4952047036511662,
          1.073206362530888,
          0.4028356975025304,
          -2.142756034751585,
          0.6002350853929834,
          -0.39252221922456687,
          -1.234405269404836,
          -0.2789229501294982,
          -0.8258086758280934,
          1.3921878833189631,
          1.0334748315732492,
          -0.8694162529243042,
          1.5477307549981343,
          -0.7613614508447585,
          -1.725484243216102,
          -1.1268035087945925,
          -0.9821095582676026,
          -0.32546867991121364,
          -1.3547609163644982,
          0.39714940804709403,
          0.6050115429246586,
          1.708350505079218,
          0.17490611370248854,
          -1.5460620152456577,
          0.14372336528774488,
          -1.688811399942993,
          1.1805370742648729,
          -0.9961943586712984,
          -0.5222634876340545,
          -0.07165412061967047,
          0.9033111362618372
         ],
         "xaxis": "x",
         "yaxis": "y"
        },
        {
         "line": {
          "color": "rgba(128, 128, 128, 1.0)",
          "dash": "solid",
          "shape": "linear",
          "width": 1.3
         },
         "marker": {
          "size": 2,
          "symbol": "circle"
         },
         "mode": "markers",
         "name": "A",
         "text": "",
         "type": "scatter",
         "x": [
          -0.8412830663608024,
          -0.14196404629860912,
          0.27189831213699345,
          -0.2286524915931357,
          -0.39740436970062476,
          0.8644404600468678,
          -2.425802709190879,
          -1.7570122474421928,
          -2.756010446751949,
          -0.8764100419623471,
          -0.5927093442184735,
          1.4131976516655804,
          0.9245287480106964,
          2.0385499547616743,
          0.18604640376218076,
          0.8795053970341459,
          1.452057912626229,
          -1.188265586802459,
          2.008125648195428,
          -1.89579976034055,
          -1.2142197546565268,
          0.585650048759407,
          0.1901297815215674,
          -0.28036571517991926,
          0.7435936627241457,
          -0.761465548738385,
          0.17272991435645543,
          0.6126370351770036,
          -0.6409745361014046,
          -1.2054505656390866,
          -0.5648212045818725,
          0.7586668028849586,
          -0.18694328490507595,
          -0.5246822943419557,
          0.1716824260239397,
          0.17281947072116297,
          0.9631735363229377,
          0.8573319073279776,
          2.7391337276103735,
          -0.8660589753505328,
          0.40759489166899276,
          -1.5249603091551445,
          -0.28412393855610363,
          1.3388176264294898,
          -0.7778806023887083,
          -1.002215354287591,
          -0.1309132593210741,
          1.0292025215239082,
          1.576109421092655,
          -2.7680691813938103,
          -1.1696015241546815,
          1.992857739976901,
          -0.3985444234746542,
          -0.7287240263019391,
          0.3778165333549547,
          -0.0028173576769728198,
          1.8365856724591496,
          -1.5811511724464855,
          0.14112966733498775,
          1.5226834789704895,
          -0.052630123298235944,
          0.5750266371763989,
          -0.3542992607317481,
          -1.2620214165498946,
          0.41219245488560224,
          1.5354942624235504,
          -0.4274499333810216,
          1.2622373437633672,
          -1.8754492230043058,
          -0.927983492576622,
          0.19482460729553538,
          -0.8839697047504629,
          0.16761091698702862,
          0.5480793234412067,
          -1.2069205358509782,
          1.8565012697440908,
          0.6414081528241,
          -1.8010467818833373,
          0.3081920656655891,
          0.46299664031639937,
          -0.861793356479736,
          1.9503678079314708,
          1.4349893470965174,
          2.7521414181104786,
          0.27344301616024774,
          0.3291002461450558,
          0.09630194977242912,
          0.8097744936659635,
          1.6929246110017406,
          -0.7259746620175114,
          1.0629019525856112,
          0.9751581738927138,
          -0.5179265464739529,
          0.040939684187299555,
          -0.8685496090915273,
          -1.0209998546636763,
          0.11565711451344551,
          -1.2954962527022302,
          -0.4122724614406656,
          1.4156544391757833
         ],
         "xaxis": "x2",
         "y": [
          0.006313458985566085,
          0.0012147700438570593,
          -0.6151467796336,
          1.0191844884189065,
          -0.7495075739982601,
          -1.7985950729458002,
          0.15382533456183314,
          -0.5576872225427343,
          1.5593605186079846,
          1.700355672186201,
          -0.15236553270416087,
          0.39044094019462977,
          -0.5614557622261617,
          -1.2696193560262417,
          -0.024520044223959203,
          -0.7171428227047335,
          0.11381698115296884,
          -2.3261206919345363,
          0.37015277327553536,
          0.15583532903095587,
          -1.2289328448668377,
          -1.083066067855664,
          0.43971959185345716,
          -0.7927303406405242,
          -0.1343156933997293,
          -0.8773137644384209,
          1.1451110216332794,
          0.5148688588470663,
          0.2927029823951949,
          -0.5276160993217199,
          -1.9680202396163418,
          1.423501113042431,
          -0.6849596430392447,
          -0.8202548551107004,
          -0.6735148911527414,
          -0.48979918801619104,
          -0.8624553398219791,
          1.8265135614284778,
          -0.2573459544937043,
          0.742995129008227,
          1.9526700344421826,
          0.6072118968741738,
          -0.7096512406808968,
          -0.6679025965317548,
          0.1279081223835325,
          -0.2968413355288964,
          -0.24486047797910396,
          0.5028527245782749,
          0.500912850020907,
          0.35325225579994163,
          0.2425350082798535,
          -1.305708258896684,
          0.9755905559759886,
          -1.9066415540089885,
          0.9768170167359869,
          -0.4580723212715815,
          0.3188514544784727,
          -1.6537571945436216,
          -0.43125541197684153,
          0.6899089422409604,
          -1.4602949425078555,
          0.4624248034322284,
          0.17136443767218074,
          -0.012314317526127971,
          -2.075444122527348,
          0.42373853888266483,
          -0.06270018226508774,
          1.2801916313906705,
          -1.0247063360598394,
          -1.4952047036511662,
          1.073206362530888,
          0.4028356975025304,
          -2.142756034751585,
          0.6002350853929834,
          -0.39252221922456687,
          -1.234405269404836,
          -0.2789229501294982,
          -0.8258086758280934,
          1.3921878833189631,
          1.0334748315732492,
          -0.8694162529243042,
          1.5477307549981343,
          -0.7613614508447585,
          -1.725484243216102,
          -1.1268035087945925,
          -0.9821095582676026,
          -0.32546867991121364,
          -1.3547609163644982,
          0.39714940804709403,
          0.6050115429246586,
          1.708350505079218,
          0.17490611370248854,
          -1.5460620152456577,
          0.14372336528774488,
          -1.688811399942993,
          1.1805370742648729,
          -0.9961943586712984,
          -0.5222634876340545,
          -0.07165412061967047,
          0.9033111362618372
         ],
         "yaxis": "y2"
        },
        {
         "line": {
          "color": "rgba(128, 128, 128, 1.0)",
          "dash": "solid",
          "shape": "linear",
          "width": 1.3
         },
         "marker": {
          "size": 2,
          "symbol": "circle"
         },
         "mode": "markers",
         "name": "A",
         "text": "",
         "type": "scatter",
         "x": [
          1.707038369955218,
          -1.1944580737362835,
          -0.3136450740008115,
          0.2145991268093264,
          -0.9136438753341855,
          0.10369918491718025,
          -0.34797346452177425,
          0.2931993700438992,
          -1.3168978180347461,
          0.8525859596815066,
          0.04664310493548644,
          -1.447247889353405,
          0.1636020305458358,
          -1.591836239247566,
          1.0045744941911439,
          0.06028804643827226,
          0.9136021142320738,
          0.643803690773452,
          -1.706701318582883,
          0.16788001195365332,
          -1.2102351369194388,
          0.68544736419801,
          -0.9902964461625677,
          0.13646269319220988,
          -1.1181091811635246,
          0.009424042068484103,
          0.0663008152019507,
          0.44480053985991724,
          -0.4102929349209481,
          -0.7521844409870982,
          0.8859100605181857,
          -0.44230668477616253,
          0.07143087988818725,
          -0.11818324764768713,
          -0.008887481604480675,
          0.5037677777458722,
          0.643393957017346,
          -2.4920271022035507,
          0.5027870806058774,
          -0.5226700936142273,
          0.8991088107393138,
          -0.5865382063643537,
          -1.2100225882296463,
          -2.0599730683130426,
          1.1407855337171038,
          -1.8278335859696653,
          -1.1315893334163514,
          1.7300379832856623,
          0.040205230582391255,
          -2.0034074915790203,
          -0.10145949669672309,
          0.848608688651032,
          -0.8691583066905473,
          2.0033985279967883,
          0.0851170254886317,
          -0.2904207414606158,
          0.17208553749715433,
          2.44471233610033,
          -0.23992922785879967,
          -1.7729546900537438,
          -0.12794431347066698,
          -1.901225632404973,
          0.6150412483712875,
          -0.37647678752738106,
          -1.2549690324935654,
          0.14600133680676602,
          2.045111179712386,
          -0.3206270988118269,
          -1.9645429528400156,
          0.4218885182419636,
          -0.9058415705220113,
          -0.7146327495082909,
          1.6732647430053853,
          -0.25376094932641113,
          1.1077210607854393,
          -2.2348018707267387,
          -1.5284287741776723,
          0.6857390240565828,
          -0.6159464127175284,
          0.42395104469825345,
          -0.9813622772392521,
          -0.5879224292738445,
          -1.1089986852534996,
          -1.8528229213545215,
          -2.0094081846917806,
          -0.5050947765715991,
          0.10201531701510447,
          -0.7494957103998997,
          -0.7703489007647258,
          2.2320325236689778,
          -0.718181159562157,
          -1.2212834198258062,
          1.011635218848077,
          -0.0915258676566311,
          0.2816285201940886,
          -0.24823373505413232,
          -0.5573516672305696,
          -0.9670935284612214,
          1.8541025385189311,
          0.5533686207986326
         ],
         "xaxis": "x3",
         "y": [
          0.006313458985566085,
          0.0012147700438570593,
          -0.6151467796336,
          1.0191844884189065,
          -0.7495075739982601,
          -1.7985950729458002,
          0.15382533456183314,
          -0.5576872225427343,
          1.5593605186079846,
          1.700355672186201,
          -0.15236553270416087,
          0.39044094019462977,
          -0.5614557622261617,
          -1.2696193560262417,
          -0.024520044223959203,
          -0.7171428227047335,
          0.11381698115296884,
          -2.3261206919345363,
          0.37015277327553536,
          0.15583532903095587,
          -1.2289328448668377,
          -1.083066067855664,
          0.43971959185345716,
          -0.7927303406405242,
          -0.1343156933997293,
          -0.8773137644384209,
          1.1451110216332794,
          0.5148688588470663,
          0.2927029823951949,
          -0.5276160993217199,
          -1.9680202396163418,
          1.423501113042431,
          -0.6849596430392447,
          -0.8202548551107004,
          -0.6735148911527414,
          -0.48979918801619104,
          -0.8624553398219791,
          1.8265135614284778,
          -0.2573459544937043,
          0.742995129008227,
          1.9526700344421826,
          0.6072118968741738,
          -0.7096512406808968,
          -0.6679025965317548,
          0.1279081223835325,
          -0.2968413355288964,
          -0.24486047797910396,
          0.5028527245782749,
          0.500912850020907,
          0.35325225579994163,
          0.2425350082798535,
          -1.305708258896684,
          0.9755905559759886,
          -1.9066415540089885,
          0.9768170167359869,
          -0.4580723212715815,
          0.3188514544784727,
          -1.6537571945436216,
          -0.43125541197684153,
          0.6899089422409604,
          -1.4602949425078555,
          0.4624248034322284,
          0.17136443767218074,
          -0.012314317526127971,
          -2.075444122527348,
          0.42373853888266483,
          -0.06270018226508774,
          1.2801916313906705,
          -1.0247063360598394,
          -1.4952047036511662,
          1.073206362530888,
          0.4028356975025304,
          -2.142756034751585,
          0.6002350853929834,
          -0.39252221922456687,
          -1.234405269404836,
          -0.2789229501294982,
          -0.8258086758280934,
          1.3921878833189631,
          1.0334748315732492,
          -0.8694162529243042,
          1.5477307549981343,
          -0.7613614508447585,
          -1.725484243216102,
          -1.1268035087945925,
          -0.9821095582676026,
          -0.32546867991121364,
          -1.3547609163644982,
          0.39714940804709403,
          0.6050115429246586,
          1.708350505079218,
          0.17490611370248854,
          -1.5460620152456577,
          0.14372336528774488,
          -1.688811399942993,
          1.1805370742648729,
          -0.9961943586712984,
          -0.5222634876340545,
          -0.07165412061967047,
          0.9033111362618372
         ],
         "yaxis": "y3"
        },
        {
         "line": {
          "color": "rgba(128, 128, 128, 1.0)",
          "dash": "solid",
          "shape": "linear",
          "width": 1.3
         },
         "marker": {
          "size": 2,
          "symbol": "circle"
         },
         "mode": "markers",
         "name": "A",
         "text": "",
         "type": "scatter",
         "x": [
          -1.1566040113793468,
          -0.17719658245203096,
          -0.22001559015856784,
          0.11411098999208485,
          0.7553989288850536,
          0.12941845110221267,
          -0.36924365470844217,
          -0.14042689305053832,
          -0.012184061722167346,
          0.7042196554924196,
          -0.5662661963116242,
          0.15106440103188395,
          0.641305254040354,
          -0.23778419338816745,
          1.0500064121808312,
          0.09771224700308351,
          -0.12007618116411842,
          1.4548453265406098,
          0.44671979914733273,
          0.5614144324972279,
          -0.269772452550473,
          -0.3710736420653342,
          -0.6193737860923557,
          -1.065182270268602,
          -0.6847264633276577,
          -1.6546652369080077,
          0.6797487563279534,
          0.6254806440170384,
          -0.09838986976948408,
          1.2817762669256858,
          -0.9034144902333571,
          -0.5006004902721884,
          0.36017763237260625,
          0.5143844849170333,
          -0.6706699097670474,
          -0.6412929559548977,
          0.09063385538101404,
          -0.5236930476306975,
          1.8373709002421237,
          -0.9164347799040972,
          0.9078149208194355,
          0.8933490494414992,
          -0.24386080214957928,
          -0.6341855149084185,
          -0.17792444181528683,
          -0.7213043851450351,
          -1.272780709979072,
          -2.2368011142749094,
          1.03495335124129,
          1.1324603953374288,
          1.5464457098508517,
          -0.63316370440996,
          -0.721822579211477,
          0.8053022998144862,
          -1.2039717822788483,
          -0.7820784400482695,
          0.4917718016946589,
          0.1969561797343989,
          0.13076606941164398,
          0.6563196359301695,
          0.58745657446414,
          -0.7596066092973845,
          -0.7548933304243536,
          -0.11788818861872609,
          -1.2146363857500575,
          2.747670713159326,
          0.752562068564129,
          -0.4804806714288889,
          0.21126788468690336,
          0.997253668738476,
          -0.7631958603755667,
          -0.5359127902590382,
          0.20824787033686898,
          -0.717246832675506,
          -0.2704811941324191,
          1.5409848149890162,
          -0.08860051777682035,
          -1.5701951110734906,
          0.38492688012542037,
          0.250437571864057,
          -0.1924178082239149,
          -0.909397026361852,
          2.1080919404464193,
          -0.1969263787544274,
          0.3005110032183098,
          -2.1388546730874096,
          0.4999877202623662,
          -0.6704850315393515,
          0.4453707423338972,
          1.0209096583741655,
          -0.7143087467589033,
          -0.02044574552658848,
          0.943818778938937,
          -1.161447593273323,
          -0.2205237370152114,
          0.963946907469839,
          0.9154216136153533,
          -0.3955067497927909,
          -0.32918157709622836,
          0.7696258434241922
         ],
         "xaxis": "x4",
         "y": [
          0.006313458985566085,
          0.0012147700438570593,
          -0.6151467796336,
          1.0191844884189065,
          -0.7495075739982601,
          -1.7985950729458002,
          0.15382533456183314,
          -0.5576872225427343,
          1.5593605186079846,
          1.700355672186201,
          -0.15236553270416087,
          0.39044094019462977,
          -0.5614557622261617,
          -1.2696193560262417,
          -0.024520044223959203,
          -0.7171428227047335,
          0.11381698115296884,
          -2.3261206919345363,
          0.37015277327553536,
          0.15583532903095587,
          -1.2289328448668377,
          -1.083066067855664,
          0.43971959185345716,
          -0.7927303406405242,
          -0.1343156933997293,
          -0.8773137644384209,
          1.1451110216332794,
          0.5148688588470663,
          0.2927029823951949,
          -0.5276160993217199,
          -1.9680202396163418,
          1.423501113042431,
          -0.6849596430392447,
          -0.8202548551107004,
          -0.6735148911527414,
          -0.48979918801619104,
          -0.8624553398219791,
          1.8265135614284778,
          -0.2573459544937043,
          0.742995129008227,
          1.9526700344421826,
          0.6072118968741738,
          -0.7096512406808968,
          -0.6679025965317548,
          0.1279081223835325,
          -0.2968413355288964,
          -0.24486047797910396,
          0.5028527245782749,
          0.500912850020907,
          0.35325225579994163,
          0.2425350082798535,
          -1.305708258896684,
          0.9755905559759886,
          -1.9066415540089885,
          0.9768170167359869,
          -0.4580723212715815,
          0.3188514544784727,
          -1.6537571945436216,
          -0.43125541197684153,
          0.6899089422409604,
          -1.4602949425078555,
          0.4624248034322284,
          0.17136443767218074,
          -0.012314317526127971,
          -2.075444122527348,
          0.42373853888266483,
          -0.06270018226508774,
          1.2801916313906705,
          -1.0247063360598394,
          -1.4952047036511662,
          1.073206362530888,
          0.4028356975025304,
          -2.142756034751585,
          0.6002350853929834,
          -0.39252221922456687,
          -1.234405269404836,
          -0.2789229501294982,
          -0.8258086758280934,
          1.3921878833189631,
          1.0334748315732492,
          -0.8694162529243042,
          1.5477307549981343,
          -0.7613614508447585,
          -1.725484243216102,
          -1.1268035087945925,
          -0.9821095582676026,
          -0.32546867991121364,
          -1.3547609163644982,
          0.39714940804709403,
          0.6050115429246586,
          1.708350505079218,
          0.17490611370248854,
          -1.5460620152456577,
          0.14372336528774488,
          -1.688811399942993,
          1.1805370742648729,
          -0.9961943586712984,
          -0.5222634876340545,
          -0.07165412061967047,
          0.9033111362618372
         ],
         "yaxis": "y4"
        },
        {
         "line": {
          "color": "rgba(128, 128, 128, 1.0)",
          "dash": "solid",
          "shape": "linear",
          "width": 1.3
         },
         "marker": {
          "size": 2,
          "symbol": "circle"
         },
         "mode": "markers",
         "name": "B",
         "text": "",
         "type": "scatter",
         "x": [
          0.006313458985566085,
          0.0012147700438570593,
          -0.6151467796336,
          1.0191844884189065,
          -0.7495075739982601,
          -1.7985950729458002,
          0.15382533456183314,
          -0.5576872225427343,
          1.5593605186079846,
          1.700355672186201,
          -0.15236553270416087,
          0.39044094019462977,
          -0.5614557622261617,
          -1.2696193560262417,
          -0.024520044223959203,
          -0.7171428227047335,
          0.11381698115296884,
          -2.3261206919345363,
          0.37015277327553536,
          0.15583532903095587,
          -1.2289328448668377,
          -1.083066067855664,
          0.43971959185345716,
          -0.7927303406405242,
          -0.1343156933997293,
          -0.8773137644384209,
          1.1451110216332794,
          0.5148688588470663,
          0.2927029823951949,
          -0.5276160993217199,
          -1.9680202396163418,
          1.423501113042431,
          -0.6849596430392447,
          -0.8202548551107004,
          -0.6735148911527414,
          -0.48979918801619104,
          -0.8624553398219791,
          1.8265135614284778,
          -0.2573459544937043,
          0.742995129008227,
          1.9526700344421826,
          0.6072118968741738,
          -0.7096512406808968,
          -0.6679025965317548,
          0.1279081223835325,
          -0.2968413355288964,
          -0.24486047797910396,
          0.5028527245782749,
          0.500912850020907,
          0.35325225579994163,
          0.2425350082798535,
          -1.305708258896684,
          0.9755905559759886,
          -1.9066415540089885,
          0.9768170167359869,
          -0.4580723212715815,
          0.3188514544784727,
          -1.6537571945436216,
          -0.43125541197684153,
          0.6899089422409604,
          -1.4602949425078555,
          0.4624248034322284,
          0.17136443767218074,
          -0.012314317526127971,
          -2.075444122527348,
          0.42373853888266483,
          -0.06270018226508774,
          1.2801916313906705,
          -1.0247063360598394,
          -1.4952047036511662,
          1.073206362530888,
          0.4028356975025304,
          -2.142756034751585,
          0.6002350853929834,
          -0.39252221922456687,
          -1.234405269404836,
          -0.2789229501294982,
          -0.8258086758280934,
          1.3921878833189631,
          1.0334748315732492,
          -0.8694162529243042,
          1.5477307549981343,
          -0.7613614508447585,
          -1.725484243216102,
          -1.1268035087945925,
          -0.9821095582676026,
          -0.32546867991121364,
          -1.3547609163644982,
          0.39714940804709403,
          0.6050115429246586,
          1.708350505079218,
          0.17490611370248854,
          -1.5460620152456577,
          0.14372336528774488,
          -1.688811399942993,
          1.1805370742648729,
          -0.9961943586712984,
          -0.5222634876340545,
          -0.07165412061967047,
          0.9033111362618372
         ],
         "xaxis": "x5",
         "y": [
          -0.8412830663608024,
          -0.14196404629860912,
          0.27189831213699345,
          -0.2286524915931357,
          -0.39740436970062476,
          0.8644404600468678,
          -2.425802709190879,
          -1.7570122474421928,
          -2.756010446751949,
          -0.8764100419623471,
          -0.5927093442184735,
          1.4131976516655804,
          0.9245287480106964,
          2.0385499547616743,
          0.18604640376218076,
          0.8795053970341459,
          1.452057912626229,
          -1.188265586802459,
          2.008125648195428,
          -1.89579976034055,
          -1.2142197546565268,
          0.585650048759407,
          0.1901297815215674,
          -0.28036571517991926,
          0.7435936627241457,
          -0.761465548738385,
          0.17272991435645543,
          0.6126370351770036,
          -0.6409745361014046,
          -1.2054505656390866,
          -0.5648212045818725,
          0.7586668028849586,
          -0.18694328490507595,
          -0.5246822943419557,
          0.1716824260239397,
          0.17281947072116297,
          0.9631735363229377,
          0.8573319073279776,
          2.7391337276103735,
          -0.8660589753505328,
          0.40759489166899276,
          -1.5249603091551445,
          -0.28412393855610363,
          1.3388176264294898,
          -0.7778806023887083,
          -1.002215354287591,
          -0.1309132593210741,
          1.0292025215239082,
          1.576109421092655,
          -2.7680691813938103,
          -1.1696015241546815,
          1.992857739976901,
          -0.3985444234746542,
          -0.7287240263019391,
          0.3778165333549547,
          -0.0028173576769728198,
          1.8365856724591496,
          -1.5811511724464855,
          0.14112966733498775,
          1.5226834789704895,
          -0.052630123298235944,
          0.5750266371763989,
          -0.3542992607317481,
          -1.2620214165498946,
          0.41219245488560224,
          1.5354942624235504,
          -0.4274499333810216,
          1.2622373437633672,
          -1.8754492230043058,
          -0.927983492576622,
          0.19482460729553538,
          -0.8839697047504629,
          0.16761091698702862,
          0.5480793234412067,
          -1.2069205358509782,
          1.8565012697440908,
          0.6414081528241,
          -1.8010467818833373,
          0.3081920656655891,
          0.46299664031639937,
          -0.861793356479736,
          1.9503678079314708,
          1.4349893470965174,
          2.7521414181104786,
          0.27344301616024774,
          0.3291002461450558,
          0.09630194977242912,
          0.8097744936659635,
          1.6929246110017406,
          -0.7259746620175114,
          1.0629019525856112,
          0.9751581738927138,
          -0.5179265464739529,
          0.040939684187299555,
          -0.8685496090915273,
          -1.0209998546636763,
          0.11565711451344551,
          -1.2954962527022302,
          -0.4122724614406656,
          1.4156544391757833
         ],
         "yaxis": "y5"
        },
        {
         "histfunc": "count",
         "histnorm": "",
         "marker": {
          "color": "rgba(55, 128, 191, 1.0)",
          "line": {
           "color": "#4D5663",
           "width": 1.3
          }
         },
         "name": "B",
         "nbinsx": 10,
         "opacity": 0.8,
         "orientation": "v",
         "type": "histogram",
         "x": [
          -0.8412830663608024,
          -0.14196404629860912,
          0.27189831213699345,
          -0.2286524915931357,
          -0.39740436970062476,
          0.8644404600468678,
          -2.425802709190879,
          -1.7570122474421928,
          -2.756010446751949,
          -0.8764100419623471,
          -0.5927093442184735,
          1.4131976516655804,
          0.9245287480106964,
          2.0385499547616743,
          0.18604640376218076,
          0.8795053970341459,
          1.452057912626229,
          -1.188265586802459,
          2.008125648195428,
          -1.89579976034055,
          -1.2142197546565268,
          0.585650048759407,
          0.1901297815215674,
          -0.28036571517991926,
          0.7435936627241457,
          -0.761465548738385,
          0.17272991435645543,
          0.6126370351770036,
          -0.6409745361014046,
          -1.2054505656390866,
          -0.5648212045818725,
          0.7586668028849586,
          -0.18694328490507595,
          -0.5246822943419557,
          0.1716824260239397,
          0.17281947072116297,
          0.9631735363229377,
          0.8573319073279776,
          2.7391337276103735,
          -0.8660589753505328,
          0.40759489166899276,
          -1.5249603091551445,
          -0.28412393855610363,
          1.3388176264294898,
          -0.7778806023887083,
          -1.002215354287591,
          -0.1309132593210741,
          1.0292025215239082,
          1.576109421092655,
          -2.7680691813938103,
          -1.1696015241546815,
          1.992857739976901,
          -0.3985444234746542,
          -0.7287240263019391,
          0.3778165333549547,
          -0.0028173576769728198,
          1.8365856724591496,
          -1.5811511724464855,
          0.14112966733498775,
          1.5226834789704895,
          -0.052630123298235944,
          0.5750266371763989,
          -0.3542992607317481,
          -1.2620214165498946,
          0.41219245488560224,
          1.5354942624235504,
          -0.4274499333810216,
          1.2622373437633672,
          -1.8754492230043058,
          -0.927983492576622,
          0.19482460729553538,
          -0.8839697047504629,
          0.16761091698702862,
          0.5480793234412067,
          -1.2069205358509782,
          1.8565012697440908,
          0.6414081528241,
          -1.8010467818833373,
          0.3081920656655891,
          0.46299664031639937,
          -0.861793356479736,
          1.9503678079314708,
          1.4349893470965174,
          2.7521414181104786,
          0.27344301616024774,
          0.3291002461450558,
          0.09630194977242912,
          0.8097744936659635,
          1.6929246110017406,
          -0.7259746620175114,
          1.0629019525856112,
          0.9751581738927138,
          -0.5179265464739529,
          0.040939684187299555,
          -0.8685496090915273,
          -1.0209998546636763,
          0.11565711451344551,
          -1.2954962527022302,
          -0.4122724614406656,
          1.4156544391757833
         ],
         "xaxis": "x6",
         "yaxis": "y6"
        },
        {
         "line": {
          "color": "rgba(128, 128, 128, 1.0)",
          "dash": "solid",
          "shape": "linear",
          "width": 1.3
         },
         "marker": {
          "size": 2,
          "symbol": "circle"
         },
         "mode": "markers",
         "name": "B",
         "text": "",
         "type": "scatter",
         "x": [
          1.707038369955218,
          -1.1944580737362835,
          -0.3136450740008115,
          0.2145991268093264,
          -0.9136438753341855,
          0.10369918491718025,
          -0.34797346452177425,
          0.2931993700438992,
          -1.3168978180347461,
          0.8525859596815066,
          0.04664310493548644,
          -1.447247889353405,
          0.1636020305458358,
          -1.591836239247566,
          1.0045744941911439,
          0.06028804643827226,
          0.9136021142320738,
          0.643803690773452,
          -1.706701318582883,
          0.16788001195365332,
          -1.2102351369194388,
          0.68544736419801,
          -0.9902964461625677,
          0.13646269319220988,
          -1.1181091811635246,
          0.009424042068484103,
          0.0663008152019507,
          0.44480053985991724,
          -0.4102929349209481,
          -0.7521844409870982,
          0.8859100605181857,
          -0.44230668477616253,
          0.07143087988818725,
          -0.11818324764768713,
          -0.008887481604480675,
          0.5037677777458722,
          0.643393957017346,
          -2.4920271022035507,
          0.5027870806058774,
          -0.5226700936142273,
          0.8991088107393138,
          -0.5865382063643537,
          -1.2100225882296463,
          -2.0599730683130426,
          1.1407855337171038,
          -1.8278335859696653,
          -1.1315893334163514,
          1.7300379832856623,
          0.040205230582391255,
          -2.0034074915790203,
          -0.10145949669672309,
          0.848608688651032,
          -0.8691583066905473,
          2.0033985279967883,
          0.0851170254886317,
          -0.2904207414606158,
          0.17208553749715433,
          2.44471233610033,
          -0.23992922785879967,
          -1.7729546900537438,
          -0.12794431347066698,
          -1.901225632404973,
          0.6150412483712875,
          -0.37647678752738106,
          -1.2549690324935654,
          0.14600133680676602,
          2.045111179712386,
          -0.3206270988118269,
          -1.9645429528400156,
          0.4218885182419636,
          -0.9058415705220113,
          -0.7146327495082909,
          1.6732647430053853,
          -0.25376094932641113,
          1.1077210607854393,
          -2.2348018707267387,
          -1.5284287741776723,
          0.6857390240565828,
          -0.6159464127175284,
          0.42395104469825345,
          -0.9813622772392521,
          -0.5879224292738445,
          -1.1089986852534996,
          -1.8528229213545215,
          -2.0094081846917806,
          -0.5050947765715991,
          0.10201531701510447,
          -0.7494957103998997,
          -0.7703489007647258,
          2.2320325236689778,
          -0.718181159562157,
          -1.2212834198258062,
          1.011635218848077,
          -0.0915258676566311,
          0.2816285201940886,
          -0.24823373505413232,
          -0.5573516672305696,
          -0.9670935284612214,
          1.8541025385189311,
          0.5533686207986326
         ],
         "xaxis": "x7",
         "y": [
          -0.8412830663608024,
          -0.14196404629860912,
          0.27189831213699345,
          -0.2286524915931357,
          -0.39740436970062476,
          0.8644404600468678,
          -2.425802709190879,
          -1.7570122474421928,
          -2.756010446751949,
          -0.8764100419623471,
          -0.5927093442184735,
          1.4131976516655804,
          0.9245287480106964,
          2.0385499547616743,
          0.18604640376218076,
          0.8795053970341459,
          1.452057912626229,
          -1.188265586802459,
          2.008125648195428,
          -1.89579976034055,
          -1.2142197546565268,
          0.585650048759407,
          0.1901297815215674,
          -0.28036571517991926,
          0.7435936627241457,
          -0.761465548738385,
          0.17272991435645543,
          0.6126370351770036,
          -0.6409745361014046,
          -1.2054505656390866,
          -0.5648212045818725,
          0.7586668028849586,
          -0.18694328490507595,
          -0.5246822943419557,
          0.1716824260239397,
          0.17281947072116297,
          0.9631735363229377,
          0.8573319073279776,
          2.7391337276103735,
          -0.8660589753505328,
          0.40759489166899276,
          -1.5249603091551445,
          -0.28412393855610363,
          1.3388176264294898,
          -0.7778806023887083,
          -1.002215354287591,
          -0.1309132593210741,
          1.0292025215239082,
          1.576109421092655,
          -2.7680691813938103,
          -1.1696015241546815,
          1.992857739976901,
          -0.3985444234746542,
          -0.7287240263019391,
          0.3778165333549547,
          -0.0028173576769728198,
          1.8365856724591496,
          -1.5811511724464855,
          0.14112966733498775,
          1.5226834789704895,
          -0.052630123298235944,
          0.5750266371763989,
          -0.3542992607317481,
          -1.2620214165498946,
          0.41219245488560224,
          1.5354942624235504,
          -0.4274499333810216,
          1.2622373437633672,
          -1.8754492230043058,
          -0.927983492576622,
          0.19482460729553538,
          -0.8839697047504629,
          0.16761091698702862,
          0.5480793234412067,
          -1.2069205358509782,
          1.8565012697440908,
          0.6414081528241,
          -1.8010467818833373,
          0.3081920656655891,
          0.46299664031639937,
          -0.861793356479736,
          1.9503678079314708,
          1.4349893470965174,
          2.7521414181104786,
          0.27344301616024774,
          0.3291002461450558,
          0.09630194977242912,
          0.8097744936659635,
          1.6929246110017406,
          -0.7259746620175114,
          1.0629019525856112,
          0.9751581738927138,
          -0.5179265464739529,
          0.040939684187299555,
          -0.8685496090915273,
          -1.0209998546636763,
          0.11565711451344551,
          -1.2954962527022302,
          -0.4122724614406656,
          1.4156544391757833
         ],
         "yaxis": "y7"
        },
        {
         "line": {
          "color": "rgba(128, 128, 128, 1.0)",
          "dash": "solid",
          "shape": "linear",
          "width": 1.3
         },
         "marker": {
          "size": 2,
          "symbol": "circle"
         },
         "mode": "markers",
         "name": "B",
         "text": "",
         "type": "scatter",
         "x": [
          -1.1566040113793468,
          -0.17719658245203096,
          -0.22001559015856784,
          0.11411098999208485,
          0.7553989288850536,
          0.12941845110221267,
          -0.36924365470844217,
          -0.14042689305053832,
          -0.012184061722167346,
          0.7042196554924196,
          -0.5662661963116242,
          0.15106440103188395,
          0.641305254040354,
          -0.23778419338816745,
          1.0500064121808312,
          0.09771224700308351,
          -0.12007618116411842,
          1.4548453265406098,
          0.44671979914733273,
          0.5614144324972279,
          -0.269772452550473,
          -0.3710736420653342,
          -0.6193737860923557,
          -1.065182270268602,
          -0.6847264633276577,
          -1.6546652369080077,
          0.6797487563279534,
          0.6254806440170384,
          -0.09838986976948408,
          1.2817762669256858,
          -0.9034144902333571,
          -0.5006004902721884,
          0.36017763237260625,
          0.5143844849170333,
          -0.6706699097670474,
          -0.6412929559548977,
          0.09063385538101404,
          -0.5236930476306975,
          1.8373709002421237,
          -0.9164347799040972,
          0.9078149208194355,
          0.8933490494414992,
          -0.24386080214957928,
          -0.6341855149084185,
          -0.17792444181528683,
          -0.7213043851450351,
          -1.272780709979072,
          -2.2368011142749094,
          1.03495335124129,
          1.1324603953374288,
          1.5464457098508517,
          -0.63316370440996,
          -0.721822579211477,
          0.8053022998144862,
          -1.2039717822788483,
          -0.7820784400482695,
          0.4917718016946589,
          0.1969561797343989,
          0.13076606941164398,
          0.6563196359301695,
          0.58745657446414,
          -0.7596066092973845,
          -0.7548933304243536,
          -0.11788818861872609,
          -1.2146363857500575,
          2.747670713159326,
          0.752562068564129,
          -0.4804806714288889,
          0.21126788468690336,
          0.997253668738476,
          -0.7631958603755667,
          -0.5359127902590382,
          0.20824787033686898,
          -0.717246832675506,
          -0.2704811941324191,
          1.5409848149890162,
          -0.08860051777682035,
          -1.5701951110734906,
          0.38492688012542037,
          0.250437571864057,
          -0.1924178082239149,
          -0.909397026361852,
          2.1080919404464193,
          -0.1969263787544274,
          0.3005110032183098,
          -2.1388546730874096,
          0.4999877202623662,
          -0.6704850315393515,
          0.4453707423338972,
          1.0209096583741655,
          -0.7143087467589033,
          -0.02044574552658848,
          0.943818778938937,
          -1.161447593273323,
          -0.2205237370152114,
          0.963946907469839,
          0.9154216136153533,
          -0.3955067497927909,
          -0.32918157709622836,
          0.7696258434241922
         ],
         "xaxis": "x8",
         "y": [
          -0.8412830663608024,
          -0.14196404629860912,
          0.27189831213699345,
          -0.2286524915931357,
          -0.39740436970062476,
          0.8644404600468678,
          -2.425802709190879,
          -1.7570122474421928,
          -2.756010446751949,
          -0.8764100419623471,
          -0.5927093442184735,
          1.4131976516655804,
          0.9245287480106964,
          2.0385499547616743,
          0.18604640376218076,
          0.8795053970341459,
          1.452057912626229,
          -1.188265586802459,
          2.008125648195428,
          -1.89579976034055,
          -1.2142197546565268,
          0.585650048759407,
          0.1901297815215674,
          -0.28036571517991926,
          0.7435936627241457,
          -0.761465548738385,
          0.17272991435645543,
          0.6126370351770036,
          -0.6409745361014046,
          -1.2054505656390866,
          -0.5648212045818725,
          0.7586668028849586,
          -0.18694328490507595,
          -0.5246822943419557,
          0.1716824260239397,
          0.17281947072116297,
          0.9631735363229377,
          0.8573319073279776,
          2.7391337276103735,
          -0.8660589753505328,
          0.40759489166899276,
          -1.5249603091551445,
          -0.28412393855610363,
          1.3388176264294898,
          -0.7778806023887083,
          -1.002215354287591,
          -0.1309132593210741,
          1.0292025215239082,
          1.576109421092655,
          -2.7680691813938103,
          -1.1696015241546815,
          1.992857739976901,
          -0.3985444234746542,
          -0.7287240263019391,
          0.3778165333549547,
          -0.0028173576769728198,
          1.8365856724591496,
          -1.5811511724464855,
          0.14112966733498775,
          1.5226834789704895,
          -0.052630123298235944,
          0.5750266371763989,
          -0.3542992607317481,
          -1.2620214165498946,
          0.41219245488560224,
          1.5354942624235504,
          -0.4274499333810216,
          1.2622373437633672,
          -1.8754492230043058,
          -0.927983492576622,
          0.19482460729553538,
          -0.8839697047504629,
          0.16761091698702862,
          0.5480793234412067,
          -1.2069205358509782,
          1.8565012697440908,
          0.6414081528241,
          -1.8010467818833373,
          0.3081920656655891,
          0.46299664031639937,
          -0.861793356479736,
          1.9503678079314708,
          1.4349893470965174,
          2.7521414181104786,
          0.27344301616024774,
          0.3291002461450558,
          0.09630194977242912,
          0.8097744936659635,
          1.6929246110017406,
          -0.7259746620175114,
          1.0629019525856112,
          0.9751581738927138,
          -0.5179265464739529,
          0.040939684187299555,
          -0.8685496090915273,
          -1.0209998546636763,
          0.11565711451344551,
          -1.2954962527022302,
          -0.4122724614406656,
          1.4156544391757833
         ],
         "yaxis": "y8"
        },
        {
         "line": {
          "color": "rgba(128, 128, 128, 1.0)",
          "dash": "solid",
          "shape": "linear",
          "width": 1.3
         },
         "marker": {
          "size": 2,
          "symbol": "circle"
         },
         "mode": "markers",
         "name": "C",
         "text": "",
         "type": "scatter",
         "x": [
          0.006313458985566085,
          0.0012147700438570593,
          -0.6151467796336,
          1.0191844884189065,
          -0.7495075739982601,
          -1.7985950729458002,
          0.15382533456183314,
          -0.5576872225427343,
          1.5593605186079846,
          1.700355672186201,
          -0.15236553270416087,
          0.39044094019462977,
          -0.5614557622261617,
          -1.2696193560262417,
          -0.024520044223959203,
          -0.7171428227047335,
          0.11381698115296884,
          -2.3261206919345363,
          0.37015277327553536,
          0.15583532903095587,
          -1.2289328448668377,
          -1.083066067855664,
          0.43971959185345716,
          -0.7927303406405242,
          -0.1343156933997293,
          -0.8773137644384209,
          1.1451110216332794,
          0.5148688588470663,
          0.2927029823951949,
          -0.5276160993217199,
          -1.9680202396163418,
          1.423501113042431,
          -0.6849596430392447,
          -0.8202548551107004,
          -0.6735148911527414,
          -0.48979918801619104,
          -0.8624553398219791,
          1.8265135614284778,
          -0.2573459544937043,
          0.742995129008227,
          1.9526700344421826,
          0.6072118968741738,
          -0.7096512406808968,
          -0.6679025965317548,
          0.1279081223835325,
          -0.2968413355288964,
          -0.24486047797910396,
          0.5028527245782749,
          0.500912850020907,
          0.35325225579994163,
          0.2425350082798535,
          -1.305708258896684,
          0.9755905559759886,
          -1.9066415540089885,
          0.9768170167359869,
          -0.4580723212715815,
          0.3188514544784727,
          -1.6537571945436216,
          -0.43125541197684153,
          0.6899089422409604,
          -1.4602949425078555,
          0.4624248034322284,
          0.17136443767218074,
          -0.012314317526127971,
          -2.075444122527348,
          0.42373853888266483,
          -0.06270018226508774,
          1.2801916313906705,
          -1.0247063360598394,
          -1.4952047036511662,
          1.073206362530888,
          0.4028356975025304,
          -2.142756034751585,
          0.6002350853929834,
          -0.39252221922456687,
          -1.234405269404836,
          -0.2789229501294982,
          -0.8258086758280934,
          1.3921878833189631,
          1.0334748315732492,
          -0.8694162529243042,
          1.5477307549981343,
          -0.7613614508447585,
          -1.725484243216102,
          -1.1268035087945925,
          -0.9821095582676026,
          -0.32546867991121364,
          -1.3547609163644982,
          0.39714940804709403,
          0.6050115429246586,
          1.708350505079218,
          0.17490611370248854,
          -1.5460620152456577,
          0.14372336528774488,
          -1.688811399942993,
          1.1805370742648729,
          -0.9961943586712984,
          -0.5222634876340545,
          -0.07165412061967047,
          0.9033111362618372
         ],
         "xaxis": "x9",
         "y": [
          1.707038369955218,
          -1.1944580737362835,
          -0.3136450740008115,
          0.2145991268093264,
          -0.9136438753341855,
          0.10369918491718025,
          -0.34797346452177425,
          0.2931993700438992,
          -1.3168978180347461,
          0.8525859596815066,
          0.04664310493548644,
          -1.447247889353405,
          0.1636020305458358,
          -1.591836239247566,
          1.0045744941911439,
          0.06028804643827226,
          0.9136021142320738,
          0.643803690773452,
          -1.706701318582883,
          0.16788001195365332,
          -1.2102351369194388,
          0.68544736419801,
          -0.9902964461625677,
          0.13646269319220988,
          -1.1181091811635246,
          0.009424042068484103,
          0.0663008152019507,
          0.44480053985991724,
          -0.4102929349209481,
          -0.7521844409870982,
          0.8859100605181857,
          -0.44230668477616253,
          0.07143087988818725,
          -0.11818324764768713,
          -0.008887481604480675,
          0.5037677777458722,
          0.643393957017346,
          -2.4920271022035507,
          0.5027870806058774,
          -0.5226700936142273,
          0.8991088107393138,
          -0.5865382063643537,
          -1.2100225882296463,
          -2.0599730683130426,
          1.1407855337171038,
          -1.8278335859696653,
          -1.1315893334163514,
          1.7300379832856623,
          0.040205230582391255,
          -2.0034074915790203,
          -0.10145949669672309,
          0.848608688651032,
          -0.8691583066905473,
          2.0033985279967883,
          0.0851170254886317,
          -0.2904207414606158,
          0.17208553749715433,
          2.44471233610033,
          -0.23992922785879967,
          -1.7729546900537438,
          -0.12794431347066698,
          -1.901225632404973,
          0.6150412483712875,
          -0.37647678752738106,
          -1.2549690324935654,
          0.14600133680676602,
          2.045111179712386,
          -0.3206270988118269,
          -1.9645429528400156,
          0.4218885182419636,
          -0.9058415705220113,
          -0.7146327495082909,
          1.6732647430053853,
          -0.25376094932641113,
          1.1077210607854393,
          -2.2348018707267387,
          -1.5284287741776723,
          0.6857390240565828,
          -0.6159464127175284,
          0.42395104469825345,
          -0.9813622772392521,
          -0.5879224292738445,
          -1.1089986852534996,
          -1.8528229213545215,
          -2.0094081846917806,
          -0.5050947765715991,
          0.10201531701510447,
          -0.7494957103998997,
          -0.7703489007647258,
          2.2320325236689778,
          -0.718181159562157,
          -1.2212834198258062,
          1.011635218848077,
          -0.0915258676566311,
          0.2816285201940886,
          -0.24823373505413232,
          -0.5573516672305696,
          -0.9670935284612214,
          1.8541025385189311,
          0.5533686207986326
         ],
         "yaxis": "y9"
        },
        {
         "line": {
          "color": "rgba(128, 128, 128, 1.0)",
          "dash": "solid",
          "shape": "linear",
          "width": 1.3
         },
         "marker": {
          "size": 2,
          "symbol": "circle"
         },
         "mode": "markers",
         "name": "C",
         "text": "",
         "type": "scatter",
         "x": [
          -0.8412830663608024,
          -0.14196404629860912,
          0.27189831213699345,
          -0.2286524915931357,
          -0.39740436970062476,
          0.8644404600468678,
          -2.425802709190879,
          -1.7570122474421928,
          -2.756010446751949,
          -0.8764100419623471,
          -0.5927093442184735,
          1.4131976516655804,
          0.9245287480106964,
          2.0385499547616743,
          0.18604640376218076,
          0.8795053970341459,
          1.452057912626229,
          -1.188265586802459,
          2.008125648195428,
          -1.89579976034055,
          -1.2142197546565268,
          0.585650048759407,
          0.1901297815215674,
          -0.28036571517991926,
          0.7435936627241457,
          -0.761465548738385,
          0.17272991435645543,
          0.6126370351770036,
          -0.6409745361014046,
          -1.2054505656390866,
          -0.5648212045818725,
          0.7586668028849586,
          -0.18694328490507595,
          -0.5246822943419557,
          0.1716824260239397,
          0.17281947072116297,
          0.9631735363229377,
          0.8573319073279776,
          2.7391337276103735,
          -0.8660589753505328,
          0.40759489166899276,
          -1.5249603091551445,
          -0.28412393855610363,
          1.3388176264294898,
          -0.7778806023887083,
          -1.002215354287591,
          -0.1309132593210741,
          1.0292025215239082,
          1.576109421092655,
          -2.7680691813938103,
          -1.1696015241546815,
          1.992857739976901,
          -0.3985444234746542,
          -0.7287240263019391,
          0.3778165333549547,
          -0.0028173576769728198,
          1.8365856724591496,
          -1.5811511724464855,
          0.14112966733498775,
          1.5226834789704895,
          -0.052630123298235944,
          0.5750266371763989,
          -0.3542992607317481,
          -1.2620214165498946,
          0.41219245488560224,
          1.5354942624235504,
          -0.4274499333810216,
          1.2622373437633672,
          -1.8754492230043058,
          -0.927983492576622,
          0.19482460729553538,
          -0.8839697047504629,
          0.16761091698702862,
          0.5480793234412067,
          -1.2069205358509782,
          1.8565012697440908,
          0.6414081528241,
          -1.8010467818833373,
          0.3081920656655891,
          0.46299664031639937,
          -0.861793356479736,
          1.9503678079314708,
          1.4349893470965174,
          2.7521414181104786,
          0.27344301616024774,
          0.3291002461450558,
          0.09630194977242912,
          0.8097744936659635,
          1.6929246110017406,
          -0.7259746620175114,
          1.0629019525856112,
          0.9751581738927138,
          -0.5179265464739529,
          0.040939684187299555,
          -0.8685496090915273,
          -1.0209998546636763,
          0.11565711451344551,
          -1.2954962527022302,
          -0.4122724614406656,
          1.4156544391757833
         ],
         "xaxis": "x10",
         "y": [
          1.707038369955218,
          -1.1944580737362835,
          -0.3136450740008115,
          0.2145991268093264,
          -0.9136438753341855,
          0.10369918491718025,
          -0.34797346452177425,
          0.2931993700438992,
          -1.3168978180347461,
          0.8525859596815066,
          0.04664310493548644,
          -1.447247889353405,
          0.1636020305458358,
          -1.591836239247566,
          1.0045744941911439,
          0.06028804643827226,
          0.9136021142320738,
          0.643803690773452,
          -1.706701318582883,
          0.16788001195365332,
          -1.2102351369194388,
          0.68544736419801,
          -0.9902964461625677,
          0.13646269319220988,
          -1.1181091811635246,
          0.009424042068484103,
          0.0663008152019507,
          0.44480053985991724,
          -0.4102929349209481,
          -0.7521844409870982,
          0.8859100605181857,
          -0.44230668477616253,
          0.07143087988818725,
          -0.11818324764768713,
          -0.008887481604480675,
          0.5037677777458722,
          0.643393957017346,
          -2.4920271022035507,
          0.5027870806058774,
          -0.5226700936142273,
          0.8991088107393138,
          -0.5865382063643537,
          -1.2100225882296463,
          -2.0599730683130426,
          1.1407855337171038,
          -1.8278335859696653,
          -1.1315893334163514,
          1.7300379832856623,
          0.040205230582391255,
          -2.0034074915790203,
          -0.10145949669672309,
          0.848608688651032,
          -0.8691583066905473,
          2.0033985279967883,
          0.0851170254886317,
          -0.2904207414606158,
          0.17208553749715433,
          2.44471233610033,
          -0.23992922785879967,
          -1.7729546900537438,
          -0.12794431347066698,
          -1.901225632404973,
          0.6150412483712875,
          -0.37647678752738106,
          -1.2549690324935654,
          0.14600133680676602,
          2.045111179712386,
          -0.3206270988118269,
          -1.9645429528400156,
          0.4218885182419636,
          -0.9058415705220113,
          -0.7146327495082909,
          1.6732647430053853,
          -0.25376094932641113,
          1.1077210607854393,
          -2.2348018707267387,
          -1.5284287741776723,
          0.6857390240565828,
          -0.6159464127175284,
          0.42395104469825345,
          -0.9813622772392521,
          -0.5879224292738445,
          -1.1089986852534996,
          -1.8528229213545215,
          -2.0094081846917806,
          -0.5050947765715991,
          0.10201531701510447,
          -0.7494957103998997,
          -0.7703489007647258,
          2.2320325236689778,
          -0.718181159562157,
          -1.2212834198258062,
          1.011635218848077,
          -0.0915258676566311,
          0.2816285201940886,
          -0.24823373505413232,
          -0.5573516672305696,
          -0.9670935284612214,
          1.8541025385189311,
          0.5533686207986326
         ],
         "yaxis": "y10"
        },
        {
         "histfunc": "count",
         "histnorm": "",
         "marker": {
          "color": "rgba(50, 171, 96, 1.0)",
          "line": {
           "color": "#4D5663",
           "width": 1.3
          }
         },
         "name": "C",
         "nbinsx": 10,
         "opacity": 0.8,
         "orientation": "v",
         "type": "histogram",
         "x": [
          1.707038369955218,
          -1.1944580737362835,
          -0.3136450740008115,
          0.2145991268093264,
          -0.9136438753341855,
          0.10369918491718025,
          -0.34797346452177425,
          0.2931993700438992,
          -1.3168978180347461,
          0.8525859596815066,
          0.04664310493548644,
          -1.447247889353405,
          0.1636020305458358,
          -1.591836239247566,
          1.0045744941911439,
          0.06028804643827226,
          0.9136021142320738,
          0.643803690773452,
          -1.706701318582883,
          0.16788001195365332,
          -1.2102351369194388,
          0.68544736419801,
          -0.9902964461625677,
          0.13646269319220988,
          -1.1181091811635246,
          0.009424042068484103,
          0.0663008152019507,
          0.44480053985991724,
          -0.4102929349209481,
          -0.7521844409870982,
          0.8859100605181857,
          -0.44230668477616253,
          0.07143087988818725,
          -0.11818324764768713,
          -0.008887481604480675,
          0.5037677777458722,
          0.643393957017346,
          -2.4920271022035507,
          0.5027870806058774,
          -0.5226700936142273,
          0.8991088107393138,
          -0.5865382063643537,
          -1.2100225882296463,
          -2.0599730683130426,
          1.1407855337171038,
          -1.8278335859696653,
          -1.1315893334163514,
          1.7300379832856623,
          0.040205230582391255,
          -2.0034074915790203,
          -0.10145949669672309,
          0.848608688651032,
          -0.8691583066905473,
          2.0033985279967883,
          0.0851170254886317,
          -0.2904207414606158,
          0.17208553749715433,
          2.44471233610033,
          -0.23992922785879967,
          -1.7729546900537438,
          -0.12794431347066698,
          -1.901225632404973,
          0.6150412483712875,
          -0.37647678752738106,
          -1.2549690324935654,
          0.14600133680676602,
          2.045111179712386,
          -0.3206270988118269,
          -1.9645429528400156,
          0.4218885182419636,
          -0.9058415705220113,
          -0.7146327495082909,
          1.6732647430053853,
          -0.25376094932641113,
          1.1077210607854393,
          -2.2348018707267387,
          -1.5284287741776723,
          0.6857390240565828,
          -0.6159464127175284,
          0.42395104469825345,
          -0.9813622772392521,
          -0.5879224292738445,
          -1.1089986852534996,
          -1.8528229213545215,
          -2.0094081846917806,
          -0.5050947765715991,
          0.10201531701510447,
          -0.7494957103998997,
          -0.7703489007647258,
          2.2320325236689778,
          -0.718181159562157,
          -1.2212834198258062,
          1.011635218848077,
          -0.0915258676566311,
          0.2816285201940886,
          -0.24823373505413232,
          -0.5573516672305696,
          -0.9670935284612214,
          1.8541025385189311,
          0.5533686207986326
         ],
         "xaxis": "x11",
         "yaxis": "y11"
        },
        {
         "line": {
          "color": "rgba(128, 128, 128, 1.0)",
          "dash": "solid",
          "shape": "linear",
          "width": 1.3
         },
         "marker": {
          "size": 2,
          "symbol": "circle"
         },
         "mode": "markers",
         "name": "C",
         "text": "",
         "type": "scatter",
         "x": [
          -1.1566040113793468,
          -0.17719658245203096,
          -0.22001559015856784,
          0.11411098999208485,
          0.7553989288850536,
          0.12941845110221267,
          -0.36924365470844217,
          -0.14042689305053832,
          -0.012184061722167346,
          0.7042196554924196,
          -0.5662661963116242,
          0.15106440103188395,
          0.641305254040354,
          -0.23778419338816745,
          1.0500064121808312,
          0.09771224700308351,
          -0.12007618116411842,
          1.4548453265406098,
          0.44671979914733273,
          0.5614144324972279,
          -0.269772452550473,
          -0.3710736420653342,
          -0.6193737860923557,
          -1.065182270268602,
          -0.6847264633276577,
          -1.6546652369080077,
          0.6797487563279534,
          0.6254806440170384,
          -0.09838986976948408,
          1.2817762669256858,
          -0.9034144902333571,
          -0.5006004902721884,
          0.36017763237260625,
          0.5143844849170333,
          -0.6706699097670474,
          -0.6412929559548977,
          0.09063385538101404,
          -0.5236930476306975,
          1.8373709002421237,
          -0.9164347799040972,
          0.9078149208194355,
          0.8933490494414992,
          -0.24386080214957928,
          -0.6341855149084185,
          -0.17792444181528683,
          -0.7213043851450351,
          -1.272780709979072,
          -2.2368011142749094,
          1.03495335124129,
          1.1324603953374288,
          1.5464457098508517,
          -0.63316370440996,
          -0.721822579211477,
          0.8053022998144862,
          -1.2039717822788483,
          -0.7820784400482695,
          0.4917718016946589,
          0.1969561797343989,
          0.13076606941164398,
          0.6563196359301695,
          0.58745657446414,
          -0.7596066092973845,
          -0.7548933304243536,
          -0.11788818861872609,
          -1.2146363857500575,
          2.747670713159326,
          0.752562068564129,
          -0.4804806714288889,
          0.21126788468690336,
          0.997253668738476,
          -0.7631958603755667,
          -0.5359127902590382,
          0.20824787033686898,
          -0.717246832675506,
          -0.2704811941324191,
          1.5409848149890162,
          -0.08860051777682035,
          -1.5701951110734906,
          0.38492688012542037,
          0.250437571864057,
          -0.1924178082239149,
          -0.909397026361852,
          2.1080919404464193,
          -0.1969263787544274,
          0.3005110032183098,
          -2.1388546730874096,
          0.4999877202623662,
          -0.6704850315393515,
          0.4453707423338972,
          1.0209096583741655,
          -0.7143087467589033,
          -0.02044574552658848,
          0.943818778938937,
          -1.161447593273323,
          -0.2205237370152114,
          0.963946907469839,
          0.9154216136153533,
          -0.3955067497927909,
          -0.32918157709622836,
          0.7696258434241922
         ],
         "xaxis": "x12",
         "y": [
          1.707038369955218,
          -1.1944580737362835,
          -0.3136450740008115,
          0.2145991268093264,
          -0.9136438753341855,
          0.10369918491718025,
          -0.34797346452177425,
          0.2931993700438992,
          -1.3168978180347461,
          0.8525859596815066,
          0.04664310493548644,
          -1.447247889353405,
          0.1636020305458358,
          -1.591836239247566,
          1.0045744941911439,
          0.06028804643827226,
          0.9136021142320738,
          0.643803690773452,
          -1.706701318582883,
          0.16788001195365332,
          -1.2102351369194388,
          0.68544736419801,
          -0.9902964461625677,
          0.13646269319220988,
          -1.1181091811635246,
          0.009424042068484103,
          0.0663008152019507,
          0.44480053985991724,
          -0.4102929349209481,
          -0.7521844409870982,
          0.8859100605181857,
          -0.44230668477616253,
          0.07143087988818725,
          -0.11818324764768713,
          -0.008887481604480675,
          0.5037677777458722,
          0.643393957017346,
          -2.4920271022035507,
          0.5027870806058774,
          -0.5226700936142273,
          0.8991088107393138,
          -0.5865382063643537,
          -1.2100225882296463,
          -2.0599730683130426,
          1.1407855337171038,
          -1.8278335859696653,
          -1.1315893334163514,
          1.7300379832856623,
          0.040205230582391255,
          -2.0034074915790203,
          -0.10145949669672309,
          0.848608688651032,
          -0.8691583066905473,
          2.0033985279967883,
          0.0851170254886317,
          -0.2904207414606158,
          0.17208553749715433,
          2.44471233610033,
          -0.23992922785879967,
          -1.7729546900537438,
          -0.12794431347066698,
          -1.901225632404973,
          0.6150412483712875,
          -0.37647678752738106,
          -1.2549690324935654,
          0.14600133680676602,
          2.045111179712386,
          -0.3206270988118269,
          -1.9645429528400156,
          0.4218885182419636,
          -0.9058415705220113,
          -0.7146327495082909,
          1.6732647430053853,
          -0.25376094932641113,
          1.1077210607854393,
          -2.2348018707267387,
          -1.5284287741776723,
          0.6857390240565828,
          -0.6159464127175284,
          0.42395104469825345,
          -0.9813622772392521,
          -0.5879224292738445,
          -1.1089986852534996,
          -1.8528229213545215,
          -2.0094081846917806,
          -0.5050947765715991,
          0.10201531701510447,
          -0.7494957103998997,
          -0.7703489007647258,
          2.2320325236689778,
          -0.718181159562157,
          -1.2212834198258062,
          1.011635218848077,
          -0.0915258676566311,
          0.2816285201940886,
          -0.24823373505413232,
          -0.5573516672305696,
          -0.9670935284612214,
          1.8541025385189311,
          0.5533686207986326
         ],
         "yaxis": "y12"
        },
        {
         "line": {
          "color": "rgba(128, 128, 128, 1.0)",
          "dash": "solid",
          "shape": "linear",
          "width": 1.3
         },
         "marker": {
          "size": 2,
          "symbol": "circle"
         },
         "mode": "markers",
         "name": "D",
         "text": "",
         "type": "scatter",
         "x": [
          0.006313458985566085,
          0.0012147700438570593,
          -0.6151467796336,
          1.0191844884189065,
          -0.7495075739982601,
          -1.7985950729458002,
          0.15382533456183314,
          -0.5576872225427343,
          1.5593605186079846,
          1.700355672186201,
          -0.15236553270416087,
          0.39044094019462977,
          -0.5614557622261617,
          -1.2696193560262417,
          -0.024520044223959203,
          -0.7171428227047335,
          0.11381698115296884,
          -2.3261206919345363,
          0.37015277327553536,
          0.15583532903095587,
          -1.2289328448668377,
          -1.083066067855664,
          0.43971959185345716,
          -0.7927303406405242,
          -0.1343156933997293,
          -0.8773137644384209,
          1.1451110216332794,
          0.5148688588470663,
          0.2927029823951949,
          -0.5276160993217199,
          -1.9680202396163418,
          1.423501113042431,
          -0.6849596430392447,
          -0.8202548551107004,
          -0.6735148911527414,
          -0.48979918801619104,
          -0.8624553398219791,
          1.8265135614284778,
          -0.2573459544937043,
          0.742995129008227,
          1.9526700344421826,
          0.6072118968741738,
          -0.7096512406808968,
          -0.6679025965317548,
          0.1279081223835325,
          -0.2968413355288964,
          -0.24486047797910396,
          0.5028527245782749,
          0.500912850020907,
          0.35325225579994163,
          0.2425350082798535,
          -1.305708258896684,
          0.9755905559759886,
          -1.9066415540089885,
          0.9768170167359869,
          -0.4580723212715815,
          0.3188514544784727,
          -1.6537571945436216,
          -0.43125541197684153,
          0.6899089422409604,
          -1.4602949425078555,
          0.4624248034322284,
          0.17136443767218074,
          -0.012314317526127971,
          -2.075444122527348,
          0.42373853888266483,
          -0.06270018226508774,
          1.2801916313906705,
          -1.0247063360598394,
          -1.4952047036511662,
          1.073206362530888,
          0.4028356975025304,
          -2.142756034751585,
          0.6002350853929834,
          -0.39252221922456687,
          -1.234405269404836,
          -0.2789229501294982,
          -0.8258086758280934,
          1.3921878833189631,
          1.0334748315732492,
          -0.8694162529243042,
          1.5477307549981343,
          -0.7613614508447585,
          -1.725484243216102,
          -1.1268035087945925,
          -0.9821095582676026,
          -0.32546867991121364,
          -1.3547609163644982,
          0.39714940804709403,
          0.6050115429246586,
          1.708350505079218,
          0.17490611370248854,
          -1.5460620152456577,
          0.14372336528774488,
          -1.688811399942993,
          1.1805370742648729,
          -0.9961943586712984,
          -0.5222634876340545,
          -0.07165412061967047,
          0.9033111362618372
         ],
         "xaxis": "x13",
         "y": [
          -1.1566040113793468,
          -0.17719658245203096,
          -0.22001559015856784,
          0.11411098999208485,
          0.7553989288850536,
          0.12941845110221267,
          -0.36924365470844217,
          -0.14042689305053832,
          -0.012184061722167346,
          0.7042196554924196,
          -0.5662661963116242,
          0.15106440103188395,
          0.641305254040354,
          -0.23778419338816745,
          1.0500064121808312,
          0.09771224700308351,
          -0.12007618116411842,
          1.4548453265406098,
          0.44671979914733273,
          0.5614144324972279,
          -0.269772452550473,
          -0.3710736420653342,
          -0.6193737860923557,
          -1.065182270268602,
          -0.6847264633276577,
          -1.6546652369080077,
          0.6797487563279534,
          0.6254806440170384,
          -0.09838986976948408,
          1.2817762669256858,
          -0.9034144902333571,
          -0.5006004902721884,
          0.36017763237260625,
          0.5143844849170333,
          -0.6706699097670474,
          -0.6412929559548977,
          0.09063385538101404,
          -0.5236930476306975,
          1.8373709002421237,
          -0.9164347799040972,
          0.9078149208194355,
          0.8933490494414992,
          -0.24386080214957928,
          -0.6341855149084185,
          -0.17792444181528683,
          -0.7213043851450351,
          -1.272780709979072,
          -2.2368011142749094,
          1.03495335124129,
          1.1324603953374288,
          1.5464457098508517,
          -0.63316370440996,
          -0.721822579211477,
          0.8053022998144862,
          -1.2039717822788483,
          -0.7820784400482695,
          0.4917718016946589,
          0.1969561797343989,
          0.13076606941164398,
          0.6563196359301695,
          0.58745657446414,
          -0.7596066092973845,
          -0.7548933304243536,
          -0.11788818861872609,
          -1.2146363857500575,
          2.747670713159326,
          0.752562068564129,
          -0.4804806714288889,
          0.21126788468690336,
          0.997253668738476,
          -0.7631958603755667,
          -0.5359127902590382,
          0.20824787033686898,
          -0.717246832675506,
          -0.2704811941324191,
          1.5409848149890162,
          -0.08860051777682035,
          -1.5701951110734906,
          0.38492688012542037,
          0.250437571864057,
          -0.1924178082239149,
          -0.909397026361852,
          2.1080919404464193,
          -0.1969263787544274,
          0.3005110032183098,
          -2.1388546730874096,
          0.4999877202623662,
          -0.6704850315393515,
          0.4453707423338972,
          1.0209096583741655,
          -0.7143087467589033,
          -0.02044574552658848,
          0.943818778938937,
          -1.161447593273323,
          -0.2205237370152114,
          0.963946907469839,
          0.9154216136153533,
          -0.3955067497927909,
          -0.32918157709622836,
          0.7696258434241922
         ],
         "yaxis": "y13"
        },
        {
         "line": {
          "color": "rgba(128, 128, 128, 1.0)",
          "dash": "solid",
          "shape": "linear",
          "width": 1.3
         },
         "marker": {
          "size": 2,
          "symbol": "circle"
         },
         "mode": "markers",
         "name": "D",
         "text": "",
         "type": "scatter",
         "x": [
          -0.8412830663608024,
          -0.14196404629860912,
          0.27189831213699345,
          -0.2286524915931357,
          -0.39740436970062476,
          0.8644404600468678,
          -2.425802709190879,
          -1.7570122474421928,
          -2.756010446751949,
          -0.8764100419623471,
          -0.5927093442184735,
          1.4131976516655804,
          0.9245287480106964,
          2.0385499547616743,
          0.18604640376218076,
          0.8795053970341459,
          1.452057912626229,
          -1.188265586802459,
          2.008125648195428,
          -1.89579976034055,
          -1.2142197546565268,
          0.585650048759407,
          0.1901297815215674,
          -0.28036571517991926,
          0.7435936627241457,
          -0.761465548738385,
          0.17272991435645543,
          0.6126370351770036,
          -0.6409745361014046,
          -1.2054505656390866,
          -0.5648212045818725,
          0.7586668028849586,
          -0.18694328490507595,
          -0.5246822943419557,
          0.1716824260239397,
          0.17281947072116297,
          0.9631735363229377,
          0.8573319073279776,
          2.7391337276103735,
          -0.8660589753505328,
          0.40759489166899276,
          -1.5249603091551445,
          -0.28412393855610363,
          1.3388176264294898,
          -0.7778806023887083,
          -1.002215354287591,
          -0.1309132593210741,
          1.0292025215239082,
          1.576109421092655,
          -2.7680691813938103,
          -1.1696015241546815,
          1.992857739976901,
          -0.3985444234746542,
          -0.7287240263019391,
          0.3778165333549547,
          -0.0028173576769728198,
          1.8365856724591496,
          -1.5811511724464855,
          0.14112966733498775,
          1.5226834789704895,
          -0.052630123298235944,
          0.5750266371763989,
          -0.3542992607317481,
          -1.2620214165498946,
          0.41219245488560224,
          1.5354942624235504,
          -0.4274499333810216,
          1.2622373437633672,
          -1.8754492230043058,
          -0.927983492576622,
          0.19482460729553538,
          -0.8839697047504629,
          0.16761091698702862,
          0.5480793234412067,
          -1.2069205358509782,
          1.8565012697440908,
          0.6414081528241,
          -1.8010467818833373,
          0.3081920656655891,
          0.46299664031639937,
          -0.861793356479736,
          1.9503678079314708,
          1.4349893470965174,
          2.7521414181104786,
          0.27344301616024774,
          0.3291002461450558,
          0.09630194977242912,
          0.8097744936659635,
          1.6929246110017406,
          -0.7259746620175114,
          1.0629019525856112,
          0.9751581738927138,
          -0.5179265464739529,
          0.040939684187299555,
          -0.8685496090915273,
          -1.0209998546636763,
          0.11565711451344551,
          -1.2954962527022302,
          -0.4122724614406656,
          1.4156544391757833
         ],
         "xaxis": "x14",
         "y": [
          -1.1566040113793468,
          -0.17719658245203096,
          -0.22001559015856784,
          0.11411098999208485,
          0.7553989288850536,
          0.12941845110221267,
          -0.36924365470844217,
          -0.14042689305053832,
          -0.012184061722167346,
          0.7042196554924196,
          -0.5662661963116242,
          0.15106440103188395,
          0.641305254040354,
          -0.23778419338816745,
          1.0500064121808312,
          0.09771224700308351,
          -0.12007618116411842,
          1.4548453265406098,
          0.44671979914733273,
          0.5614144324972279,
          -0.269772452550473,
          -0.3710736420653342,
          -0.6193737860923557,
          -1.065182270268602,
          -0.6847264633276577,
          -1.6546652369080077,
          0.6797487563279534,
          0.6254806440170384,
          -0.09838986976948408,
          1.2817762669256858,
          -0.9034144902333571,
          -0.5006004902721884,
          0.36017763237260625,
          0.5143844849170333,
          -0.6706699097670474,
          -0.6412929559548977,
          0.09063385538101404,
          -0.5236930476306975,
          1.8373709002421237,
          -0.9164347799040972,
          0.9078149208194355,
          0.8933490494414992,
          -0.24386080214957928,
          -0.6341855149084185,
          -0.17792444181528683,
          -0.7213043851450351,
          -1.272780709979072,
          -2.2368011142749094,
          1.03495335124129,
          1.1324603953374288,
          1.5464457098508517,
          -0.63316370440996,
          -0.721822579211477,
          0.8053022998144862,
          -1.2039717822788483,
          -0.7820784400482695,
          0.4917718016946589,
          0.1969561797343989,
          0.13076606941164398,
          0.6563196359301695,
          0.58745657446414,
          -0.7596066092973845,
          -0.7548933304243536,
          -0.11788818861872609,
          -1.2146363857500575,
          2.747670713159326,
          0.752562068564129,
          -0.4804806714288889,
          0.21126788468690336,
          0.997253668738476,
          -0.7631958603755667,
          -0.5359127902590382,
          0.20824787033686898,
          -0.717246832675506,
          -0.2704811941324191,
          1.5409848149890162,
          -0.08860051777682035,
          -1.5701951110734906,
          0.38492688012542037,
          0.250437571864057,
          -0.1924178082239149,
          -0.909397026361852,
          2.1080919404464193,
          -0.1969263787544274,
          0.3005110032183098,
          -2.1388546730874096,
          0.4999877202623662,
          -0.6704850315393515,
          0.4453707423338972,
          1.0209096583741655,
          -0.7143087467589033,
          -0.02044574552658848,
          0.943818778938937,
          -1.161447593273323,
          -0.2205237370152114,
          0.963946907469839,
          0.9154216136153533,
          -0.3955067497927909,
          -0.32918157709622836,
          0.7696258434241922
         ],
         "yaxis": "y14"
        },
        {
         "line": {
          "color": "rgba(128, 128, 128, 1.0)",
          "dash": "solid",
          "shape": "linear",
          "width": 1.3
         },
         "marker": {
          "size": 2,
          "symbol": "circle"
         },
         "mode": "markers",
         "name": "D",
         "text": "",
         "type": "scatter",
         "x": [
          1.707038369955218,
          -1.1944580737362835,
          -0.3136450740008115,
          0.2145991268093264,
          -0.9136438753341855,
          0.10369918491718025,
          -0.34797346452177425,
          0.2931993700438992,
          -1.3168978180347461,
          0.8525859596815066,
          0.04664310493548644,
          -1.447247889353405,
          0.1636020305458358,
          -1.591836239247566,
          1.0045744941911439,
          0.06028804643827226,
          0.9136021142320738,
          0.643803690773452,
          -1.706701318582883,
          0.16788001195365332,
          -1.2102351369194388,
          0.68544736419801,
          -0.9902964461625677,
          0.13646269319220988,
          -1.1181091811635246,
          0.009424042068484103,
          0.0663008152019507,
          0.44480053985991724,
          -0.4102929349209481,
          -0.7521844409870982,
          0.8859100605181857,
          -0.44230668477616253,
          0.07143087988818725,
          -0.11818324764768713,
          -0.008887481604480675,
          0.5037677777458722,
          0.643393957017346,
          -2.4920271022035507,
          0.5027870806058774,
          -0.5226700936142273,
          0.8991088107393138,
          -0.5865382063643537,
          -1.2100225882296463,
          -2.0599730683130426,
          1.1407855337171038,
          -1.8278335859696653,
          -1.1315893334163514,
          1.7300379832856623,
          0.040205230582391255,
          -2.0034074915790203,
          -0.10145949669672309,
          0.848608688651032,
          -0.8691583066905473,
          2.0033985279967883,
          0.0851170254886317,
          -0.2904207414606158,
          0.17208553749715433,
          2.44471233610033,
          -0.23992922785879967,
          -1.7729546900537438,
          -0.12794431347066698,
          -1.901225632404973,
          0.6150412483712875,
          -0.37647678752738106,
          -1.2549690324935654,
          0.14600133680676602,
          2.045111179712386,
          -0.3206270988118269,
          -1.9645429528400156,
          0.4218885182419636,
          -0.9058415705220113,
          -0.7146327495082909,
          1.6732647430053853,
          -0.25376094932641113,
          1.1077210607854393,
          -2.2348018707267387,
          -1.5284287741776723,
          0.6857390240565828,
          -0.6159464127175284,
          0.42395104469825345,
          -0.9813622772392521,
          -0.5879224292738445,
          -1.1089986852534996,
          -1.8528229213545215,
          -2.0094081846917806,
          -0.5050947765715991,
          0.10201531701510447,
          -0.7494957103998997,
          -0.7703489007647258,
          2.2320325236689778,
          -0.718181159562157,
          -1.2212834198258062,
          1.011635218848077,
          -0.0915258676566311,
          0.2816285201940886,
          -0.24823373505413232,
          -0.5573516672305696,
          -0.9670935284612214,
          1.8541025385189311,
          0.5533686207986326
         ],
         "xaxis": "x15",
         "y": [
          -1.1566040113793468,
          -0.17719658245203096,
          -0.22001559015856784,
          0.11411098999208485,
          0.7553989288850536,
          0.12941845110221267,
          -0.36924365470844217,
          -0.14042689305053832,
          -0.012184061722167346,
          0.7042196554924196,
          -0.5662661963116242,
          0.15106440103188395,
          0.641305254040354,
          -0.23778419338816745,
          1.0500064121808312,
          0.09771224700308351,
          -0.12007618116411842,
          1.4548453265406098,
          0.44671979914733273,
          0.5614144324972279,
          -0.269772452550473,
          -0.3710736420653342,
          -0.6193737860923557,
          -1.065182270268602,
          -0.6847264633276577,
          -1.6546652369080077,
          0.6797487563279534,
          0.6254806440170384,
          -0.09838986976948408,
          1.2817762669256858,
          -0.9034144902333571,
          -0.5006004902721884,
          0.36017763237260625,
          0.5143844849170333,
          -0.6706699097670474,
          -0.6412929559548977,
          0.09063385538101404,
          -0.5236930476306975,
          1.8373709002421237,
          -0.9164347799040972,
          0.9078149208194355,
          0.8933490494414992,
          -0.24386080214957928,
          -0.6341855149084185,
          -0.17792444181528683,
          -0.7213043851450351,
          -1.272780709979072,
          -2.2368011142749094,
          1.03495335124129,
          1.1324603953374288,
          1.5464457098508517,
          -0.63316370440996,
          -0.721822579211477,
          0.8053022998144862,
          -1.2039717822788483,
          -0.7820784400482695,
          0.4917718016946589,
          0.1969561797343989,
          0.13076606941164398,
          0.6563196359301695,
          0.58745657446414,
          -0.7596066092973845,
          -0.7548933304243536,
          -0.11788818861872609,
          -1.2146363857500575,
          2.747670713159326,
          0.752562068564129,
          -0.4804806714288889,
          0.21126788468690336,
          0.997253668738476,
          -0.7631958603755667,
          -0.5359127902590382,
          0.20824787033686898,
          -0.717246832675506,
          -0.2704811941324191,
          1.5409848149890162,
          -0.08860051777682035,
          -1.5701951110734906,
          0.38492688012542037,
          0.250437571864057,
          -0.1924178082239149,
          -0.909397026361852,
          2.1080919404464193,
          -0.1969263787544274,
          0.3005110032183098,
          -2.1388546730874096,
          0.4999877202623662,
          -0.6704850315393515,
          0.4453707423338972,
          1.0209096583741655,
          -0.7143087467589033,
          -0.02044574552658848,
          0.943818778938937,
          -1.161447593273323,
          -0.2205237370152114,
          0.963946907469839,
          0.9154216136153533,
          -0.3955067497927909,
          -0.32918157709622836,
          0.7696258434241922
         ],
         "yaxis": "y15"
        },
        {
         "histfunc": "count",
         "histnorm": "",
         "marker": {
          "color": "rgba(128, 0, 128, 1.0)",
          "line": {
           "color": "#4D5663",
           "width": 1.3
          }
         },
         "name": "D",
         "nbinsx": 10,
         "opacity": 0.8,
         "orientation": "v",
         "type": "histogram",
         "x": [
          -1.1566040113793468,
          -0.17719658245203096,
          -0.22001559015856784,
          0.11411098999208485,
          0.7553989288850536,
          0.12941845110221267,
          -0.36924365470844217,
          -0.14042689305053832,
          -0.012184061722167346,
          0.7042196554924196,
          -0.5662661963116242,
          0.15106440103188395,
          0.641305254040354,
          -0.23778419338816745,
          1.0500064121808312,
          0.09771224700308351,
          -0.12007618116411842,
          1.4548453265406098,
          0.44671979914733273,
          0.5614144324972279,
          -0.269772452550473,
          -0.3710736420653342,
          -0.6193737860923557,
          -1.065182270268602,
          -0.6847264633276577,
          -1.6546652369080077,
          0.6797487563279534,
          0.6254806440170384,
          -0.09838986976948408,
          1.2817762669256858,
          -0.9034144902333571,
          -0.5006004902721884,
          0.36017763237260625,
          0.5143844849170333,
          -0.6706699097670474,
          -0.6412929559548977,
          0.09063385538101404,
          -0.5236930476306975,
          1.8373709002421237,
          -0.9164347799040972,
          0.9078149208194355,
          0.8933490494414992,
          -0.24386080214957928,
          -0.6341855149084185,
          -0.17792444181528683,
          -0.7213043851450351,
          -1.272780709979072,
          -2.2368011142749094,
          1.03495335124129,
          1.1324603953374288,
          1.5464457098508517,
          -0.63316370440996,
          -0.721822579211477,
          0.8053022998144862,
          -1.2039717822788483,
          -0.7820784400482695,
          0.4917718016946589,
          0.1969561797343989,
          0.13076606941164398,
          0.6563196359301695,
          0.58745657446414,
          -0.7596066092973845,
          -0.7548933304243536,
          -0.11788818861872609,
          -1.2146363857500575,
          2.747670713159326,
          0.752562068564129,
          -0.4804806714288889,
          0.21126788468690336,
          0.997253668738476,
          -0.7631958603755667,
          -0.5359127902590382,
          0.20824787033686898,
          -0.717246832675506,
          -0.2704811941324191,
          1.5409848149890162,
          -0.08860051777682035,
          -1.5701951110734906,
          0.38492688012542037,
          0.250437571864057,
          -0.1924178082239149,
          -0.909397026361852,
          2.1080919404464193,
          -0.1969263787544274,
          0.3005110032183098,
          -2.1388546730874096,
          0.4999877202623662,
          -0.6704850315393515,
          0.4453707423338972,
          1.0209096583741655,
          -0.7143087467589033,
          -0.02044574552658848,
          0.943818778938937,
          -1.161447593273323,
          -0.2205237370152114,
          0.963946907469839,
          0.9154216136153533,
          -0.3955067497927909,
          -0.32918157709622836,
          0.7696258434241922
         ],
         "xaxis": "x16",
         "yaxis": "y16"
        }
       ],
       "layout": {
        "bargap": 0.02,
        "legend": {
         "bgcolor": "#F5F6F9",
         "font": {
          "color": "#4D5663"
         }
        },
        "paper_bgcolor": "#F5F6F9",
        "plot_bgcolor": "#F5F6F9",
        "showlegend": false,
        "template": {
         "data": {
          "bar": [
           {
            "error_x": {
             "color": "#2a3f5f"
            },
            "error_y": {
             "color": "#2a3f5f"
            },
            "marker": {
             "line": {
              "color": "#E5ECF6",
              "width": 0.5
             },
             "pattern": {
              "fillmode": "overlay",
              "size": 10,
              "solidity": 0.2
             }
            },
            "type": "bar"
           }
          ],
          "barpolar": [
           {
            "marker": {
             "line": {
              "color": "#E5ECF6",
              "width": 0.5
             },
             "pattern": {
              "fillmode": "overlay",
              "size": 10,
              "solidity": 0.2
             }
            },
            "type": "barpolar"
           }
          ],
          "carpet": [
           {
            "aaxis": {
             "endlinecolor": "#2a3f5f",
             "gridcolor": "white",
             "linecolor": "white",
             "minorgridcolor": "white",
             "startlinecolor": "#2a3f5f"
            },
            "baxis": {
             "endlinecolor": "#2a3f5f",
             "gridcolor": "white",
             "linecolor": "white",
             "minorgridcolor": "white",
             "startlinecolor": "#2a3f5f"
            },
            "type": "carpet"
           }
          ],
          "choropleth": [
           {
            "colorbar": {
             "outlinewidth": 0,
             "ticks": ""
            },
            "type": "choropleth"
           }
          ],
          "contour": [
           {
            "colorbar": {
             "outlinewidth": 0,
             "ticks": ""
            },
            "colorscale": [
             [
              0,
              "#0d0887"
             ],
             [
              0.1111111111111111,
              "#46039f"
             ],
             [
              0.2222222222222222,
              "#7201a8"
             ],
             [
              0.3333333333333333,
              "#9c179e"
             ],
             [
              0.4444444444444444,
              "#bd3786"
             ],
             [
              0.5555555555555556,
              "#d8576b"
             ],
             [
              0.6666666666666666,
              "#ed7953"
             ],
             [
              0.7777777777777778,
              "#fb9f3a"
             ],
             [
              0.8888888888888888,
              "#fdca26"
             ],
             [
              1,
              "#f0f921"
             ]
            ],
            "type": "contour"
           }
          ],
          "contourcarpet": [
           {
            "colorbar": {
             "outlinewidth": 0,
             "ticks": ""
            },
            "type": "contourcarpet"
           }
          ],
          "heatmap": [
           {
            "colorbar": {
             "outlinewidth": 0,
             "ticks": ""
            },
            "colorscale": [
             [
              0,
              "#0d0887"
             ],
             [
              0.1111111111111111,
              "#46039f"
             ],
             [
              0.2222222222222222,
              "#7201a8"
             ],
             [
              0.3333333333333333,
              "#9c179e"
             ],
             [
              0.4444444444444444,
              "#bd3786"
             ],
             [
              0.5555555555555556,
              "#d8576b"
             ],
             [
              0.6666666666666666,
              "#ed7953"
             ],
             [
              0.7777777777777778,
              "#fb9f3a"
             ],
             [
              0.8888888888888888,
              "#fdca26"
             ],
             [
              1,
              "#f0f921"
             ]
            ],
            "type": "heatmap"
           }
          ],
          "heatmapgl": [
           {
            "colorbar": {
             "outlinewidth": 0,
             "ticks": ""
            },
            "colorscale": [
             [
              0,
              "#0d0887"
             ],
             [
              0.1111111111111111,
              "#46039f"
             ],
             [
              0.2222222222222222,
              "#7201a8"
             ],
             [
              0.3333333333333333,
              "#9c179e"
             ],
             [
              0.4444444444444444,
              "#bd3786"
             ],
             [
              0.5555555555555556,
              "#d8576b"
             ],
             [
              0.6666666666666666,
              "#ed7953"
             ],
             [
              0.7777777777777778,
              "#fb9f3a"
             ],
             [
              0.8888888888888888,
              "#fdca26"
             ],
             [
              1,
              "#f0f921"
             ]
            ],
            "type": "heatmapgl"
           }
          ],
          "histogram": [
           {
            "marker": {
             "pattern": {
              "fillmode": "overlay",
              "size": 10,
              "solidity": 0.2
             }
            },
            "type": "histogram"
           }
          ],
          "histogram2d": [
           {
            "colorbar": {
             "outlinewidth": 0,
             "ticks": ""
            },
            "colorscale": [
             [
              0,
              "#0d0887"
             ],
             [
              0.1111111111111111,
              "#46039f"
             ],
             [
              0.2222222222222222,
              "#7201a8"
             ],
             [
              0.3333333333333333,
              "#9c179e"
             ],
             [
              0.4444444444444444,
              "#bd3786"
             ],
             [
              0.5555555555555556,
              "#d8576b"
             ],
             [
              0.6666666666666666,
              "#ed7953"
             ],
             [
              0.7777777777777778,
              "#fb9f3a"
             ],
             [
              0.8888888888888888,
              "#fdca26"
             ],
             [
              1,
              "#f0f921"
             ]
            ],
            "type": "histogram2d"
           }
          ],
          "histogram2dcontour": [
           {
            "colorbar": {
             "outlinewidth": 0,
             "ticks": ""
            },
            "colorscale": [
             [
              0,
              "#0d0887"
             ],
             [
              0.1111111111111111,
              "#46039f"
             ],
             [
              0.2222222222222222,
              "#7201a8"
             ],
             [
              0.3333333333333333,
              "#9c179e"
             ],
             [
              0.4444444444444444,
              "#bd3786"
             ],
             [
              0.5555555555555556,
              "#d8576b"
             ],
             [
              0.6666666666666666,
              "#ed7953"
             ],
             [
              0.7777777777777778,
              "#fb9f3a"
             ],
             [
              0.8888888888888888,
              "#fdca26"
             ],
             [
              1,
              "#f0f921"
             ]
            ],
            "type": "histogram2dcontour"
           }
          ],
          "mesh3d": [
           {
            "colorbar": {
             "outlinewidth": 0,
             "ticks": ""
            },
            "type": "mesh3d"
           }
          ],
          "parcoords": [
           {
            "line": {
             "colorbar": {
              "outlinewidth": 0,
              "ticks": ""
             }
            },
            "type": "parcoords"
           }
          ],
          "pie": [
           {
            "automargin": true,
            "type": "pie"
           }
          ],
          "scatter": [
           {
            "fillpattern": {
             "fillmode": "overlay",
             "size": 10,
             "solidity": 0.2
            },
            "type": "scatter"
           }
          ],
          "scatter3d": [
           {
            "line": {
             "colorbar": {
              "outlinewidth": 0,
              "ticks": ""
             }
            },
            "marker": {
             "colorbar": {
              "outlinewidth": 0,
              "ticks": ""
             }
            },
            "type": "scatter3d"
           }
          ],
          "scattercarpet": [
           {
            "marker": {
             "colorbar": {
              "outlinewidth": 0,
              "ticks": ""
             }
            },
            "type": "scattercarpet"
           }
          ],
          "scattergeo": [
           {
            "marker": {
             "colorbar": {
              "outlinewidth": 0,
              "ticks": ""
             }
            },
            "type": "scattergeo"
           }
          ],
          "scattergl": [
           {
            "marker": {
             "colorbar": {
              "outlinewidth": 0,
              "ticks": ""
             }
            },
            "type": "scattergl"
           }
          ],
          "scattermapbox": [
           {
            "marker": {
             "colorbar": {
              "outlinewidth": 0,
              "ticks": ""
             }
            },
            "type": "scattermapbox"
           }
          ],
          "scatterpolar": [
           {
            "marker": {
             "colorbar": {
              "outlinewidth": 0,
              "ticks": ""
             }
            },
            "type": "scatterpolar"
           }
          ],
          "scatterpolargl": [
           {
            "marker": {
             "colorbar": {
              "outlinewidth": 0,
              "ticks": ""
             }
            },
            "type": "scatterpolargl"
           }
          ],
          "scatterternary": [
           {
            "marker": {
             "colorbar": {
              "outlinewidth": 0,
              "ticks": ""
             }
            },
            "type": "scatterternary"
           }
          ],
          "surface": [
           {
            "colorbar": {
             "outlinewidth": 0,
             "ticks": ""
            },
            "colorscale": [
             [
              0,
              "#0d0887"
             ],
             [
              0.1111111111111111,
              "#46039f"
             ],
             [
              0.2222222222222222,
              "#7201a8"
             ],
             [
              0.3333333333333333,
              "#9c179e"
             ],
             [
              0.4444444444444444,
              "#bd3786"
             ],
             [
              0.5555555555555556,
              "#d8576b"
             ],
             [
              0.6666666666666666,
              "#ed7953"
             ],
             [
              0.7777777777777778,
              "#fb9f3a"
             ],
             [
              0.8888888888888888,
              "#fdca26"
             ],
             [
              1,
              "#f0f921"
             ]
            ],
            "type": "surface"
           }
          ],
          "table": [
           {
            "cells": {
             "fill": {
              "color": "#EBF0F8"
             },
             "line": {
              "color": "white"
             }
            },
            "header": {
             "fill": {
              "color": "#C8D4E3"
             },
             "line": {
              "color": "white"
             }
            },
            "type": "table"
           }
          ]
         },
         "layout": {
          "annotationdefaults": {
           "arrowcolor": "#2a3f5f",
           "arrowhead": 0,
           "arrowwidth": 1
          },
          "autotypenumbers": "strict",
          "coloraxis": {
           "colorbar": {
            "outlinewidth": 0,
            "ticks": ""
           }
          },
          "colorscale": {
           "diverging": [
            [
             0,
             "#8e0152"
            ],
            [
             0.1,
             "#c51b7d"
            ],
            [
             0.2,
             "#de77ae"
            ],
            [
             0.3,
             "#f1b6da"
            ],
            [
             0.4,
             "#fde0ef"
            ],
            [
             0.5,
             "#f7f7f7"
            ],
            [
             0.6,
             "#e6f5d0"
            ],
            [
             0.7,
             "#b8e186"
            ],
            [
             0.8,
             "#7fbc41"
            ],
            [
             0.9,
             "#4d9221"
            ],
            [
             1,
             "#276419"
            ]
           ],
           "sequential": [
            [
             0,
             "#0d0887"
            ],
            [
             0.1111111111111111,
             "#46039f"
            ],
            [
             0.2222222222222222,
             "#7201a8"
            ],
            [
             0.3333333333333333,
             "#9c179e"
            ],
            [
             0.4444444444444444,
             "#bd3786"
            ],
            [
             0.5555555555555556,
             "#d8576b"
            ],
            [
             0.6666666666666666,
             "#ed7953"
            ],
            [
             0.7777777777777778,
             "#fb9f3a"
            ],
            [
             0.8888888888888888,
             "#fdca26"
            ],
            [
             1,
             "#f0f921"
            ]
           ],
           "sequentialminus": [
            [
             0,
             "#0d0887"
            ],
            [
             0.1111111111111111,
             "#46039f"
            ],
            [
             0.2222222222222222,
             "#7201a8"
            ],
            [
             0.3333333333333333,
             "#9c179e"
            ],
            [
             0.4444444444444444,
             "#bd3786"
            ],
            [
             0.5555555555555556,
             "#d8576b"
            ],
            [
             0.6666666666666666,
             "#ed7953"
            ],
            [
             0.7777777777777778,
             "#fb9f3a"
            ],
            [
             0.8888888888888888,
             "#fdca26"
            ],
            [
             1,
             "#f0f921"
            ]
           ]
          },
          "colorway": [
           "#636efa",
           "#EF553B",
           "#00cc96",
           "#ab63fa",
           "#FFA15A",
           "#19d3f3",
           "#FF6692",
           "#B6E880",
           "#FF97FF",
           "#FECB52"
          ],
          "font": {
           "color": "#2a3f5f"
          },
          "geo": {
           "bgcolor": "white",
           "lakecolor": "white",
           "landcolor": "#E5ECF6",
           "showlakes": true,
           "showland": true,
           "subunitcolor": "white"
          },
          "hoverlabel": {
           "align": "left"
          },
          "hovermode": "closest",
          "mapbox": {
           "style": "light"
          },
          "paper_bgcolor": "white",
          "plot_bgcolor": "#E5ECF6",
          "polar": {
           "angularaxis": {
            "gridcolor": "white",
            "linecolor": "white",
            "ticks": ""
           },
           "bgcolor": "#E5ECF6",
           "radialaxis": {
            "gridcolor": "white",
            "linecolor": "white",
            "ticks": ""
           }
          },
          "scene": {
           "xaxis": {
            "backgroundcolor": "#E5ECF6",
            "gridcolor": "white",
            "gridwidth": 2,
            "linecolor": "white",
            "showbackground": true,
            "ticks": "",
            "zerolinecolor": "white"
           },
           "yaxis": {
            "backgroundcolor": "#E5ECF6",
            "gridcolor": "white",
            "gridwidth": 2,
            "linecolor": "white",
            "showbackground": true,
            "ticks": "",
            "zerolinecolor": "white"
           },
           "zaxis": {
            "backgroundcolor": "#E5ECF6",
            "gridcolor": "white",
            "gridwidth": 2,
            "linecolor": "white",
            "showbackground": true,
            "ticks": "",
            "zerolinecolor": "white"
           }
          },
          "shapedefaults": {
           "line": {
            "color": "#2a3f5f"
           }
          },
          "ternary": {
           "aaxis": {
            "gridcolor": "white",
            "linecolor": "white",
            "ticks": ""
           },
           "baxis": {
            "gridcolor": "white",
            "linecolor": "white",
            "ticks": ""
           },
           "bgcolor": "#E5ECF6",
           "caxis": {
            "gridcolor": "white",
            "linecolor": "white",
            "ticks": ""
           }
          },
          "title": {
           "x": 0.05
          },
          "xaxis": {
           "automargin": true,
           "gridcolor": "white",
           "linecolor": "white",
           "ticks": "",
           "title": {
            "standoff": 15
           },
           "zerolinecolor": "white",
           "zerolinewidth": 2
          },
          "yaxis": {
           "automargin": true,
           "gridcolor": "white",
           "linecolor": "white",
           "ticks": "",
           "title": {
            "standoff": 15
           },
           "zerolinecolor": "white",
           "zerolinewidth": 2
          }
         }
        },
        "title": {
         "font": {
          "color": "#4D5663"
         }
        },
        "xaxis": {
         "anchor": "y",
         "domain": [
          0,
          0.2125
         ],
         "gridcolor": "#E1E5ED",
         "showgrid": false,
         "tickfont": {
          "color": "#4D5663"
         },
         "title": {
          "font": {
           "color": "#4D5663"
          },
          "text": ""
         },
         "zerolinecolor": "#E1E5ED"
        },
        "xaxis10": {
         "anchor": "y10",
         "domain": [
          0.2625,
          0.475
         ],
         "gridcolor": "#E1E5ED",
         "showgrid": false,
         "tickfont": {
          "color": "#4D5663"
         },
         "title": {
          "font": {
           "color": "#4D5663"
          },
          "text": ""
         },
         "zerolinecolor": "#E1E5ED"
        },
        "xaxis11": {
         "anchor": "y11",
         "domain": [
          0.525,
          0.7375
         ],
         "gridcolor": "#E1E5ED",
         "showgrid": false,
         "tickfont": {
          "color": "#4D5663"
         },
         "title": {
          "font": {
           "color": "#4D5663"
          },
          "text": ""
         },
         "zerolinecolor": "#E1E5ED"
        },
        "xaxis12": {
         "anchor": "y12",
         "domain": [
          0.7875,
          1
         ],
         "gridcolor": "#E1E5ED",
         "showgrid": false,
         "tickfont": {
          "color": "#4D5663"
         },
         "title": {
          "font": {
           "color": "#4D5663"
          },
          "text": ""
         },
         "zerolinecolor": "#E1E5ED"
        },
        "xaxis13": {
         "anchor": "y13",
         "domain": [
          0,
          0.2125
         ],
         "gridcolor": "#E1E5ED",
         "showgrid": false,
         "tickfont": {
          "color": "#4D5663"
         },
         "title": {
          "font": {
           "color": "#4D5663"
          },
          "text": ""
         },
         "zerolinecolor": "#E1E5ED"
        },
        "xaxis14": {
         "anchor": "y14",
         "domain": [
          0.2625,
          0.475
         ],
         "gridcolor": "#E1E5ED",
         "showgrid": false,
         "tickfont": {
          "color": "#4D5663"
         },
         "title": {
          "font": {
           "color": "#4D5663"
          },
          "text": ""
         },
         "zerolinecolor": "#E1E5ED"
        },
        "xaxis15": {
         "anchor": "y15",
         "domain": [
          0.525,
          0.7375
         ],
         "gridcolor": "#E1E5ED",
         "showgrid": false,
         "tickfont": {
          "color": "#4D5663"
         },
         "title": {
          "font": {
           "color": "#4D5663"
          },
          "text": ""
         },
         "zerolinecolor": "#E1E5ED"
        },
        "xaxis16": {
         "anchor": "y16",
         "domain": [
          0.7875,
          1
         ],
         "gridcolor": "#E1E5ED",
         "showgrid": false,
         "tickfont": {
          "color": "#4D5663"
         },
         "title": {
          "font": {
           "color": "#4D5663"
          },
          "text": ""
         },
         "zerolinecolor": "#E1E5ED"
        },
        "xaxis2": {
         "anchor": "y2",
         "domain": [
          0.2625,
          0.475
         ],
         "gridcolor": "#E1E5ED",
         "showgrid": false,
         "tickfont": {
          "color": "#4D5663"
         },
         "title": {
          "font": {
           "color": "#4D5663"
          },
          "text": ""
         },
         "zerolinecolor": "#E1E5ED"
        },
        "xaxis3": {
         "anchor": "y3",
         "domain": [
          0.525,
          0.7375
         ],
         "gridcolor": "#E1E5ED",
         "showgrid": false,
         "tickfont": {
          "color": "#4D5663"
         },
         "title": {
          "font": {
           "color": "#4D5663"
          },
          "text": ""
         },
         "zerolinecolor": "#E1E5ED"
        },
        "xaxis4": {
         "anchor": "y4",
         "domain": [
          0.7875,
          1
         ],
         "gridcolor": "#E1E5ED",
         "showgrid": false,
         "tickfont": {
          "color": "#4D5663"
         },
         "title": {
          "font": {
           "color": "#4D5663"
          },
          "text": ""
         },
         "zerolinecolor": "#E1E5ED"
        },
        "xaxis5": {
         "anchor": "y5",
         "domain": [
          0,
          0.2125
         ],
         "gridcolor": "#E1E5ED",
         "showgrid": false,
         "tickfont": {
          "color": "#4D5663"
         },
         "title": {
          "font": {
           "color": "#4D5663"
          },
          "text": ""
         },
         "zerolinecolor": "#E1E5ED"
        },
        "xaxis6": {
         "anchor": "y6",
         "domain": [
          0.2625,
          0.475
         ],
         "gridcolor": "#E1E5ED",
         "showgrid": false,
         "tickfont": {
          "color": "#4D5663"
         },
         "title": {
          "font": {
           "color": "#4D5663"
          },
          "text": ""
         },
         "zerolinecolor": "#E1E5ED"
        },
        "xaxis7": {
         "anchor": "y7",
         "domain": [
          0.525,
          0.7375
         ],
         "gridcolor": "#E1E5ED",
         "showgrid": false,
         "tickfont": {
          "color": "#4D5663"
         },
         "title": {
          "font": {
           "color": "#4D5663"
          },
          "text": ""
         },
         "zerolinecolor": "#E1E5ED"
        },
        "xaxis8": {
         "anchor": "y8",
         "domain": [
          0.7875,
          1
         ],
         "gridcolor": "#E1E5ED",
         "showgrid": false,
         "tickfont": {
          "color": "#4D5663"
         },
         "title": {
          "font": {
           "color": "#4D5663"
          },
          "text": ""
         },
         "zerolinecolor": "#E1E5ED"
        },
        "xaxis9": {
         "anchor": "y9",
         "domain": [
          0,
          0.2125
         ],
         "gridcolor": "#E1E5ED",
         "showgrid": false,
         "tickfont": {
          "color": "#4D5663"
         },
         "title": {
          "font": {
           "color": "#4D5663"
          },
          "text": ""
         },
         "zerolinecolor": "#E1E5ED"
        },
        "yaxis": {
         "anchor": "x",
         "domain": [
          0.8025,
          1
         ],
         "gridcolor": "#E1E5ED",
         "showgrid": false,
         "tickfont": {
          "color": "#4D5663"
         },
         "title": {
          "font": {
           "color": "#4D5663"
          },
          "text": ""
         },
         "zerolinecolor": "#E1E5ED"
        },
        "yaxis10": {
         "anchor": "x10",
         "domain": [
          0.2675,
          0.465
         ],
         "gridcolor": "#E1E5ED",
         "showgrid": false,
         "tickfont": {
          "color": "#4D5663"
         },
         "title": {
          "font": {
           "color": "#4D5663"
          },
          "text": ""
         },
         "zerolinecolor": "#E1E5ED"
        },
        "yaxis11": {
         "anchor": "x11",
         "domain": [
          0.2675,
          0.465
         ],
         "gridcolor": "#E1E5ED",
         "showgrid": false,
         "tickfont": {
          "color": "#4D5663"
         },
         "title": {
          "font": {
           "color": "#4D5663"
          },
          "text": ""
         },
         "zerolinecolor": "#E1E5ED"
        },
        "yaxis12": {
         "anchor": "x12",
         "domain": [
          0.2675,
          0.465
         ],
         "gridcolor": "#E1E5ED",
         "showgrid": false,
         "tickfont": {
          "color": "#4D5663"
         },
         "title": {
          "font": {
           "color": "#4D5663"
          },
          "text": ""
         },
         "zerolinecolor": "#E1E5ED"
        },
        "yaxis13": {
         "anchor": "x13",
         "domain": [
          0,
          0.1975
         ],
         "gridcolor": "#E1E5ED",
         "showgrid": false,
         "tickfont": {
          "color": "#4D5663"
         },
         "title": {
          "font": {
           "color": "#4D5663"
          },
          "text": ""
         },
         "zerolinecolor": "#E1E5ED"
        },
        "yaxis14": {
         "anchor": "x14",
         "domain": [
          0,
          0.1975
         ],
         "gridcolor": "#E1E5ED",
         "showgrid": false,
         "tickfont": {
          "color": "#4D5663"
         },
         "title": {
          "font": {
           "color": "#4D5663"
          },
          "text": ""
         },
         "zerolinecolor": "#E1E5ED"
        },
        "yaxis15": {
         "anchor": "x15",
         "domain": [
          0,
          0.1975
         ],
         "gridcolor": "#E1E5ED",
         "showgrid": false,
         "tickfont": {
          "color": "#4D5663"
         },
         "title": {
          "font": {
           "color": "#4D5663"
          },
          "text": ""
         },
         "zerolinecolor": "#E1E5ED"
        },
        "yaxis16": {
         "anchor": "x16",
         "domain": [
          0,
          0.1975
         ],
         "gridcolor": "#E1E5ED",
         "showgrid": false,
         "tickfont": {
          "color": "#4D5663"
         },
         "title": {
          "font": {
           "color": "#4D5663"
          },
          "text": ""
         },
         "zerolinecolor": "#E1E5ED"
        },
        "yaxis2": {
         "anchor": "x2",
         "domain": [
          0.8025,
          1
         ],
         "gridcolor": "#E1E5ED",
         "showgrid": false,
         "tickfont": {
          "color": "#4D5663"
         },
         "title": {
          "font": {
           "color": "#4D5663"
          },
          "text": ""
         },
         "zerolinecolor": "#E1E5ED"
        },
        "yaxis3": {
         "anchor": "x3",
         "domain": [
          0.8025,
          1
         ],
         "gridcolor": "#E1E5ED",
         "showgrid": false,
         "tickfont": {
          "color": "#4D5663"
         },
         "title": {
          "font": {
           "color": "#4D5663"
          },
          "text": ""
         },
         "zerolinecolor": "#E1E5ED"
        },
        "yaxis4": {
         "anchor": "x4",
         "domain": [
          0.8025,
          1
         ],
         "gridcolor": "#E1E5ED",
         "showgrid": false,
         "tickfont": {
          "color": "#4D5663"
         },
         "title": {
          "font": {
           "color": "#4D5663"
          },
          "text": ""
         },
         "zerolinecolor": "#E1E5ED"
        },
        "yaxis5": {
         "anchor": "x5",
         "domain": [
          0.535,
          0.7325
         ],
         "gridcolor": "#E1E5ED",
         "showgrid": false,
         "tickfont": {
          "color": "#4D5663"
         },
         "title": {
          "font": {
           "color": "#4D5663"
          },
          "text": ""
         },
         "zerolinecolor": "#E1E5ED"
        },
        "yaxis6": {
         "anchor": "x6",
         "domain": [
          0.535,
          0.7325
         ],
         "gridcolor": "#E1E5ED",
         "showgrid": false,
         "tickfont": {
          "color": "#4D5663"
         },
         "title": {
          "font": {
           "color": "#4D5663"
          },
          "text": ""
         },
         "zerolinecolor": "#E1E5ED"
        },
        "yaxis7": {
         "anchor": "x7",
         "domain": [
          0.535,
          0.7325
         ],
         "gridcolor": "#E1E5ED",
         "showgrid": false,
         "tickfont": {
          "color": "#4D5663"
         },
         "title": {
          "font": {
           "color": "#4D5663"
          },
          "text": ""
         },
         "zerolinecolor": "#E1E5ED"
        },
        "yaxis8": {
         "anchor": "x8",
         "domain": [
          0.535,
          0.7325
         ],
         "gridcolor": "#E1E5ED",
         "showgrid": false,
         "tickfont": {
          "color": "#4D5663"
         },
         "title": {
          "font": {
           "color": "#4D5663"
          },
          "text": ""
         },
         "zerolinecolor": "#E1E5ED"
        },
        "yaxis9": {
         "anchor": "x9",
         "domain": [
          0.2675,
          0.465
         ],
         "gridcolor": "#E1E5ED",
         "showgrid": false,
         "tickfont": {
          "color": "#4D5663"
         },
         "title": {
          "font": {
           "color": "#4D5663"
          },
          "text": ""
         },
         "zerolinecolor": "#E1E5ED"
        }
       }
      },
      "text/html": [
       "<div>                            <div id=\"e0c9ff80-3639-4486-97f7-72b7fec84800\" class=\"plotly-graph-div\" style=\"height:525px; width:100%;\"></div>            <script type=\"text/javascript\">                require([\"plotly\"], function(Plotly) {                    window.PLOTLYENV=window.PLOTLYENV || {};\n",
       "                    window.PLOTLYENV.BASE_URL='https://plot.ly';                                    if (document.getElementById(\"e0c9ff80-3639-4486-97f7-72b7fec84800\")) {                    Plotly.newPlot(                        \"e0c9ff80-3639-4486-97f7-72b7fec84800\",                        [{\"histfunc\":\"count\",\"histnorm\":\"\",\"marker\":{\"color\":\"rgba(255, 153, 51, 1.0)\",\"line\":{\"color\":\"#4D5663\",\"width\":1.3}},\"name\":\"A\",\"nbinsx\":10,\"opacity\":0.8,\"orientation\":\"v\",\"x\":[0.006313458985566085,0.0012147700438570593,-0.6151467796336,1.0191844884189065,-0.7495075739982601,-1.7985950729458002,0.15382533456183314,-0.5576872225427343,1.5593605186079846,1.700355672186201,-0.15236553270416087,0.39044094019462977,-0.5614557622261617,-1.2696193560262417,-0.024520044223959203,-0.7171428227047335,0.11381698115296884,-2.3261206919345363,0.37015277327553536,0.15583532903095587,-1.2289328448668377,-1.083066067855664,0.43971959185345716,-0.7927303406405242,-0.1343156933997293,-0.8773137644384209,1.1451110216332794,0.5148688588470663,0.2927029823951949,-0.5276160993217199,-1.9680202396163418,1.423501113042431,-0.6849596430392447,-0.8202548551107004,-0.6735148911527414,-0.48979918801619104,-0.8624553398219791,1.8265135614284778,-0.2573459544937043,0.742995129008227,1.9526700344421826,0.6072118968741738,-0.7096512406808968,-0.6679025965317548,0.1279081223835325,-0.2968413355288964,-0.24486047797910396,0.5028527245782749,0.500912850020907,0.35325225579994163,0.2425350082798535,-1.305708258896684,0.9755905559759886,-1.9066415540089885,0.9768170167359869,-0.4580723212715815,0.3188514544784727,-1.6537571945436216,-0.43125541197684153,0.6899089422409604,-1.4602949425078555,0.4624248034322284,0.17136443767218074,-0.012314317526127971,-2.075444122527348,0.42373853888266483,-0.06270018226508774,1.2801916313906705,-1.0247063360598394,-1.4952047036511662,1.073206362530888,0.4028356975025304,-2.142756034751585,0.6002350853929834,-0.39252221922456687,-1.234405269404836,-0.2789229501294982,-0.8258086758280934,1.3921878833189631,1.0334748315732492,-0.8694162529243042,1.5477307549981343,-0.7613614508447585,-1.725484243216102,-1.1268035087945925,-0.9821095582676026,-0.32546867991121364,-1.3547609163644982,0.39714940804709403,0.6050115429246586,1.708350505079218,0.17490611370248854,-1.5460620152456577,0.14372336528774488,-1.688811399942993,1.1805370742648729,-0.9961943586712984,-0.5222634876340545,-0.07165412061967047,0.9033111362618372],\"xaxis\":\"x\",\"yaxis\":\"y\",\"type\":\"histogram\"},{\"line\":{\"color\":\"rgba(128, 128, 128, 1.0)\",\"dash\":\"solid\",\"shape\":\"linear\",\"width\":1.3},\"marker\":{\"size\":2,\"symbol\":\"circle\"},\"mode\":\"markers\",\"name\":\"A\",\"text\":\"\",\"x\":[-0.8412830663608024,-0.14196404629860912,0.27189831213699345,-0.2286524915931357,-0.39740436970062476,0.8644404600468678,-2.425802709190879,-1.7570122474421928,-2.756010446751949,-0.8764100419623471,-0.5927093442184735,1.4131976516655804,0.9245287480106964,2.0385499547616743,0.18604640376218076,0.8795053970341459,1.452057912626229,-1.188265586802459,2.008125648195428,-1.89579976034055,-1.2142197546565268,0.585650048759407,0.1901297815215674,-0.28036571517991926,0.7435936627241457,-0.761465548738385,0.17272991435645543,0.6126370351770036,-0.6409745361014046,-1.2054505656390866,-0.5648212045818725,0.7586668028849586,-0.18694328490507595,-0.5246822943419557,0.1716824260239397,0.17281947072116297,0.9631735363229377,0.8573319073279776,2.7391337276103735,-0.8660589753505328,0.40759489166899276,-1.5249603091551445,-0.28412393855610363,1.3388176264294898,-0.7778806023887083,-1.002215354287591,-0.1309132593210741,1.0292025215239082,1.576109421092655,-2.7680691813938103,-1.1696015241546815,1.992857739976901,-0.3985444234746542,-0.7287240263019391,0.3778165333549547,-0.0028173576769728198,1.8365856724591496,-1.5811511724464855,0.14112966733498775,1.5226834789704895,-0.052630123298235944,0.5750266371763989,-0.3542992607317481,-1.2620214165498946,0.41219245488560224,1.5354942624235504,-0.4274499333810216,1.2622373437633672,-1.8754492230043058,-0.927983492576622,0.19482460729553538,-0.8839697047504629,0.16761091698702862,0.5480793234412067,-1.2069205358509782,1.8565012697440908,0.6414081528241,-1.8010467818833373,0.3081920656655891,0.46299664031639937,-0.861793356479736,1.9503678079314708,1.4349893470965174,2.7521414181104786,0.27344301616024774,0.3291002461450558,0.09630194977242912,0.8097744936659635,1.6929246110017406,-0.7259746620175114,1.0629019525856112,0.9751581738927138,-0.5179265464739529,0.040939684187299555,-0.8685496090915273,-1.0209998546636763,0.11565711451344551,-1.2954962527022302,-0.4122724614406656,1.4156544391757833],\"xaxis\":\"x2\",\"y\":[0.006313458985566085,0.0012147700438570593,-0.6151467796336,1.0191844884189065,-0.7495075739982601,-1.7985950729458002,0.15382533456183314,-0.5576872225427343,1.5593605186079846,1.700355672186201,-0.15236553270416087,0.39044094019462977,-0.5614557622261617,-1.2696193560262417,-0.024520044223959203,-0.7171428227047335,0.11381698115296884,-2.3261206919345363,0.37015277327553536,0.15583532903095587,-1.2289328448668377,-1.083066067855664,0.43971959185345716,-0.7927303406405242,-0.1343156933997293,-0.8773137644384209,1.1451110216332794,0.5148688588470663,0.2927029823951949,-0.5276160993217199,-1.9680202396163418,1.423501113042431,-0.6849596430392447,-0.8202548551107004,-0.6735148911527414,-0.48979918801619104,-0.8624553398219791,1.8265135614284778,-0.2573459544937043,0.742995129008227,1.9526700344421826,0.6072118968741738,-0.7096512406808968,-0.6679025965317548,0.1279081223835325,-0.2968413355288964,-0.24486047797910396,0.5028527245782749,0.500912850020907,0.35325225579994163,0.2425350082798535,-1.305708258896684,0.9755905559759886,-1.9066415540089885,0.9768170167359869,-0.4580723212715815,0.3188514544784727,-1.6537571945436216,-0.43125541197684153,0.6899089422409604,-1.4602949425078555,0.4624248034322284,0.17136443767218074,-0.012314317526127971,-2.075444122527348,0.42373853888266483,-0.06270018226508774,1.2801916313906705,-1.0247063360598394,-1.4952047036511662,1.073206362530888,0.4028356975025304,-2.142756034751585,0.6002350853929834,-0.39252221922456687,-1.234405269404836,-0.2789229501294982,-0.8258086758280934,1.3921878833189631,1.0334748315732492,-0.8694162529243042,1.5477307549981343,-0.7613614508447585,-1.725484243216102,-1.1268035087945925,-0.9821095582676026,-0.32546867991121364,-1.3547609163644982,0.39714940804709403,0.6050115429246586,1.708350505079218,0.17490611370248854,-1.5460620152456577,0.14372336528774488,-1.688811399942993,1.1805370742648729,-0.9961943586712984,-0.5222634876340545,-0.07165412061967047,0.9033111362618372],\"yaxis\":\"y2\",\"type\":\"scatter\"},{\"line\":{\"color\":\"rgba(128, 128, 128, 1.0)\",\"dash\":\"solid\",\"shape\":\"linear\",\"width\":1.3},\"marker\":{\"size\":2,\"symbol\":\"circle\"},\"mode\":\"markers\",\"name\":\"A\",\"text\":\"\",\"x\":[1.707038369955218,-1.1944580737362835,-0.3136450740008115,0.2145991268093264,-0.9136438753341855,0.10369918491718025,-0.34797346452177425,0.2931993700438992,-1.3168978180347461,0.8525859596815066,0.04664310493548644,-1.447247889353405,0.1636020305458358,-1.591836239247566,1.0045744941911439,0.06028804643827226,0.9136021142320738,0.643803690773452,-1.706701318582883,0.16788001195365332,-1.2102351369194388,0.68544736419801,-0.9902964461625677,0.13646269319220988,-1.1181091811635246,0.009424042068484103,0.0663008152019507,0.44480053985991724,-0.4102929349209481,-0.7521844409870982,0.8859100605181857,-0.44230668477616253,0.07143087988818725,-0.11818324764768713,-0.008887481604480675,0.5037677777458722,0.643393957017346,-2.4920271022035507,0.5027870806058774,-0.5226700936142273,0.8991088107393138,-0.5865382063643537,-1.2100225882296463,-2.0599730683130426,1.1407855337171038,-1.8278335859696653,-1.1315893334163514,1.7300379832856623,0.040205230582391255,-2.0034074915790203,-0.10145949669672309,0.848608688651032,-0.8691583066905473,2.0033985279967883,0.0851170254886317,-0.2904207414606158,0.17208553749715433,2.44471233610033,-0.23992922785879967,-1.7729546900537438,-0.12794431347066698,-1.901225632404973,0.6150412483712875,-0.37647678752738106,-1.2549690324935654,0.14600133680676602,2.045111179712386,-0.3206270988118269,-1.9645429528400156,0.4218885182419636,-0.9058415705220113,-0.7146327495082909,1.6732647430053853,-0.25376094932641113,1.1077210607854393,-2.2348018707267387,-1.5284287741776723,0.6857390240565828,-0.6159464127175284,0.42395104469825345,-0.9813622772392521,-0.5879224292738445,-1.1089986852534996,-1.8528229213545215,-2.0094081846917806,-0.5050947765715991,0.10201531701510447,-0.7494957103998997,-0.7703489007647258,2.2320325236689778,-0.718181159562157,-1.2212834198258062,1.011635218848077,-0.0915258676566311,0.2816285201940886,-0.24823373505413232,-0.5573516672305696,-0.9670935284612214,1.8541025385189311,0.5533686207986326],\"xaxis\":\"x3\",\"y\":[0.006313458985566085,0.0012147700438570593,-0.6151467796336,1.0191844884189065,-0.7495075739982601,-1.7985950729458002,0.15382533456183314,-0.5576872225427343,1.5593605186079846,1.700355672186201,-0.15236553270416087,0.39044094019462977,-0.5614557622261617,-1.2696193560262417,-0.024520044223959203,-0.7171428227047335,0.11381698115296884,-2.3261206919345363,0.37015277327553536,0.15583532903095587,-1.2289328448668377,-1.083066067855664,0.43971959185345716,-0.7927303406405242,-0.1343156933997293,-0.8773137644384209,1.1451110216332794,0.5148688588470663,0.2927029823951949,-0.5276160993217199,-1.9680202396163418,1.423501113042431,-0.6849596430392447,-0.8202548551107004,-0.6735148911527414,-0.48979918801619104,-0.8624553398219791,1.8265135614284778,-0.2573459544937043,0.742995129008227,1.9526700344421826,0.6072118968741738,-0.7096512406808968,-0.6679025965317548,0.1279081223835325,-0.2968413355288964,-0.24486047797910396,0.5028527245782749,0.500912850020907,0.35325225579994163,0.2425350082798535,-1.305708258896684,0.9755905559759886,-1.9066415540089885,0.9768170167359869,-0.4580723212715815,0.3188514544784727,-1.6537571945436216,-0.43125541197684153,0.6899089422409604,-1.4602949425078555,0.4624248034322284,0.17136443767218074,-0.012314317526127971,-2.075444122527348,0.42373853888266483,-0.06270018226508774,1.2801916313906705,-1.0247063360598394,-1.4952047036511662,1.073206362530888,0.4028356975025304,-2.142756034751585,0.6002350853929834,-0.39252221922456687,-1.234405269404836,-0.2789229501294982,-0.8258086758280934,1.3921878833189631,1.0334748315732492,-0.8694162529243042,1.5477307549981343,-0.7613614508447585,-1.725484243216102,-1.1268035087945925,-0.9821095582676026,-0.32546867991121364,-1.3547609163644982,0.39714940804709403,0.6050115429246586,1.708350505079218,0.17490611370248854,-1.5460620152456577,0.14372336528774488,-1.688811399942993,1.1805370742648729,-0.9961943586712984,-0.5222634876340545,-0.07165412061967047,0.9033111362618372],\"yaxis\":\"y3\",\"type\":\"scatter\"},{\"line\":{\"color\":\"rgba(128, 128, 128, 1.0)\",\"dash\":\"solid\",\"shape\":\"linear\",\"width\":1.3},\"marker\":{\"size\":2,\"symbol\":\"circle\"},\"mode\":\"markers\",\"name\":\"A\",\"text\":\"\",\"x\":[-1.1566040113793468,-0.17719658245203096,-0.22001559015856784,0.11411098999208485,0.7553989288850536,0.12941845110221267,-0.36924365470844217,-0.14042689305053832,-0.012184061722167346,0.7042196554924196,-0.5662661963116242,0.15106440103188395,0.641305254040354,-0.23778419338816745,1.0500064121808312,0.09771224700308351,-0.12007618116411842,1.4548453265406098,0.44671979914733273,0.5614144324972279,-0.269772452550473,-0.3710736420653342,-0.6193737860923557,-1.065182270268602,-0.6847264633276577,-1.6546652369080077,0.6797487563279534,0.6254806440170384,-0.09838986976948408,1.2817762669256858,-0.9034144902333571,-0.5006004902721884,0.36017763237260625,0.5143844849170333,-0.6706699097670474,-0.6412929559548977,0.09063385538101404,-0.5236930476306975,1.8373709002421237,-0.9164347799040972,0.9078149208194355,0.8933490494414992,-0.24386080214957928,-0.6341855149084185,-0.17792444181528683,-0.7213043851450351,-1.272780709979072,-2.2368011142749094,1.03495335124129,1.1324603953374288,1.5464457098508517,-0.63316370440996,-0.721822579211477,0.8053022998144862,-1.2039717822788483,-0.7820784400482695,0.4917718016946589,0.1969561797343989,0.13076606941164398,0.6563196359301695,0.58745657446414,-0.7596066092973845,-0.7548933304243536,-0.11788818861872609,-1.2146363857500575,2.747670713159326,0.752562068564129,-0.4804806714288889,0.21126788468690336,0.997253668738476,-0.7631958603755667,-0.5359127902590382,0.20824787033686898,-0.717246832675506,-0.2704811941324191,1.5409848149890162,-0.08860051777682035,-1.5701951110734906,0.38492688012542037,0.250437571864057,-0.1924178082239149,-0.909397026361852,2.1080919404464193,-0.1969263787544274,0.3005110032183098,-2.1388546730874096,0.4999877202623662,-0.6704850315393515,0.4453707423338972,1.0209096583741655,-0.7143087467589033,-0.02044574552658848,0.943818778938937,-1.161447593273323,-0.2205237370152114,0.963946907469839,0.9154216136153533,-0.3955067497927909,-0.32918157709622836,0.7696258434241922],\"xaxis\":\"x4\",\"y\":[0.006313458985566085,0.0012147700438570593,-0.6151467796336,1.0191844884189065,-0.7495075739982601,-1.7985950729458002,0.15382533456183314,-0.5576872225427343,1.5593605186079846,1.700355672186201,-0.15236553270416087,0.39044094019462977,-0.5614557622261617,-1.2696193560262417,-0.024520044223959203,-0.7171428227047335,0.11381698115296884,-2.3261206919345363,0.37015277327553536,0.15583532903095587,-1.2289328448668377,-1.083066067855664,0.43971959185345716,-0.7927303406405242,-0.1343156933997293,-0.8773137644384209,1.1451110216332794,0.5148688588470663,0.2927029823951949,-0.5276160993217199,-1.9680202396163418,1.423501113042431,-0.6849596430392447,-0.8202548551107004,-0.6735148911527414,-0.48979918801619104,-0.8624553398219791,1.8265135614284778,-0.2573459544937043,0.742995129008227,1.9526700344421826,0.6072118968741738,-0.7096512406808968,-0.6679025965317548,0.1279081223835325,-0.2968413355288964,-0.24486047797910396,0.5028527245782749,0.500912850020907,0.35325225579994163,0.2425350082798535,-1.305708258896684,0.9755905559759886,-1.9066415540089885,0.9768170167359869,-0.4580723212715815,0.3188514544784727,-1.6537571945436216,-0.43125541197684153,0.6899089422409604,-1.4602949425078555,0.4624248034322284,0.17136443767218074,-0.012314317526127971,-2.075444122527348,0.42373853888266483,-0.06270018226508774,1.2801916313906705,-1.0247063360598394,-1.4952047036511662,1.073206362530888,0.4028356975025304,-2.142756034751585,0.6002350853929834,-0.39252221922456687,-1.234405269404836,-0.2789229501294982,-0.8258086758280934,1.3921878833189631,1.0334748315732492,-0.8694162529243042,1.5477307549981343,-0.7613614508447585,-1.725484243216102,-1.1268035087945925,-0.9821095582676026,-0.32546867991121364,-1.3547609163644982,0.39714940804709403,0.6050115429246586,1.708350505079218,0.17490611370248854,-1.5460620152456577,0.14372336528774488,-1.688811399942993,1.1805370742648729,-0.9961943586712984,-0.5222634876340545,-0.07165412061967047,0.9033111362618372],\"yaxis\":\"y4\",\"type\":\"scatter\"},{\"line\":{\"color\":\"rgba(128, 128, 128, 1.0)\",\"dash\":\"solid\",\"shape\":\"linear\",\"width\":1.3},\"marker\":{\"size\":2,\"symbol\":\"circle\"},\"mode\":\"markers\",\"name\":\"B\",\"text\":\"\",\"x\":[0.006313458985566085,0.0012147700438570593,-0.6151467796336,1.0191844884189065,-0.7495075739982601,-1.7985950729458002,0.15382533456183314,-0.5576872225427343,1.5593605186079846,1.700355672186201,-0.15236553270416087,0.39044094019462977,-0.5614557622261617,-1.2696193560262417,-0.024520044223959203,-0.7171428227047335,0.11381698115296884,-2.3261206919345363,0.37015277327553536,0.15583532903095587,-1.2289328448668377,-1.083066067855664,0.43971959185345716,-0.7927303406405242,-0.1343156933997293,-0.8773137644384209,1.1451110216332794,0.5148688588470663,0.2927029823951949,-0.5276160993217199,-1.9680202396163418,1.423501113042431,-0.6849596430392447,-0.8202548551107004,-0.6735148911527414,-0.48979918801619104,-0.8624553398219791,1.8265135614284778,-0.2573459544937043,0.742995129008227,1.9526700344421826,0.6072118968741738,-0.7096512406808968,-0.6679025965317548,0.1279081223835325,-0.2968413355288964,-0.24486047797910396,0.5028527245782749,0.500912850020907,0.35325225579994163,0.2425350082798535,-1.305708258896684,0.9755905559759886,-1.9066415540089885,0.9768170167359869,-0.4580723212715815,0.3188514544784727,-1.6537571945436216,-0.43125541197684153,0.6899089422409604,-1.4602949425078555,0.4624248034322284,0.17136443767218074,-0.012314317526127971,-2.075444122527348,0.42373853888266483,-0.06270018226508774,1.2801916313906705,-1.0247063360598394,-1.4952047036511662,1.073206362530888,0.4028356975025304,-2.142756034751585,0.6002350853929834,-0.39252221922456687,-1.234405269404836,-0.2789229501294982,-0.8258086758280934,1.3921878833189631,1.0334748315732492,-0.8694162529243042,1.5477307549981343,-0.7613614508447585,-1.725484243216102,-1.1268035087945925,-0.9821095582676026,-0.32546867991121364,-1.3547609163644982,0.39714940804709403,0.6050115429246586,1.708350505079218,0.17490611370248854,-1.5460620152456577,0.14372336528774488,-1.688811399942993,1.1805370742648729,-0.9961943586712984,-0.5222634876340545,-0.07165412061967047,0.9033111362618372],\"xaxis\":\"x5\",\"y\":[-0.8412830663608024,-0.14196404629860912,0.27189831213699345,-0.2286524915931357,-0.39740436970062476,0.8644404600468678,-2.425802709190879,-1.7570122474421928,-2.756010446751949,-0.8764100419623471,-0.5927093442184735,1.4131976516655804,0.9245287480106964,2.0385499547616743,0.18604640376218076,0.8795053970341459,1.452057912626229,-1.188265586802459,2.008125648195428,-1.89579976034055,-1.2142197546565268,0.585650048759407,0.1901297815215674,-0.28036571517991926,0.7435936627241457,-0.761465548738385,0.17272991435645543,0.6126370351770036,-0.6409745361014046,-1.2054505656390866,-0.5648212045818725,0.7586668028849586,-0.18694328490507595,-0.5246822943419557,0.1716824260239397,0.17281947072116297,0.9631735363229377,0.8573319073279776,2.7391337276103735,-0.8660589753505328,0.40759489166899276,-1.5249603091551445,-0.28412393855610363,1.3388176264294898,-0.7778806023887083,-1.002215354287591,-0.1309132593210741,1.0292025215239082,1.576109421092655,-2.7680691813938103,-1.1696015241546815,1.992857739976901,-0.3985444234746542,-0.7287240263019391,0.3778165333549547,-0.0028173576769728198,1.8365856724591496,-1.5811511724464855,0.14112966733498775,1.5226834789704895,-0.052630123298235944,0.5750266371763989,-0.3542992607317481,-1.2620214165498946,0.41219245488560224,1.5354942624235504,-0.4274499333810216,1.2622373437633672,-1.8754492230043058,-0.927983492576622,0.19482460729553538,-0.8839697047504629,0.16761091698702862,0.5480793234412067,-1.2069205358509782,1.8565012697440908,0.6414081528241,-1.8010467818833373,0.3081920656655891,0.46299664031639937,-0.861793356479736,1.9503678079314708,1.4349893470965174,2.7521414181104786,0.27344301616024774,0.3291002461450558,0.09630194977242912,0.8097744936659635,1.6929246110017406,-0.7259746620175114,1.0629019525856112,0.9751581738927138,-0.5179265464739529,0.040939684187299555,-0.8685496090915273,-1.0209998546636763,0.11565711451344551,-1.2954962527022302,-0.4122724614406656,1.4156544391757833],\"yaxis\":\"y5\",\"type\":\"scatter\"},{\"histfunc\":\"count\",\"histnorm\":\"\",\"marker\":{\"color\":\"rgba(55, 128, 191, 1.0)\",\"line\":{\"color\":\"#4D5663\",\"width\":1.3}},\"name\":\"B\",\"nbinsx\":10,\"opacity\":0.8,\"orientation\":\"v\",\"x\":[-0.8412830663608024,-0.14196404629860912,0.27189831213699345,-0.2286524915931357,-0.39740436970062476,0.8644404600468678,-2.425802709190879,-1.7570122474421928,-2.756010446751949,-0.8764100419623471,-0.5927093442184735,1.4131976516655804,0.9245287480106964,2.0385499547616743,0.18604640376218076,0.8795053970341459,1.452057912626229,-1.188265586802459,2.008125648195428,-1.89579976034055,-1.2142197546565268,0.585650048759407,0.1901297815215674,-0.28036571517991926,0.7435936627241457,-0.761465548738385,0.17272991435645543,0.6126370351770036,-0.6409745361014046,-1.2054505656390866,-0.5648212045818725,0.7586668028849586,-0.18694328490507595,-0.5246822943419557,0.1716824260239397,0.17281947072116297,0.9631735363229377,0.8573319073279776,2.7391337276103735,-0.8660589753505328,0.40759489166899276,-1.5249603091551445,-0.28412393855610363,1.3388176264294898,-0.7778806023887083,-1.002215354287591,-0.1309132593210741,1.0292025215239082,1.576109421092655,-2.7680691813938103,-1.1696015241546815,1.992857739976901,-0.3985444234746542,-0.7287240263019391,0.3778165333549547,-0.0028173576769728198,1.8365856724591496,-1.5811511724464855,0.14112966733498775,1.5226834789704895,-0.052630123298235944,0.5750266371763989,-0.3542992607317481,-1.2620214165498946,0.41219245488560224,1.5354942624235504,-0.4274499333810216,1.2622373437633672,-1.8754492230043058,-0.927983492576622,0.19482460729553538,-0.8839697047504629,0.16761091698702862,0.5480793234412067,-1.2069205358509782,1.8565012697440908,0.6414081528241,-1.8010467818833373,0.3081920656655891,0.46299664031639937,-0.861793356479736,1.9503678079314708,1.4349893470965174,2.7521414181104786,0.27344301616024774,0.3291002461450558,0.09630194977242912,0.8097744936659635,1.6929246110017406,-0.7259746620175114,1.0629019525856112,0.9751581738927138,-0.5179265464739529,0.040939684187299555,-0.8685496090915273,-1.0209998546636763,0.11565711451344551,-1.2954962527022302,-0.4122724614406656,1.4156544391757833],\"xaxis\":\"x6\",\"yaxis\":\"y6\",\"type\":\"histogram\"},{\"line\":{\"color\":\"rgba(128, 128, 128, 1.0)\",\"dash\":\"solid\",\"shape\":\"linear\",\"width\":1.3},\"marker\":{\"size\":2,\"symbol\":\"circle\"},\"mode\":\"markers\",\"name\":\"B\",\"text\":\"\",\"x\":[1.707038369955218,-1.1944580737362835,-0.3136450740008115,0.2145991268093264,-0.9136438753341855,0.10369918491718025,-0.34797346452177425,0.2931993700438992,-1.3168978180347461,0.8525859596815066,0.04664310493548644,-1.447247889353405,0.1636020305458358,-1.591836239247566,1.0045744941911439,0.06028804643827226,0.9136021142320738,0.643803690773452,-1.706701318582883,0.16788001195365332,-1.2102351369194388,0.68544736419801,-0.9902964461625677,0.13646269319220988,-1.1181091811635246,0.009424042068484103,0.0663008152019507,0.44480053985991724,-0.4102929349209481,-0.7521844409870982,0.8859100605181857,-0.44230668477616253,0.07143087988818725,-0.11818324764768713,-0.008887481604480675,0.5037677777458722,0.643393957017346,-2.4920271022035507,0.5027870806058774,-0.5226700936142273,0.8991088107393138,-0.5865382063643537,-1.2100225882296463,-2.0599730683130426,1.1407855337171038,-1.8278335859696653,-1.1315893334163514,1.7300379832856623,0.040205230582391255,-2.0034074915790203,-0.10145949669672309,0.848608688651032,-0.8691583066905473,2.0033985279967883,0.0851170254886317,-0.2904207414606158,0.17208553749715433,2.44471233610033,-0.23992922785879967,-1.7729546900537438,-0.12794431347066698,-1.901225632404973,0.6150412483712875,-0.37647678752738106,-1.2549690324935654,0.14600133680676602,2.045111179712386,-0.3206270988118269,-1.9645429528400156,0.4218885182419636,-0.9058415705220113,-0.7146327495082909,1.6732647430053853,-0.25376094932641113,1.1077210607854393,-2.2348018707267387,-1.5284287741776723,0.6857390240565828,-0.6159464127175284,0.42395104469825345,-0.9813622772392521,-0.5879224292738445,-1.1089986852534996,-1.8528229213545215,-2.0094081846917806,-0.5050947765715991,0.10201531701510447,-0.7494957103998997,-0.7703489007647258,2.2320325236689778,-0.718181159562157,-1.2212834198258062,1.011635218848077,-0.0915258676566311,0.2816285201940886,-0.24823373505413232,-0.5573516672305696,-0.9670935284612214,1.8541025385189311,0.5533686207986326],\"xaxis\":\"x7\",\"y\":[-0.8412830663608024,-0.14196404629860912,0.27189831213699345,-0.2286524915931357,-0.39740436970062476,0.8644404600468678,-2.425802709190879,-1.7570122474421928,-2.756010446751949,-0.8764100419623471,-0.5927093442184735,1.4131976516655804,0.9245287480106964,2.0385499547616743,0.18604640376218076,0.8795053970341459,1.452057912626229,-1.188265586802459,2.008125648195428,-1.89579976034055,-1.2142197546565268,0.585650048759407,0.1901297815215674,-0.28036571517991926,0.7435936627241457,-0.761465548738385,0.17272991435645543,0.6126370351770036,-0.6409745361014046,-1.2054505656390866,-0.5648212045818725,0.7586668028849586,-0.18694328490507595,-0.5246822943419557,0.1716824260239397,0.17281947072116297,0.9631735363229377,0.8573319073279776,2.7391337276103735,-0.8660589753505328,0.40759489166899276,-1.5249603091551445,-0.28412393855610363,1.3388176264294898,-0.7778806023887083,-1.002215354287591,-0.1309132593210741,1.0292025215239082,1.576109421092655,-2.7680691813938103,-1.1696015241546815,1.992857739976901,-0.3985444234746542,-0.7287240263019391,0.3778165333549547,-0.0028173576769728198,1.8365856724591496,-1.5811511724464855,0.14112966733498775,1.5226834789704895,-0.052630123298235944,0.5750266371763989,-0.3542992607317481,-1.2620214165498946,0.41219245488560224,1.5354942624235504,-0.4274499333810216,1.2622373437633672,-1.8754492230043058,-0.927983492576622,0.19482460729553538,-0.8839697047504629,0.16761091698702862,0.5480793234412067,-1.2069205358509782,1.8565012697440908,0.6414081528241,-1.8010467818833373,0.3081920656655891,0.46299664031639937,-0.861793356479736,1.9503678079314708,1.4349893470965174,2.7521414181104786,0.27344301616024774,0.3291002461450558,0.09630194977242912,0.8097744936659635,1.6929246110017406,-0.7259746620175114,1.0629019525856112,0.9751581738927138,-0.5179265464739529,0.040939684187299555,-0.8685496090915273,-1.0209998546636763,0.11565711451344551,-1.2954962527022302,-0.4122724614406656,1.4156544391757833],\"yaxis\":\"y7\",\"type\":\"scatter\"},{\"line\":{\"color\":\"rgba(128, 128, 128, 1.0)\",\"dash\":\"solid\",\"shape\":\"linear\",\"width\":1.3},\"marker\":{\"size\":2,\"symbol\":\"circle\"},\"mode\":\"markers\",\"name\":\"B\",\"text\":\"\",\"x\":[-1.1566040113793468,-0.17719658245203096,-0.22001559015856784,0.11411098999208485,0.7553989288850536,0.12941845110221267,-0.36924365470844217,-0.14042689305053832,-0.012184061722167346,0.7042196554924196,-0.5662661963116242,0.15106440103188395,0.641305254040354,-0.23778419338816745,1.0500064121808312,0.09771224700308351,-0.12007618116411842,1.4548453265406098,0.44671979914733273,0.5614144324972279,-0.269772452550473,-0.3710736420653342,-0.6193737860923557,-1.065182270268602,-0.6847264633276577,-1.6546652369080077,0.6797487563279534,0.6254806440170384,-0.09838986976948408,1.2817762669256858,-0.9034144902333571,-0.5006004902721884,0.36017763237260625,0.5143844849170333,-0.6706699097670474,-0.6412929559548977,0.09063385538101404,-0.5236930476306975,1.8373709002421237,-0.9164347799040972,0.9078149208194355,0.8933490494414992,-0.24386080214957928,-0.6341855149084185,-0.17792444181528683,-0.7213043851450351,-1.272780709979072,-2.2368011142749094,1.03495335124129,1.1324603953374288,1.5464457098508517,-0.63316370440996,-0.721822579211477,0.8053022998144862,-1.2039717822788483,-0.7820784400482695,0.4917718016946589,0.1969561797343989,0.13076606941164398,0.6563196359301695,0.58745657446414,-0.7596066092973845,-0.7548933304243536,-0.11788818861872609,-1.2146363857500575,2.747670713159326,0.752562068564129,-0.4804806714288889,0.21126788468690336,0.997253668738476,-0.7631958603755667,-0.5359127902590382,0.20824787033686898,-0.717246832675506,-0.2704811941324191,1.5409848149890162,-0.08860051777682035,-1.5701951110734906,0.38492688012542037,0.250437571864057,-0.1924178082239149,-0.909397026361852,2.1080919404464193,-0.1969263787544274,0.3005110032183098,-2.1388546730874096,0.4999877202623662,-0.6704850315393515,0.4453707423338972,1.0209096583741655,-0.7143087467589033,-0.02044574552658848,0.943818778938937,-1.161447593273323,-0.2205237370152114,0.963946907469839,0.9154216136153533,-0.3955067497927909,-0.32918157709622836,0.7696258434241922],\"xaxis\":\"x8\",\"y\":[-0.8412830663608024,-0.14196404629860912,0.27189831213699345,-0.2286524915931357,-0.39740436970062476,0.8644404600468678,-2.425802709190879,-1.7570122474421928,-2.756010446751949,-0.8764100419623471,-0.5927093442184735,1.4131976516655804,0.9245287480106964,2.0385499547616743,0.18604640376218076,0.8795053970341459,1.452057912626229,-1.188265586802459,2.008125648195428,-1.89579976034055,-1.2142197546565268,0.585650048759407,0.1901297815215674,-0.28036571517991926,0.7435936627241457,-0.761465548738385,0.17272991435645543,0.6126370351770036,-0.6409745361014046,-1.2054505656390866,-0.5648212045818725,0.7586668028849586,-0.18694328490507595,-0.5246822943419557,0.1716824260239397,0.17281947072116297,0.9631735363229377,0.8573319073279776,2.7391337276103735,-0.8660589753505328,0.40759489166899276,-1.5249603091551445,-0.28412393855610363,1.3388176264294898,-0.7778806023887083,-1.002215354287591,-0.1309132593210741,1.0292025215239082,1.576109421092655,-2.7680691813938103,-1.1696015241546815,1.992857739976901,-0.3985444234746542,-0.7287240263019391,0.3778165333549547,-0.0028173576769728198,1.8365856724591496,-1.5811511724464855,0.14112966733498775,1.5226834789704895,-0.052630123298235944,0.5750266371763989,-0.3542992607317481,-1.2620214165498946,0.41219245488560224,1.5354942624235504,-0.4274499333810216,1.2622373437633672,-1.8754492230043058,-0.927983492576622,0.19482460729553538,-0.8839697047504629,0.16761091698702862,0.5480793234412067,-1.2069205358509782,1.8565012697440908,0.6414081528241,-1.8010467818833373,0.3081920656655891,0.46299664031639937,-0.861793356479736,1.9503678079314708,1.4349893470965174,2.7521414181104786,0.27344301616024774,0.3291002461450558,0.09630194977242912,0.8097744936659635,1.6929246110017406,-0.7259746620175114,1.0629019525856112,0.9751581738927138,-0.5179265464739529,0.040939684187299555,-0.8685496090915273,-1.0209998546636763,0.11565711451344551,-1.2954962527022302,-0.4122724614406656,1.4156544391757833],\"yaxis\":\"y8\",\"type\":\"scatter\"},{\"line\":{\"color\":\"rgba(128, 128, 128, 1.0)\",\"dash\":\"solid\",\"shape\":\"linear\",\"width\":1.3},\"marker\":{\"size\":2,\"symbol\":\"circle\"},\"mode\":\"markers\",\"name\":\"C\",\"text\":\"\",\"x\":[0.006313458985566085,0.0012147700438570593,-0.6151467796336,1.0191844884189065,-0.7495075739982601,-1.7985950729458002,0.15382533456183314,-0.5576872225427343,1.5593605186079846,1.700355672186201,-0.15236553270416087,0.39044094019462977,-0.5614557622261617,-1.2696193560262417,-0.024520044223959203,-0.7171428227047335,0.11381698115296884,-2.3261206919345363,0.37015277327553536,0.15583532903095587,-1.2289328448668377,-1.083066067855664,0.43971959185345716,-0.7927303406405242,-0.1343156933997293,-0.8773137644384209,1.1451110216332794,0.5148688588470663,0.2927029823951949,-0.5276160993217199,-1.9680202396163418,1.423501113042431,-0.6849596430392447,-0.8202548551107004,-0.6735148911527414,-0.48979918801619104,-0.8624553398219791,1.8265135614284778,-0.2573459544937043,0.742995129008227,1.9526700344421826,0.6072118968741738,-0.7096512406808968,-0.6679025965317548,0.1279081223835325,-0.2968413355288964,-0.24486047797910396,0.5028527245782749,0.500912850020907,0.35325225579994163,0.2425350082798535,-1.305708258896684,0.9755905559759886,-1.9066415540089885,0.9768170167359869,-0.4580723212715815,0.3188514544784727,-1.6537571945436216,-0.43125541197684153,0.6899089422409604,-1.4602949425078555,0.4624248034322284,0.17136443767218074,-0.012314317526127971,-2.075444122527348,0.42373853888266483,-0.06270018226508774,1.2801916313906705,-1.0247063360598394,-1.4952047036511662,1.073206362530888,0.4028356975025304,-2.142756034751585,0.6002350853929834,-0.39252221922456687,-1.234405269404836,-0.2789229501294982,-0.8258086758280934,1.3921878833189631,1.0334748315732492,-0.8694162529243042,1.5477307549981343,-0.7613614508447585,-1.725484243216102,-1.1268035087945925,-0.9821095582676026,-0.32546867991121364,-1.3547609163644982,0.39714940804709403,0.6050115429246586,1.708350505079218,0.17490611370248854,-1.5460620152456577,0.14372336528774488,-1.688811399942993,1.1805370742648729,-0.9961943586712984,-0.5222634876340545,-0.07165412061967047,0.9033111362618372],\"xaxis\":\"x9\",\"y\":[1.707038369955218,-1.1944580737362835,-0.3136450740008115,0.2145991268093264,-0.9136438753341855,0.10369918491718025,-0.34797346452177425,0.2931993700438992,-1.3168978180347461,0.8525859596815066,0.04664310493548644,-1.447247889353405,0.1636020305458358,-1.591836239247566,1.0045744941911439,0.06028804643827226,0.9136021142320738,0.643803690773452,-1.706701318582883,0.16788001195365332,-1.2102351369194388,0.68544736419801,-0.9902964461625677,0.13646269319220988,-1.1181091811635246,0.009424042068484103,0.0663008152019507,0.44480053985991724,-0.4102929349209481,-0.7521844409870982,0.8859100605181857,-0.44230668477616253,0.07143087988818725,-0.11818324764768713,-0.008887481604480675,0.5037677777458722,0.643393957017346,-2.4920271022035507,0.5027870806058774,-0.5226700936142273,0.8991088107393138,-0.5865382063643537,-1.2100225882296463,-2.0599730683130426,1.1407855337171038,-1.8278335859696653,-1.1315893334163514,1.7300379832856623,0.040205230582391255,-2.0034074915790203,-0.10145949669672309,0.848608688651032,-0.8691583066905473,2.0033985279967883,0.0851170254886317,-0.2904207414606158,0.17208553749715433,2.44471233610033,-0.23992922785879967,-1.7729546900537438,-0.12794431347066698,-1.901225632404973,0.6150412483712875,-0.37647678752738106,-1.2549690324935654,0.14600133680676602,2.045111179712386,-0.3206270988118269,-1.9645429528400156,0.4218885182419636,-0.9058415705220113,-0.7146327495082909,1.6732647430053853,-0.25376094932641113,1.1077210607854393,-2.2348018707267387,-1.5284287741776723,0.6857390240565828,-0.6159464127175284,0.42395104469825345,-0.9813622772392521,-0.5879224292738445,-1.1089986852534996,-1.8528229213545215,-2.0094081846917806,-0.5050947765715991,0.10201531701510447,-0.7494957103998997,-0.7703489007647258,2.2320325236689778,-0.718181159562157,-1.2212834198258062,1.011635218848077,-0.0915258676566311,0.2816285201940886,-0.24823373505413232,-0.5573516672305696,-0.9670935284612214,1.8541025385189311,0.5533686207986326],\"yaxis\":\"y9\",\"type\":\"scatter\"},{\"line\":{\"color\":\"rgba(128, 128, 128, 1.0)\",\"dash\":\"solid\",\"shape\":\"linear\",\"width\":1.3},\"marker\":{\"size\":2,\"symbol\":\"circle\"},\"mode\":\"markers\",\"name\":\"C\",\"text\":\"\",\"x\":[-0.8412830663608024,-0.14196404629860912,0.27189831213699345,-0.2286524915931357,-0.39740436970062476,0.8644404600468678,-2.425802709190879,-1.7570122474421928,-2.756010446751949,-0.8764100419623471,-0.5927093442184735,1.4131976516655804,0.9245287480106964,2.0385499547616743,0.18604640376218076,0.8795053970341459,1.452057912626229,-1.188265586802459,2.008125648195428,-1.89579976034055,-1.2142197546565268,0.585650048759407,0.1901297815215674,-0.28036571517991926,0.7435936627241457,-0.761465548738385,0.17272991435645543,0.6126370351770036,-0.6409745361014046,-1.2054505656390866,-0.5648212045818725,0.7586668028849586,-0.18694328490507595,-0.5246822943419557,0.1716824260239397,0.17281947072116297,0.9631735363229377,0.8573319073279776,2.7391337276103735,-0.8660589753505328,0.40759489166899276,-1.5249603091551445,-0.28412393855610363,1.3388176264294898,-0.7778806023887083,-1.002215354287591,-0.1309132593210741,1.0292025215239082,1.576109421092655,-2.7680691813938103,-1.1696015241546815,1.992857739976901,-0.3985444234746542,-0.7287240263019391,0.3778165333549547,-0.0028173576769728198,1.8365856724591496,-1.5811511724464855,0.14112966733498775,1.5226834789704895,-0.052630123298235944,0.5750266371763989,-0.3542992607317481,-1.2620214165498946,0.41219245488560224,1.5354942624235504,-0.4274499333810216,1.2622373437633672,-1.8754492230043058,-0.927983492576622,0.19482460729553538,-0.8839697047504629,0.16761091698702862,0.5480793234412067,-1.2069205358509782,1.8565012697440908,0.6414081528241,-1.8010467818833373,0.3081920656655891,0.46299664031639937,-0.861793356479736,1.9503678079314708,1.4349893470965174,2.7521414181104786,0.27344301616024774,0.3291002461450558,0.09630194977242912,0.8097744936659635,1.6929246110017406,-0.7259746620175114,1.0629019525856112,0.9751581738927138,-0.5179265464739529,0.040939684187299555,-0.8685496090915273,-1.0209998546636763,0.11565711451344551,-1.2954962527022302,-0.4122724614406656,1.4156544391757833],\"xaxis\":\"x10\",\"y\":[1.707038369955218,-1.1944580737362835,-0.3136450740008115,0.2145991268093264,-0.9136438753341855,0.10369918491718025,-0.34797346452177425,0.2931993700438992,-1.3168978180347461,0.8525859596815066,0.04664310493548644,-1.447247889353405,0.1636020305458358,-1.591836239247566,1.0045744941911439,0.06028804643827226,0.9136021142320738,0.643803690773452,-1.706701318582883,0.16788001195365332,-1.2102351369194388,0.68544736419801,-0.9902964461625677,0.13646269319220988,-1.1181091811635246,0.009424042068484103,0.0663008152019507,0.44480053985991724,-0.4102929349209481,-0.7521844409870982,0.8859100605181857,-0.44230668477616253,0.07143087988818725,-0.11818324764768713,-0.008887481604480675,0.5037677777458722,0.643393957017346,-2.4920271022035507,0.5027870806058774,-0.5226700936142273,0.8991088107393138,-0.5865382063643537,-1.2100225882296463,-2.0599730683130426,1.1407855337171038,-1.8278335859696653,-1.1315893334163514,1.7300379832856623,0.040205230582391255,-2.0034074915790203,-0.10145949669672309,0.848608688651032,-0.8691583066905473,2.0033985279967883,0.0851170254886317,-0.2904207414606158,0.17208553749715433,2.44471233610033,-0.23992922785879967,-1.7729546900537438,-0.12794431347066698,-1.901225632404973,0.6150412483712875,-0.37647678752738106,-1.2549690324935654,0.14600133680676602,2.045111179712386,-0.3206270988118269,-1.9645429528400156,0.4218885182419636,-0.9058415705220113,-0.7146327495082909,1.6732647430053853,-0.25376094932641113,1.1077210607854393,-2.2348018707267387,-1.5284287741776723,0.6857390240565828,-0.6159464127175284,0.42395104469825345,-0.9813622772392521,-0.5879224292738445,-1.1089986852534996,-1.8528229213545215,-2.0094081846917806,-0.5050947765715991,0.10201531701510447,-0.7494957103998997,-0.7703489007647258,2.2320325236689778,-0.718181159562157,-1.2212834198258062,1.011635218848077,-0.0915258676566311,0.2816285201940886,-0.24823373505413232,-0.5573516672305696,-0.9670935284612214,1.8541025385189311,0.5533686207986326],\"yaxis\":\"y10\",\"type\":\"scatter\"},{\"histfunc\":\"count\",\"histnorm\":\"\",\"marker\":{\"color\":\"rgba(50, 171, 96, 1.0)\",\"line\":{\"color\":\"#4D5663\",\"width\":1.3}},\"name\":\"C\",\"nbinsx\":10,\"opacity\":0.8,\"orientation\":\"v\",\"x\":[1.707038369955218,-1.1944580737362835,-0.3136450740008115,0.2145991268093264,-0.9136438753341855,0.10369918491718025,-0.34797346452177425,0.2931993700438992,-1.3168978180347461,0.8525859596815066,0.04664310493548644,-1.447247889353405,0.1636020305458358,-1.591836239247566,1.0045744941911439,0.06028804643827226,0.9136021142320738,0.643803690773452,-1.706701318582883,0.16788001195365332,-1.2102351369194388,0.68544736419801,-0.9902964461625677,0.13646269319220988,-1.1181091811635246,0.009424042068484103,0.0663008152019507,0.44480053985991724,-0.4102929349209481,-0.7521844409870982,0.8859100605181857,-0.44230668477616253,0.07143087988818725,-0.11818324764768713,-0.008887481604480675,0.5037677777458722,0.643393957017346,-2.4920271022035507,0.5027870806058774,-0.5226700936142273,0.8991088107393138,-0.5865382063643537,-1.2100225882296463,-2.0599730683130426,1.1407855337171038,-1.8278335859696653,-1.1315893334163514,1.7300379832856623,0.040205230582391255,-2.0034074915790203,-0.10145949669672309,0.848608688651032,-0.8691583066905473,2.0033985279967883,0.0851170254886317,-0.2904207414606158,0.17208553749715433,2.44471233610033,-0.23992922785879967,-1.7729546900537438,-0.12794431347066698,-1.901225632404973,0.6150412483712875,-0.37647678752738106,-1.2549690324935654,0.14600133680676602,2.045111179712386,-0.3206270988118269,-1.9645429528400156,0.4218885182419636,-0.9058415705220113,-0.7146327495082909,1.6732647430053853,-0.25376094932641113,1.1077210607854393,-2.2348018707267387,-1.5284287741776723,0.6857390240565828,-0.6159464127175284,0.42395104469825345,-0.9813622772392521,-0.5879224292738445,-1.1089986852534996,-1.8528229213545215,-2.0094081846917806,-0.5050947765715991,0.10201531701510447,-0.7494957103998997,-0.7703489007647258,2.2320325236689778,-0.718181159562157,-1.2212834198258062,1.011635218848077,-0.0915258676566311,0.2816285201940886,-0.24823373505413232,-0.5573516672305696,-0.9670935284612214,1.8541025385189311,0.5533686207986326],\"xaxis\":\"x11\",\"yaxis\":\"y11\",\"type\":\"histogram\"},{\"line\":{\"color\":\"rgba(128, 128, 128, 1.0)\",\"dash\":\"solid\",\"shape\":\"linear\",\"width\":1.3},\"marker\":{\"size\":2,\"symbol\":\"circle\"},\"mode\":\"markers\",\"name\":\"C\",\"text\":\"\",\"x\":[-1.1566040113793468,-0.17719658245203096,-0.22001559015856784,0.11411098999208485,0.7553989288850536,0.12941845110221267,-0.36924365470844217,-0.14042689305053832,-0.012184061722167346,0.7042196554924196,-0.5662661963116242,0.15106440103188395,0.641305254040354,-0.23778419338816745,1.0500064121808312,0.09771224700308351,-0.12007618116411842,1.4548453265406098,0.44671979914733273,0.5614144324972279,-0.269772452550473,-0.3710736420653342,-0.6193737860923557,-1.065182270268602,-0.6847264633276577,-1.6546652369080077,0.6797487563279534,0.6254806440170384,-0.09838986976948408,1.2817762669256858,-0.9034144902333571,-0.5006004902721884,0.36017763237260625,0.5143844849170333,-0.6706699097670474,-0.6412929559548977,0.09063385538101404,-0.5236930476306975,1.8373709002421237,-0.9164347799040972,0.9078149208194355,0.8933490494414992,-0.24386080214957928,-0.6341855149084185,-0.17792444181528683,-0.7213043851450351,-1.272780709979072,-2.2368011142749094,1.03495335124129,1.1324603953374288,1.5464457098508517,-0.63316370440996,-0.721822579211477,0.8053022998144862,-1.2039717822788483,-0.7820784400482695,0.4917718016946589,0.1969561797343989,0.13076606941164398,0.6563196359301695,0.58745657446414,-0.7596066092973845,-0.7548933304243536,-0.11788818861872609,-1.2146363857500575,2.747670713159326,0.752562068564129,-0.4804806714288889,0.21126788468690336,0.997253668738476,-0.7631958603755667,-0.5359127902590382,0.20824787033686898,-0.717246832675506,-0.2704811941324191,1.5409848149890162,-0.08860051777682035,-1.5701951110734906,0.38492688012542037,0.250437571864057,-0.1924178082239149,-0.909397026361852,2.1080919404464193,-0.1969263787544274,0.3005110032183098,-2.1388546730874096,0.4999877202623662,-0.6704850315393515,0.4453707423338972,1.0209096583741655,-0.7143087467589033,-0.02044574552658848,0.943818778938937,-1.161447593273323,-0.2205237370152114,0.963946907469839,0.9154216136153533,-0.3955067497927909,-0.32918157709622836,0.7696258434241922],\"xaxis\":\"x12\",\"y\":[1.707038369955218,-1.1944580737362835,-0.3136450740008115,0.2145991268093264,-0.9136438753341855,0.10369918491718025,-0.34797346452177425,0.2931993700438992,-1.3168978180347461,0.8525859596815066,0.04664310493548644,-1.447247889353405,0.1636020305458358,-1.591836239247566,1.0045744941911439,0.06028804643827226,0.9136021142320738,0.643803690773452,-1.706701318582883,0.16788001195365332,-1.2102351369194388,0.68544736419801,-0.9902964461625677,0.13646269319220988,-1.1181091811635246,0.009424042068484103,0.0663008152019507,0.44480053985991724,-0.4102929349209481,-0.7521844409870982,0.8859100605181857,-0.44230668477616253,0.07143087988818725,-0.11818324764768713,-0.008887481604480675,0.5037677777458722,0.643393957017346,-2.4920271022035507,0.5027870806058774,-0.5226700936142273,0.8991088107393138,-0.5865382063643537,-1.2100225882296463,-2.0599730683130426,1.1407855337171038,-1.8278335859696653,-1.1315893334163514,1.7300379832856623,0.040205230582391255,-2.0034074915790203,-0.10145949669672309,0.848608688651032,-0.8691583066905473,2.0033985279967883,0.0851170254886317,-0.2904207414606158,0.17208553749715433,2.44471233610033,-0.23992922785879967,-1.7729546900537438,-0.12794431347066698,-1.901225632404973,0.6150412483712875,-0.37647678752738106,-1.2549690324935654,0.14600133680676602,2.045111179712386,-0.3206270988118269,-1.9645429528400156,0.4218885182419636,-0.9058415705220113,-0.7146327495082909,1.6732647430053853,-0.25376094932641113,1.1077210607854393,-2.2348018707267387,-1.5284287741776723,0.6857390240565828,-0.6159464127175284,0.42395104469825345,-0.9813622772392521,-0.5879224292738445,-1.1089986852534996,-1.8528229213545215,-2.0094081846917806,-0.5050947765715991,0.10201531701510447,-0.7494957103998997,-0.7703489007647258,2.2320325236689778,-0.718181159562157,-1.2212834198258062,1.011635218848077,-0.0915258676566311,0.2816285201940886,-0.24823373505413232,-0.5573516672305696,-0.9670935284612214,1.8541025385189311,0.5533686207986326],\"yaxis\":\"y12\",\"type\":\"scatter\"},{\"line\":{\"color\":\"rgba(128, 128, 128, 1.0)\",\"dash\":\"solid\",\"shape\":\"linear\",\"width\":1.3},\"marker\":{\"size\":2,\"symbol\":\"circle\"},\"mode\":\"markers\",\"name\":\"D\",\"text\":\"\",\"x\":[0.006313458985566085,0.0012147700438570593,-0.6151467796336,1.0191844884189065,-0.7495075739982601,-1.7985950729458002,0.15382533456183314,-0.5576872225427343,1.5593605186079846,1.700355672186201,-0.15236553270416087,0.39044094019462977,-0.5614557622261617,-1.2696193560262417,-0.024520044223959203,-0.7171428227047335,0.11381698115296884,-2.3261206919345363,0.37015277327553536,0.15583532903095587,-1.2289328448668377,-1.083066067855664,0.43971959185345716,-0.7927303406405242,-0.1343156933997293,-0.8773137644384209,1.1451110216332794,0.5148688588470663,0.2927029823951949,-0.5276160993217199,-1.9680202396163418,1.423501113042431,-0.6849596430392447,-0.8202548551107004,-0.6735148911527414,-0.48979918801619104,-0.8624553398219791,1.8265135614284778,-0.2573459544937043,0.742995129008227,1.9526700344421826,0.6072118968741738,-0.7096512406808968,-0.6679025965317548,0.1279081223835325,-0.2968413355288964,-0.24486047797910396,0.5028527245782749,0.500912850020907,0.35325225579994163,0.2425350082798535,-1.305708258896684,0.9755905559759886,-1.9066415540089885,0.9768170167359869,-0.4580723212715815,0.3188514544784727,-1.6537571945436216,-0.43125541197684153,0.6899089422409604,-1.4602949425078555,0.4624248034322284,0.17136443767218074,-0.012314317526127971,-2.075444122527348,0.42373853888266483,-0.06270018226508774,1.2801916313906705,-1.0247063360598394,-1.4952047036511662,1.073206362530888,0.4028356975025304,-2.142756034751585,0.6002350853929834,-0.39252221922456687,-1.234405269404836,-0.2789229501294982,-0.8258086758280934,1.3921878833189631,1.0334748315732492,-0.8694162529243042,1.5477307549981343,-0.7613614508447585,-1.725484243216102,-1.1268035087945925,-0.9821095582676026,-0.32546867991121364,-1.3547609163644982,0.39714940804709403,0.6050115429246586,1.708350505079218,0.17490611370248854,-1.5460620152456577,0.14372336528774488,-1.688811399942993,1.1805370742648729,-0.9961943586712984,-0.5222634876340545,-0.07165412061967047,0.9033111362618372],\"xaxis\":\"x13\",\"y\":[-1.1566040113793468,-0.17719658245203096,-0.22001559015856784,0.11411098999208485,0.7553989288850536,0.12941845110221267,-0.36924365470844217,-0.14042689305053832,-0.012184061722167346,0.7042196554924196,-0.5662661963116242,0.15106440103188395,0.641305254040354,-0.23778419338816745,1.0500064121808312,0.09771224700308351,-0.12007618116411842,1.4548453265406098,0.44671979914733273,0.5614144324972279,-0.269772452550473,-0.3710736420653342,-0.6193737860923557,-1.065182270268602,-0.6847264633276577,-1.6546652369080077,0.6797487563279534,0.6254806440170384,-0.09838986976948408,1.2817762669256858,-0.9034144902333571,-0.5006004902721884,0.36017763237260625,0.5143844849170333,-0.6706699097670474,-0.6412929559548977,0.09063385538101404,-0.5236930476306975,1.8373709002421237,-0.9164347799040972,0.9078149208194355,0.8933490494414992,-0.24386080214957928,-0.6341855149084185,-0.17792444181528683,-0.7213043851450351,-1.272780709979072,-2.2368011142749094,1.03495335124129,1.1324603953374288,1.5464457098508517,-0.63316370440996,-0.721822579211477,0.8053022998144862,-1.2039717822788483,-0.7820784400482695,0.4917718016946589,0.1969561797343989,0.13076606941164398,0.6563196359301695,0.58745657446414,-0.7596066092973845,-0.7548933304243536,-0.11788818861872609,-1.2146363857500575,2.747670713159326,0.752562068564129,-0.4804806714288889,0.21126788468690336,0.997253668738476,-0.7631958603755667,-0.5359127902590382,0.20824787033686898,-0.717246832675506,-0.2704811941324191,1.5409848149890162,-0.08860051777682035,-1.5701951110734906,0.38492688012542037,0.250437571864057,-0.1924178082239149,-0.909397026361852,2.1080919404464193,-0.1969263787544274,0.3005110032183098,-2.1388546730874096,0.4999877202623662,-0.6704850315393515,0.4453707423338972,1.0209096583741655,-0.7143087467589033,-0.02044574552658848,0.943818778938937,-1.161447593273323,-0.2205237370152114,0.963946907469839,0.9154216136153533,-0.3955067497927909,-0.32918157709622836,0.7696258434241922],\"yaxis\":\"y13\",\"type\":\"scatter\"},{\"line\":{\"color\":\"rgba(128, 128, 128, 1.0)\",\"dash\":\"solid\",\"shape\":\"linear\",\"width\":1.3},\"marker\":{\"size\":2,\"symbol\":\"circle\"},\"mode\":\"markers\",\"name\":\"D\",\"text\":\"\",\"x\":[-0.8412830663608024,-0.14196404629860912,0.27189831213699345,-0.2286524915931357,-0.39740436970062476,0.8644404600468678,-2.425802709190879,-1.7570122474421928,-2.756010446751949,-0.8764100419623471,-0.5927093442184735,1.4131976516655804,0.9245287480106964,2.0385499547616743,0.18604640376218076,0.8795053970341459,1.452057912626229,-1.188265586802459,2.008125648195428,-1.89579976034055,-1.2142197546565268,0.585650048759407,0.1901297815215674,-0.28036571517991926,0.7435936627241457,-0.761465548738385,0.17272991435645543,0.6126370351770036,-0.6409745361014046,-1.2054505656390866,-0.5648212045818725,0.7586668028849586,-0.18694328490507595,-0.5246822943419557,0.1716824260239397,0.17281947072116297,0.9631735363229377,0.8573319073279776,2.7391337276103735,-0.8660589753505328,0.40759489166899276,-1.5249603091551445,-0.28412393855610363,1.3388176264294898,-0.7778806023887083,-1.002215354287591,-0.1309132593210741,1.0292025215239082,1.576109421092655,-2.7680691813938103,-1.1696015241546815,1.992857739976901,-0.3985444234746542,-0.7287240263019391,0.3778165333549547,-0.0028173576769728198,1.8365856724591496,-1.5811511724464855,0.14112966733498775,1.5226834789704895,-0.052630123298235944,0.5750266371763989,-0.3542992607317481,-1.2620214165498946,0.41219245488560224,1.5354942624235504,-0.4274499333810216,1.2622373437633672,-1.8754492230043058,-0.927983492576622,0.19482460729553538,-0.8839697047504629,0.16761091698702862,0.5480793234412067,-1.2069205358509782,1.8565012697440908,0.6414081528241,-1.8010467818833373,0.3081920656655891,0.46299664031639937,-0.861793356479736,1.9503678079314708,1.4349893470965174,2.7521414181104786,0.27344301616024774,0.3291002461450558,0.09630194977242912,0.8097744936659635,1.6929246110017406,-0.7259746620175114,1.0629019525856112,0.9751581738927138,-0.5179265464739529,0.040939684187299555,-0.8685496090915273,-1.0209998546636763,0.11565711451344551,-1.2954962527022302,-0.4122724614406656,1.4156544391757833],\"xaxis\":\"x14\",\"y\":[-1.1566040113793468,-0.17719658245203096,-0.22001559015856784,0.11411098999208485,0.7553989288850536,0.12941845110221267,-0.36924365470844217,-0.14042689305053832,-0.012184061722167346,0.7042196554924196,-0.5662661963116242,0.15106440103188395,0.641305254040354,-0.23778419338816745,1.0500064121808312,0.09771224700308351,-0.12007618116411842,1.4548453265406098,0.44671979914733273,0.5614144324972279,-0.269772452550473,-0.3710736420653342,-0.6193737860923557,-1.065182270268602,-0.6847264633276577,-1.6546652369080077,0.6797487563279534,0.6254806440170384,-0.09838986976948408,1.2817762669256858,-0.9034144902333571,-0.5006004902721884,0.36017763237260625,0.5143844849170333,-0.6706699097670474,-0.6412929559548977,0.09063385538101404,-0.5236930476306975,1.8373709002421237,-0.9164347799040972,0.9078149208194355,0.8933490494414992,-0.24386080214957928,-0.6341855149084185,-0.17792444181528683,-0.7213043851450351,-1.272780709979072,-2.2368011142749094,1.03495335124129,1.1324603953374288,1.5464457098508517,-0.63316370440996,-0.721822579211477,0.8053022998144862,-1.2039717822788483,-0.7820784400482695,0.4917718016946589,0.1969561797343989,0.13076606941164398,0.6563196359301695,0.58745657446414,-0.7596066092973845,-0.7548933304243536,-0.11788818861872609,-1.2146363857500575,2.747670713159326,0.752562068564129,-0.4804806714288889,0.21126788468690336,0.997253668738476,-0.7631958603755667,-0.5359127902590382,0.20824787033686898,-0.717246832675506,-0.2704811941324191,1.5409848149890162,-0.08860051777682035,-1.5701951110734906,0.38492688012542037,0.250437571864057,-0.1924178082239149,-0.909397026361852,2.1080919404464193,-0.1969263787544274,0.3005110032183098,-2.1388546730874096,0.4999877202623662,-0.6704850315393515,0.4453707423338972,1.0209096583741655,-0.7143087467589033,-0.02044574552658848,0.943818778938937,-1.161447593273323,-0.2205237370152114,0.963946907469839,0.9154216136153533,-0.3955067497927909,-0.32918157709622836,0.7696258434241922],\"yaxis\":\"y14\",\"type\":\"scatter\"},{\"line\":{\"color\":\"rgba(128, 128, 128, 1.0)\",\"dash\":\"solid\",\"shape\":\"linear\",\"width\":1.3},\"marker\":{\"size\":2,\"symbol\":\"circle\"},\"mode\":\"markers\",\"name\":\"D\",\"text\":\"\",\"x\":[1.707038369955218,-1.1944580737362835,-0.3136450740008115,0.2145991268093264,-0.9136438753341855,0.10369918491718025,-0.34797346452177425,0.2931993700438992,-1.3168978180347461,0.8525859596815066,0.04664310493548644,-1.447247889353405,0.1636020305458358,-1.591836239247566,1.0045744941911439,0.06028804643827226,0.9136021142320738,0.643803690773452,-1.706701318582883,0.16788001195365332,-1.2102351369194388,0.68544736419801,-0.9902964461625677,0.13646269319220988,-1.1181091811635246,0.009424042068484103,0.0663008152019507,0.44480053985991724,-0.4102929349209481,-0.7521844409870982,0.8859100605181857,-0.44230668477616253,0.07143087988818725,-0.11818324764768713,-0.008887481604480675,0.5037677777458722,0.643393957017346,-2.4920271022035507,0.5027870806058774,-0.5226700936142273,0.8991088107393138,-0.5865382063643537,-1.2100225882296463,-2.0599730683130426,1.1407855337171038,-1.8278335859696653,-1.1315893334163514,1.7300379832856623,0.040205230582391255,-2.0034074915790203,-0.10145949669672309,0.848608688651032,-0.8691583066905473,2.0033985279967883,0.0851170254886317,-0.2904207414606158,0.17208553749715433,2.44471233610033,-0.23992922785879967,-1.7729546900537438,-0.12794431347066698,-1.901225632404973,0.6150412483712875,-0.37647678752738106,-1.2549690324935654,0.14600133680676602,2.045111179712386,-0.3206270988118269,-1.9645429528400156,0.4218885182419636,-0.9058415705220113,-0.7146327495082909,1.6732647430053853,-0.25376094932641113,1.1077210607854393,-2.2348018707267387,-1.5284287741776723,0.6857390240565828,-0.6159464127175284,0.42395104469825345,-0.9813622772392521,-0.5879224292738445,-1.1089986852534996,-1.8528229213545215,-2.0094081846917806,-0.5050947765715991,0.10201531701510447,-0.7494957103998997,-0.7703489007647258,2.2320325236689778,-0.718181159562157,-1.2212834198258062,1.011635218848077,-0.0915258676566311,0.2816285201940886,-0.24823373505413232,-0.5573516672305696,-0.9670935284612214,1.8541025385189311,0.5533686207986326],\"xaxis\":\"x15\",\"y\":[-1.1566040113793468,-0.17719658245203096,-0.22001559015856784,0.11411098999208485,0.7553989288850536,0.12941845110221267,-0.36924365470844217,-0.14042689305053832,-0.012184061722167346,0.7042196554924196,-0.5662661963116242,0.15106440103188395,0.641305254040354,-0.23778419338816745,1.0500064121808312,0.09771224700308351,-0.12007618116411842,1.4548453265406098,0.44671979914733273,0.5614144324972279,-0.269772452550473,-0.3710736420653342,-0.6193737860923557,-1.065182270268602,-0.6847264633276577,-1.6546652369080077,0.6797487563279534,0.6254806440170384,-0.09838986976948408,1.2817762669256858,-0.9034144902333571,-0.5006004902721884,0.36017763237260625,0.5143844849170333,-0.6706699097670474,-0.6412929559548977,0.09063385538101404,-0.5236930476306975,1.8373709002421237,-0.9164347799040972,0.9078149208194355,0.8933490494414992,-0.24386080214957928,-0.6341855149084185,-0.17792444181528683,-0.7213043851450351,-1.272780709979072,-2.2368011142749094,1.03495335124129,1.1324603953374288,1.5464457098508517,-0.63316370440996,-0.721822579211477,0.8053022998144862,-1.2039717822788483,-0.7820784400482695,0.4917718016946589,0.1969561797343989,0.13076606941164398,0.6563196359301695,0.58745657446414,-0.7596066092973845,-0.7548933304243536,-0.11788818861872609,-1.2146363857500575,2.747670713159326,0.752562068564129,-0.4804806714288889,0.21126788468690336,0.997253668738476,-0.7631958603755667,-0.5359127902590382,0.20824787033686898,-0.717246832675506,-0.2704811941324191,1.5409848149890162,-0.08860051777682035,-1.5701951110734906,0.38492688012542037,0.250437571864057,-0.1924178082239149,-0.909397026361852,2.1080919404464193,-0.1969263787544274,0.3005110032183098,-2.1388546730874096,0.4999877202623662,-0.6704850315393515,0.4453707423338972,1.0209096583741655,-0.7143087467589033,-0.02044574552658848,0.943818778938937,-1.161447593273323,-0.2205237370152114,0.963946907469839,0.9154216136153533,-0.3955067497927909,-0.32918157709622836,0.7696258434241922],\"yaxis\":\"y15\",\"type\":\"scatter\"},{\"histfunc\":\"count\",\"histnorm\":\"\",\"marker\":{\"color\":\"rgba(128, 0, 128, 1.0)\",\"line\":{\"color\":\"#4D5663\",\"width\":1.3}},\"name\":\"D\",\"nbinsx\":10,\"opacity\":0.8,\"orientation\":\"v\",\"x\":[-1.1566040113793468,-0.17719658245203096,-0.22001559015856784,0.11411098999208485,0.7553989288850536,0.12941845110221267,-0.36924365470844217,-0.14042689305053832,-0.012184061722167346,0.7042196554924196,-0.5662661963116242,0.15106440103188395,0.641305254040354,-0.23778419338816745,1.0500064121808312,0.09771224700308351,-0.12007618116411842,1.4548453265406098,0.44671979914733273,0.5614144324972279,-0.269772452550473,-0.3710736420653342,-0.6193737860923557,-1.065182270268602,-0.6847264633276577,-1.6546652369080077,0.6797487563279534,0.6254806440170384,-0.09838986976948408,1.2817762669256858,-0.9034144902333571,-0.5006004902721884,0.36017763237260625,0.5143844849170333,-0.6706699097670474,-0.6412929559548977,0.09063385538101404,-0.5236930476306975,1.8373709002421237,-0.9164347799040972,0.9078149208194355,0.8933490494414992,-0.24386080214957928,-0.6341855149084185,-0.17792444181528683,-0.7213043851450351,-1.272780709979072,-2.2368011142749094,1.03495335124129,1.1324603953374288,1.5464457098508517,-0.63316370440996,-0.721822579211477,0.8053022998144862,-1.2039717822788483,-0.7820784400482695,0.4917718016946589,0.1969561797343989,0.13076606941164398,0.6563196359301695,0.58745657446414,-0.7596066092973845,-0.7548933304243536,-0.11788818861872609,-1.2146363857500575,2.747670713159326,0.752562068564129,-0.4804806714288889,0.21126788468690336,0.997253668738476,-0.7631958603755667,-0.5359127902590382,0.20824787033686898,-0.717246832675506,-0.2704811941324191,1.5409848149890162,-0.08860051777682035,-1.5701951110734906,0.38492688012542037,0.250437571864057,-0.1924178082239149,-0.909397026361852,2.1080919404464193,-0.1969263787544274,0.3005110032183098,-2.1388546730874096,0.4999877202623662,-0.6704850315393515,0.4453707423338972,1.0209096583741655,-0.7143087467589033,-0.02044574552658848,0.943818778938937,-1.161447593273323,-0.2205237370152114,0.963946907469839,0.9154216136153533,-0.3955067497927909,-0.32918157709622836,0.7696258434241922],\"xaxis\":\"x16\",\"yaxis\":\"y16\",\"type\":\"histogram\"}],                        {\"bargap\":0.02,\"legend\":{\"bgcolor\":\"#F5F6F9\",\"font\":{\"color\":\"#4D5663\"}},\"paper_bgcolor\":\"#F5F6F9\",\"plot_bgcolor\":\"#F5F6F9\",\"showlegend\":false,\"template\":{\"data\":{\"barpolar\":[{\"marker\":{\"line\":{\"color\":\"#E5ECF6\",\"width\":0.5},\"pattern\":{\"fillmode\":\"overlay\",\"size\":10,\"solidity\":0.2}},\"type\":\"barpolar\"}],\"bar\":[{\"error_x\":{\"color\":\"#2a3f5f\"},\"error_y\":{\"color\":\"#2a3f5f\"},\"marker\":{\"line\":{\"color\":\"#E5ECF6\",\"width\":0.5},\"pattern\":{\"fillmode\":\"overlay\",\"size\":10,\"solidity\":0.2}},\"type\":\"bar\"}],\"carpet\":[{\"aaxis\":{\"endlinecolor\":\"#2a3f5f\",\"gridcolor\":\"white\",\"linecolor\":\"white\",\"minorgridcolor\":\"white\",\"startlinecolor\":\"#2a3f5f\"},\"baxis\":{\"endlinecolor\":\"#2a3f5f\",\"gridcolor\":\"white\",\"linecolor\":\"white\",\"minorgridcolor\":\"white\",\"startlinecolor\":\"#2a3f5f\"},\"type\":\"carpet\"}],\"choropleth\":[{\"colorbar\":{\"outlinewidth\":0,\"ticks\":\"\"},\"type\":\"choropleth\"}],\"contourcarpet\":[{\"colorbar\":{\"outlinewidth\":0,\"ticks\":\"\"},\"type\":\"contourcarpet\"}],\"contour\":[{\"colorbar\":{\"outlinewidth\":0,\"ticks\":\"\"},\"colorscale\":[[0.0,\"#0d0887\"],[0.1111111111111111,\"#46039f\"],[0.2222222222222222,\"#7201a8\"],[0.3333333333333333,\"#9c179e\"],[0.4444444444444444,\"#bd3786\"],[0.5555555555555556,\"#d8576b\"],[0.6666666666666666,\"#ed7953\"],[0.7777777777777778,\"#fb9f3a\"],[0.8888888888888888,\"#fdca26\"],[1.0,\"#f0f921\"]],\"type\":\"contour\"}],\"heatmapgl\":[{\"colorbar\":{\"outlinewidth\":0,\"ticks\":\"\"},\"colorscale\":[[0.0,\"#0d0887\"],[0.1111111111111111,\"#46039f\"],[0.2222222222222222,\"#7201a8\"],[0.3333333333333333,\"#9c179e\"],[0.4444444444444444,\"#bd3786\"],[0.5555555555555556,\"#d8576b\"],[0.6666666666666666,\"#ed7953\"],[0.7777777777777778,\"#fb9f3a\"],[0.8888888888888888,\"#fdca26\"],[1.0,\"#f0f921\"]],\"type\":\"heatmapgl\"}],\"heatmap\":[{\"colorbar\":{\"outlinewidth\":0,\"ticks\":\"\"},\"colorscale\":[[0.0,\"#0d0887\"],[0.1111111111111111,\"#46039f\"],[0.2222222222222222,\"#7201a8\"],[0.3333333333333333,\"#9c179e\"],[0.4444444444444444,\"#bd3786\"],[0.5555555555555556,\"#d8576b\"],[0.6666666666666666,\"#ed7953\"],[0.7777777777777778,\"#fb9f3a\"],[0.8888888888888888,\"#fdca26\"],[1.0,\"#f0f921\"]],\"type\":\"heatmap\"}],\"histogram2dcontour\":[{\"colorbar\":{\"outlinewidth\":0,\"ticks\":\"\"},\"colorscale\":[[0.0,\"#0d0887\"],[0.1111111111111111,\"#46039f\"],[0.2222222222222222,\"#7201a8\"],[0.3333333333333333,\"#9c179e\"],[0.4444444444444444,\"#bd3786\"],[0.5555555555555556,\"#d8576b\"],[0.6666666666666666,\"#ed7953\"],[0.7777777777777778,\"#fb9f3a\"],[0.8888888888888888,\"#fdca26\"],[1.0,\"#f0f921\"]],\"type\":\"histogram2dcontour\"}],\"histogram2d\":[{\"colorbar\":{\"outlinewidth\":0,\"ticks\":\"\"},\"colorscale\":[[0.0,\"#0d0887\"],[0.1111111111111111,\"#46039f\"],[0.2222222222222222,\"#7201a8\"],[0.3333333333333333,\"#9c179e\"],[0.4444444444444444,\"#bd3786\"],[0.5555555555555556,\"#d8576b\"],[0.6666666666666666,\"#ed7953\"],[0.7777777777777778,\"#fb9f3a\"],[0.8888888888888888,\"#fdca26\"],[1.0,\"#f0f921\"]],\"type\":\"histogram2d\"}],\"histogram\":[{\"marker\":{\"pattern\":{\"fillmode\":\"overlay\",\"size\":10,\"solidity\":0.2}},\"type\":\"histogram\"}],\"mesh3d\":[{\"colorbar\":{\"outlinewidth\":0,\"ticks\":\"\"},\"type\":\"mesh3d\"}],\"parcoords\":[{\"line\":{\"colorbar\":{\"outlinewidth\":0,\"ticks\":\"\"}},\"type\":\"parcoords\"}],\"pie\":[{\"automargin\":true,\"type\":\"pie\"}],\"scatter3d\":[{\"line\":{\"colorbar\":{\"outlinewidth\":0,\"ticks\":\"\"}},\"marker\":{\"colorbar\":{\"outlinewidth\":0,\"ticks\":\"\"}},\"type\":\"scatter3d\"}],\"scattercarpet\":[{\"marker\":{\"colorbar\":{\"outlinewidth\":0,\"ticks\":\"\"}},\"type\":\"scattercarpet\"}],\"scattergeo\":[{\"marker\":{\"colorbar\":{\"outlinewidth\":0,\"ticks\":\"\"}},\"type\":\"scattergeo\"}],\"scattergl\":[{\"marker\":{\"colorbar\":{\"outlinewidth\":0,\"ticks\":\"\"}},\"type\":\"scattergl\"}],\"scattermapbox\":[{\"marker\":{\"colorbar\":{\"outlinewidth\":0,\"ticks\":\"\"}},\"type\":\"scattermapbox\"}],\"scatterpolargl\":[{\"marker\":{\"colorbar\":{\"outlinewidth\":0,\"ticks\":\"\"}},\"type\":\"scatterpolargl\"}],\"scatterpolar\":[{\"marker\":{\"colorbar\":{\"outlinewidth\":0,\"ticks\":\"\"}},\"type\":\"scatterpolar\"}],\"scatter\":[{\"fillpattern\":{\"fillmode\":\"overlay\",\"size\":10,\"solidity\":0.2},\"type\":\"scatter\"}],\"scatterternary\":[{\"marker\":{\"colorbar\":{\"outlinewidth\":0,\"ticks\":\"\"}},\"type\":\"scatterternary\"}],\"surface\":[{\"colorbar\":{\"outlinewidth\":0,\"ticks\":\"\"},\"colorscale\":[[0.0,\"#0d0887\"],[0.1111111111111111,\"#46039f\"],[0.2222222222222222,\"#7201a8\"],[0.3333333333333333,\"#9c179e\"],[0.4444444444444444,\"#bd3786\"],[0.5555555555555556,\"#d8576b\"],[0.6666666666666666,\"#ed7953\"],[0.7777777777777778,\"#fb9f3a\"],[0.8888888888888888,\"#fdca26\"],[1.0,\"#f0f921\"]],\"type\":\"surface\"}],\"table\":[{\"cells\":{\"fill\":{\"color\":\"#EBF0F8\"},\"line\":{\"color\":\"white\"}},\"header\":{\"fill\":{\"color\":\"#C8D4E3\"},\"line\":{\"color\":\"white\"}},\"type\":\"table\"}]},\"layout\":{\"annotationdefaults\":{\"arrowcolor\":\"#2a3f5f\",\"arrowhead\":0,\"arrowwidth\":1},\"autotypenumbers\":\"strict\",\"coloraxis\":{\"colorbar\":{\"outlinewidth\":0,\"ticks\":\"\"}},\"colorscale\":{\"diverging\":[[0,\"#8e0152\"],[0.1,\"#c51b7d\"],[0.2,\"#de77ae\"],[0.3,\"#f1b6da\"],[0.4,\"#fde0ef\"],[0.5,\"#f7f7f7\"],[0.6,\"#e6f5d0\"],[0.7,\"#b8e186\"],[0.8,\"#7fbc41\"],[0.9,\"#4d9221\"],[1,\"#276419\"]],\"sequential\":[[0.0,\"#0d0887\"],[0.1111111111111111,\"#46039f\"],[0.2222222222222222,\"#7201a8\"],[0.3333333333333333,\"#9c179e\"],[0.4444444444444444,\"#bd3786\"],[0.5555555555555556,\"#d8576b\"],[0.6666666666666666,\"#ed7953\"],[0.7777777777777778,\"#fb9f3a\"],[0.8888888888888888,\"#fdca26\"],[1.0,\"#f0f921\"]],\"sequentialminus\":[[0.0,\"#0d0887\"],[0.1111111111111111,\"#46039f\"],[0.2222222222222222,\"#7201a8\"],[0.3333333333333333,\"#9c179e\"],[0.4444444444444444,\"#bd3786\"],[0.5555555555555556,\"#d8576b\"],[0.6666666666666666,\"#ed7953\"],[0.7777777777777778,\"#fb9f3a\"],[0.8888888888888888,\"#fdca26\"],[1.0,\"#f0f921\"]]},\"colorway\":[\"#636efa\",\"#EF553B\",\"#00cc96\",\"#ab63fa\",\"#FFA15A\",\"#19d3f3\",\"#FF6692\",\"#B6E880\",\"#FF97FF\",\"#FECB52\"],\"font\":{\"color\":\"#2a3f5f\"},\"geo\":{\"bgcolor\":\"white\",\"lakecolor\":\"white\",\"landcolor\":\"#E5ECF6\",\"showlakes\":true,\"showland\":true,\"subunitcolor\":\"white\"},\"hoverlabel\":{\"align\":\"left\"},\"hovermode\":\"closest\",\"mapbox\":{\"style\":\"light\"},\"paper_bgcolor\":\"white\",\"plot_bgcolor\":\"#E5ECF6\",\"polar\":{\"angularaxis\":{\"gridcolor\":\"white\",\"linecolor\":\"white\",\"ticks\":\"\"},\"bgcolor\":\"#E5ECF6\",\"radialaxis\":{\"gridcolor\":\"white\",\"linecolor\":\"white\",\"ticks\":\"\"}},\"scene\":{\"xaxis\":{\"backgroundcolor\":\"#E5ECF6\",\"gridcolor\":\"white\",\"gridwidth\":2,\"linecolor\":\"white\",\"showbackground\":true,\"ticks\":\"\",\"zerolinecolor\":\"white\"},\"yaxis\":{\"backgroundcolor\":\"#E5ECF6\",\"gridcolor\":\"white\",\"gridwidth\":2,\"linecolor\":\"white\",\"showbackground\":true,\"ticks\":\"\",\"zerolinecolor\":\"white\"},\"zaxis\":{\"backgroundcolor\":\"#E5ECF6\",\"gridcolor\":\"white\",\"gridwidth\":2,\"linecolor\":\"white\",\"showbackground\":true,\"ticks\":\"\",\"zerolinecolor\":\"white\"}},\"shapedefaults\":{\"line\":{\"color\":\"#2a3f5f\"}},\"ternary\":{\"aaxis\":{\"gridcolor\":\"white\",\"linecolor\":\"white\",\"ticks\":\"\"},\"baxis\":{\"gridcolor\":\"white\",\"linecolor\":\"white\",\"ticks\":\"\"},\"bgcolor\":\"#E5ECF6\",\"caxis\":{\"gridcolor\":\"white\",\"linecolor\":\"white\",\"ticks\":\"\"}},\"title\":{\"x\":0.05},\"xaxis\":{\"automargin\":true,\"gridcolor\":\"white\",\"linecolor\":\"white\",\"ticks\":\"\",\"title\":{\"standoff\":15},\"zerolinecolor\":\"white\",\"zerolinewidth\":2},\"yaxis\":{\"automargin\":true,\"gridcolor\":\"white\",\"linecolor\":\"white\",\"ticks\":\"\",\"title\":{\"standoff\":15},\"zerolinecolor\":\"white\",\"zerolinewidth\":2}}},\"title\":{\"font\":{\"color\":\"#4D5663\"}},\"xaxis\":{\"anchor\":\"y\",\"domain\":[0.0,0.2125],\"gridcolor\":\"#E1E5ED\",\"showgrid\":false,\"tickfont\":{\"color\":\"#4D5663\"},\"title\":{\"font\":{\"color\":\"#4D5663\"},\"text\":\"\"},\"zerolinecolor\":\"#E1E5ED\"},\"yaxis\":{\"anchor\":\"x\",\"domain\":[0.8025,1.0],\"gridcolor\":\"#E1E5ED\",\"showgrid\":false,\"tickfont\":{\"color\":\"#4D5663\"},\"title\":{\"font\":{\"color\":\"#4D5663\"},\"text\":\"\"},\"zerolinecolor\":\"#E1E5ED\"},\"xaxis2\":{\"anchor\":\"y2\",\"domain\":[0.2625,0.475],\"gridcolor\":\"#E1E5ED\",\"showgrid\":false,\"tickfont\":{\"color\":\"#4D5663\"},\"title\":{\"font\":{\"color\":\"#4D5663\"},\"text\":\"\"},\"zerolinecolor\":\"#E1E5ED\"},\"yaxis2\":{\"anchor\":\"x2\",\"domain\":[0.8025,1.0],\"gridcolor\":\"#E1E5ED\",\"showgrid\":false,\"tickfont\":{\"color\":\"#4D5663\"},\"title\":{\"font\":{\"color\":\"#4D5663\"},\"text\":\"\"},\"zerolinecolor\":\"#E1E5ED\"},\"xaxis3\":{\"anchor\":\"y3\",\"domain\":[0.525,0.7375],\"gridcolor\":\"#E1E5ED\",\"showgrid\":false,\"tickfont\":{\"color\":\"#4D5663\"},\"title\":{\"font\":{\"color\":\"#4D5663\"},\"text\":\"\"},\"zerolinecolor\":\"#E1E5ED\"},\"yaxis3\":{\"anchor\":\"x3\",\"domain\":[0.8025,1.0],\"gridcolor\":\"#E1E5ED\",\"showgrid\":false,\"tickfont\":{\"color\":\"#4D5663\"},\"title\":{\"font\":{\"color\":\"#4D5663\"},\"text\":\"\"},\"zerolinecolor\":\"#E1E5ED\"},\"xaxis4\":{\"anchor\":\"y4\",\"domain\":[0.7875,1.0],\"gridcolor\":\"#E1E5ED\",\"showgrid\":false,\"tickfont\":{\"color\":\"#4D5663\"},\"title\":{\"font\":{\"color\":\"#4D5663\"},\"text\":\"\"},\"zerolinecolor\":\"#E1E5ED\"},\"yaxis4\":{\"anchor\":\"x4\",\"domain\":[0.8025,1.0],\"gridcolor\":\"#E1E5ED\",\"showgrid\":false,\"tickfont\":{\"color\":\"#4D5663\"},\"title\":{\"font\":{\"color\":\"#4D5663\"},\"text\":\"\"},\"zerolinecolor\":\"#E1E5ED\"},\"xaxis5\":{\"anchor\":\"y5\",\"domain\":[0.0,0.2125],\"gridcolor\":\"#E1E5ED\",\"showgrid\":false,\"tickfont\":{\"color\":\"#4D5663\"},\"title\":{\"font\":{\"color\":\"#4D5663\"},\"text\":\"\"},\"zerolinecolor\":\"#E1E5ED\"},\"yaxis5\":{\"anchor\":\"x5\",\"domain\":[0.535,0.7325],\"gridcolor\":\"#E1E5ED\",\"showgrid\":false,\"tickfont\":{\"color\":\"#4D5663\"},\"title\":{\"font\":{\"color\":\"#4D5663\"},\"text\":\"\"},\"zerolinecolor\":\"#E1E5ED\"},\"xaxis6\":{\"anchor\":\"y6\",\"domain\":[0.2625,0.475],\"gridcolor\":\"#E1E5ED\",\"showgrid\":false,\"tickfont\":{\"color\":\"#4D5663\"},\"title\":{\"font\":{\"color\":\"#4D5663\"},\"text\":\"\"},\"zerolinecolor\":\"#E1E5ED\"},\"yaxis6\":{\"anchor\":\"x6\",\"domain\":[0.535,0.7325],\"gridcolor\":\"#E1E5ED\",\"showgrid\":false,\"tickfont\":{\"color\":\"#4D5663\"},\"title\":{\"font\":{\"color\":\"#4D5663\"},\"text\":\"\"},\"zerolinecolor\":\"#E1E5ED\"},\"xaxis7\":{\"anchor\":\"y7\",\"domain\":[0.525,0.7375],\"gridcolor\":\"#E1E5ED\",\"showgrid\":false,\"tickfont\":{\"color\":\"#4D5663\"},\"title\":{\"font\":{\"color\":\"#4D5663\"},\"text\":\"\"},\"zerolinecolor\":\"#E1E5ED\"},\"yaxis7\":{\"anchor\":\"x7\",\"domain\":[0.535,0.7325],\"gridcolor\":\"#E1E5ED\",\"showgrid\":false,\"tickfont\":{\"color\":\"#4D5663\"},\"title\":{\"font\":{\"color\":\"#4D5663\"},\"text\":\"\"},\"zerolinecolor\":\"#E1E5ED\"},\"xaxis8\":{\"anchor\":\"y8\",\"domain\":[0.7875,1.0],\"gridcolor\":\"#E1E5ED\",\"showgrid\":false,\"tickfont\":{\"color\":\"#4D5663\"},\"title\":{\"font\":{\"color\":\"#4D5663\"},\"text\":\"\"},\"zerolinecolor\":\"#E1E5ED\"},\"yaxis8\":{\"anchor\":\"x8\",\"domain\":[0.535,0.7325],\"gridcolor\":\"#E1E5ED\",\"showgrid\":false,\"tickfont\":{\"color\":\"#4D5663\"},\"title\":{\"font\":{\"color\":\"#4D5663\"},\"text\":\"\"},\"zerolinecolor\":\"#E1E5ED\"},\"xaxis9\":{\"anchor\":\"y9\",\"domain\":[0.0,0.2125],\"gridcolor\":\"#E1E5ED\",\"showgrid\":false,\"tickfont\":{\"color\":\"#4D5663\"},\"title\":{\"font\":{\"color\":\"#4D5663\"},\"text\":\"\"},\"zerolinecolor\":\"#E1E5ED\"},\"yaxis9\":{\"anchor\":\"x9\",\"domain\":[0.2675,0.465],\"gridcolor\":\"#E1E5ED\",\"showgrid\":false,\"tickfont\":{\"color\":\"#4D5663\"},\"title\":{\"font\":{\"color\":\"#4D5663\"},\"text\":\"\"},\"zerolinecolor\":\"#E1E5ED\"},\"xaxis10\":{\"anchor\":\"y10\",\"domain\":[0.2625,0.475],\"gridcolor\":\"#E1E5ED\",\"showgrid\":false,\"tickfont\":{\"color\":\"#4D5663\"},\"title\":{\"font\":{\"color\":\"#4D5663\"},\"text\":\"\"},\"zerolinecolor\":\"#E1E5ED\"},\"yaxis10\":{\"anchor\":\"x10\",\"domain\":[0.2675,0.465],\"gridcolor\":\"#E1E5ED\",\"showgrid\":false,\"tickfont\":{\"color\":\"#4D5663\"},\"title\":{\"font\":{\"color\":\"#4D5663\"},\"text\":\"\"},\"zerolinecolor\":\"#E1E5ED\"},\"xaxis11\":{\"anchor\":\"y11\",\"domain\":[0.525,0.7375],\"gridcolor\":\"#E1E5ED\",\"showgrid\":false,\"tickfont\":{\"color\":\"#4D5663\"},\"title\":{\"font\":{\"color\":\"#4D5663\"},\"text\":\"\"},\"zerolinecolor\":\"#E1E5ED\"},\"yaxis11\":{\"anchor\":\"x11\",\"domain\":[0.2675,0.465],\"gridcolor\":\"#E1E5ED\",\"showgrid\":false,\"tickfont\":{\"color\":\"#4D5663\"},\"title\":{\"font\":{\"color\":\"#4D5663\"},\"text\":\"\"},\"zerolinecolor\":\"#E1E5ED\"},\"xaxis12\":{\"anchor\":\"y12\",\"domain\":[0.7875,1.0],\"gridcolor\":\"#E1E5ED\",\"showgrid\":false,\"tickfont\":{\"color\":\"#4D5663\"},\"title\":{\"font\":{\"color\":\"#4D5663\"},\"text\":\"\"},\"zerolinecolor\":\"#E1E5ED\"},\"yaxis12\":{\"anchor\":\"x12\",\"domain\":[0.2675,0.465],\"gridcolor\":\"#E1E5ED\",\"showgrid\":false,\"tickfont\":{\"color\":\"#4D5663\"},\"title\":{\"font\":{\"color\":\"#4D5663\"},\"text\":\"\"},\"zerolinecolor\":\"#E1E5ED\"},\"xaxis13\":{\"anchor\":\"y13\",\"domain\":[0.0,0.2125],\"gridcolor\":\"#E1E5ED\",\"showgrid\":false,\"tickfont\":{\"color\":\"#4D5663\"},\"title\":{\"font\":{\"color\":\"#4D5663\"},\"text\":\"\"},\"zerolinecolor\":\"#E1E5ED\"},\"yaxis13\":{\"anchor\":\"x13\",\"domain\":[0.0,0.1975],\"gridcolor\":\"#E1E5ED\",\"showgrid\":false,\"tickfont\":{\"color\":\"#4D5663\"},\"title\":{\"font\":{\"color\":\"#4D5663\"},\"text\":\"\"},\"zerolinecolor\":\"#E1E5ED\"},\"xaxis14\":{\"anchor\":\"y14\",\"domain\":[0.2625,0.475],\"gridcolor\":\"#E1E5ED\",\"showgrid\":false,\"tickfont\":{\"color\":\"#4D5663\"},\"title\":{\"font\":{\"color\":\"#4D5663\"},\"text\":\"\"},\"zerolinecolor\":\"#E1E5ED\"},\"yaxis14\":{\"anchor\":\"x14\",\"domain\":[0.0,0.1975],\"gridcolor\":\"#E1E5ED\",\"showgrid\":false,\"tickfont\":{\"color\":\"#4D5663\"},\"title\":{\"font\":{\"color\":\"#4D5663\"},\"text\":\"\"},\"zerolinecolor\":\"#E1E5ED\"},\"xaxis15\":{\"anchor\":\"y15\",\"domain\":[0.525,0.7375],\"gridcolor\":\"#E1E5ED\",\"showgrid\":false,\"tickfont\":{\"color\":\"#4D5663\"},\"title\":{\"font\":{\"color\":\"#4D5663\"},\"text\":\"\"},\"zerolinecolor\":\"#E1E5ED\"},\"yaxis15\":{\"anchor\":\"x15\",\"domain\":[0.0,0.1975],\"gridcolor\":\"#E1E5ED\",\"showgrid\":false,\"tickfont\":{\"color\":\"#4D5663\"},\"title\":{\"font\":{\"color\":\"#4D5663\"},\"text\":\"\"},\"zerolinecolor\":\"#E1E5ED\"},\"xaxis16\":{\"anchor\":\"y16\",\"domain\":[0.7875,1.0],\"gridcolor\":\"#E1E5ED\",\"showgrid\":false,\"tickfont\":{\"color\":\"#4D5663\"},\"title\":{\"font\":{\"color\":\"#4D5663\"},\"text\":\"\"},\"zerolinecolor\":\"#E1E5ED\"},\"yaxis16\":{\"anchor\":\"x16\",\"domain\":[0.0,0.1975],\"gridcolor\":\"#E1E5ED\",\"showgrid\":false,\"tickfont\":{\"color\":\"#4D5663\"},\"title\":{\"font\":{\"color\":\"#4D5663\"},\"text\":\"\"},\"zerolinecolor\":\"#E1E5ED\"}},                        {\"showLink\": true, \"linkText\": \"Export to plot.ly\", \"plotlyServerURL\": \"https://plot.ly\", \"responsive\": true}                    ).then(function(){\n",
       "                            \n",
       "var gd = document.getElementById('e0c9ff80-3639-4486-97f7-72b7fec84800');\n",
       "var x = new MutationObserver(function (mutations, observer) {{\n",
       "        var display = window.getComputedStyle(gd).display;\n",
       "        if (!display || display === 'none') {{\n",
       "            console.log([gd, 'removed!']);\n",
       "            Plotly.purge(gd);\n",
       "            observer.disconnect();\n",
       "        }}\n",
       "}});\n",
       "\n",
       "// Listen for the removal of the full notebook cells\n",
       "var notebookContainer = gd.closest('#notebook-container');\n",
       "if (notebookContainer) {{\n",
       "    x.observe(notebookContainer, {childList: true});\n",
       "}}\n",
       "\n",
       "// Listen for the clearing of the current output cell\n",
       "var outputEl = gd.closest('.output');\n",
       "if (outputEl) {{\n",
       "    x.observe(outputEl, {childList: true});\n",
       "}}\n",
       "\n",
       "                        })                };                });            </script>        </div>"
      ]
     },
     "metadata": {},
     "output_type": "display_data"
    }
   ],
   "source": [
    "df.scatter_matrix()"
   ]
  },
  {
   "cell_type": "markdown",
   "metadata": {
    "collapsed": true
   },
   "source": [
    "# Great Job!"
   ]
  }
 ],
 "metadata": {
  "kernelspec": {
   "display_name": "Python 3 (ipykernel)",
   "language": "python",
   "name": "python3"
  },
  "language_info": {
   "codemirror_mode": {
    "name": "ipython",
    "version": 3
   },
   "file_extension": ".py",
   "mimetype": "text/x-python",
   "name": "python",
   "nbconvert_exporter": "python",
   "pygments_lexer": "ipython3",
   "version": "3.11.3"
  }
 },
 "nbformat": 4,
 "nbformat_minor": 1
}
